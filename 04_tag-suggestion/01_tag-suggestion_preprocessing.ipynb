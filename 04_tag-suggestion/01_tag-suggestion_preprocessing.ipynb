{
 "cells": [
  {
   "attachments": {},
   "cell_type": "markdown",
   "metadata": {},
   "source": [
    "# ❓👥 Tag suggestion 1: Preprocessing\n",
    "\n",
    "|   |   |\n",
    "|---|---|\n",
    "| Project  |    [Catégorisez automatiquement des questions](#https://openclassrooms.com/fr/paths/148/projects/111/assignment)         |\n",
    "| Date   |   March 2023   |\n",
    "| Autor  | Ana Bernal                                                    |\n",
    "| Data source | [StackExchange Data Explorer](https://data.stackexchange.com/stackoverflow/query/new) |\n",
    "| Mentor | Samir Tanfous | \n",
    "| Notebook number  | 1 of 3                                                    |\n",
    "\n",
    "**Description:** In this notebook we write a custom tokenization + clean function. It cleans the raw html of questions from the platform [stack overflow](https://stackoverflow.com/)."
   ]
  },
  {
   "attachments": {},
   "cell_type": "markdown",
   "metadata": {},
   "source": [
    "# Table of contents:\n",
    "- [Preliminaries](#Preliminaries)\n",
    "  - [Graphics and options](#Graphics-and-options)\n",
    "  - [Data](#Data)\n",
    "- [Cleaning Tags column, counting tags](#Cleaning-Tags-column,-counting-tags)\n",
    "- [Defining tags set](#Defining-tags-set)\n",
    "  - [Creating target columns](#Creating-target-columns)\n",
    "- [Processing title and body text](#Processing-title-and-body-text)\n",
    "  - [Processing text](#Processing-text)\n",
    "- [Export processed data](#Export-processed-data)"
   ]
  },
  {
   "attachments": {},
   "cell_type": "markdown",
   "metadata": {},
   "source": [
    "# Preliminaries\n",
    "## Imports"
   ]
  },
  {
   "cell_type": "code",
   "execution_count": 1,
   "metadata": {},
   "outputs": [
    {
     "name": "stderr",
     "output_type": "stream",
     "text": [
      "2023-03-06 18:24:17.837250: I tensorflow/core/platform/cpu_feature_guard.cc:193] This TensorFlow binary is optimized with oneAPI Deep Neural Network Library (oneDNN) to use the following CPU instructions in performance-critical operations:  AVX2 FMA\n",
      "To enable them in other operations, rebuild TensorFlow with the appropriate compiler flags.\n",
      "2023-03-06 18:24:18.573965: W tensorflow/compiler/xla/stream_executor/platform/default/dso_loader.cc:64] Could not load dynamic library 'libcudart.so.11.0'; dlerror: libcudart.so.11.0: cannot open shared object file: No such file or directory\n",
      "2023-03-06 18:24:18.574001: I tensorflow/compiler/xla/stream_executor/cuda/cudart_stub.cc:29] Ignore above cudart dlerror if you do not have a GPU set up on your machine.\n",
      "2023-03-06 18:24:20.589847: W tensorflow/compiler/xla/stream_executor/platform/default/dso_loader.cc:64] Could not load dynamic library 'libnvinfer.so.7'; dlerror: libnvinfer.so.7: cannot open shared object file: No such file or directory\n",
      "2023-03-06 18:24:20.589984: W tensorflow/compiler/xla/stream_executor/platform/default/dso_loader.cc:64] Could not load dynamic library 'libnvinfer_plugin.so.7'; dlerror: libnvinfer_plugin.so.7: cannot open shared object file: No such file or directory\n",
      "2023-03-06 18:24:20.589995: W tensorflow/compiler/tf2tensorrt/utils/py_utils.cc:38] TF-TRT Warning: Cannot dlopen some TensorRT libraries. If you would like to use Nvidia GPU with TensorRT, please make sure the missing libraries mentioned above are installed properly.\n",
      "2023-03-06 18:24:22.102792: W tensorflow/compiler/xla/stream_executor/platform/default/dso_loader.cc:64] Could not load dynamic library 'libcuda.so.1'; dlerror: libcuda.so.1: cannot open shared object file: No such file or directory\n",
      "2023-03-06 18:24:22.103199: W tensorflow/compiler/xla/stream_executor/cuda/cuda_driver.cc:265] failed call to cuInit: UNKNOWN ERROR (303)\n",
      "2023-03-06 18:24:22.103224: I tensorflow/compiler/xla/stream_executor/cuda/cuda_diagnostics.cc:156] kernel driver does not appear to be running on this host (nemo): /proc/driver/nvidia/version does not exist\n"
     ]
    }
   ],
   "source": [
    "# Built in\n",
    "import re\n",
    "import time\n",
    "\n",
    "# Data\n",
    "import pandas as pd\n",
    "\n",
    "# Linear alg.\n",
    "import numpy as np\n",
    "\n",
    "# Graphics\n",
    "import seaborn as sns\n",
    "import matplotlib.pyplot as plt\n",
    "\n",
    "# ML\n",
    "from sklearn.preprocessing import MultiLabelBinarizer\n",
    "\n",
    "# Language/text\n",
    "import spacy\n",
    "from bs4 import BeautifulSoup\n",
    "from spacy.symbols import ORTH\n"
   ]
  },
  {
   "attachments": {},
   "cell_type": "markdown",
   "metadata": {},
   "source": [
    "## Graphics and options"
   ]
  },
  {
   "cell_type": "code",
   "execution_count": 2,
   "metadata": {},
   "outputs": [],
   "source": [
    "sns.set_style(\"whitegrid\")\n",
    "\n",
    "# Notes\n",
    "# re.search(re.escape('c++'), 'hola como estan c++')"
   ]
  },
  {
   "attachments": {},
   "cell_type": "markdown",
   "metadata": {},
   "source": [
    "## Data"
   ]
  },
  {
   "cell_type": "code",
   "execution_count": 2,
   "metadata": {},
   "outputs": [],
   "source": [
    "path = './data/'\n",
    "filename = 'QueryResults.csv'\n",
    "\n",
    "df = pd.read_csv(path + filename)"
   ]
  },
  {
   "cell_type": "code",
   "execution_count": 4,
   "metadata": {},
   "outputs": [
    {
     "data": {
      "text/plain": [
       "(50000, 7)"
      ]
     },
     "execution_count": 4,
     "metadata": {},
     "output_type": "execute_result"
    }
   ],
   "source": [
    "df.shape"
   ]
  },
  {
   "cell_type": "code",
   "execution_count": 3,
   "metadata": {},
   "outputs": [
    {
     "data": {
      "text/html": [
       "<div>\n",
       "<style scoped>\n",
       "    .dataframe tbody tr th:only-of-type {\n",
       "        vertical-align: middle;\n",
       "    }\n",
       "\n",
       "    .dataframe tbody tr th {\n",
       "        vertical-align: top;\n",
       "    }\n",
       "\n",
       "    .dataframe thead th {\n",
       "        text-align: right;\n",
       "    }\n",
       "</style>\n",
       "<table border=\"1\" class=\"dataframe\">\n",
       "  <thead>\n",
       "    <tr style=\"text-align: right;\">\n",
       "      <th></th>\n",
       "      <th>Title</th>\n",
       "      <th>Body</th>\n",
       "      <th>Tags</th>\n",
       "      <th>Id</th>\n",
       "      <th>Score</th>\n",
       "      <th>ViewCount</th>\n",
       "      <th>AnswerCount</th>\n",
       "    </tr>\n",
       "  </thead>\n",
       "  <tbody>\n",
       "    <tr>\n",
       "      <th>0</th>\n",
       "      <td>Multithreading in a stateless session bean?</td>\n",
       "      <td>&lt;p&gt;The EJB 3.0 specification does not allow a ...</td>\n",
       "      <td>&lt;java&gt;&lt;multithreading&gt;&lt;jakarta-ee&gt;&lt;ejb-3.0&gt;&lt;ejb&gt;</td>\n",
       "      <td>3816286</td>\n",
       "      <td>9</td>\n",
       "      <td>13503</td>\n",
       "      <td>4</td>\n",
       "    </tr>\n",
       "    <tr>\n",
       "      <th>1</th>\n",
       "      <td>base64 JSON encoded strings in nodejs</td>\n",
       "      <td>&lt;p&gt;How do I create a base64 JSON encoded strin...</td>\n",
       "      <td>&lt;javascript&gt;&lt;json&gt;&lt;node.js&gt;&lt;base64&gt;&lt;buffer&gt;</td>\n",
       "      <td>22515180</td>\n",
       "      <td>14</td>\n",
       "      <td>23710</td>\n",
       "      <td>3</td>\n",
       "    </tr>\n",
       "    <tr>\n",
       "      <th>2</th>\n",
       "      <td>How do you get a directory listing in C?</td>\n",
       "      <td>&lt;p&gt;How do you scan a directory for folders and...</td>\n",
       "      <td>&lt;c&gt;&lt;file&gt;&lt;directory&gt;&lt;cross-platform&gt;&lt;common-ta...</td>\n",
       "      <td>12489</td>\n",
       "      <td>69</td>\n",
       "      <td>142856</td>\n",
       "      <td>9</td>\n",
       "    </tr>\n",
       "  </tbody>\n",
       "</table>\n",
       "</div>"
      ],
      "text/plain": [
       "                                         Title  \\\n",
       "0  Multithreading in a stateless session bean?   \n",
       "1        base64 JSON encoded strings in nodejs   \n",
       "2     How do you get a directory listing in C?   \n",
       "\n",
       "                                                Body  \\\n",
       "0  <p>The EJB 3.0 specification does not allow a ...   \n",
       "1  <p>How do I create a base64 JSON encoded strin...   \n",
       "2  <p>How do you scan a directory for folders and...   \n",
       "\n",
       "                                                Tags        Id  Score  \\\n",
       "0   <java><multithreading><jakarta-ee><ejb-3.0><ejb>   3816286      9   \n",
       "1        <javascript><json><node.js><base64><buffer>  22515180     14   \n",
       "2  <c><file><directory><cross-platform><common-ta...     12489     69   \n",
       "\n",
       "   ViewCount  AnswerCount  \n",
       "0      13503            4  \n",
       "1      23710            3  \n",
       "2     142856            9  "
      ]
     },
     "execution_count": 3,
     "metadata": {},
     "output_type": "execute_result"
    }
   ],
   "source": [
    "df.head(3)"
   ]
  },
  {
   "cell_type": "code",
   "execution_count": 6,
   "metadata": {},
   "outputs": [
    {
     "name": "stdout",
     "output_type": "stream",
     "text": [
      "<class 'pandas.core.frame.DataFrame'>\n",
      "RangeIndex: 50000 entries, 0 to 49999\n",
      "Data columns (total 7 columns):\n",
      " #   Column       Non-Null Count  Dtype \n",
      "---  ------       --------------  ----- \n",
      " 0   Title        50000 non-null  object\n",
      " 1   Body         50000 non-null  object\n",
      " 2   Tags         50000 non-null  object\n",
      " 3   Id           50000 non-null  int64 \n",
      " 4   Score        50000 non-null  int64 \n",
      " 5   ViewCount    50000 non-null  int64 \n",
      " 6   AnswerCount  50000 non-null  int64 \n",
      "dtypes: int64(4), object(3)\n",
      "memory usage: 2.7+ MB\n"
     ]
    }
   ],
   "source": [
    "df.info()"
   ]
  },
  {
   "cell_type": "code",
   "execution_count": 7,
   "metadata": {},
   "outputs": [
    {
     "data": {
      "text/plain": [
       "50000"
      ]
     },
     "execution_count": 7,
     "metadata": {},
     "output_type": "execute_result"
    }
   ],
   "source": [
    "df['Id'].nunique()"
   ]
  },
  {
   "cell_type": "code",
   "execution_count": 8,
   "metadata": {},
   "outputs": [],
   "source": [
    "df.set_index('Id', inplace=True)"
   ]
  },
  {
   "cell_type": "code",
   "execution_count": 9,
   "metadata": {},
   "outputs": [
    {
     "data": {
      "text/html": [
       "<div>\n",
       "<style scoped>\n",
       "    .dataframe tbody tr th:only-of-type {\n",
       "        vertical-align: middle;\n",
       "    }\n",
       "\n",
       "    .dataframe tbody tr th {\n",
       "        vertical-align: top;\n",
       "    }\n",
       "\n",
       "    .dataframe thead th {\n",
       "        text-align: right;\n",
       "    }\n",
       "</style>\n",
       "<table border=\"1\" class=\"dataframe\">\n",
       "  <thead>\n",
       "    <tr style=\"text-align: right;\">\n",
       "      <th></th>\n",
       "      <th>Title</th>\n",
       "      <th>Body</th>\n",
       "      <th>Tags</th>\n",
       "      <th>Score</th>\n",
       "      <th>ViewCount</th>\n",
       "      <th>AnswerCount</th>\n",
       "    </tr>\n",
       "    <tr>\n",
       "      <th>Id</th>\n",
       "      <th></th>\n",
       "      <th></th>\n",
       "      <th></th>\n",
       "      <th></th>\n",
       "      <th></th>\n",
       "      <th></th>\n",
       "    </tr>\n",
       "  </thead>\n",
       "  <tbody>\n",
       "    <tr>\n",
       "      <th>3816286</th>\n",
       "      <td>Multithreading in a stateless session bean?</td>\n",
       "      <td>&lt;p&gt;The EJB 3.0 specification does not allow a ...</td>\n",
       "      <td>&lt;java&gt;&lt;multithreading&gt;&lt;jakarta-ee&gt;&lt;ejb-3.0&gt;&lt;ejb&gt;</td>\n",
       "      <td>9</td>\n",
       "      <td>13503</td>\n",
       "      <td>4</td>\n",
       "    </tr>\n",
       "    <tr>\n",
       "      <th>22515180</th>\n",
       "      <td>base64 JSON encoded strings in nodejs</td>\n",
       "      <td>&lt;p&gt;How do I create a base64 JSON encoded strin...</td>\n",
       "      <td>&lt;javascript&gt;&lt;json&gt;&lt;node.js&gt;&lt;base64&gt;&lt;buffer&gt;</td>\n",
       "      <td>14</td>\n",
       "      <td>23710</td>\n",
       "      <td>3</td>\n",
       "    </tr>\n",
       "    <tr>\n",
       "      <th>12489</th>\n",
       "      <td>How do you get a directory listing in C?</td>\n",
       "      <td>&lt;p&gt;How do you scan a directory for folders and...</td>\n",
       "      <td>&lt;c&gt;&lt;file&gt;&lt;directory&gt;&lt;cross-platform&gt;&lt;common-ta...</td>\n",
       "      <td>69</td>\n",
       "      <td>142856</td>\n",
       "      <td>9</td>\n",
       "    </tr>\n",
       "  </tbody>\n",
       "</table>\n",
       "</div>"
      ],
      "text/plain": [
       "                                                Title  \\\n",
       "Id                                                      \n",
       "3816286   Multithreading in a stateless session bean?   \n",
       "22515180        base64 JSON encoded strings in nodejs   \n",
       "12489        How do you get a directory listing in C?   \n",
       "\n",
       "                                                       Body  \\\n",
       "Id                                                            \n",
       "3816286   <p>The EJB 3.0 specification does not allow a ...   \n",
       "22515180  <p>How do I create a base64 JSON encoded strin...   \n",
       "12489     <p>How do you scan a directory for folders and...   \n",
       "\n",
       "                                                       Tags  Score  ViewCount  \\\n",
       "Id                                                                              \n",
       "3816286    <java><multithreading><jakarta-ee><ejb-3.0><ejb>      9      13503   \n",
       "22515180        <javascript><json><node.js><base64><buffer>     14      23710   \n",
       "12489     <c><file><directory><cross-platform><common-ta...     69     142856   \n",
       "\n",
       "          AnswerCount  \n",
       "Id                     \n",
       "3816286             4  \n",
       "22515180            3  \n",
       "12489               9  "
      ]
     },
     "execution_count": 9,
     "metadata": {},
     "output_type": "execute_result"
    }
   ],
   "source": [
    "df.head(3)"
   ]
  },
  {
   "attachments": {},
   "cell_type": "markdown",
   "metadata": {},
   "source": [
    "# Cleaning Tags column, counting tags"
   ]
  },
  {
   "cell_type": "code",
   "execution_count": 10,
   "metadata": {},
   "outputs": [],
   "source": [
    "def simple_tokenize_tags(tag):\n",
    "    '''\n",
    "    Returns a list with more readable original \n",
    "    tags from StackOverflow. \n",
    "\n",
    "    Parameters:\n",
    "        - tag: str\n",
    "\n",
    "    ----------------------------------------------------------\n",
    "    Example:\n",
    "    tag = '<java><multithreading><jakarta-ee><ejb-3.0><ejb>'\n",
    "\n",
    "    simple_tokenize_tags(tag) returns the list\n",
    "    ['java', 'multithreading', 'jakarta-ee', 'ejb-3.0', 'ejb']\n",
    "    ----------------------------------------------------------\n",
    "\n",
    "    '''\n",
    "    return tag.replace('><', ' ')[1:-1].split()"
   ]
  },
  {
   "attachments": {},
   "cell_type": "markdown",
   "metadata": {},
   "source": [
    "# Defining tags set\n",
    "\n",
    "We define a tag set to work with. We would like to keep a limited number of the most popular tags."
   ]
  },
  {
   "cell_type": "code",
   "execution_count": 11,
   "metadata": {},
   "outputs": [
    {
     "data": {
      "text/html": [
       "<div>\n",
       "<style scoped>\n",
       "    .dataframe tbody tr th:only-of-type {\n",
       "        vertical-align: middle;\n",
       "    }\n",
       "\n",
       "    .dataframe tbody tr th {\n",
       "        vertical-align: top;\n",
       "    }\n",
       "\n",
       "    .dataframe thead th {\n",
       "        text-align: right;\n",
       "    }\n",
       "</style>\n",
       "<table border=\"1\" class=\"dataframe\">\n",
       "  <thead>\n",
       "    <tr style=\"text-align: right;\">\n",
       "      <th></th>\n",
       "      <th>Title</th>\n",
       "      <th>Body</th>\n",
       "      <th>Tags</th>\n",
       "      <th>Score</th>\n",
       "      <th>ViewCount</th>\n",
       "      <th>AnswerCount</th>\n",
       "    </tr>\n",
       "    <tr>\n",
       "      <th>Id</th>\n",
       "      <th></th>\n",
       "      <th></th>\n",
       "      <th></th>\n",
       "      <th></th>\n",
       "      <th></th>\n",
       "      <th></th>\n",
       "    </tr>\n",
       "  </thead>\n",
       "  <tbody>\n",
       "    <tr>\n",
       "      <th>3816286</th>\n",
       "      <td>Multithreading in a stateless session bean?</td>\n",
       "      <td>&lt;p&gt;The EJB 3.0 specification does not allow a ...</td>\n",
       "      <td>&lt;java&gt;&lt;multithreading&gt;&lt;jakarta-ee&gt;&lt;ejb-3.0&gt;&lt;ejb&gt;</td>\n",
       "      <td>9</td>\n",
       "      <td>13503</td>\n",
       "      <td>4</td>\n",
       "    </tr>\n",
       "    <tr>\n",
       "      <th>22515180</th>\n",
       "      <td>base64 JSON encoded strings in nodejs</td>\n",
       "      <td>&lt;p&gt;How do I create a base64 JSON encoded strin...</td>\n",
       "      <td>&lt;javascript&gt;&lt;json&gt;&lt;node.js&gt;&lt;base64&gt;&lt;buffer&gt;</td>\n",
       "      <td>14</td>\n",
       "      <td>23710</td>\n",
       "      <td>3</td>\n",
       "    </tr>\n",
       "    <tr>\n",
       "      <th>12489</th>\n",
       "      <td>How do you get a directory listing in C?</td>\n",
       "      <td>&lt;p&gt;How do you scan a directory for folders and...</td>\n",
       "      <td>&lt;c&gt;&lt;file&gt;&lt;directory&gt;&lt;cross-platform&gt;&lt;common-ta...</td>\n",
       "      <td>69</td>\n",
       "      <td>142856</td>\n",
       "      <td>9</td>\n",
       "    </tr>\n",
       "  </tbody>\n",
       "</table>\n",
       "</div>"
      ],
      "text/plain": [
       "                                                Title  \\\n",
       "Id                                                      \n",
       "3816286   Multithreading in a stateless session bean?   \n",
       "22515180        base64 JSON encoded strings in nodejs   \n",
       "12489        How do you get a directory listing in C?   \n",
       "\n",
       "                                                       Body  \\\n",
       "Id                                                            \n",
       "3816286   <p>The EJB 3.0 specification does not allow a ...   \n",
       "22515180  <p>How do I create a base64 JSON encoded strin...   \n",
       "12489     <p>How do you scan a directory for folders and...   \n",
       "\n",
       "                                                       Tags  Score  ViewCount  \\\n",
       "Id                                                                              \n",
       "3816286    <java><multithreading><jakarta-ee><ejb-3.0><ejb>      9      13503   \n",
       "22515180        <javascript><json><node.js><base64><buffer>     14      23710   \n",
       "12489     <c><file><directory><cross-platform><common-ta...     69     142856   \n",
       "\n",
       "          AnswerCount  \n",
       "Id                     \n",
       "3816286             4  \n",
       "22515180            3  \n",
       "12489               9  "
      ]
     },
     "execution_count": 11,
     "metadata": {},
     "output_type": "execute_result"
    }
   ],
   "source": [
    "df.head(3)"
   ]
  },
  {
   "cell_type": "code",
   "execution_count": 12,
   "metadata": {},
   "outputs": [],
   "source": [
    "def clean_tags_column(df, old_tags_col):\n",
    "    '''\n",
    "    Adds a column to df with the clean tag form (as list)\n",
    "    of the tags string in column old_tags_col.\n",
    "    Removes the old tags column\n",
    "\n",
    "    Parameters:\n",
    "        - df: pandas.DataFrame\n",
    "        - old_tags_col: str\n",
    "            the label of the column containing string with tags.\n",
    "    '''\n",
    "    df['clean_Tags'] = df[old_tags_col].apply(lambda txt:simple_tokenize_tags(txt))\n",
    "    df.drop(columns=old_tags_col, inplace=True)\n",
    "    df.rename(columns={'clean_Tags' : 'Tags'}, inplace=True)"
   ]
  },
  {
   "cell_type": "code",
   "execution_count": 13,
   "metadata": {},
   "outputs": [],
   "source": [
    "# Adding a column of clean_Tags which is a list of tags\n",
    "clean_tags_column(df, 'Tags')"
   ]
  },
  {
   "cell_type": "code",
   "execution_count": 14,
   "metadata": {},
   "outputs": [
    {
     "data": {
      "text/html": [
       "<div>\n",
       "<style scoped>\n",
       "    .dataframe tbody tr th:only-of-type {\n",
       "        vertical-align: middle;\n",
       "    }\n",
       "\n",
       "    .dataframe tbody tr th {\n",
       "        vertical-align: top;\n",
       "    }\n",
       "\n",
       "    .dataframe thead th {\n",
       "        text-align: right;\n",
       "    }\n",
       "</style>\n",
       "<table border=\"1\" class=\"dataframe\">\n",
       "  <thead>\n",
       "    <tr style=\"text-align: right;\">\n",
       "      <th></th>\n",
       "      <th>Title</th>\n",
       "      <th>Body</th>\n",
       "      <th>Score</th>\n",
       "      <th>ViewCount</th>\n",
       "      <th>AnswerCount</th>\n",
       "      <th>Tags</th>\n",
       "    </tr>\n",
       "    <tr>\n",
       "      <th>Id</th>\n",
       "      <th></th>\n",
       "      <th></th>\n",
       "      <th></th>\n",
       "      <th></th>\n",
       "      <th></th>\n",
       "      <th></th>\n",
       "    </tr>\n",
       "  </thead>\n",
       "  <tbody>\n",
       "    <tr>\n",
       "      <th>3816286</th>\n",
       "      <td>Multithreading in a stateless session bean?</td>\n",
       "      <td>&lt;p&gt;The EJB 3.0 specification does not allow a ...</td>\n",
       "      <td>9</td>\n",
       "      <td>13503</td>\n",
       "      <td>4</td>\n",
       "      <td>[java, multithreading, jakarta-ee, ejb-3.0, ejb]</td>\n",
       "    </tr>\n",
       "    <tr>\n",
       "      <th>22515180</th>\n",
       "      <td>base64 JSON encoded strings in nodejs</td>\n",
       "      <td>&lt;p&gt;How do I create a base64 JSON encoded strin...</td>\n",
       "      <td>14</td>\n",
       "      <td>23710</td>\n",
       "      <td>3</td>\n",
       "      <td>[javascript, json, node.js, base64, buffer]</td>\n",
       "    </tr>\n",
       "    <tr>\n",
       "      <th>12489</th>\n",
       "      <td>How do you get a directory listing in C?</td>\n",
       "      <td>&lt;p&gt;How do you scan a directory for folders and...</td>\n",
       "      <td>69</td>\n",
       "      <td>142856</td>\n",
       "      <td>9</td>\n",
       "      <td>[c, file, directory, cross-platform, common-ta...</td>\n",
       "    </tr>\n",
       "  </tbody>\n",
       "</table>\n",
       "</div>"
      ],
      "text/plain": [
       "                                                Title  \\\n",
       "Id                                                      \n",
       "3816286   Multithreading in a stateless session bean?   \n",
       "22515180        base64 JSON encoded strings in nodejs   \n",
       "12489        How do you get a directory listing in C?   \n",
       "\n",
       "                                                       Body  Score  ViewCount  \\\n",
       "Id                                                                              \n",
       "3816286   <p>The EJB 3.0 specification does not allow a ...      9      13503   \n",
       "22515180  <p>How do I create a base64 JSON encoded strin...     14      23710   \n",
       "12489     <p>How do you scan a directory for folders and...     69     142856   \n",
       "\n",
       "          AnswerCount                                               Tags  \n",
       "Id                                                                        \n",
       "3816286             4   [java, multithreading, jakarta-ee, ejb-3.0, ejb]  \n",
       "22515180            3        [javascript, json, node.js, base64, buffer]  \n",
       "12489               9  [c, file, directory, cross-platform, common-ta...  "
      ]
     },
     "execution_count": 14,
     "metadata": {},
     "output_type": "execute_result"
    }
   ],
   "source": [
    "df.head(3)"
   ]
  },
  {
   "attachments": {},
   "cell_type": "markdown",
   "metadata": {},
   "source": [
    "We study some statistics in the whole set of tags to understand."
   ]
  },
  {
   "cell_type": "code",
   "execution_count": 15,
   "metadata": {},
   "outputs": [],
   "source": [
    "# Creating the set of all tags appearing in the sample of\n",
    "# size 50 000\n",
    "all_tags = set()\n",
    "\n",
    "for tags in df['Tags']:\n",
    "    all_tags = all_tags.union(set(tags))"
   ]
  },
  {
   "cell_type": "code",
   "execution_count": 16,
   "metadata": {},
   "outputs": [
    {
     "name": "stdout",
     "output_type": "stream",
     "text": [
      "There are 18409 different tags.\n",
      "The mean of # of questions per tag is: 13.58042261937096\n",
      "The minimum # of questions per tag is: 1.0 (by constr.)\n",
      "The max # of questions per tag is: 6226.0.\n",
      "25% of tags appear in 1.0 question.\n",
      "50% of tags appear in 2.0 questions or less.\n",
      "75% of tags appear in 6.0 questions or less.\n"
     ]
    }
   ],
   "source": [
    "# Different tags as a list\n",
    "all_tags = list(all_tags)\n",
    "\n",
    "# Counting questions per tag\n",
    "all_tags_count = dict(zip(all_tags,np.zeros(len(all_tags))))\n",
    "\n",
    "for tags in df['Tags']:\n",
    "    for tag in tags:\n",
    "        all_tags_count[tag] += 1\n",
    "\n",
    "# Array counting # of questions per tag\n",
    "tags_count = np.array(list(all_tags_count.values()))\n",
    "\n",
    "print(f'There are {len(all_tags)} different tags.')\n",
    "print(f'The mean of # of questions per tag is: {np.mean(tags_count)}')\n",
    "print(f'The minimum # of questions per tag is: {np.min(tags_count)} (by constr.)')\n",
    "print(f'The max # of questions per tag is: {np.max(tags_count)}.')\n",
    "print(f'25% of tags appear in {np.quantile(tags_count, 0.25)} question.')\n",
    "print(f'50% of tags appear in {np.quantile(tags_count, 0.5)} questions or less.')\n",
    "print(f'75% of tags appear in {np.quantile(tags_count, 0.75)} questions or less.')\n"
   ]
  },
  {
   "cell_type": "code",
   "execution_count": 17,
   "metadata": {},
   "outputs": [
    {
     "data": {
      "text/html": [
       "<div>\n",
       "<style scoped>\n",
       "    .dataframe tbody tr th:only-of-type {\n",
       "        vertical-align: middle;\n",
       "    }\n",
       "\n",
       "    .dataframe tbody tr th {\n",
       "        vertical-align: top;\n",
       "    }\n",
       "\n",
       "    .dataframe thead th {\n",
       "        text-align: right;\n",
       "    }\n",
       "</style>\n",
       "<table border=\"1\" class=\"dataframe\">\n",
       "  <thead>\n",
       "    <tr style=\"text-align: right;\">\n",
       "      <th></th>\n",
       "      <th>Title</th>\n",
       "      <th>Body</th>\n",
       "      <th>Score</th>\n",
       "      <th>ViewCount</th>\n",
       "      <th>AnswerCount</th>\n",
       "      <th>Tags</th>\n",
       "    </tr>\n",
       "    <tr>\n",
       "      <th>Id</th>\n",
       "      <th></th>\n",
       "      <th></th>\n",
       "      <th></th>\n",
       "      <th></th>\n",
       "      <th></th>\n",
       "      <th></th>\n",
       "    </tr>\n",
       "  </thead>\n",
       "  <tbody>\n",
       "    <tr>\n",
       "      <th>37342528</th>\n",
       "      <td>ReactNative: best approach to share a sqlite-i...</td>\n",
       "      <td>&lt;h1&gt;The story:&lt;/h1&gt;\\n\\n&lt;p&gt;In a react-native ap...</td>\n",
       "      <td>14</td>\n",
       "      <td>5813</td>\n",
       "      <td>1</td>\n",
       "      <td>[javascript, reactjs, sqlite, react-native, re...</td>\n",
       "    </tr>\n",
       "    <tr>\n",
       "      <th>38032260</th>\n",
       "      <td>Get sensor values (like Temperature of GPU and...</td>\n",
       "      <td>&lt;p&gt;I've been trying to get a Python script to ...</td>\n",
       "      <td>10</td>\n",
       "      <td>3028</td>\n",
       "      <td>1</td>\n",
       "      <td>[python, windows, wmi, cpu, temperature]</td>\n",
       "    </tr>\n",
       "    <tr>\n",
       "      <th>67184269</th>\n",
       "      <td>Truly recursive Template Literal for comma-sep...</td>\n",
       "      <td>&lt;p&gt;I am trying to define a Typescript template...</td>\n",
       "      <td>6</td>\n",
       "      <td>2111</td>\n",
       "      <td>2</td>\n",
       "      <td>[typescript, csv, sorting, recursion, template...</td>\n",
       "    </tr>\n",
       "  </tbody>\n",
       "</table>\n",
       "</div>"
      ],
      "text/plain": [
       "                                                      Title  \\\n",
       "Id                                                            \n",
       "37342528  ReactNative: best approach to share a sqlite-i...   \n",
       "38032260  Get sensor values (like Temperature of GPU and...   \n",
       "67184269  Truly recursive Template Literal for comma-sep...   \n",
       "\n",
       "                                                       Body  Score  ViewCount  \\\n",
       "Id                                                                              \n",
       "37342528  <h1>The story:</h1>\\n\\n<p>In a react-native ap...     14       5813   \n",
       "38032260  <p>I've been trying to get a Python script to ...     10       3028   \n",
       "67184269  <p>I am trying to define a Typescript template...      6       2111   \n",
       "\n",
       "          AnswerCount                                               Tags  \n",
       "Id                                                                        \n",
       "37342528            1  [javascript, reactjs, sqlite, react-native, re...  \n",
       "38032260            1           [python, windows, wmi, cpu, temperature]  \n",
       "67184269            2  [typescript, csv, sorting, recursion, template...  "
      ]
     },
     "execution_count": 17,
     "metadata": {},
     "output_type": "execute_result"
    }
   ],
   "source": [
    "df.sample(3)"
   ]
  },
  {
   "attachments": {},
   "cell_type": "markdown",
   "metadata": {},
   "source": [
    "We now choose the more popular tags"
   ]
  },
  {
   "cell_type": "code",
   "execution_count": 19,
   "metadata": {},
   "outputs": [
    {
     "name": "stdout",
     "output_type": "stream",
     "text": [
      "The total # of popular tags is 38\n",
      "(appearing in more than 700 questions)\n",
      "-----------------------------------\n",
      "Tag \t\t # of quest\n",
      "-----------------------------------\n",
      "        c# \t 6226.0\n",
      "      java \t 5880.0\n",
      "javascript \t 4920.0\n",
      "    python \t 4747.0\n",
      "       c++ \t 3904.0\n",
      "       ios \t 3449.0\n",
      "   android \t 3223.0\n",
      "      .net \t 3164.0\n",
      "      html \t 2197.0\n",
      "       php \t 2050.0\n",
      "objective-c \t 1816.0\n",
      "    jquery \t 1810.0\n",
      "         c \t 1655.0\n",
      "    iphone \t 1592.0\n",
      "       sql \t 1349.0\n",
      "   asp.net \t 1339.0\n",
      "       css \t 1331.0\n",
      "     linux \t 1286.0\n",
      "   node.js \t 1253.0\n",
      "performance \t 1076.0\n",
      "    spring \t 1023.0\n",
      "   windows \t 1012.0\n",
      "     swift \t 986.0\n",
      "     xcode \t 972.0\n",
      "ruby-on-rails \t 956.0\n",
      "     mysql \t 903.0\n",
      "      json \t 866.0\n",
      "sql-server \t 859.0\n",
      "multithreading \t 834.0\n",
      "asp.net-mvc \t 829.0\n",
      "      ruby \t 790.0\n",
      "  database \t 773.0\n",
      "       wpf \t 754.0\n",
      "unit-testing \t 749.0\n",
      "     macos \t 745.0\n",
      "    arrays \t 725.0\n",
      "     c++11 \t 725.0\n",
      "    django \t 725.0\n"
     ]
    }
   ],
   "source": [
    "# Fixing a minimal number of questions for considering\n",
    "# a tag \"popular\"\n",
    "numb_quest = 700\n",
    "popular_tags = { key:value for (key,value) in all_tags_count.items() if value >numb_quest}\n",
    "\n",
    "# Sorting popular tags decreasingly\n",
    "popular_tags = {k: v for k, v in sorted(popular_tags.items(), key=lambda item: item[1], reverse=True)}\n",
    "\n",
    "print(f'The total # of popular tags is {len(popular_tags)}')\n",
    "print(f'(appearing in more than {numb_quest} questions)')\n",
    "print('-'*35)\n",
    "print('Tag \\t\\t # of quest')\n",
    "print('-'*35)\n",
    "for (key,value) in popular_tags.items():\n",
    "    print(f'{key:>10} \\t {value}')\n"
   ]
  },
  {
   "cell_type": "code",
   "execution_count": 20,
   "metadata": {},
   "outputs": [],
   "source": [
    "def plot_numb_popular_tags(popular_tags,n):\n",
    "        '''\n",
    "        Bar plot illustrating the number of questions\n",
    "        per each popular tag, for n the most popular tags.\n",
    "\n",
    "        Parameters:\n",
    "                - popular_tags : dict\n",
    "                        keys: the labels of popular tags\n",
    "                        values: number of questions tagged with tag.\n",
    "                - n : int\n",
    "        '''\n",
    "        \n",
    "        fig, ax = plt.subplots()\n",
    "        ax.barh(width=list(popular_tags.values())[:n],\n",
    "                y=range(n)[::-1],\n",
    "                color='blueviolet',\n",
    "                alpha=0.7,\n",
    "                tick_label=list(popular_tags.keys())[:n]\n",
    "                )\n",
    "        plt.title(f'Most popular {n} tags', fontsize=13)\n",
    "        plt.xlabel('# of questions containing tag')\n",
    "        ax.grid(axis='y')\n",
    "\n",
    "        plt.show()\n"
   ]
  },
  {
   "cell_type": "code",
   "execution_count": 21,
   "metadata": {},
   "outputs": [
    {
     "data": {
      "image/png": "[encoded data removed]",
      "text/plain": [
       "<Figure size 432x288 with 1 Axes>"
      ]
     },
     "metadata": {},
     "output_type": "display_data"
    }
   ],
   "source": [
    "# Plotting the 10 most popular tags\n",
    "plot_numb_popular_tags(popular_tags, 15)"
   ]
  },
  {
   "cell_type": "code",
   "execution_count": 22,
   "metadata": {},
   "outputs": [],
   "source": [
    "def filter_popular_tags(df,tags,pop_tags):\n",
    "    '''\n",
    "    Returns a dataframe with filtered tags:\n",
    "    it keeps only tags in the list pop_tags and\n",
    "    removes the rest of the tags. Removes rows without\n",
    "    popular tags.\n",
    "\n",
    "    Parameters:\n",
    "        - df: pd.DataFrame\n",
    "        - pop_tags: list of str\n",
    "            list of popular tags to keep.\n",
    "        - tags: str\n",
    "            label of the tags column in df.\n",
    "    '''\n",
    "    # Exploding series of tags as rows (preserves the index)\n",
    "    tags_series = df[tags].explode()\n",
    "\n",
    "    # Boolean of preceding series: True if tag is popular\n",
    "    is_pop_tag = tags_series.isin(pop_tags)\n",
    "\n",
    "    # Series of tags for which True\n",
    "    pop_tags_series = tags_series[is_pop_tag]\n",
    "\n",
    "    # Groupby of this series to go back to a list of tags\n",
    "    pop_tags_series = pop_tags_series.groupby(by=pop_tags_series.index).agg(list)\n",
    "\n",
    "    # Merge with dataframe to keep only popular tags\n",
    "    pop_tags_df = pd.merge(left=df, \n",
    "                           right=pop_tags_series, \n",
    "                           how='right', \n",
    "                           left_index=True, \n",
    "                           right_index=True, \n",
    "                           suffixes=('_old',None))\n",
    "    pop_tags_df.drop(columns=[tags+'_old'], inplace=True)\n",
    "\n",
    "    return pop_tags_df"
   ]
  },
  {
   "attachments": {},
   "cell_type": "markdown",
   "metadata": {},
   "source": [
    "We now filter our dataset to keep only popular tags"
   ]
  },
  {
   "cell_type": "code",
   "execution_count": 23,
   "metadata": {},
   "outputs": [
    {
     "name": "stdout",
     "output_type": "stream",
     "text": [
      "Dataset shape before filter : (50000, 6)\n",
      "Dataset shape after filter : (42303, 6)\n"
     ]
    }
   ],
   "source": [
    "print(f'Dataset shape before filter : {df.shape}')\n",
    "\n",
    "# Filtering popular tags\n",
    "popular_tags = list(popular_tags.keys())\n",
    "df = filter_popular_tags(df,'Tags',popular_tags)\n",
    "\n",
    "print(f'Dataset shape after filter : {df.shape}')"
   ]
  },
  {
   "attachments": {},
   "cell_type": "markdown",
   "metadata": {},
   "source": [
    "## Creating target columns\n",
    "\n",
    "We now encode the tags into columns: one column for each one of the popular tags. In each column there are binary values: 1 if the corresponding tag is in the document and 0 otherwise."
   ]
  },
  {
   "cell_type": "code",
   "execution_count": 24,
   "metadata": {},
   "outputs": [
    {
     "name": "stdout",
     "output_type": "stream",
     "text": [
      "['c#', 'java', 'javascript', 'python', 'c++', 'ios', 'android', '.net', 'html', 'php', 'objective-c', 'jquery', 'c', 'iphone', 'sql', 'asp.net', 'css', 'linux', 'node.js', 'performance', 'spring', 'windows', 'swift', 'xcode', 'ruby-on-rails', 'mysql', 'json', 'sql-server', 'multithreading', 'asp.net-mvc', 'ruby', 'database', 'wpf', 'unit-testing', 'macos', 'arrays', 'c++11', 'django']\n"
     ]
    }
   ],
   "source": [
    "print(popular_tags)"
   ]
  },
  {
   "cell_type": "code",
   "execution_count": 25,
   "metadata": {},
   "outputs": [],
   "source": [
    "# popular_tags = ['c#','java','javascript','python','c++','ios','android','.net','html','php']  "
   ]
  },
  {
   "cell_type": "code",
   "execution_count": 26,
   "metadata": {},
   "outputs": [
    {
     "data": {
      "text/html": [
       "<style>#sk-container-id-1 {color: black;background-color: white;}#sk-container-id-1 pre{padding: 0;}#sk-container-id-1 div.sk-toggleable {background-color: white;}#sk-container-id-1 label.sk-toggleable__label {cursor: pointer;display: block;width: 100%;margin-bottom: 0;padding: 0.3em;box-sizing: border-box;text-align: center;}#sk-container-id-1 label.sk-toggleable__label-arrow:before {content: \"▸\";float: left;margin-right: 0.25em;color: #696969;}#sk-container-id-1 label.sk-toggleable__label-arrow:hover:before {color: black;}#sk-container-id-1 div.sk-estimator:hover label.sk-toggleable__label-arrow:before {color: black;}#sk-container-id-1 div.sk-toggleable__content {max-height: 0;max-width: 0;overflow: hidden;text-align: left;background-color: #f0f8ff;}#sk-container-id-1 div.sk-toggleable__content pre {margin: 0.2em;color: black;border-radius: 0.25em;background-color: #f0f8ff;}#sk-container-id-1 input.sk-toggleable__control:checked~div.sk-toggleable__content {max-height: 200px;max-width: 100%;overflow: auto;}#sk-container-id-1 input.sk-toggleable__control:checked~label.sk-toggleable__label-arrow:before {content: \"▾\";}#sk-container-id-1 div.sk-estimator input.sk-toggleable__control:checked~label.sk-toggleable__label {background-color: #d4ebff;}#sk-container-id-1 div.sk-label input.sk-toggleable__control:checked~label.sk-toggleable__label {background-color: #d4ebff;}#sk-container-id-1 input.sk-hidden--visually {border: 0;clip: rect(1px 1px 1px 1px);clip: rect(1px, 1px, 1px, 1px);height: 1px;margin: -1px;overflow: hidden;padding: 0;position: absolute;width: 1px;}#sk-container-id-1 div.sk-estimator {font-family: monospace;background-color: #f0f8ff;border: 1px dotted black;border-radius: 0.25em;box-sizing: border-box;margin-bottom: 0.5em;}#sk-container-id-1 div.sk-estimator:hover {background-color: #d4ebff;}#sk-container-id-1 div.sk-parallel-item::after {content: \"\";width: 100%;border-bottom: 1px solid gray;flex-grow: 1;}#sk-container-id-1 div.sk-label:hover label.sk-toggleable__label {background-color: #d4ebff;}#sk-container-id-1 div.sk-serial::before {content: \"\";position: absolute;border-left: 1px solid gray;box-sizing: border-box;top: 0;bottom: 0;left: 50%;z-index: 0;}#sk-container-id-1 div.sk-serial {display: flex;flex-direction: column;align-items: center;background-color: white;padding-right: 0.2em;padding-left: 0.2em;position: relative;}#sk-container-id-1 div.sk-item {position: relative;z-index: 1;}#sk-container-id-1 div.sk-parallel {display: flex;align-items: stretch;justify-content: center;background-color: white;position: relative;}#sk-container-id-1 div.sk-item::before, #sk-container-id-1 div.sk-parallel-item::before {content: \"\";position: absolute;border-left: 1px solid gray;box-sizing: border-box;top: 0;bottom: 0;left: 50%;z-index: -1;}#sk-container-id-1 div.sk-parallel-item {display: flex;flex-direction: column;z-index: 1;position: relative;background-color: white;}#sk-container-id-1 div.sk-parallel-item:first-child::after {align-self: flex-end;width: 50%;}#sk-container-id-1 div.sk-parallel-item:last-child::after {align-self: flex-start;width: 50%;}#sk-container-id-1 div.sk-parallel-item:only-child::after {width: 0;}#sk-container-id-1 div.sk-dashed-wrapped {border: 1px dashed gray;margin: 0 0.4em 0.5em 0.4em;box-sizing: border-box;padding-bottom: 0.4em;background-color: white;}#sk-container-id-1 div.sk-label label {font-family: monospace;font-weight: bold;display: inline-block;line-height: 1.2em;}#sk-container-id-1 div.sk-label-container {text-align: center;}#sk-container-id-1 div.sk-container {/* jupyter's `normalize.less` sets `[hidden] { display: none; }` but bootstrap.min.css set `[hidden] { display: none !important; }` so we also need the `!important` here to be able to override the default hidden behavior on the sphinx rendered scikit-learn.org. See: https://github.com/scikit-learn/scikit-learn/issues/21755 */display: inline-block !important;position: relative;}#sk-container-id-1 div.sk-text-repr-fallback {display: none;}</style><div id=\"sk-container-id-1\" class=\"sk-top-container\"><div class=\"sk-text-repr-fallback\"><pre>MultiLabelBinarizer(classes=[&#x27;c#&#x27;, &#x27;java&#x27;, &#x27;javascript&#x27;, &#x27;python&#x27;, &#x27;c++&#x27;, &#x27;ios&#x27;,\n",
       "                             &#x27;android&#x27;, &#x27;.net&#x27;, &#x27;html&#x27;, &#x27;php&#x27;, &#x27;objective-c&#x27;,\n",
       "                             &#x27;jquery&#x27;, &#x27;c&#x27;, &#x27;iphone&#x27;, &#x27;sql&#x27;, &#x27;asp.net&#x27;, &#x27;css&#x27;,\n",
       "                             &#x27;linux&#x27;, &#x27;node.js&#x27;, &#x27;performance&#x27;, &#x27;spring&#x27;,\n",
       "                             &#x27;windows&#x27;, &#x27;swift&#x27;, &#x27;xcode&#x27;, &#x27;ruby-on-rails&#x27;,\n",
       "                             &#x27;mysql&#x27;, &#x27;json&#x27;, &#x27;sql-server&#x27;, &#x27;multithreading&#x27;,\n",
       "                             &#x27;asp.net-mvc&#x27;, ...])</pre><b>In a Jupyter environment, please rerun this cell to show the HTML representation or trust the notebook. <br />On GitHub, the HTML representation is unable to render, please try loading this page with nbviewer.org.</b></div><div class=\"sk-container\" hidden><div class=\"sk-item\"><div class=\"sk-estimator sk-toggleable\"><input class=\"sk-toggleable__control sk-hidden--visually\" id=\"sk-estimator-id-1\" type=\"checkbox\" checked><label for=\"sk-estimator-id-1\" class=\"sk-toggleable__label sk-toggleable__label-arrow\">MultiLabelBinarizer</label><div class=\"sk-toggleable__content\"><pre>MultiLabelBinarizer(classes=[&#x27;c#&#x27;, &#x27;java&#x27;, &#x27;javascript&#x27;, &#x27;python&#x27;, &#x27;c++&#x27;, &#x27;ios&#x27;,\n",
       "                             &#x27;android&#x27;, &#x27;.net&#x27;, &#x27;html&#x27;, &#x27;php&#x27;, &#x27;objective-c&#x27;,\n",
       "                             &#x27;jquery&#x27;, &#x27;c&#x27;, &#x27;iphone&#x27;, &#x27;sql&#x27;, &#x27;asp.net&#x27;, &#x27;css&#x27;,\n",
       "                             &#x27;linux&#x27;, &#x27;node.js&#x27;, &#x27;performance&#x27;, &#x27;spring&#x27;,\n",
       "                             &#x27;windows&#x27;, &#x27;swift&#x27;, &#x27;xcode&#x27;, &#x27;ruby-on-rails&#x27;,\n",
       "                             &#x27;mysql&#x27;, &#x27;json&#x27;, &#x27;sql-server&#x27;, &#x27;multithreading&#x27;,\n",
       "                             &#x27;asp.net-mvc&#x27;, ...])</pre></div></div></div></div></div>"
      ],
      "text/plain": [
       "MultiLabelBinarizer(classes=['c#', 'java', 'javascript', 'python', 'c++', 'ios',\n",
       "                             'android', '.net', 'html', 'php', 'objective-c',\n",
       "                             'jquery', 'c', 'iphone', 'sql', 'asp.net', 'css',\n",
       "                             'linux', 'node.js', 'performance', 'spring',\n",
       "                             'windows', 'swift', 'xcode', 'ruby-on-rails',\n",
       "                             'mysql', 'json', 'sql-server', 'multithreading',\n",
       "                             'asp.net-mvc', ...])"
      ]
     },
     "execution_count": 26,
     "metadata": {},
     "output_type": "execute_result"
    }
   ],
   "source": [
    "mlb = MultiLabelBinarizer(classes=popular_tags)\n",
    "mlb.fit([popular_tags])"
   ]
  },
  {
   "cell_type": "code",
   "execution_count": 27,
   "metadata": {},
   "outputs": [
    {
     "data": {
      "text/plain": [
       "array(['c#', 'java', 'javascript', 'python', 'c++', 'ios', 'android',\n",
       "       '.net', 'html', 'php', 'objective-c', 'jquery', 'c', 'iphone',\n",
       "       'sql', 'asp.net', 'css', 'linux', 'node.js', 'performance',\n",
       "       'spring', 'windows', 'swift', 'xcode', 'ruby-on-rails', 'mysql',\n",
       "       'json', 'sql-server', 'multithreading', 'asp.net-mvc', 'ruby',\n",
       "       'database', 'wpf', 'unit-testing', 'macos', 'arrays', 'c++11',\n",
       "       'django'], dtype=object)"
      ]
     },
     "execution_count": 27,
     "metadata": {},
     "output_type": "execute_result"
    }
   ],
   "source": [
    "mlb.classes_"
   ]
  },
  {
   "cell_type": "code",
   "execution_count": 28,
   "metadata": {},
   "outputs": [],
   "source": [
    "# Appending columns of binarized tags\n",
    "col_names = ['tag_'+tag for tag in mlb.classes_]\n",
    "df[col_names] = mlb.transform(df['Tags'])"
   ]
  },
  {
   "cell_type": "code",
   "execution_count": 29,
   "metadata": {},
   "outputs": [
    {
     "data": {
      "text/html": [
       "<div>\n",
       "<style scoped>\n",
       "    .dataframe tbody tr th:only-of-type {\n",
       "        vertical-align: middle;\n",
       "    }\n",
       "\n",
       "    .dataframe tbody tr th {\n",
       "        vertical-align: top;\n",
       "    }\n",
       "\n",
       "    .dataframe thead th {\n",
       "        text-align: right;\n",
       "    }\n",
       "</style>\n",
       "<table border=\"1\" class=\"dataframe\">\n",
       "  <thead>\n",
       "    <tr style=\"text-align: right;\">\n",
       "      <th></th>\n",
       "      <th>Title</th>\n",
       "      <th>Body</th>\n",
       "      <th>Score</th>\n",
       "      <th>ViewCount</th>\n",
       "      <th>AnswerCount</th>\n",
       "      <th>Tags</th>\n",
       "      <th>tag_c#</th>\n",
       "      <th>tag_java</th>\n",
       "      <th>tag_javascript</th>\n",
       "      <th>tag_python</th>\n",
       "      <th>...</th>\n",
       "      <th>tag_multithreading</th>\n",
       "      <th>tag_asp.net-mvc</th>\n",
       "      <th>tag_ruby</th>\n",
       "      <th>tag_database</th>\n",
       "      <th>tag_wpf</th>\n",
       "      <th>tag_unit-testing</th>\n",
       "      <th>tag_macos</th>\n",
       "      <th>tag_arrays</th>\n",
       "      <th>tag_c++11</th>\n",
       "      <th>tag_django</th>\n",
       "    </tr>\n",
       "    <tr>\n",
       "      <th>Id</th>\n",
       "      <th></th>\n",
       "      <th></th>\n",
       "      <th></th>\n",
       "      <th></th>\n",
       "      <th></th>\n",
       "      <th></th>\n",
       "      <th></th>\n",
       "      <th></th>\n",
       "      <th></th>\n",
       "      <th></th>\n",
       "      <th></th>\n",
       "      <th></th>\n",
       "      <th></th>\n",
       "      <th></th>\n",
       "      <th></th>\n",
       "      <th></th>\n",
       "      <th></th>\n",
       "      <th></th>\n",
       "      <th></th>\n",
       "      <th></th>\n",
       "      <th></th>\n",
       "    </tr>\n",
       "  </thead>\n",
       "  <tbody>\n",
       "    <tr>\n",
       "      <th>30089675</th>\n",
       "      <td>Clustering cosine similarity matrix</td>\n",
       "      <td>&lt;p&gt;A few questions on stackoverflow mention th...</td>\n",
       "      <td>20</td>\n",
       "      <td>24818</td>\n",
       "      <td>1</td>\n",
       "      <td>[python]</td>\n",
       "      <td>0</td>\n",
       "      <td>0</td>\n",
       "      <td>0</td>\n",
       "      <td>1</td>\n",
       "      <td>...</td>\n",
       "      <td>0</td>\n",
       "      <td>0</td>\n",
       "      <td>0</td>\n",
       "      <td>0</td>\n",
       "      <td>0</td>\n",
       "      <td>0</td>\n",
       "      <td>0</td>\n",
       "      <td>0</td>\n",
       "      <td>0</td>\n",
       "      <td>0</td>\n",
       "    </tr>\n",
       "    <tr>\n",
       "      <th>48887128</th>\n",
       "      <td>Running Selenium Tests in Chrome (Headless mod...</td>\n",
       "      <td>&lt;p&gt;Is it possible to run Selenium C# tests on ...</td>\n",
       "      <td>7</td>\n",
       "      <td>7310</td>\n",
       "      <td>3</td>\n",
       "      <td>[c#]</td>\n",
       "      <td>1</td>\n",
       "      <td>0</td>\n",
       "      <td>0</td>\n",
       "      <td>0</td>\n",
       "      <td>...</td>\n",
       "      <td>0</td>\n",
       "      <td>0</td>\n",
       "      <td>0</td>\n",
       "      <td>0</td>\n",
       "      <td>0</td>\n",
       "      <td>0</td>\n",
       "      <td>0</td>\n",
       "      <td>0</td>\n",
       "      <td>0</td>\n",
       "      <td>0</td>\n",
       "    </tr>\n",
       "    <tr>\n",
       "      <th>47441027</th>\n",
       "      <td>Pessimistic locking vs Serializable transactio...</td>\n",
       "      <td>&lt;p&gt;I kinda understand the purpose of entity lo...</td>\n",
       "      <td>20</td>\n",
       "      <td>5813</td>\n",
       "      <td>2</td>\n",
       "      <td>[java, database]</td>\n",
       "      <td>0</td>\n",
       "      <td>1</td>\n",
       "      <td>0</td>\n",
       "      <td>0</td>\n",
       "      <td>...</td>\n",
       "      <td>0</td>\n",
       "      <td>0</td>\n",
       "      <td>0</td>\n",
       "      <td>1</td>\n",
       "      <td>0</td>\n",
       "      <td>0</td>\n",
       "      <td>0</td>\n",
       "      <td>0</td>\n",
       "      <td>0</td>\n",
       "      <td>0</td>\n",
       "    </tr>\n",
       "    <tr>\n",
       "      <th>29342757</th>\n",
       "      <td>PyYaml - Dump unicode with special characters ...</td>\n",
       "      <td>&lt;p&gt;I'm working with yaml files that have to be...</td>\n",
       "      <td>24</td>\n",
       "      <td>16528</td>\n",
       "      <td>2</td>\n",
       "      <td>[python]</td>\n",
       "      <td>0</td>\n",
       "      <td>0</td>\n",
       "      <td>0</td>\n",
       "      <td>1</td>\n",
       "      <td>...</td>\n",
       "      <td>0</td>\n",
       "      <td>0</td>\n",
       "      <td>0</td>\n",
       "      <td>0</td>\n",
       "      <td>0</td>\n",
       "      <td>0</td>\n",
       "      <td>0</td>\n",
       "      <td>0</td>\n",
       "      <td>0</td>\n",
       "      <td>0</td>\n",
       "    </tr>\n",
       "  </tbody>\n",
       "</table>\n",
       "<p>4 rows × 44 columns</p>\n",
       "</div>"
      ],
      "text/plain": [
       "                                                      Title  \\\n",
       "Id                                                            \n",
       "30089675                Clustering cosine similarity matrix   \n",
       "48887128  Running Selenium Tests in Chrome (Headless mod...   \n",
       "47441027  Pessimistic locking vs Serializable transactio...   \n",
       "29342757  PyYaml - Dump unicode with special characters ...   \n",
       "\n",
       "                                                       Body  Score  ViewCount  \\\n",
       "Id                                                                              \n",
       "30089675  <p>A few questions on stackoverflow mention th...     20      24818   \n",
       "48887128  <p>Is it possible to run Selenium C# tests on ...      7       7310   \n",
       "47441027  <p>I kinda understand the purpose of entity lo...     20       5813   \n",
       "29342757  <p>I'm working with yaml files that have to be...     24      16528   \n",
       "\n",
       "          AnswerCount              Tags  tag_c#  tag_java  tag_javascript  \\\n",
       "Id                                                                          \n",
       "30089675            1          [python]       0         0               0   \n",
       "48887128            3              [c#]       1         0               0   \n",
       "47441027            2  [java, database]       0         1               0   \n",
       "29342757            2          [python]       0         0               0   \n",
       "\n",
       "          tag_python  ...  tag_multithreading  tag_asp.net-mvc  tag_ruby  \\\n",
       "Id                    ...                                                  \n",
       "30089675           1  ...                   0                0         0   \n",
       "48887128           0  ...                   0                0         0   \n",
       "47441027           0  ...                   0                0         0   \n",
       "29342757           1  ...                   0                0         0   \n",
       "\n",
       "          tag_database  tag_wpf  tag_unit-testing  tag_macos  tag_arrays  \\\n",
       "Id                                                                         \n",
       "30089675             0        0                 0          0           0   \n",
       "48887128             0        0                 0          0           0   \n",
       "47441027             1        0                 0          0           0   \n",
       "29342757             0        0                 0          0           0   \n",
       "\n",
       "          tag_c++11  tag_django  \n",
       "Id                               \n",
       "30089675          0           0  \n",
       "48887128          0           0  \n",
       "47441027          0           0  \n",
       "29342757          0           0  \n",
       "\n",
       "[4 rows x 44 columns]"
      ]
     },
     "execution_count": 29,
     "metadata": {},
     "output_type": "execute_result"
    }
   ],
   "source": [
    "df.sample(4)"
   ]
  },
  {
   "attachments": {},
   "cell_type": "markdown",
   "metadata": {},
   "source": [
    "# Processing title and body text"
   ]
  },
  {
   "cell_type": "code",
   "execution_count": 30,
   "metadata": {},
   "outputs": [],
   "source": [
    "def remove_code(text):\n",
    "    \"\"\"\n",
    "    Removes \"<code> some text </code>\" from a text.\n",
    "    or \"<script> some text </script>\"\n",
    "\n",
    "    Parameters\n",
    "        - text : str\n",
    "    \"\"\"\n",
    "    soup = BeautifulSoup(text,'lxml')\n",
    "    code_to_remove = soup.findAll('code')\n",
    "    for code in code_to_remove:\n",
    "        code.replace_with(' ')\n",
    "        \n",
    "    code_to_remove = soup.findAll('script')\n",
    "    for code in code_to_remove:\n",
    "        code.replace_with(' ')\n",
    "\n",
    "    return str(soup)"
   ]
  },
  {
   "attachments": {},
   "cell_type": "markdown",
   "metadata": {},
   "source": [
    "We now add stopwords to the default english tokenizer stopword set. Our set of stopwords can be find in this [github repository](#https://github.com/Alir3z4/stop-words/blob/master/english.txt)."
   ]
  },
  {
   "cell_type": "code",
   "execution_count": 31,
   "metadata": {},
   "outputs": [
    {
     "name": "stdout",
     "output_type": "stream",
     "text": [
      "The default spacy stopwords set contains 326 stopwords.\n",
      "This file contains 1298 stopwords.\n",
      "The first 10 stopwords are:\n",
      "['sensible', 'werent', 'down', 'overall', 'thus', 'perhaps', 'strongly', 'front', 'hither', 'width']\n"
     ]
    }
   ],
   "source": [
    "# Instantiating language model, english\n",
    "nlp = spacy.load(\"en_core_web_sm\")\n",
    "\n",
    "# Importing stopwords\n",
    "with open('./stopwords/stopwords.txt') as file:\n",
    "    my_stopwords = {line.rstrip() for line in file}\n",
    "\n",
    "# print # of stopwords\n",
    "print(f'The default spacy stopwords set contains {len(nlp.Defaults.stop_words)} stopwords.')\n",
    "print(f'This file contains {len(my_stopwords)} stopwords.')\n",
    "print('The first 10 stopwords are:')\n",
    "print(list(my_stopwords)[:10])\n"
   ]
  },
  {
   "cell_type": "code",
   "execution_count": 32,
   "metadata": {},
   "outputs": [
    {
     "name": "stdout",
     "output_type": "stream",
     "text": [
      "we use 1317 in total.\n"
     ]
    }
   ],
   "source": [
    "# Adding my_stopwords to spacy stopwords\n",
    "nlp.Defaults.stop_words = nlp.Defaults.stop_words.union(my_stopwords)\n",
    "\n",
    "# Checking new size of stopwords\n",
    "print(f'we use {len(nlp.Defaults.stop_words)} in total.')"
   ]
  },
  {
   "cell_type": "code",
   "execution_count": 33,
   "metadata": {},
   "outputs": [],
   "source": [
    "def clean(text,tokenize=False,strict=False, **kwargs):\n",
    "    \"\"\"\n",
    "    Returns a dictionnary with keys 'text' or 'tokens', where\n",
    "    'tokens' corresponds tothe list of lemmatized tokens from\n",
    "    the string text. Ommiting stopwords and punctuation, and the text is\n",
    "    the joint text.\n",
    "\n",
    "    Parameters:\n",
    "        - text: str\n",
    "        - tokenize: bool\n",
    "            If True returns list of tokens, if False returns string.\n",
    "        - strict: bool\n",
    "            If true only keeps nouns\n",
    "    \"\"\"\n",
    "\n",
    "\n",
    "    # Removing <code>some code</code>\n",
    "    clean_txt = remove_code(text)\n",
    "\n",
    "    # Removing HTML tags\n",
    "    soup = BeautifulSoup(clean_txt, features='html.parser')\n",
    "    clean_txt = soup.get_text()\n",
    "\n",
    "    # Removing new line character: \\n\n",
    "    clean_txt = clean_txt.replace('\\n', ' ')\n",
    "\n",
    "    # Removing unicode characters\n",
    "    clean_txt = clean_txt.encode(\"ascii\", \"ignore\").decode()\n",
    "    \n",
    "    # Removing digits\n",
    "    clean_txt = ''.join(char for char in clean_txt if not char.isdigit())\n",
    "\n",
    "    # Replacing 'c ++' and 'c #' for 'c++' and 'c#' and others\n",
    "    clean_txt = clean_txt.replace('c ++', 'c++')\n",
    "    clean_txt = clean_txt.replace('c #', 'c#')\n",
    "    clean_txt = clean_txt.replace('C ++', 'c++')\n",
    "    clean_txt = clean_txt.replace('C #', 'c#')\n",
    "    clean_txt = clean_txt.replace('C#', 'c#')\n",
    "    clean_txt = clean_txt.replace('C ++', 'c++')\n",
    "\n",
    "    # Adding special case rule\n",
    "    special_case = [{ORTH: \"c#\"}] \n",
    "    nlp.tokenizer.add_special_case(\"c#\", special_case)\n",
    "    special_case = [{ORTH: \".net\"}] \n",
    "    nlp.tokenizer.add_special_case(\".net\", special_case)\n",
    "    special_case = [{ORTH: \"objective-c\"}] \n",
    "    nlp.tokenizer.add_special_case(\"objective-c\", special_case)\n",
    "    special_case = [{ORTH: \"asp.net\"}]\n",
    "    nlp.tokenizer.add_special_case(\"asp.net\", special_case)\n",
    "    special_case = [{ORTH: \"node.js\"}]\n",
    "    nlp.tokenizer.add_special_case(\"node.js\", special_case)\n",
    "    special_case = [{ORTH: \"ruby-on-rails\"}]\n",
    "    nlp.tokenizer.add_special_case(\"ruby-on-rails\", special_case)    \n",
    "    special_case = [{ORTH: \"sql-server\"}] \n",
    "    nlp.tokenizer.add_special_case(\"sql-server\", special_case)    \n",
    "    special_case = [{ORTH: \"unit-testing\"}] \n",
    "    nlp.tokenizer.add_special_case(\"unit-testing\", special_case)\n",
    "  \n",
    "    # Tokenize with spacy\n",
    "    doc = nlp(clean_txt)\n",
    "\n",
    "    # Tokenize properties\n",
    "    if strict == True:\n",
    "        tokens = [token.lemma_.lower() for token in doc\n",
    "                    if token.pos_ in ['NOUN', 'PROPN', 'VERB'] and\n",
    "                        (not (token.is_stop or \n",
    "                              token.is_punct or\n",
    "                              token.is_space\n",
    "                              )\n",
    "                        )\n",
    "                 ]    \n",
    "    else:\n",
    "        tokens = [token.lemma_.lower() for token in doc\n",
    "                    if not (token.is_stop or \n",
    "                            token.is_punct or\n",
    "                            token.is_space\n",
    "                            )\n",
    "                 ]\n",
    "\n",
    "    clean_txt = ' '.join(tokens)\n",
    "    \n",
    "    # Ask if return text or tokens\n",
    "    if tokenize == True:\n",
    "        result = tokens\n",
    "    else:\n",
    "        result = clean_txt\n",
    "\n",
    "    # Option for list of entities in output\n",
    "    if 'ent' in kwargs:\n",
    "        result = {'output':result, 'ents': doc.ents}\n",
    "\n",
    "    return result"
   ]
  },
  {
   "cell_type": "code",
   "execution_count": 34,
   "metadata": {},
   "outputs": [
    {
     "data": {
      "text/plain": [
       "'hi currently study c++ c# c# love .net'"
      ]
     },
     "execution_count": 34,
     "metadata": {},
     "output_type": "execute_result"
    }
   ],
   "source": [
    "clean(\"Hi i'm currently studying c++, c#, sometimes c # and i love .net\", tokenize=False, strict=False)"
   ]
  },
  {
   "attachments": {},
   "cell_type": "markdown",
   "metadata": {},
   "source": [
    "Let us test this function with two examples:\n",
    "\n",
    "**Example 1:**"
   ]
  },
  {
   "cell_type": "code",
   "execution_count": 35,
   "metadata": {},
   "outputs": [
    {
     "data": {
      "text/plain": [
       "'<p>Given a specific <code>DateTime</code> value, how do I display relative time, like:</p>\\n<ul>\\n<li><code>2 hours ago</code></li>\\n<li><code>3 days ago</code></li>\\n<li><code>a month ago</code></li>\\n</ul>\\n'"
      ]
     },
     "execution_count": 35,
     "metadata": {},
     "output_type": "execute_result"
    }
   ],
   "source": [
    "# Sample text\n",
    "sample_text = df.loc[11, 'Body']\n",
    "sample_text"
   ]
  },
  {
   "cell_type": "code",
   "execution_count": 36,
   "metadata": {},
   "outputs": [
    {
     "data": {
      "text/plain": [
       "'give specific value display relative time like'"
      ]
     },
     "execution_count": 36,
     "metadata": {},
     "output_type": "execute_result"
    }
   ],
   "source": [
    "clean(sample_text, tokenize=False, strict=False)"
   ]
  },
  {
   "cell_type": "code",
   "execution_count": 37,
   "metadata": {},
   "outputs": [
    {
     "name": "stdout",
     "output_type": "stream",
     "text": [
      "['give', 'specific', 'value', 'display', 'relative', 'time', 'like']\n"
     ]
    }
   ],
   "source": [
    "print(clean(sample_text, tokenize=True, strict=False))"
   ]
  },
  {
   "attachments": {},
   "cell_type": "markdown",
   "metadata": {},
   "source": [
    "Tokens:"
   ]
  },
  {
   "attachments": {},
   "cell_type": "markdown",
   "metadata": {},
   "source": [
    "Using the `strict=True` condition"
   ]
  },
  {
   "cell_type": "code",
   "execution_count": 38,
   "metadata": {},
   "outputs": [
    {
     "data": {
      "text/plain": [
       "'give value display time'"
      ]
     },
     "execution_count": 38,
     "metadata": {},
     "output_type": "execute_result"
    }
   ],
   "source": [
    "clean(sample_text, tokenize=False, strict=True)"
   ]
  },
  {
   "cell_type": "code",
   "execution_count": 39,
   "metadata": {},
   "outputs": [
    {
     "name": "stdout",
     "output_type": "stream",
     "text": [
      "['give', 'value', 'display', 'time']\n"
     ]
    }
   ],
   "source": [
    "print(clean(sample_text, tokenize=True, strict=True))"
   ]
  },
  {
   "attachments": {},
   "cell_type": "markdown",
   "metadata": {},
   "source": [
    "Entities: (NER)"
   ]
  },
  {
   "cell_type": "code",
   "execution_count": 40,
   "metadata": {},
   "outputs": [
    {
     "data": {
      "text/plain": [
       "()"
      ]
     },
     "execution_count": 40,
     "metadata": {},
     "output_type": "execute_result"
    }
   ],
   "source": [
    "clean(sample_text, tokenize=True, ent=True, strict=False)['ents']"
   ]
  },
  {
   "attachments": {},
   "cell_type": "markdown",
   "metadata": {},
   "source": [
    "**Example 3** An example with code on the body"
   ]
  },
  {
   "cell_type": "code",
   "execution_count": 41,
   "metadata": {},
   "outputs": [
    {
     "data": {
      "text/plain": [
       "'<p>I\\'m using Odoo 8 version.</p>\\n\\n<p>I have created a new model called <em>enquiry_customer_date</em></p>\\n\\n<p>In that model, I have set following four fields. </p>\\n\\n<ul>\\n<li>partner_id (many2one), </li>\\n<li>enquiry_date (date),</li>\\n<li>file_name (char) and</li>\\n<li>excel_file (binary)</li>\\n</ul>\\n\\n<p>I have given mention model one2many relationship with <em>res.partner</em> model</p>\\n\\n<p>I have used below code for display records.</p>\\n\\n<pre><code>&lt;field name=\"enquiry_from_customer_ids\"&gt;\\n    &lt;tree string=\"Enquiry Lines\"&gt;\\n        &lt;field name=\"enquiry_date\"/&gt;\\n        &lt;field name=\"file_name\" invisible=\"1\"/&gt;\\n        &lt;field name=\"excel_file\" filename=\"file_name\"/&gt;\\n    &lt;/tree&gt;    \\n&lt;/field&gt;\\n</code></pre>\\n\\n<p>This will display correct file name in list view.</p>\\n\\n<p><strong>Face Problem:</strong></p>\\n\\n<p>When I download link, it stores with file name = base64 with <em>.bin</em> extension.</p>\\n\\n<p><strong>Question</strong>:</p>\\n\\n<p>How to get working download link same as uploaded file name with extension in <em>one2many</em> field?</p>\\n\\n<p><strong>UPDATED</strong></p>\\n\\n<p>I have tried with @danidee answer. </p>\\n\\n<p>System configuration parameter:</p>\\n\\n<p><a href=\"https://i.stack.imgur.com/Vdha2.png\" rel=\"nofollow noreferrer\"><img src=\"https://i.stack.imgur.com/Vdha2.png\" alt=\"System configuration parameter\"></a></p>\\n\\n<p>Treeview/Listview one2many field</p>\\n\\n<p><a href=\"https://i.stack.imgur.com/k26Hj.png\" rel=\"nofollow noreferrer\"><img src=\"https://i.stack.imgur.com/k26Hj.png\" alt=\"Treeview/Listview one2many field\"></a></p>\\n\\n<p>OUTPUT:</p>\\n\\n<p><a href=\"https://i.stack.imgur.com/90ICB.png\" rel=\"nofollow noreferrer\"><img src=\"https://i.stack.imgur.com/90ICB.png\" alt=\"enter image description here\"></a></p>\\n\\n<p>Expected Output:</p>\\n\\n<p>File should be downloaded with <em>\"Openerp_Customization_Needed.txt\"</em></p>\\n'"
      ]
     },
     "execution_count": 41,
     "metadata": {},
     "output_type": "execute_result"
    }
   ],
   "source": [
    "sample_text = df.loc[37242063, 'Body']\n",
    "sample_text"
   ]
  },
  {
   "cell_type": "code",
   "execution_count": 42,
   "metadata": {},
   "outputs": [
    {
     "data": {
      "text/plain": [
       "'odoo version create new model call enquiry_customer_date model set follow field partner_id manyone enquiry_date date file_name char excel_file binary give mention model onemany relationship res.partner model code display record display correct file list view face problem download link store file = base .bin extension question work download link uploaded file extension onemany field update try @danidee answer system configuration parameter treeview listview onemany field output expect output file download openerp_customization_needed.txt'"
      ]
     },
     "execution_count": 42,
     "metadata": {},
     "output_type": "execute_result"
    }
   ],
   "source": [
    "clean(sample_text, tokenize=False,strict=False)"
   ]
  },
  {
   "cell_type": "code",
   "execution_count": 43,
   "metadata": {},
   "outputs": [
    {
     "data": {
      "text/plain": [
       "'odoo version create model call enquiry_customer_date model set follow field partner_id manyone enquiry_date date file_name char binary give mention model onemany relationship res.partner model code display record display file list view face problem download link store file = base .bin extension question work download link file extension onemany field update try @danidee answer system configuration parameter treeview listview onemany field output expect output file download openerp_customization_needed.txt'"
      ]
     },
     "execution_count": 43,
     "metadata": {},
     "output_type": "execute_result"
    }
   ],
   "source": [
    "clean(sample_text, tokenize=False,strict=True)"
   ]
  },
  {
   "attachments": {},
   "cell_type": "markdown",
   "metadata": {},
   "source": [
    "## Processing text\n",
    "\n",
    "We first create a column of text concatenating the title and the body. And then we process that column with our `clean` function to finally process the text."
   ]
  },
  {
   "cell_type": "code",
   "execution_count": 44,
   "metadata": {},
   "outputs": [
    {
     "data": {
      "text/html": [
       "<div>\n",
       "<style scoped>\n",
       "    .dataframe tbody tr th:only-of-type {\n",
       "        vertical-align: middle;\n",
       "    }\n",
       "\n",
       "    .dataframe tbody tr th {\n",
       "        vertical-align: top;\n",
       "    }\n",
       "\n",
       "    .dataframe thead th {\n",
       "        text-align: right;\n",
       "    }\n",
       "</style>\n",
       "<table border=\"1\" class=\"dataframe\">\n",
       "  <thead>\n",
       "    <tr style=\"text-align: right;\">\n",
       "      <th></th>\n",
       "      <th>Title</th>\n",
       "      <th>Body</th>\n",
       "      <th>Score</th>\n",
       "      <th>ViewCount</th>\n",
       "      <th>AnswerCount</th>\n",
       "      <th>Tags</th>\n",
       "      <th>tag_c#</th>\n",
       "      <th>tag_java</th>\n",
       "      <th>tag_javascript</th>\n",
       "      <th>tag_python</th>\n",
       "      <th>...</th>\n",
       "      <th>tag_multithreading</th>\n",
       "      <th>tag_asp.net-mvc</th>\n",
       "      <th>tag_ruby</th>\n",
       "      <th>tag_database</th>\n",
       "      <th>tag_wpf</th>\n",
       "      <th>tag_unit-testing</th>\n",
       "      <th>tag_macos</th>\n",
       "      <th>tag_arrays</th>\n",
       "      <th>tag_c++11</th>\n",
       "      <th>tag_django</th>\n",
       "    </tr>\n",
       "    <tr>\n",
       "      <th>Id</th>\n",
       "      <th></th>\n",
       "      <th></th>\n",
       "      <th></th>\n",
       "      <th></th>\n",
       "      <th></th>\n",
       "      <th></th>\n",
       "      <th></th>\n",
       "      <th></th>\n",
       "      <th></th>\n",
       "      <th></th>\n",
       "      <th></th>\n",
       "      <th></th>\n",
       "      <th></th>\n",
       "      <th></th>\n",
       "      <th></th>\n",
       "      <th></th>\n",
       "      <th></th>\n",
       "      <th></th>\n",
       "      <th></th>\n",
       "      <th></th>\n",
       "      <th></th>\n",
       "    </tr>\n",
       "  </thead>\n",
       "  <tbody>\n",
       "    <tr>\n",
       "      <th>4</th>\n",
       "      <td>How to convert Decimal to Double in C#?</td>\n",
       "      <td>&lt;p&gt;I want to assign the decimal variable &amp;quot...</td>\n",
       "      <td>792</td>\n",
       "      <td>70052</td>\n",
       "      <td>14</td>\n",
       "      <td>[c#]</td>\n",
       "      <td>1</td>\n",
       "      <td>0</td>\n",
       "      <td>0</td>\n",
       "      <td>0</td>\n",
       "      <td>...</td>\n",
       "      <td>0</td>\n",
       "      <td>0</td>\n",
       "      <td>0</td>\n",
       "      <td>0</td>\n",
       "      <td>0</td>\n",
       "      <td>0</td>\n",
       "      <td>0</td>\n",
       "      <td>0</td>\n",
       "      <td>0</td>\n",
       "      <td>0</td>\n",
       "    </tr>\n",
       "    <tr>\n",
       "      <th>11</th>\n",
       "      <td>Calculate relative time in C#</td>\n",
       "      <td>&lt;p&gt;Given a specific &lt;code&gt;DateTime&lt;/code&gt; valu...</td>\n",
       "      <td>1644</td>\n",
       "      <td>196587</td>\n",
       "      <td>41</td>\n",
       "      <td>[c#]</td>\n",
       "      <td>1</td>\n",
       "      <td>0</td>\n",
       "      <td>0</td>\n",
       "      <td>0</td>\n",
       "      <td>...</td>\n",
       "      <td>0</td>\n",
       "      <td>0</td>\n",
       "      <td>0</td>\n",
       "      <td>0</td>\n",
       "      <td>0</td>\n",
       "      <td>0</td>\n",
       "      <td>0</td>\n",
       "      <td>0</td>\n",
       "      <td>0</td>\n",
       "      <td>0</td>\n",
       "    </tr>\n",
       "    <tr>\n",
       "      <th>13</th>\n",
       "      <td>Determine a user's timezone</td>\n",
       "      <td>&lt;p&gt;Is there a standard way for a web server to...</td>\n",
       "      <td>698</td>\n",
       "      <td>274233</td>\n",
       "      <td>27</td>\n",
       "      <td>[html]</td>\n",
       "      <td>0</td>\n",
       "      <td>0</td>\n",
       "      <td>0</td>\n",
       "      <td>0</td>\n",
       "      <td>...</td>\n",
       "      <td>0</td>\n",
       "      <td>0</td>\n",
       "      <td>0</td>\n",
       "      <td>0</td>\n",
       "      <td>0</td>\n",
       "      <td>0</td>\n",
       "      <td>0</td>\n",
       "      <td>0</td>\n",
       "      <td>0</td>\n",
       "      <td>0</td>\n",
       "    </tr>\n",
       "    <tr>\n",
       "      <th>19</th>\n",
       "      <td>What is the fastest way to get the value of π?</td>\n",
       "      <td>&lt;p&gt;I'm looking for the fastest way to obtain t...</td>\n",
       "      <td>351</td>\n",
       "      <td>67159</td>\n",
       "      <td>24</td>\n",
       "      <td>[performance]</td>\n",
       "      <td>0</td>\n",
       "      <td>0</td>\n",
       "      <td>0</td>\n",
       "      <td>0</td>\n",
       "      <td>...</td>\n",
       "      <td>0</td>\n",
       "      <td>0</td>\n",
       "      <td>0</td>\n",
       "      <td>0</td>\n",
       "      <td>0</td>\n",
       "      <td>0</td>\n",
       "      <td>0</td>\n",
       "      <td>0</td>\n",
       "      <td>0</td>\n",
       "      <td>0</td>\n",
       "    </tr>\n",
       "    <tr>\n",
       "      <th>25</th>\n",
       "      <td>How to use the C socket API in C++ on z/OS</td>\n",
       "      <td>&lt;p&gt;I'm having issues getting the C sockets API...</td>\n",
       "      <td>175</td>\n",
       "      <td>15797</td>\n",
       "      <td>9</td>\n",
       "      <td>[c++, c]</td>\n",
       "      <td>0</td>\n",
       "      <td>0</td>\n",
       "      <td>0</td>\n",
       "      <td>0</td>\n",
       "      <td>...</td>\n",
       "      <td>0</td>\n",
       "      <td>0</td>\n",
       "      <td>0</td>\n",
       "      <td>0</td>\n",
       "      <td>0</td>\n",
       "      <td>0</td>\n",
       "      <td>0</td>\n",
       "      <td>0</td>\n",
       "      <td>0</td>\n",
       "      <td>0</td>\n",
       "    </tr>\n",
       "  </tbody>\n",
       "</table>\n",
       "<p>5 rows × 44 columns</p>\n",
       "</div>"
      ],
      "text/plain": [
       "                                             Title  \\\n",
       "Id                                                   \n",
       "4          How to convert Decimal to Double in C#?   \n",
       "11                   Calculate relative time in C#   \n",
       "13                     Determine a user's timezone   \n",
       "19  What is the fastest way to get the value of π?   \n",
       "25      How to use the C socket API in C++ on z/OS   \n",
       "\n",
       "                                                 Body  Score  ViewCount  \\\n",
       "Id                                                                        \n",
       "4   <p>I want to assign the decimal variable &quot...    792      70052   \n",
       "11  <p>Given a specific <code>DateTime</code> valu...   1644     196587   \n",
       "13  <p>Is there a standard way for a web server to...    698     274233   \n",
       "19  <p>I'm looking for the fastest way to obtain t...    351      67159   \n",
       "25  <p>I'm having issues getting the C sockets API...    175      15797   \n",
       "\n",
       "    AnswerCount           Tags  tag_c#  tag_java  tag_javascript  tag_python  \\\n",
       "Id                                                                             \n",
       "4            14           [c#]       1         0               0           0   \n",
       "11           41           [c#]       1         0               0           0   \n",
       "13           27         [html]       0         0               0           0   \n",
       "19           24  [performance]       0         0               0           0   \n",
       "25            9       [c++, c]       0         0               0           0   \n",
       "\n",
       "    ...  tag_multithreading  tag_asp.net-mvc  tag_ruby  tag_database  tag_wpf  \\\n",
       "Id  ...                                                                         \n",
       "4   ...                   0                0         0             0        0   \n",
       "11  ...                   0                0         0             0        0   \n",
       "13  ...                   0                0         0             0        0   \n",
       "19  ...                   0                0         0             0        0   \n",
       "25  ...                   0                0         0             0        0   \n",
       "\n",
       "    tag_unit-testing  tag_macos  tag_arrays  tag_c++11  tag_django  \n",
       "Id                                                                  \n",
       "4                  0          0           0          0           0  \n",
       "11                 0          0           0          0           0  \n",
       "13                 0          0           0          0           0  \n",
       "19                 0          0           0          0           0  \n",
       "25                 0          0           0          0           0  \n",
       "\n",
       "[5 rows x 44 columns]"
      ]
     },
     "execution_count": 44,
     "metadata": {},
     "output_type": "execute_result"
    }
   ],
   "source": [
    "df.head()"
   ]
  },
  {
   "cell_type": "code",
   "execution_count": 45,
   "metadata": {},
   "outputs": [],
   "source": [
    "# Concatenating title and body\n",
    "df.insert(0,'text',df['Title'] + ' ' + df['Body'])"
   ]
  },
  {
   "attachments": {},
   "cell_type": "markdown",
   "metadata": {},
   "source": [
    "Let us see the lengths of the text to be processed and based on the distribution of the lengths, restrict ourselves to posts up to a certain length of characters."
   ]
  },
  {
   "cell_type": "code",
   "execution_count": 46,
   "metadata": {},
   "outputs": [
    {
     "data": {
      "text/plain": [
       "count    42303.000000\n",
       "mean      1744.026925\n",
       "std       2111.668159\n",
       "min         57.000000\n",
       "25%        662.000000\n",
       "50%       1143.000000\n",
       "75%       2027.000000\n",
       "max      37387.000000\n",
       "Name: text, dtype: float64"
      ]
     },
     "execution_count": 46,
     "metadata": {},
     "output_type": "execute_result"
    }
   ],
   "source": [
    "# Statistics for the length of text (title+body)\n",
    "df.text.str.len().describe()"
   ]
  },
  {
   "cell_type": "code",
   "execution_count": 47,
   "metadata": {},
   "outputs": [
    {
     "data": {
      "image/png": "[encoded data removed]",
      "text/plain": [
       "<Figure size 432x288 with 1 Axes>"
      ]
     },
     "metadata": {},
     "output_type": "display_data"
    }
   ],
   "source": [
    "# Plotting distribution of length of text\n",
    "h = sns.histplot(df.text.str.len())\n",
    "plt.title('Distribution of # of characters in text (title+body)', size=14)\n",
    "plt.xlabel('Length of text (in # of characters)')\n",
    "h.set_xlim(-1000,30000)\n",
    "h.set_xticks(range(0,30000,5000))\n",
    "plt.show()"
   ]
  },
  {
   "attachments": {},
   "cell_type": "markdown",
   "metadata": {},
   "source": [
    "To keep a set of documents which is more uniform, we keep only text with a number of characters between 1 and 5000."
   ]
  },
  {
   "cell_type": "code",
   "execution_count": 48,
   "metadata": {},
   "outputs": [
    {
     "data": {
      "text/plain": [
       "(40166, 45)"
      ]
     },
     "execution_count": 48,
     "metadata": {},
     "output_type": "execute_result"
    }
   ],
   "source": [
    "df.loc[df.text.str.len() <= 5000].shape\n"
   ]
  },
  {
   "cell_type": "code",
   "execution_count": 49,
   "metadata": {},
   "outputs": [
    {
     "name": "stdout",
     "output_type": "stream",
     "text": [
      "Shape of dataset before filter: (42303, 45)\n",
      "Shape of dataset after filter: (40166, 45)\n",
      "Number of deleted rows: 2137\n"
     ]
    }
   ],
   "source": [
    "shape_before = df.shape\n",
    "print(f'Shape of dataset before filter: {shape_before}')\n",
    "df = df.loc[df.text.str.len() <= 5000]\n",
    "shape_after = df.shape\n",
    "print(f'Shape of dataset after filter: {shape_after}')\n",
    "print(f'Number of deleted rows: {shape_before[0] - shape_after[0]}')"
   ]
  },
  {
   "cell_type": "code",
   "execution_count": 50,
   "metadata": {},
   "outputs": [
    {
     "name": "stdout",
     "output_type": "stream",
     "text": [
      "Total time to process text: 1233.7 seconds. (= 20.56 minutes)\n"
     ]
    }
   ],
   "source": [
    "# Cleaning/tokenizing the text\n",
    "start = time.time()\n",
    "processed_text = df['text'].apply(lambda txt:clean(txt, tokenize=False, strict=True))\n",
    "end = time.time()\n",
    "df.insert(0,'processed_text', processed_text)\n",
    "total_time = end - start\n",
    "print(f'Total time to process text: {round(total_time,2)} seconds. (= {round(total_time/60,2)} minutes)')"
   ]
  },
  {
   "cell_type": "code",
   "execution_count": 51,
   "metadata": {},
   "outputs": [
    {
     "data": {
      "text/html": [
       "<div>\n",
       "<style scoped>\n",
       "    .dataframe tbody tr th:only-of-type {\n",
       "        vertical-align: middle;\n",
       "    }\n",
       "\n",
       "    .dataframe tbody tr th {\n",
       "        vertical-align: top;\n",
       "    }\n",
       "\n",
       "    .dataframe thead th {\n",
       "        text-align: right;\n",
       "    }\n",
       "</style>\n",
       "<table border=\"1\" class=\"dataframe\">\n",
       "  <thead>\n",
       "    <tr style=\"text-align: right;\">\n",
       "      <th></th>\n",
       "      <th>processed_text</th>\n",
       "      <th>text</th>\n",
       "      <th>Title</th>\n",
       "      <th>Body</th>\n",
       "      <th>Score</th>\n",
       "      <th>ViewCount</th>\n",
       "      <th>AnswerCount</th>\n",
       "      <th>Tags</th>\n",
       "      <th>tag_c#</th>\n",
       "      <th>tag_java</th>\n",
       "      <th>...</th>\n",
       "      <th>tag_multithreading</th>\n",
       "      <th>tag_asp.net-mvc</th>\n",
       "      <th>tag_ruby</th>\n",
       "      <th>tag_database</th>\n",
       "      <th>tag_wpf</th>\n",
       "      <th>tag_unit-testing</th>\n",
       "      <th>tag_macos</th>\n",
       "      <th>tag_arrays</th>\n",
       "      <th>tag_c++11</th>\n",
       "      <th>tag_django</th>\n",
       "    </tr>\n",
       "    <tr>\n",
       "      <th>Id</th>\n",
       "      <th></th>\n",
       "      <th></th>\n",
       "      <th></th>\n",
       "      <th></th>\n",
       "      <th></th>\n",
       "      <th></th>\n",
       "      <th></th>\n",
       "      <th></th>\n",
       "      <th></th>\n",
       "      <th></th>\n",
       "      <th></th>\n",
       "      <th></th>\n",
       "      <th></th>\n",
       "      <th></th>\n",
       "      <th></th>\n",
       "      <th></th>\n",
       "      <th></th>\n",
       "      <th></th>\n",
       "      <th></th>\n",
       "      <th></th>\n",
       "      <th></th>\n",
       "    </tr>\n",
       "  </thead>\n",
       "  <tbody>\n",
       "    <tr>\n",
       "      <th>4</th>\n",
       "      <td>convert decimal double c# want assign variable...</td>\n",
       "      <td>How to convert Decimal to Double in C#? &lt;p&gt;I w...</td>\n",
       "      <td>How to convert Decimal to Double in C#?</td>\n",
       "      <td>&lt;p&gt;I want to assign the decimal variable &amp;quot...</td>\n",
       "      <td>792</td>\n",
       "      <td>70052</td>\n",
       "      <td>14</td>\n",
       "      <td>[c#]</td>\n",
       "      <td>1</td>\n",
       "      <td>0</td>\n",
       "      <td>...</td>\n",
       "      <td>0</td>\n",
       "      <td>0</td>\n",
       "      <td>0</td>\n",
       "      <td>0</td>\n",
       "      <td>0</td>\n",
       "      <td>0</td>\n",
       "      <td>0</td>\n",
       "      <td>0</td>\n",
       "      <td>0</td>\n",
       "      <td>0</td>\n",
       "    </tr>\n",
       "    <tr>\n",
       "      <th>11</th>\n",
       "      <td>calculate time c# give value display time</td>\n",
       "      <td>Calculate relative time in C# &lt;p&gt;Given a speci...</td>\n",
       "      <td>Calculate relative time in C#</td>\n",
       "      <td>&lt;p&gt;Given a specific &lt;code&gt;DateTime&lt;/code&gt; valu...</td>\n",
       "      <td>1644</td>\n",
       "      <td>196587</td>\n",
       "      <td>41</td>\n",
       "      <td>[c#]</td>\n",
       "      <td>1</td>\n",
       "      <td>0</td>\n",
       "      <td>...</td>\n",
       "      <td>0</td>\n",
       "      <td>0</td>\n",
       "      <td>0</td>\n",
       "      <td>0</td>\n",
       "      <td>0</td>\n",
       "      <td>0</td>\n",
       "      <td>0</td>\n",
       "      <td>0</td>\n",
       "      <td>0</td>\n",
       "      <td>0</td>\n",
       "    </tr>\n",
       "    <tr>\n",
       "      <th>13</th>\n",
       "      <td>determine user timezone way web server determi...</td>\n",
       "      <td>Determine a user's timezone &lt;p&gt;Is there a stan...</td>\n",
       "      <td>Determine a user's timezone</td>\n",
       "      <td>&lt;p&gt;Is there a standard way for a web server to...</td>\n",
       "      <td>698</td>\n",
       "      <td>274233</td>\n",
       "      <td>27</td>\n",
       "      <td>[html]</td>\n",
       "      <td>0</td>\n",
       "      <td>0</td>\n",
       "      <td>...</td>\n",
       "      <td>0</td>\n",
       "      <td>0</td>\n",
       "      <td>0</td>\n",
       "      <td>0</td>\n",
       "      <td>0</td>\n",
       "      <td>0</td>\n",
       "      <td>0</td>\n",
       "      <td>0</td>\n",
       "      <td>0</td>\n",
       "      <td>0</td>\n",
       "    </tr>\n",
       "    <tr>\n",
       "      <th>19</th>\n",
       "      <td>way value look way obtain value challenge way ...</td>\n",
       "      <td>What is the fastest way to get the value of π?...</td>\n",
       "      <td>What is the fastest way to get the value of π?</td>\n",
       "      <td>&lt;p&gt;I'm looking for the fastest way to obtain t...</td>\n",
       "      <td>351</td>\n",
       "      <td>67159</td>\n",
       "      <td>24</td>\n",
       "      <td>[performance]</td>\n",
       "      <td>0</td>\n",
       "      <td>0</td>\n",
       "      <td>...</td>\n",
       "      <td>0</td>\n",
       "      <td>0</td>\n",
       "      <td>0</td>\n",
       "      <td>0</td>\n",
       "      <td>0</td>\n",
       "      <td>0</td>\n",
       "      <td>0</td>\n",
       "      <td>0</td>\n",
       "      <td>0</td>\n",
       "      <td>0</td>\n",
       "    </tr>\n",
       "    <tr>\n",
       "      <th>25</th>\n",
       "      <td>use c socket api c++ z os have issue get c soc...</td>\n",
       "      <td>How to use the C socket API in C++ on z/OS &lt;p&gt;...</td>\n",
       "      <td>How to use the C socket API in C++ on z/OS</td>\n",
       "      <td>&lt;p&gt;I'm having issues getting the C sockets API...</td>\n",
       "      <td>175</td>\n",
       "      <td>15797</td>\n",
       "      <td>9</td>\n",
       "      <td>[c++, c]</td>\n",
       "      <td>0</td>\n",
       "      <td>0</td>\n",
       "      <td>...</td>\n",
       "      <td>0</td>\n",
       "      <td>0</td>\n",
       "      <td>0</td>\n",
       "      <td>0</td>\n",
       "      <td>0</td>\n",
       "      <td>0</td>\n",
       "      <td>0</td>\n",
       "      <td>0</td>\n",
       "      <td>0</td>\n",
       "      <td>0</td>\n",
       "    </tr>\n",
       "  </tbody>\n",
       "</table>\n",
       "<p>5 rows × 46 columns</p>\n",
       "</div>"
      ],
      "text/plain": [
       "                                       processed_text  \\\n",
       "Id                                                      \n",
       "4   convert decimal double c# want assign variable...   \n",
       "11          calculate time c# give value display time   \n",
       "13  determine user timezone way web server determi...   \n",
       "19  way value look way obtain value challenge way ...   \n",
       "25  use c socket api c++ z os have issue get c soc...   \n",
       "\n",
       "                                                 text  \\\n",
       "Id                                                      \n",
       "4   How to convert Decimal to Double in C#? <p>I w...   \n",
       "11  Calculate relative time in C# <p>Given a speci...   \n",
       "13  Determine a user's timezone <p>Is there a stan...   \n",
       "19  What is the fastest way to get the value of π?...   \n",
       "25  How to use the C socket API in C++ on z/OS <p>...   \n",
       "\n",
       "                                             Title  \\\n",
       "Id                                                   \n",
       "4          How to convert Decimal to Double in C#?   \n",
       "11                   Calculate relative time in C#   \n",
       "13                     Determine a user's timezone   \n",
       "19  What is the fastest way to get the value of π?   \n",
       "25      How to use the C socket API in C++ on z/OS   \n",
       "\n",
       "                                                 Body  Score  ViewCount  \\\n",
       "Id                                                                        \n",
       "4   <p>I want to assign the decimal variable &quot...    792      70052   \n",
       "11  <p>Given a specific <code>DateTime</code> valu...   1644     196587   \n",
       "13  <p>Is there a standard way for a web server to...    698     274233   \n",
       "19  <p>I'm looking for the fastest way to obtain t...    351      67159   \n",
       "25  <p>I'm having issues getting the C sockets API...    175      15797   \n",
       "\n",
       "    AnswerCount           Tags  tag_c#  tag_java  ...  tag_multithreading  \\\n",
       "Id                                                ...                       \n",
       "4            14           [c#]       1         0  ...                   0   \n",
       "11           41           [c#]       1         0  ...                   0   \n",
       "13           27         [html]       0         0  ...                   0   \n",
       "19           24  [performance]       0         0  ...                   0   \n",
       "25            9       [c++, c]       0         0  ...                   0   \n",
       "\n",
       "    tag_asp.net-mvc  tag_ruby  tag_database  tag_wpf  tag_unit-testing  \\\n",
       "Id                                                                       \n",
       "4                 0         0             0        0                 0   \n",
       "11                0         0             0        0                 0   \n",
       "13                0         0             0        0                 0   \n",
       "19                0         0             0        0                 0   \n",
       "25                0         0             0        0                 0   \n",
       "\n",
       "    tag_macos  tag_arrays  tag_c++11  tag_django  \n",
       "Id                                                \n",
       "4           0           0          0           0  \n",
       "11          0           0          0           0  \n",
       "13          0           0          0           0  \n",
       "19          0           0          0           0  \n",
       "25          0           0          0           0  \n",
       "\n",
       "[5 rows x 46 columns]"
      ]
     },
     "execution_count": 51,
     "metadata": {},
     "output_type": "execute_result"
    }
   ],
   "source": [
    "# Previewing dataframe\n",
    "df.head()"
   ]
  },
  {
   "cell_type": "code",
   "execution_count": 54,
   "metadata": {},
   "outputs": [
    {
     "data": {
      "text/plain": [
       "processed_text        0\n",
       "text                  0\n",
       "Title                 0\n",
       "Body                  0\n",
       "Score                 0\n",
       "ViewCount             0\n",
       "AnswerCount           0\n",
       "Tags                  0\n",
       "tag_c#                0\n",
       "tag_java              0\n",
       "tag_javascript        0\n",
       "tag_python            0\n",
       "tag_c++               0\n",
       "tag_ios               0\n",
       "tag_android           0\n",
       "tag_.net              0\n",
       "tag_html              0\n",
       "tag_php               0\n",
       "tag_objective-c       0\n",
       "tag_jquery            0\n",
       "tag_c                 0\n",
       "tag_iphone            0\n",
       "tag_sql               0\n",
       "tag_asp.net           0\n",
       "tag_css               0\n",
       "tag_linux             0\n",
       "tag_node.js           0\n",
       "tag_performance       0\n",
       "tag_spring            0\n",
       "tag_windows           0\n",
       "tag_swift             0\n",
       "tag_xcode             0\n",
       "tag_ruby-on-rails     0\n",
       "tag_mysql             0\n",
       "tag_json              0\n",
       "tag_sql-server        0\n",
       "tag_multithreading    0\n",
       "tag_asp.net-mvc       0\n",
       "tag_ruby              0\n",
       "tag_database          0\n",
       "tag_wpf               0\n",
       "tag_unit-testing      0\n",
       "tag_macos             0\n",
       "tag_arrays            0\n",
       "tag_c++11             0\n",
       "tag_django            0\n",
       "dtype: int64"
      ]
     },
     "execution_count": 54,
     "metadata": {},
     "output_type": "execute_result"
    }
   ],
   "source": [
    "# Last check for missing values\n",
    "df.isna().sum()"
   ]
  },
  {
   "attachments": {},
   "cell_type": "markdown",
   "metadata": {},
   "source": [
    "# Export processed data"
   ]
  },
  {
   "cell_type": "code",
   "execution_count": 55,
   "metadata": {},
   "outputs": [],
   "source": [
    "# Export processed data\n",
    "path = './data/'\n",
    "filename = 'processed_data_v011.csv'\n",
    "# Export smaller sample\n",
    "df_sample = df.sample(10000)\n",
    "filename_sample ='processed_data_v011_sample.csv'\n",
    "\n",
    "df.to_csv(path + filename)\n",
    "df_sample.to_csv(path + filename_sample)"
   ]
  }
 ],
 "metadata": {
  "kernelspec": {
   "display_name": "Python 3",
   "language": "python",
   "name": "python3"
  },
  "language_info": {
   "codemirror_mode": {
    "name": "ipython",
    "version": 3
   },
   "file_extension": ".py",
   "mimetype": "text/x-python",
   "name": "python",
   "nbconvert_exporter": "python",
   "pygments_lexer": "ipython3",
   "version": "3.10.6"
  },
  "vscode": {
   "interpreter": {
    "hash": "767d51c1340bd893661ea55ea3124f6de3c7a262a8b4abca0554b478b1e2ff90"
   }
  }
 },
 "nbformat": 4,
 "nbformat_minor": 2
}
