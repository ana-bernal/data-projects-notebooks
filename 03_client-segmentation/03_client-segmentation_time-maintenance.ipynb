{
 "cells": [
  {
   "attachments": {},
   "cell_type": "markdown",
   "metadata": {},
   "source": [
    "# ⌛ Maintenance period\n",
    "\n",
    "|   |   |\n",
    "|---|---|\n",
    "| Project  |    [Segmentation des clients d'un site e-commerce](#https://openclassrooms.com/fr/paths/148/projects/630/assignment)         |\n",
    "| Date   |   January 2023   |\n",
    "| Autor  | Ana Bernal                                                    |\n",
    "| Data source | https://www.kaggle.com/datasets/olistbr/brazilian-ecommerce |\n",
    "| Mentor | Samir Tanfous | \n",
    "| Notebook number  | 2 over 3                                                    |\n",
    "\n",
    "**Description:** In this notebook we find a period of time for which it is necessary to update the clustering model to keep the customer segmentation up to  date."
   ]
  },
  {
   "attachments": {},
   "cell_type": "markdown",
   "id": "d7c31c7c",
   "metadata": {},
   "source": [
    "# Table of contents\n",
    "- [Preliminiaries](#Preliminiaries)\n",
    "  - [Imports](#Imports)\n",
    "  - [Graphics and options](#Graphics-and-options)\n",
    "  - [Data](#Data)\n",
    "- [Rand index calculations](#Rand-index-calculations)\n",
    "  - [Calculating ARI every week](#Calculating-ARI-every-week)\n",
    "- [Maintenance time](#Maintenance-time)"
   ]
  },
  {
   "attachments": {},
   "cell_type": "markdown",
   "metadata": {},
   "source": [
    "# Preliminiaries\n",
    "\n",
    "## Imports"
   ]
  },
  {
   "cell_type": "code",
   "execution_count": 2,
   "metadata": {},
   "outputs": [],
   "source": [
    "# Built in\n",
    "import random\n",
    "\n",
    "# Data processing and math\n",
    "import pandas as pd\n",
    "import numpy as np\n",
    "\n",
    "# Preprocessing\n",
    "from sklearn.preprocessing import StandardScaler\n",
    "\n",
    "# Clustering\n",
    "from sklearn.cluster import KMeans\n",
    "\n",
    "# Metrics\n",
    "from sklearn.metrics import adjusted_rand_score\n",
    "\n",
    "# Others\n",
    "import pickle\n",
    "\n",
    "# Warnings\n",
    "import warnings"
   ]
  },
  {
   "attachments": {},
   "cell_type": "markdown",
   "metadata": {},
   "source": [
    "## Graphics and options"
   ]
  },
  {
   "cell_type": "code",
   "execution_count": 3,
   "metadata": {},
   "outputs": [],
   "source": [
    "# Graphics\n",
    "import seaborn as sns\n",
    "import matplotlib.pyplot as plt\n",
    "import seaborn as sns\n",
    "\n",
    "sns.set()\n",
    "\n",
    "# warnings.filterwarnings('ignore')\n",
    "# warnings.filterwarnings(action='once')\n",
    "warnings.filterwarnings(\"ignore\")"
   ]
  },
  {
   "attachments": {},
   "cell_type": "markdown",
   "metadata": {},
   "source": [
    "## Data"
   ]
  },
  {
   "cell_type": "code",
   "execution_count": 4,
   "metadata": {},
   "outputs": [],
   "source": [
    "path     = './data'\n",
    "filename = 'data_for_simulation.csv'"
   ]
  },
  {
   "cell_type": "code",
   "execution_count": 5,
   "metadata": {},
   "outputs": [
    {
     "data": {
      "text/html": [
       "<div>\n",
       "<style scoped>\n",
       "    .dataframe tbody tr th:only-of-type {\n",
       "        vertical-align: middle;\n",
       "    }\n",
       "\n",
       "    .dataframe tbody tr th {\n",
       "        vertical-align: top;\n",
       "    }\n",
       "\n",
       "    .dataframe thead th {\n",
       "        text-align: right;\n",
       "    }\n",
       "</style>\n",
       "<table border=\"1\" class=\"dataframe\">\n",
       "  <thead>\n",
       "    <tr style=\"text-align: right;\">\n",
       "      <th></th>\n",
       "      <th>frequency</th>\n",
       "      <th>review_score_avg</th>\n",
       "      <th>recency_days</th>\n",
       "      <th>payment_value_avg</th>\n",
       "      <th>item_quant_avg</th>\n",
       "      <th>price_item_avg</th>\n",
       "      <th>order_purchase_timestamp</th>\n",
       "    </tr>\n",
       "  </thead>\n",
       "  <tbody>\n",
       "    <tr>\n",
       "      <th>0</th>\n",
       "      <td>1</td>\n",
       "      <td>5.0</td>\n",
       "      <td>115</td>\n",
       "      <td>141.90</td>\n",
       "      <td>1.0</td>\n",
       "      <td>129.9</td>\n",
       "      <td>2018-05-10 10:56:27</td>\n",
       "    </tr>\n",
       "    <tr>\n",
       "      <th>1</th>\n",
       "      <td>1</td>\n",
       "      <td>4.0</td>\n",
       "      <td>118</td>\n",
       "      <td>27.19</td>\n",
       "      <td>1.0</td>\n",
       "      <td>18.9</td>\n",
       "      <td>2018-05-07 11:11:27</td>\n",
       "    </tr>\n",
       "    <tr>\n",
       "      <th>2</th>\n",
       "      <td>1</td>\n",
       "      <td>3.0</td>\n",
       "      <td>541</td>\n",
       "      <td>86.22</td>\n",
       "      <td>1.0</td>\n",
       "      <td>69.0</td>\n",
       "      <td>2017-03-10 21:05:03</td>\n",
       "    </tr>\n",
       "  </tbody>\n",
       "</table>\n",
       "</div>"
      ],
      "text/plain": [
       "   frequency  review_score_avg  recency_days  payment_value_avg  \\\n",
       "0          1               5.0           115             141.90   \n",
       "1          1               4.0           118              27.19   \n",
       "2          1               3.0           541              86.22   \n",
       "\n",
       "   item_quant_avg  price_item_avg order_purchase_timestamp  \n",
       "0             1.0           129.9      2018-05-10 10:56:27  \n",
       "1             1.0            18.9      2018-05-07 11:11:27  \n",
       "2             1.0            69.0      2017-03-10 21:05:03  "
      ]
     },
     "execution_count": 5,
     "metadata": {},
     "output_type": "execute_result"
    }
   ],
   "source": [
    "# Read and preview our main dataframe\n",
    "df = pd.read_csv(path + filename)\n",
    "df.head(3)"
   ]
  },
  {
   "cell_type": "code",
   "execution_count": 8,
   "metadata": {},
   "outputs": [],
   "source": [
    "# Renaming date column\n",
    "df.rename(columns={'order_purchase_timestamp':'date'}, inplace=True)\n",
    "df['date'] = pd.to_datetime(df.date)"
   ]
  },
  {
   "attachments": {},
   "cell_type": "markdown",
   "metadata": {},
   "source": [
    "# Rand index calculations\n",
    "\n",
    "We will now measure the stability of the chosen model: **KMeans, n_clusters = 6**.\n",
    "\n",
    "For this we use the Rand index with `sklearn.metrics.adjusted_rand_score`. This metric measure the similarity between two clusterings.\n",
    "\n",
    "Concretely we choose a date : 60 weeks after the minimal date of purchase in the database. This choice allows to have sufficient rows in the dataframe. We train the model with this data to obtain an initial model. Then we do the same, adding the rows of purchases made up to one week after the initial date and we train a new model. We compare the initial model(and its prediction on new observations) and the new model by calculating the ARI. We iterate this process comparing the initial model with a whole new model for the data two weeks later, etc.\n",
    "\n",
    "The sequence of ARI obtained is then a decreasing sequence.\n",
    "\n",
    "The period of maintenance is then defined by the maximum number of weeks for which the ARI stayed over **0.8** which is a good indicator."
   ]
  },
  {
   "cell_type": "code",
   "execution_count": 14,
   "metadata": {},
   "outputs": [],
   "source": [
    "def ARI_score(start, df, date_label,columns,weeks=0, days=0, **kwargs):\n",
    "    \"\"\"\n",
    "    Returns a dictionary with two items: \n",
    "    \n",
    "    key : 'score'\n",
    "    is the ARI comparing labels_true, labels_predict, where labels_true\n",
    "    is KMeans clustering at the date start+weeks+days and labels_predict \n",
    "    is the prediction of a model made in the start date.\n",
    "\n",
    "    key : ' new_clients'\n",
    "    is the number of clients\n",
    "\n",
    "    Parameters:\n",
    "        - start: pd.Timestamp\n",
    "        - weeks, days: int\n",
    "            number of weeks and days after start date\n",
    "            to calculate ARI.\n",
    "        - data: pd.DataFrame\n",
    "        - date_label: str\n",
    "            The label of the date column\n",
    "        - columns: list of str\n",
    "            The labels of the columns to fit the models\n",
    "    \"\"\"\n",
    "    # Start dataframe\n",
    "    df0 = df.loc[df[date_label] < start]\n",
    "    df0 = df0[columns]\n",
    "    # Scale\n",
    "    sc0 = StandardScaler().fit(df0)\n",
    "    df0 = sc0.transform(df0)\n",
    "    # Model and fit\n",
    "    cls0 = KMeans(n_clusters=6)\n",
    "    cls0.fit(df0)\n",
    "\n",
    "    if 'new' in kwargs:\n",
    "        new_date = kwargs['new']\n",
    "    else:\n",
    "        new_date = start + pd.Timedelta(weeks = weeks, days = days)\n",
    "    \n",
    "    # Second dataframe\n",
    "    df1 = df.loc[df[date_label] < new_date]\n",
    "    df1 = df1[columns]\n",
    "    # Scale\n",
    "    sc1 = StandardScaler().fit(df1)\n",
    "    df1_scaled1 = sc1.transform(df1)\n",
    "    # Model and fit\n",
    "    cls1 = KMeans(n_clusters=6)\n",
    "    cls1.fit(df1_scaled1)\n",
    "\n",
    "    # Labels to compare\n",
    "    new_labels = cls1.labels_\n",
    "    df1_scaled0 = sc0.transform(df1)\n",
    "    labels_old_model = cls0.predict(df1_scaled0)\n",
    "\n",
    "    # Calculating score\n",
    "    score = adjusted_rand_score(labels_old_model, new_labels)\n",
    "\n",
    "    # Calculating number of new clients\n",
    "    new_clients = df1.shape[0] - df0.shape[0]\n",
    "\n",
    "    result = {'score' : score, 'new_clients' : new_clients}\n",
    "\n",
    "    return result "
   ]
  },
  {
   "attachments": {},
   "cell_type": "markdown",
   "metadata": {},
   "source": [
    "## Calculating ARI every week\n",
    "\n",
    "The following loop calculates ARI as explained above. "
   ]
  },
  {
   "cell_type": "code",
   "execution_count": 18,
   "metadata": {},
   "outputs": [],
   "source": [
    "# Storing ARI and other info\n",
    "ARI_metrics = {\n",
    "    'start' : [],\n",
    "    'end' : [],\n",
    "    'weeks_after_start' : [],\n",
    "    'ARI' : [],\n",
    "    'new_clients' : []\n",
    "}\n",
    "\n",
    "# Defining start date and last day of database\n",
    "today = df.date.max() #  Timestamp('2018-08-29 15:00:37')\n",
    "start = df.date.min() + pd.Timedelta(weeks=60) #  Timestamp('2017-11-26 22:07:52')\n",
    "\n",
    "# Initial conditions for while loop\n",
    "i = 1\n",
    "new_date = start + pd.Timedelta(weeks = i)\n",
    "keep_going = True\n",
    "\n",
    "while keep_going == True:\n",
    "\n",
    "    if new_date > today:\n",
    "        new_date = today\n",
    "\n",
    "    ARI_metrics['start'].append(start)\n",
    "    ARI_metrics['end'].append(new_date)\n",
    "    ARI_metrics['weeks_after_start'].append(i)\n",
    "\n",
    "    ARI_result = ARI_score(\n",
    "        start, \n",
    "        df, \n",
    "        date_label='date', \n",
    "        columns=[\n",
    "            'frequency', \n",
    "            'review_score_avg',\n",
    "            'recency_days',\n",
    "            'payment_value_avg',\n",
    "            'item_quant_avg',\n",
    "            'price_item_avg'\n",
    "            ], \n",
    "        new = new_date\n",
    "        )\n",
    "    ARI_metrics['ARI'].append(ARI_result['score'])\n",
    "    ARI_metrics['new_clients'].append(ARI_result['new_clients'])\n",
    "\n",
    "    if new_date == today:\n",
    "        keep_going = False\n",
    "    \n",
    "    i += 1\n",
    "\n",
    "    new_date = start + pd.Timedelta(weeks = i)\n",
    "    \n",
    "    if start == today:\n",
    "        keep_going = False"
   ]
  },
  {
   "cell_type": "code",
   "execution_count": 19,
   "metadata": {},
   "outputs": [
    {
     "data": {
      "text/html": [
       "<div>\n",
       "<style scoped>\n",
       "    .dataframe tbody tr th:only-of-type {\n",
       "        vertical-align: middle;\n",
       "    }\n",
       "\n",
       "    .dataframe tbody tr th {\n",
       "        vertical-align: top;\n",
       "    }\n",
       "\n",
       "    .dataframe thead th {\n",
       "        text-align: right;\n",
       "    }\n",
       "</style>\n",
       "<table border=\"1\" class=\"dataframe\">\n",
       "  <thead>\n",
       "    <tr style=\"text-align: right;\">\n",
       "      <th></th>\n",
       "      <th>start</th>\n",
       "      <th>end</th>\n",
       "      <th>weeks_after_start</th>\n",
       "      <th>ARI</th>\n",
       "      <th>new_clients</th>\n",
       "    </tr>\n",
       "  </thead>\n",
       "  <tbody>\n",
       "    <tr>\n",
       "      <th>0</th>\n",
       "      <td>2017-11-26 22:07:52</td>\n",
       "      <td>2017-12-03 22:07:52</td>\n",
       "      <td>1</td>\n",
       "      <td>0.939047</td>\n",
       "      <td>2039</td>\n",
       "    </tr>\n",
       "    <tr>\n",
       "      <th>1</th>\n",
       "      <td>2017-11-26 22:07:52</td>\n",
       "      <td>2017-12-10 22:07:52</td>\n",
       "      <td>2</td>\n",
       "      <td>0.897342</td>\n",
       "      <td>3651</td>\n",
       "    </tr>\n",
       "    <tr>\n",
       "      <th>2</th>\n",
       "      <td>2017-11-26 22:07:52</td>\n",
       "      <td>2017-12-17 22:07:52</td>\n",
       "      <td>3</td>\n",
       "      <td>0.863668</td>\n",
       "      <td>5009</td>\n",
       "    </tr>\n",
       "    <tr>\n",
       "      <th>3</th>\n",
       "      <td>2017-11-26 22:07:52</td>\n",
       "      <td>2017-12-24 22:07:52</td>\n",
       "      <td>4</td>\n",
       "      <td>0.843964</td>\n",
       "      <td>5976</td>\n",
       "    </tr>\n",
       "    <tr>\n",
       "      <th>4</th>\n",
       "      <td>2017-11-26 22:07:52</td>\n",
       "      <td>2017-12-31 22:07:52</td>\n",
       "      <td>5</td>\n",
       "      <td>0.823590</td>\n",
       "      <td>6831</td>\n",
       "    </tr>\n",
       "  </tbody>\n",
       "</table>\n",
       "</div>"
      ],
      "text/plain": [
       "                start                 end  weeks_after_start       ARI  \\\n",
       "0 2017-11-26 22:07:52 2017-12-03 22:07:52                  1  0.939047   \n",
       "1 2017-11-26 22:07:52 2017-12-10 22:07:52                  2  0.897342   \n",
       "2 2017-11-26 22:07:52 2017-12-17 22:07:52                  3  0.863668   \n",
       "3 2017-11-26 22:07:52 2017-12-24 22:07:52                  4  0.843964   \n",
       "4 2017-11-26 22:07:52 2017-12-31 22:07:52                  5  0.823590   \n",
       "\n",
       "   new_clients  \n",
       "0         2039  \n",
       "1         3651  \n",
       "2         5009  \n",
       "3         5976  \n",
       "4         6831  "
      ]
     },
     "execution_count": 19,
     "metadata": {},
     "output_type": "execute_result"
    }
   ],
   "source": [
    "# Turning results into a dataframe\n",
    "ARI_metrics_df = pd.DataFrame(ARI_metrics)\n",
    "ARI_metrics_df.head(5)"
   ]
  },
  {
   "cell_type": "code",
   "execution_count": 20,
   "metadata": {},
   "outputs": [
    {
     "data": {
      "image/png": "[encoded data removed]",
      "text/plain": [
       "<Figure size 720x360 with 1 Axes>"
      ]
     },
     "metadata": {},
     "output_type": "display_data"
    }
   ],
   "source": [
    "fig = plt.figure(figsize=(10,5))\n",
    "sns.set_style('whitegrid')\n",
    "plt.plot(\n",
    "    ARI_metrics_df['weeks_after_start'],\n",
    "    ARI_metrics_df['ARI'], \n",
    "    marker='o', \n",
    "    color='blueviolet'\n",
    "    )\n",
    "plt.axhline(\n",
    "    y=0.8, \n",
    "    color='teal',\n",
    "    linestyle='--')\n",
    "plt.title('ARI\\nstart date (2017-11-26) and weeks laters', fontsize=15)\n",
    "plt.xlabel('# of weeks after start date')\n",
    "plt.ylabel('ARI')\n",
    "plt.show()"
   ]
  },
  {
   "attachments": {},
   "cell_type": "markdown",
   "metadata": {},
   "source": [
    "# Maintenance time\n",
    "\n",
    "Following these results, the suggested maintenance time for updating the model is: **5 weeks**."
   ]
  }
 ],
 "metadata": {
  "kernelspec": {
   "display_name": "Python 3",
   "language": "python",
   "name": "python3"
  },
  "language_info": {
   "codemirror_mode": {
    "name": "ipython",
    "version": 3
   },
   "file_extension": ".py",
   "mimetype": "text/x-python",
   "name": "python",
   "nbconvert_exporter": "python",
   "pygments_lexer": "ipython3",
   "version": "3.10.6 (main, Nov 14 2022, 16:10:14) [GCC 11.3.0]"
  },
  "vscode": {
   "interpreter": {
    "hash": "767d51c1340bd893661ea55ea3124f6de3c7a262a8b4abca0554b478b1e2ff90"
   }
  }
 },
 "nbformat": 4,
 "nbformat_minor": 2
}
