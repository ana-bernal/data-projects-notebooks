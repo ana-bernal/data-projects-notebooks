{
 "cells": [
  {
   "cell_type": "markdown",
   "metadata": {},
   "source": [
    "\n",
    "# 💡 Prédiction consommation d'énergie \n",
    "\n",
    "|   |   |\n",
    "|---|---|\n",
    "| Projet  | Anticipez les besoins en consommation de bâtiments.                       |\n",
    "| Date   | Novembre 2022                                                 |\n",
    "| Auteur  | Ana Bernal                                                    |\n",
    "|Source| [2016 Seattle Energy Benchmarking](https://data.seattle.gov/dataset/2016-Building-Energy-Benchmarking/2bpz-gwpy)\n",
    "| Notebook numéro  | 2 sur 3                                                    |\n",
    "\n",
    "## Contenu\n",
    "\n",
    "* [Préliminaires](#pre) : Imports, graphiques et options, définitions des fonctions utiles, Lecture données.\n",
    "* [Préparation des données](#prep) : Choix features, renommer le target, traslation d'une variable, matrice de features X et target y, codage des variables qualitatives, séparation: train test, standardisation des variables.\n",
    "* [Modélisation](#mod)\n",
    "    - [**Dummy** regressor](#dum)\n",
    "    - [Regression **linéaire** simple](#lin)\n",
    "        + [Regression linéaire simple, cible transformé](#linlog)\n",
    "    - [Regression **ridge** : validation croisée](#rid)\n",
    "        + [Validation croisée](#ridcv)\n",
    "        + [Entraînement ridge meilleurs paramètres](#ridbest)\n",
    "        + [Regression ridge avec transformation de cible: log](#ridlog)\n",
    "    - [Regression **LASSO**](#lass)\n",
    "        + [Validation croisée](#lasscv)\n",
    "        + [Entraînement lasso meilleurs paramètres](#lassbest)\n",
    "        + [Regression ridge avec transformation de cible: log](#lasslog)\n",
    "    - [**S**upport **V**ector **R**egression](#SVR)\n",
    "    - [**Fôrets aléatoires**](#for)\n",
    "        + [Recherche hyper-paramètres: validation croisée](#forcv)\n",
    "        + [Entraînement fôrets meilleurs paramètres](#forbest)\n",
    "        + [Feature importance](#fimp)\n",
    "        + [RandomForest avec transformation target: log](#forlog)\n",
    "    - [**XGBoost**](#xgb)\n",
    "    - [XGBoost régularisé](#xgbr)\n",
    "        + [Entraînement meilleurs paramètres](#xgbrbest)\n",
    "    - [**Gradient Boosting**](#gbo)\n",
    "* [Comparatif **Résultats**](#res)\n",
    "    - [Comparatif score R2](#r2)\n",
    "    - [Comparatif RMSE](#rmse) \n",
    "* [Ajout de variable **EnergyScore**](#ene)\n",
    "    - [Comparatif résultats (r2 score et RMSE)](#erre)\n",
    "* [**Conclusions**, commentaires et **choix de modèle**](#concl)\n",
    "\n",
    "\n",
    "# Préliminaires<a class=\"anchor\" id=\"pre\"></a>\n",
    "\n",
    "Les données utilisés ici ont déjà été nettoyées. Voir notebook d'exploration.\n",
    "\n",
    "## Imports"
   ]
  },
  {
   "cell_type": "code",
   "execution_count": 1,
   "metadata": {},
   "outputs": [],
   "source": [
    "# built-in\n",
    "import os, warnings, time\n",
    "\n",
    "import pandas as pd\n",
    "import numpy as np\n",
    "\n",
    "# preprocessing\n",
    "from sklearn.preprocessing import StandardScaler\n",
    "# metrics\n",
    "from sklearn.metrics import mean_squared_error, r2_score\n",
    "# estimators\n",
    "from sklearn.dummy import DummyRegressor\n",
    "from sklearn.linear_model import RidgeCV\n",
    "from sklearn.linear_model import Ridge\n",
    "from sklearn.linear_model import LassoCV\n",
    "from sklearn.linear_model import Lasso\n",
    "from sklearn.linear_model import LinearRegression\n",
    "from sklearn.ensemble import RandomForestRegressor\n",
    "from sklearn.ensemble import GradientBoostingRegressor\n",
    "from sklearn.svm import SVR\n",
    "from xgboost import XGBRegressor\n",
    "# model selection\n",
    "from sklearn.model_selection import train_test_split\n",
    "from sklearn.model_selection import GridSearchCV\n",
    "# compose\n",
    "from sklearn.compose import TransformedTargetRegressor\n",
    "# feature importance\n",
    "import shap\n",
    "\n",
    "# visualisation\n",
    "import matplotlib.pyplot as plt\n",
    "import matplotlib.lines as mlines\n",
    "import seaborn as sns"
   ]
  },
  {
   "cell_type": "markdown",
   "metadata": {},
   "source": [
    "## Graphiques et options"
   ]
  },
  {
   "cell_type": "code",
   "execution_count": 2,
   "metadata": {},
   "outputs": [],
   "source": [
    "sns.set()\n",
    "\n",
    "# warnings.filterwarnings('ignore')\n",
    "warnings.filterwarnings(action='once')"
   ]
  },
  {
   "cell_type": "markdown",
   "metadata": {},
   "source": [
    "## Définitions des fonctions utiles"
   ]
  },
  {
   "cell_type": "code",
   "execution_count": 3,
   "metadata": {},
   "outputs": [],
   "source": [
    "def score(estimator,X_train,X_test,y_train,y_test):\n",
    "    \"\"\"\n",
    "    Computes and print train score and test score.\n",
    "    \n",
    "    Parameters:\n",
    "        \n",
    "        estimator\n",
    "        \n",
    "    Returns:\n",
    "    \n",
    "        [tr_score, te_score] : list\n",
    "            list of scores\n",
    "    \"\"\"\n",
    "    \n",
    "    tr_score = estimator.score(X_train, y_train).round(4)\n",
    "    te_score = estimator.score(X_test, y_test).round(4)\n",
    "    \n",
    "    print(f'score train : {tr_score}, score test : {te_score}')\n",
    "    \n",
    "    return [tr_score,te_score]\n",
    "\n",
    "\n",
    "def rmse(y_test,y_pred):\n",
    "    \"\"\"\n",
    "    Prints and returns the rooted mean squared error\n",
    "    for the test set and the prediction.\n",
    "    \"\"\"\n",
    "    RMSE = mean_squared_error(y_test, y_pred, squared=False).round(2)\n",
    "\n",
    "    print(f'The RMSE is: {RMSE}')\n",
    "    \n",
    "    return RMSE\n",
    "\n",
    "def append_dic(model_name,estimator,dic,X_train,X_test,y_train,y_test):\n",
    "    \"\"\"\n",
    "    Appends scores to the dictionnary errors_df\n",
    "    which keeps tracks of all scores for\n",
    "    every model.\n",
    "    \"\"\"\n",
    "        \n",
    "    global fit_time, predict_time, y_pred, score\n",
    "    \n",
    "    RMSE = rmse(y_test,y_pred)\n",
    "    score_ = score(estimator,X_train,X_test,y_train,y_test)\n",
    "    \n",
    "\n",
    "    dic['Name'].append(model_name)\n",
    "    dic['Train_R2_score'].append(score_[0])\n",
    "    dic['Test_R2_score'].append(score_[1])\n",
    "    dic['RMSE'].append(RMSE)\n",
    "    dic['Fit_time'].append(fit_time)\n",
    "    dic['Predict_time'].append(predict_time)\n",
    "    \n",
    "def resultize(grid):\n",
    "    \"\"\"\n",
    "    Fancy dataframe from grid.cv_results\n",
    "    \"\"\"\n",
    "    \n",
    "    res = grid.cv_results_\n",
    "    res = pd.DataFrame(res)\n",
    "    cols = [col for col in res.columns if 'split' not in col]\n",
    "    res = res[cols]\n",
    "    res = res.sort_values('rank_test_score')\n",
    "    \n",
    "    return res"
   ]
  },
  {
   "cell_type": "markdown",
   "metadata": {},
   "source": [
    "## Lecture données"
   ]
  },
  {
   "cell_type": "code",
   "execution_count": 4,
   "metadata": {},
   "outputs": [],
   "source": [
    "path     = './data/cleaned/'\n",
    "filename = 'building_data_clean.csv'"
   ]
  },
  {
   "cell_type": "code",
   "execution_count": 5,
   "metadata": {
    "scrolled": true
   },
   "outputs": [
    {
     "data": {
      "text/html": [
       "<div>\n",
       "<style scoped>\n",
       "    .dataframe tbody tr th:only-of-type {\n",
       "        vertical-align: middle;\n",
       "    }\n",
       "\n",
       "    .dataframe tbody tr th {\n",
       "        vertical-align: top;\n",
       "    }\n",
       "\n",
       "    .dataframe thead th {\n",
       "        text-align: right;\n",
       "    }\n",
       "</style>\n",
       "<table border=\"1\" class=\"dataframe\">\n",
       "  <thead>\n",
       "    <tr style=\"text-align: right;\">\n",
       "      <th></th>\n",
       "      <th>Latitude</th>\n",
       "      <th>Longitude</th>\n",
       "      <th>YearBuilt</th>\n",
       "      <th>NumberofBuildings</th>\n",
       "      <th>NumberofFloors</th>\n",
       "      <th>PropertyGFAParking</th>\n",
       "      <th>LargestPropertyUseTypeGFA</th>\n",
       "      <th>SecondLargestPropertyUseTypeGFA</th>\n",
       "      <th>ENERGYSTARScore</th>\n",
       "      <th>SiteEnergyUse(kBtu)</th>\n",
       "      <th>TotalGHGEmissions</th>\n",
       "      <th>BuildType</th>\n",
       "      <th>BuildSecType</th>\n",
       "    </tr>\n",
       "  </thead>\n",
       "  <tbody>\n",
       "    <tr>\n",
       "      <th>0</th>\n",
       "      <td>47.61220</td>\n",
       "      <td>-122.33799</td>\n",
       "      <td>1927</td>\n",
       "      <td>1.0</td>\n",
       "      <td>12</td>\n",
       "      <td>0</td>\n",
       "      <td>88434.0</td>\n",
       "      <td>0.0</td>\n",
       "      <td>60.0</td>\n",
       "      <td>7226362.5</td>\n",
       "      <td>249.98</td>\n",
       "      <td>Hotel</td>\n",
       "      <td>NoSecondType</td>\n",
       "    </tr>\n",
       "    <tr>\n",
       "      <th>1</th>\n",
       "      <td>47.61317</td>\n",
       "      <td>-122.33393</td>\n",
       "      <td>1996</td>\n",
       "      <td>1.0</td>\n",
       "      <td>11</td>\n",
       "      <td>15064</td>\n",
       "      <td>83880.0</td>\n",
       "      <td>15064.0</td>\n",
       "      <td>61.0</td>\n",
       "      <td>8387933.0</td>\n",
       "      <td>295.86</td>\n",
       "      <td>Hotel</td>\n",
       "      <td>Parking</td>\n",
       "    </tr>\n",
       "    <tr>\n",
       "      <th>2</th>\n",
       "      <td>47.61393</td>\n",
       "      <td>-122.33810</td>\n",
       "      <td>1969</td>\n",
       "      <td>1.0</td>\n",
       "      <td>41</td>\n",
       "      <td>196718</td>\n",
       "      <td>756493.0</td>\n",
       "      <td>0.0</td>\n",
       "      <td>43.0</td>\n",
       "      <td>72587024.0</td>\n",
       "      <td>2089.28</td>\n",
       "      <td>Hotel</td>\n",
       "      <td>NoSecondType</td>\n",
       "    </tr>\n",
       "    <tr>\n",
       "      <th>3</th>\n",
       "      <td>47.61412</td>\n",
       "      <td>-122.33664</td>\n",
       "      <td>1926</td>\n",
       "      <td>1.0</td>\n",
       "      <td>10</td>\n",
       "      <td>0</td>\n",
       "      <td>61320.0</td>\n",
       "      <td>0.0</td>\n",
       "      <td>56.0</td>\n",
       "      <td>6794584.0</td>\n",
       "      <td>286.43</td>\n",
       "      <td>Hotel</td>\n",
       "      <td>NoSecondType</td>\n",
       "    </tr>\n",
       "    <tr>\n",
       "      <th>4</th>\n",
       "      <td>47.61375</td>\n",
       "      <td>-122.34047</td>\n",
       "      <td>1980</td>\n",
       "      <td>1.0</td>\n",
       "      <td>18</td>\n",
       "      <td>62000</td>\n",
       "      <td>123445.0</td>\n",
       "      <td>68009.0</td>\n",
       "      <td>75.0</td>\n",
       "      <td>14172606.0</td>\n",
       "      <td>505.01</td>\n",
       "      <td>Hotel</td>\n",
       "      <td>Parking</td>\n",
       "    </tr>\n",
       "  </tbody>\n",
       "</table>\n",
       "</div>"
      ],
      "text/plain": [
       "   Latitude  Longitude  YearBuilt  NumberofBuildings  NumberofFloors  \\\n",
       "0  47.61220 -122.33799       1927                1.0              12   \n",
       "1  47.61317 -122.33393       1996                1.0              11   \n",
       "2  47.61393 -122.33810       1969                1.0              41   \n",
       "3  47.61412 -122.33664       1926                1.0              10   \n",
       "4  47.61375 -122.34047       1980                1.0              18   \n",
       "\n",
       "   PropertyGFAParking  LargestPropertyUseTypeGFA  \\\n",
       "0                   0                    88434.0   \n",
       "1               15064                    83880.0   \n",
       "2              196718                   756493.0   \n",
       "3                   0                    61320.0   \n",
       "4               62000                   123445.0   \n",
       "\n",
       "   SecondLargestPropertyUseTypeGFA  ENERGYSTARScore  SiteEnergyUse(kBtu)  \\\n",
       "0                              0.0             60.0            7226362.5   \n",
       "1                          15064.0             61.0            8387933.0   \n",
       "2                              0.0             43.0           72587024.0   \n",
       "3                              0.0             56.0            6794584.0   \n",
       "4                          68009.0             75.0           14172606.0   \n",
       "\n",
       "   TotalGHGEmissions BuildType  BuildSecType  \n",
       "0             249.98     Hotel  NoSecondType  \n",
       "1             295.86     Hotel       Parking  \n",
       "2            2089.28     Hotel  NoSecondType  \n",
       "3             286.43     Hotel  NoSecondType  \n",
       "4             505.01     Hotel       Parking  "
      ]
     },
     "execution_count": 5,
     "metadata": {},
     "output_type": "execute_result"
    }
   ],
   "source": [
    "df = pd.read_csv(path + filename)\n",
    "df.head()"
   ]
  },
  {
   "cell_type": "markdown",
   "metadata": {},
   "source": [
    "# Préparation des données<a class=\"anchor\" id=\"prep\"></a>\n",
    "\n",
    "##  Choix features\n",
    "\n",
    "Choix de données structurels pour prédiction de consommation totale d'énergie:\n",
    "\n",
    "| Feature                         | Inclus  | à prédire |\n",
    "|---------------------------------|---------|-----------|\n",
    "| Latitude                        |  x |  |\n",
    "| Longitude                       |  x |  |\n",
    "| YearBuilt                       |  x |  |\n",
    "| NumberofFloors                  |  x |  |\n",
    "| PropertyGFAParking              |  x |  |\n",
    "| BuildType          |  x |  |\n",
    "| BuildSecType          |  x |  |\n",
    "| LargestPropertyUseTypeGFA       |  x |  |\n",
    "| ENERGYSTARScore                 |    |  |\n",
    "| SiteEnergyUse(kBtu)             |    | x |\n",
    "| TotalGHGEmissions               |    |  |\n"
   ]
  },
  {
   "cell_type": "markdown",
   "metadata": {},
   "source": [
    "### Renommer le target"
   ]
  },
  {
   "cell_type": "code",
   "execution_count": 6,
   "metadata": {},
   "outputs": [
    {
     "data": {
      "text/html": [
       "<div>\n",
       "<style scoped>\n",
       "    .dataframe tbody tr th:only-of-type {\n",
       "        vertical-align: middle;\n",
       "    }\n",
       "\n",
       "    .dataframe tbody tr th {\n",
       "        vertical-align: top;\n",
       "    }\n",
       "\n",
       "    .dataframe thead th {\n",
       "        text-align: right;\n",
       "    }\n",
       "</style>\n",
       "<table border=\"1\" class=\"dataframe\">\n",
       "  <thead>\n",
       "    <tr style=\"text-align: right;\">\n",
       "      <th></th>\n",
       "      <th>Latitude</th>\n",
       "      <th>Longitude</th>\n",
       "      <th>YearBuilt</th>\n",
       "      <th>NumberofBuildings</th>\n",
       "      <th>NumberofFloors</th>\n",
       "      <th>PropertyGFAParking</th>\n",
       "      <th>LargestPropertyUseTypeGFA</th>\n",
       "      <th>SecondLargestPropertyUseTypeGFA</th>\n",
       "      <th>ENERGYSTARScore</th>\n",
       "      <th>target</th>\n",
       "      <th>TotalGHGEmissions</th>\n",
       "      <th>BuildType</th>\n",
       "      <th>BuildSecType</th>\n",
       "    </tr>\n",
       "  </thead>\n",
       "  <tbody>\n",
       "    <tr>\n",
       "      <th>0</th>\n",
       "      <td>47.61220</td>\n",
       "      <td>-122.33799</td>\n",
       "      <td>1927</td>\n",
       "      <td>1.0</td>\n",
       "      <td>12</td>\n",
       "      <td>0</td>\n",
       "      <td>88434.0</td>\n",
       "      <td>0.0</td>\n",
       "      <td>60.0</td>\n",
       "      <td>7226362.5</td>\n",
       "      <td>249.98</td>\n",
       "      <td>Hotel</td>\n",
       "      <td>NoSecondType</td>\n",
       "    </tr>\n",
       "    <tr>\n",
       "      <th>1</th>\n",
       "      <td>47.61317</td>\n",
       "      <td>-122.33393</td>\n",
       "      <td>1996</td>\n",
       "      <td>1.0</td>\n",
       "      <td>11</td>\n",
       "      <td>15064</td>\n",
       "      <td>83880.0</td>\n",
       "      <td>15064.0</td>\n",
       "      <td>61.0</td>\n",
       "      <td>8387933.0</td>\n",
       "      <td>295.86</td>\n",
       "      <td>Hotel</td>\n",
       "      <td>Parking</td>\n",
       "    </tr>\n",
       "    <tr>\n",
       "      <th>2</th>\n",
       "      <td>47.61393</td>\n",
       "      <td>-122.33810</td>\n",
       "      <td>1969</td>\n",
       "      <td>1.0</td>\n",
       "      <td>41</td>\n",
       "      <td>196718</td>\n",
       "      <td>756493.0</td>\n",
       "      <td>0.0</td>\n",
       "      <td>43.0</td>\n",
       "      <td>72587024.0</td>\n",
       "      <td>2089.28</td>\n",
       "      <td>Hotel</td>\n",
       "      <td>NoSecondType</td>\n",
       "    </tr>\n",
       "    <tr>\n",
       "      <th>3</th>\n",
       "      <td>47.61412</td>\n",
       "      <td>-122.33664</td>\n",
       "      <td>1926</td>\n",
       "      <td>1.0</td>\n",
       "      <td>10</td>\n",
       "      <td>0</td>\n",
       "      <td>61320.0</td>\n",
       "      <td>0.0</td>\n",
       "      <td>56.0</td>\n",
       "      <td>6794584.0</td>\n",
       "      <td>286.43</td>\n",
       "      <td>Hotel</td>\n",
       "      <td>NoSecondType</td>\n",
       "    </tr>\n",
       "    <tr>\n",
       "      <th>4</th>\n",
       "      <td>47.61375</td>\n",
       "      <td>-122.34047</td>\n",
       "      <td>1980</td>\n",
       "      <td>1.0</td>\n",
       "      <td>18</td>\n",
       "      <td>62000</td>\n",
       "      <td>123445.0</td>\n",
       "      <td>68009.0</td>\n",
       "      <td>75.0</td>\n",
       "      <td>14172606.0</td>\n",
       "      <td>505.01</td>\n",
       "      <td>Hotel</td>\n",
       "      <td>Parking</td>\n",
       "    </tr>\n",
       "  </tbody>\n",
       "</table>\n",
       "</div>"
      ],
      "text/plain": [
       "   Latitude  Longitude  YearBuilt  NumberofBuildings  NumberofFloors  \\\n",
       "0  47.61220 -122.33799       1927                1.0              12   \n",
       "1  47.61317 -122.33393       1996                1.0              11   \n",
       "2  47.61393 -122.33810       1969                1.0              41   \n",
       "3  47.61412 -122.33664       1926                1.0              10   \n",
       "4  47.61375 -122.34047       1980                1.0              18   \n",
       "\n",
       "   PropertyGFAParking  LargestPropertyUseTypeGFA  \\\n",
       "0                   0                    88434.0   \n",
       "1               15064                    83880.0   \n",
       "2              196718                   756493.0   \n",
       "3                   0                    61320.0   \n",
       "4               62000                   123445.0   \n",
       "\n",
       "   SecondLargestPropertyUseTypeGFA  ENERGYSTARScore      target  \\\n",
       "0                              0.0             60.0   7226362.5   \n",
       "1                          15064.0             61.0   8387933.0   \n",
       "2                              0.0             43.0  72587024.0   \n",
       "3                              0.0             56.0   6794584.0   \n",
       "4                          68009.0             75.0  14172606.0   \n",
       "\n",
       "   TotalGHGEmissions BuildType  BuildSecType  \n",
       "0             249.98     Hotel  NoSecondType  \n",
       "1             295.86     Hotel       Parking  \n",
       "2            2089.28     Hotel  NoSecondType  \n",
       "3             286.43     Hotel  NoSecondType  \n",
       "4             505.01     Hotel       Parking  "
      ]
     },
     "execution_count": 6,
     "metadata": {},
     "output_type": "execute_result"
    }
   ],
   "source": [
    "df = df.rename(columns={'SiteEnergyUse(kBtu)' : 'target'})\n",
    "df.head()"
   ]
  },
  {
   "cell_type": "markdown",
   "metadata": {},
   "source": [
    "### Traslation d'une variable"
   ]
  },
  {
   "cell_type": "markdown",
   "metadata": {},
   "source": [
    "Nous remplaçons la variable de l'année de construction (`'YearBuilt'`) par la variable `'YearAge'`, l'âge du bâtiment en 2015 qui est définie comme :\n",
    "\n",
    "`'YearAge' = data['YearBuilt'].max() - 'YearBuilt'`\n"
   ]
  },
  {
   "cell_type": "code",
   "execution_count": 7,
   "metadata": {},
   "outputs": [
    {
     "data": {
      "text/html": [
       "<div>\n",
       "<style scoped>\n",
       "    .dataframe tbody tr th:only-of-type {\n",
       "        vertical-align: middle;\n",
       "    }\n",
       "\n",
       "    .dataframe tbody tr th {\n",
       "        vertical-align: top;\n",
       "    }\n",
       "\n",
       "    .dataframe thead th {\n",
       "        text-align: right;\n",
       "    }\n",
       "</style>\n",
       "<table border=\"1\" class=\"dataframe\">\n",
       "  <thead>\n",
       "    <tr style=\"text-align: right;\">\n",
       "      <th></th>\n",
       "      <th>Latitude</th>\n",
       "      <th>Longitude</th>\n",
       "      <th>NumberofBuildings</th>\n",
       "      <th>NumberofFloors</th>\n",
       "      <th>PropertyGFAParking</th>\n",
       "      <th>LargestPropertyUseTypeGFA</th>\n",
       "      <th>SecondLargestPropertyUseTypeGFA</th>\n",
       "      <th>ENERGYSTARScore</th>\n",
       "      <th>target</th>\n",
       "      <th>TotalGHGEmissions</th>\n",
       "      <th>BuildType</th>\n",
       "      <th>BuildSecType</th>\n",
       "      <th>YearAge</th>\n",
       "    </tr>\n",
       "  </thead>\n",
       "  <tbody>\n",
       "    <tr>\n",
       "      <th>0</th>\n",
       "      <td>47.61220</td>\n",
       "      <td>-122.33799</td>\n",
       "      <td>1.0</td>\n",
       "      <td>12</td>\n",
       "      <td>0</td>\n",
       "      <td>88434.0</td>\n",
       "      <td>0.0</td>\n",
       "      <td>60.0</td>\n",
       "      <td>7226362.5</td>\n",
       "      <td>249.98</td>\n",
       "      <td>Hotel</td>\n",
       "      <td>NoSecondType</td>\n",
       "      <td>88</td>\n",
       "    </tr>\n",
       "    <tr>\n",
       "      <th>1</th>\n",
       "      <td>47.61317</td>\n",
       "      <td>-122.33393</td>\n",
       "      <td>1.0</td>\n",
       "      <td>11</td>\n",
       "      <td>15064</td>\n",
       "      <td>83880.0</td>\n",
       "      <td>15064.0</td>\n",
       "      <td>61.0</td>\n",
       "      <td>8387933.0</td>\n",
       "      <td>295.86</td>\n",
       "      <td>Hotel</td>\n",
       "      <td>Parking</td>\n",
       "      <td>19</td>\n",
       "    </tr>\n",
       "    <tr>\n",
       "      <th>2</th>\n",
       "      <td>47.61393</td>\n",
       "      <td>-122.33810</td>\n",
       "      <td>1.0</td>\n",
       "      <td>41</td>\n",
       "      <td>196718</td>\n",
       "      <td>756493.0</td>\n",
       "      <td>0.0</td>\n",
       "      <td>43.0</td>\n",
       "      <td>72587024.0</td>\n",
       "      <td>2089.28</td>\n",
       "      <td>Hotel</td>\n",
       "      <td>NoSecondType</td>\n",
       "      <td>46</td>\n",
       "    </tr>\n",
       "    <tr>\n",
       "      <th>3</th>\n",
       "      <td>47.61412</td>\n",
       "      <td>-122.33664</td>\n",
       "      <td>1.0</td>\n",
       "      <td>10</td>\n",
       "      <td>0</td>\n",
       "      <td>61320.0</td>\n",
       "      <td>0.0</td>\n",
       "      <td>56.0</td>\n",
       "      <td>6794584.0</td>\n",
       "      <td>286.43</td>\n",
       "      <td>Hotel</td>\n",
       "      <td>NoSecondType</td>\n",
       "      <td>89</td>\n",
       "    </tr>\n",
       "    <tr>\n",
       "      <th>4</th>\n",
       "      <td>47.61375</td>\n",
       "      <td>-122.34047</td>\n",
       "      <td>1.0</td>\n",
       "      <td>18</td>\n",
       "      <td>62000</td>\n",
       "      <td>123445.0</td>\n",
       "      <td>68009.0</td>\n",
       "      <td>75.0</td>\n",
       "      <td>14172606.0</td>\n",
       "      <td>505.01</td>\n",
       "      <td>Hotel</td>\n",
       "      <td>Parking</td>\n",
       "      <td>35</td>\n",
       "    </tr>\n",
       "  </tbody>\n",
       "</table>\n",
       "</div>"
      ],
      "text/plain": [
       "   Latitude  Longitude  NumberofBuildings  NumberofFloors  PropertyGFAParking  \\\n",
       "0  47.61220 -122.33799                1.0              12                   0   \n",
       "1  47.61317 -122.33393                1.0              11               15064   \n",
       "2  47.61393 -122.33810                1.0              41              196718   \n",
       "3  47.61412 -122.33664                1.0              10                   0   \n",
       "4  47.61375 -122.34047                1.0              18               62000   \n",
       "\n",
       "   LargestPropertyUseTypeGFA  SecondLargestPropertyUseTypeGFA  \\\n",
       "0                    88434.0                              0.0   \n",
       "1                    83880.0                          15064.0   \n",
       "2                   756493.0                              0.0   \n",
       "3                    61320.0                              0.0   \n",
       "4                   123445.0                          68009.0   \n",
       "\n",
       "   ENERGYSTARScore      target  TotalGHGEmissions BuildType  BuildSecType  \\\n",
       "0             60.0   7226362.5             249.98     Hotel  NoSecondType   \n",
       "1             61.0   8387933.0             295.86     Hotel       Parking   \n",
       "2             43.0  72587024.0            2089.28     Hotel  NoSecondType   \n",
       "3             56.0   6794584.0             286.43     Hotel  NoSecondType   \n",
       "4             75.0  14172606.0             505.01     Hotel       Parking   \n",
       "\n",
       "   YearAge  \n",
       "0       88  \n",
       "1       19  \n",
       "2       46  \n",
       "3       89  \n",
       "4       35  "
      ]
     },
     "execution_count": 7,
     "metadata": {},
     "output_type": "execute_result"
    }
   ],
   "source": [
    "df['YearAge'] = df['YearBuilt'].max() - df['YearBuilt']\n",
    "df.drop(columns='YearBuilt', inplace=True)\n",
    "\n",
    "df.head()"
   ]
  },
  {
   "cell_type": "markdown",
   "metadata": {},
   "source": [
    "### Choix de features"
   ]
  },
  {
   "cell_type": "code",
   "execution_count": 8,
   "metadata": {},
   "outputs": [],
   "source": [
    "features = ['Latitude', 'Longitude','YearAge', 'NumberofFloors', \n",
    "            'PropertyGFAParking','BuildType', 'LargestPropertyUseTypeGFA',\n",
    "           'BuildSecType', 'SecondLargestPropertyUseTypeGFA']"
   ]
  },
  {
   "cell_type": "markdown",
   "metadata": {},
   "source": [
    "## Matrice de features X et target y"
   ]
  },
  {
   "cell_type": "code",
   "execution_count": 9,
   "metadata": {},
   "outputs": [],
   "source": [
    "X = df[features]\n",
    "y = df.target.copy()"
   ]
  },
  {
   "cell_type": "code",
   "execution_count": 10,
   "metadata": {},
   "outputs": [
    {
     "data": {
      "text/html": [
       "<div>\n",
       "<style scoped>\n",
       "    .dataframe tbody tr th:only-of-type {\n",
       "        vertical-align: middle;\n",
       "    }\n",
       "\n",
       "    .dataframe tbody tr th {\n",
       "        vertical-align: top;\n",
       "    }\n",
       "\n",
       "    .dataframe thead th {\n",
       "        text-align: right;\n",
       "    }\n",
       "</style>\n",
       "<table border=\"1\" class=\"dataframe\">\n",
       "  <thead>\n",
       "    <tr style=\"text-align: right;\">\n",
       "      <th></th>\n",
       "      <th>Latitude</th>\n",
       "      <th>Longitude</th>\n",
       "      <th>YearAge</th>\n",
       "      <th>NumberofFloors</th>\n",
       "      <th>PropertyGFAParking</th>\n",
       "      <th>BuildType</th>\n",
       "      <th>LargestPropertyUseTypeGFA</th>\n",
       "      <th>BuildSecType</th>\n",
       "      <th>SecondLargestPropertyUseTypeGFA</th>\n",
       "    </tr>\n",
       "  </thead>\n",
       "  <tbody>\n",
       "    <tr>\n",
       "      <th>0</th>\n",
       "      <td>47.61220</td>\n",
       "      <td>-122.33799</td>\n",
       "      <td>88</td>\n",
       "      <td>12</td>\n",
       "      <td>0</td>\n",
       "      <td>Hotel</td>\n",
       "      <td>88434.0</td>\n",
       "      <td>NoSecondType</td>\n",
       "      <td>0.0</td>\n",
       "    </tr>\n",
       "    <tr>\n",
       "      <th>1</th>\n",
       "      <td>47.61317</td>\n",
       "      <td>-122.33393</td>\n",
       "      <td>19</td>\n",
       "      <td>11</td>\n",
       "      <td>15064</td>\n",
       "      <td>Hotel</td>\n",
       "      <td>83880.0</td>\n",
       "      <td>Parking</td>\n",
       "      <td>15064.0</td>\n",
       "    </tr>\n",
       "    <tr>\n",
       "      <th>2</th>\n",
       "      <td>47.61393</td>\n",
       "      <td>-122.33810</td>\n",
       "      <td>46</td>\n",
       "      <td>41</td>\n",
       "      <td>196718</td>\n",
       "      <td>Hotel</td>\n",
       "      <td>756493.0</td>\n",
       "      <td>NoSecondType</td>\n",
       "      <td>0.0</td>\n",
       "    </tr>\n",
       "    <tr>\n",
       "      <th>3</th>\n",
       "      <td>47.61412</td>\n",
       "      <td>-122.33664</td>\n",
       "      <td>89</td>\n",
       "      <td>10</td>\n",
       "      <td>0</td>\n",
       "      <td>Hotel</td>\n",
       "      <td>61320.0</td>\n",
       "      <td>NoSecondType</td>\n",
       "      <td>0.0</td>\n",
       "    </tr>\n",
       "    <tr>\n",
       "      <th>4</th>\n",
       "      <td>47.61375</td>\n",
       "      <td>-122.34047</td>\n",
       "      <td>35</td>\n",
       "      <td>18</td>\n",
       "      <td>62000</td>\n",
       "      <td>Hotel</td>\n",
       "      <td>123445.0</td>\n",
       "      <td>Parking</td>\n",
       "      <td>68009.0</td>\n",
       "    </tr>\n",
       "  </tbody>\n",
       "</table>\n",
       "</div>"
      ],
      "text/plain": [
       "   Latitude  Longitude  YearAge  NumberofFloors  PropertyGFAParking BuildType  \\\n",
       "0  47.61220 -122.33799       88              12                   0     Hotel   \n",
       "1  47.61317 -122.33393       19              11               15064     Hotel   \n",
       "2  47.61393 -122.33810       46              41              196718     Hotel   \n",
       "3  47.61412 -122.33664       89              10                   0     Hotel   \n",
       "4  47.61375 -122.34047       35              18               62000     Hotel   \n",
       "\n",
       "   LargestPropertyUseTypeGFA  BuildSecType  SecondLargestPropertyUseTypeGFA  \n",
       "0                    88434.0  NoSecondType                              0.0  \n",
       "1                    83880.0       Parking                          15064.0  \n",
       "2                   756493.0  NoSecondType                              0.0  \n",
       "3                    61320.0  NoSecondType                              0.0  \n",
       "4                   123445.0       Parking                          68009.0  "
      ]
     },
     "execution_count": 10,
     "metadata": {},
     "output_type": "execute_result"
    }
   ],
   "source": [
    "X.head()"
   ]
  },
  {
   "cell_type": "code",
   "execution_count": 11,
   "metadata": {
    "scrolled": false
   },
   "outputs": [
    {
     "data": {
      "text/plain": [
       "0     7226362.5\n",
       "1     8387933.0\n",
       "2    72587024.0\n",
       "3     6794584.0\n",
       "4    14172606.0\n",
       "Name: target, dtype: float64"
      ]
     },
     "execution_count": 11,
     "metadata": {},
     "output_type": "execute_result"
    }
   ],
   "source": [
    "y.head()"
   ]
  },
  {
   "cell_type": "markdown",
   "metadata": {},
   "source": [
    "## Codage des variables qualitatives\n",
    "\n",
    "Les seules variables qualitatives sont : `BuildType` et `BuildSecType`. Le nombre de valeurs différentes qu'elles prennent :"
   ]
  },
  {
   "cell_type": "code",
   "execution_count": 12,
   "metadata": {
    "scrolled": true
   },
   "outputs": [
    {
     "data": {
      "text/plain": [
       "BuildType       19\n",
       "BuildSecType    19\n",
       "dtype: int64"
      ]
     },
     "execution_count": 12,
     "metadata": {},
     "output_type": "execute_result"
    }
   ],
   "source": [
    "X.select_dtypes(include=object).nunique()"
   ]
  },
  {
   "cell_type": "markdown",
   "metadata": {},
   "source": [
    "Gardons le nom des variables numériques (à standardiser après) avant ce codage."
   ]
  },
  {
   "cell_type": "code",
   "execution_count": 13,
   "metadata": {},
   "outputs": [],
   "source": [
    "num_feat = X.select_dtypes(include=np.number).columns"
   ]
  },
  {
   "cell_type": "markdown",
   "metadata": {},
   "source": [
    "Codage:"
   ]
  },
  {
   "cell_type": "code",
   "execution_count": 14,
   "metadata": {},
   "outputs": [],
   "source": [
    "X = pd.get_dummies(X)"
   ]
  },
  {
   "cell_type": "code",
   "execution_count": 15,
   "metadata": {},
   "outputs": [
    {
     "data": {
      "text/html": [
       "<div>\n",
       "<style scoped>\n",
       "    .dataframe tbody tr th:only-of-type {\n",
       "        vertical-align: middle;\n",
       "    }\n",
       "\n",
       "    .dataframe tbody tr th {\n",
       "        vertical-align: top;\n",
       "    }\n",
       "\n",
       "    .dataframe thead th {\n",
       "        text-align: right;\n",
       "    }\n",
       "</style>\n",
       "<table border=\"1\" class=\"dataframe\">\n",
       "  <thead>\n",
       "    <tr style=\"text-align: right;\">\n",
       "      <th></th>\n",
       "      <th>Latitude</th>\n",
       "      <th>Longitude</th>\n",
       "      <th>YearAge</th>\n",
       "      <th>NumberofFloors</th>\n",
       "      <th>PropertyGFAParking</th>\n",
       "      <th>LargestPropertyUseTypeGFA</th>\n",
       "      <th>SecondLargestPropertyUseTypeGFA</th>\n",
       "      <th>BuildType_Bank/Data</th>\n",
       "      <th>BuildType_Culture</th>\n",
       "      <th>BuildType_Education</th>\n",
       "      <th>...</th>\n",
       "      <th>BuildSecType_NoSecondType</th>\n",
       "      <th>BuildSecType_Office</th>\n",
       "      <th>BuildSecType_Other</th>\n",
       "      <th>BuildSecType_Parking</th>\n",
       "      <th>BuildSecType_Public Assemb_entert</th>\n",
       "      <th>BuildSecType_Restaurant</th>\n",
       "      <th>BuildSecType_Social/courthouse</th>\n",
       "      <th>BuildSecType_Sports</th>\n",
       "      <th>BuildSecType_Storage/Distribution</th>\n",
       "      <th>BuildSecType_Warehouse</th>\n",
       "    </tr>\n",
       "  </thead>\n",
       "  <tbody>\n",
       "    <tr>\n",
       "      <th>0</th>\n",
       "      <td>47.61220</td>\n",
       "      <td>-122.33799</td>\n",
       "      <td>88</td>\n",
       "      <td>12</td>\n",
       "      <td>0</td>\n",
       "      <td>88434.0</td>\n",
       "      <td>0.0</td>\n",
       "      <td>0</td>\n",
       "      <td>0</td>\n",
       "      <td>0</td>\n",
       "      <td>...</td>\n",
       "      <td>1</td>\n",
       "      <td>0</td>\n",
       "      <td>0</td>\n",
       "      <td>0</td>\n",
       "      <td>0</td>\n",
       "      <td>0</td>\n",
       "      <td>0</td>\n",
       "      <td>0</td>\n",
       "      <td>0</td>\n",
       "      <td>0</td>\n",
       "    </tr>\n",
       "    <tr>\n",
       "      <th>1</th>\n",
       "      <td>47.61317</td>\n",
       "      <td>-122.33393</td>\n",
       "      <td>19</td>\n",
       "      <td>11</td>\n",
       "      <td>15064</td>\n",
       "      <td>83880.0</td>\n",
       "      <td>15064.0</td>\n",
       "      <td>0</td>\n",
       "      <td>0</td>\n",
       "      <td>0</td>\n",
       "      <td>...</td>\n",
       "      <td>0</td>\n",
       "      <td>0</td>\n",
       "      <td>0</td>\n",
       "      <td>1</td>\n",
       "      <td>0</td>\n",
       "      <td>0</td>\n",
       "      <td>0</td>\n",
       "      <td>0</td>\n",
       "      <td>0</td>\n",
       "      <td>0</td>\n",
       "    </tr>\n",
       "    <tr>\n",
       "      <th>2</th>\n",
       "      <td>47.61393</td>\n",
       "      <td>-122.33810</td>\n",
       "      <td>46</td>\n",
       "      <td>41</td>\n",
       "      <td>196718</td>\n",
       "      <td>756493.0</td>\n",
       "      <td>0.0</td>\n",
       "      <td>0</td>\n",
       "      <td>0</td>\n",
       "      <td>0</td>\n",
       "      <td>...</td>\n",
       "      <td>1</td>\n",
       "      <td>0</td>\n",
       "      <td>0</td>\n",
       "      <td>0</td>\n",
       "      <td>0</td>\n",
       "      <td>0</td>\n",
       "      <td>0</td>\n",
       "      <td>0</td>\n",
       "      <td>0</td>\n",
       "      <td>0</td>\n",
       "    </tr>\n",
       "    <tr>\n",
       "      <th>3</th>\n",
       "      <td>47.61412</td>\n",
       "      <td>-122.33664</td>\n",
       "      <td>89</td>\n",
       "      <td>10</td>\n",
       "      <td>0</td>\n",
       "      <td>61320.0</td>\n",
       "      <td>0.0</td>\n",
       "      <td>0</td>\n",
       "      <td>0</td>\n",
       "      <td>0</td>\n",
       "      <td>...</td>\n",
       "      <td>1</td>\n",
       "      <td>0</td>\n",
       "      <td>0</td>\n",
       "      <td>0</td>\n",
       "      <td>0</td>\n",
       "      <td>0</td>\n",
       "      <td>0</td>\n",
       "      <td>0</td>\n",
       "      <td>0</td>\n",
       "      <td>0</td>\n",
       "    </tr>\n",
       "    <tr>\n",
       "      <th>4</th>\n",
       "      <td>47.61375</td>\n",
       "      <td>-122.34047</td>\n",
       "      <td>35</td>\n",
       "      <td>18</td>\n",
       "      <td>62000</td>\n",
       "      <td>123445.0</td>\n",
       "      <td>68009.0</td>\n",
       "      <td>0</td>\n",
       "      <td>0</td>\n",
       "      <td>0</td>\n",
       "      <td>...</td>\n",
       "      <td>0</td>\n",
       "      <td>0</td>\n",
       "      <td>0</td>\n",
       "      <td>1</td>\n",
       "      <td>0</td>\n",
       "      <td>0</td>\n",
       "      <td>0</td>\n",
       "      <td>0</td>\n",
       "      <td>0</td>\n",
       "      <td>0</td>\n",
       "    </tr>\n",
       "  </tbody>\n",
       "</table>\n",
       "<p>5 rows × 45 columns</p>\n",
       "</div>"
      ],
      "text/plain": [
       "   Latitude  Longitude  YearAge  NumberofFloors  PropertyGFAParking  \\\n",
       "0  47.61220 -122.33799       88              12                   0   \n",
       "1  47.61317 -122.33393       19              11               15064   \n",
       "2  47.61393 -122.33810       46              41              196718   \n",
       "3  47.61412 -122.33664       89              10                   0   \n",
       "4  47.61375 -122.34047       35              18               62000   \n",
       "\n",
       "   LargestPropertyUseTypeGFA  SecondLargestPropertyUseTypeGFA  \\\n",
       "0                    88434.0                              0.0   \n",
       "1                    83880.0                          15064.0   \n",
       "2                   756493.0                              0.0   \n",
       "3                    61320.0                              0.0   \n",
       "4                   123445.0                          68009.0   \n",
       "\n",
       "   BuildType_Bank/Data  BuildType_Culture  BuildType_Education  ...  \\\n",
       "0                    0                  0                    0  ...   \n",
       "1                    0                  0                    0  ...   \n",
       "2                    0                  0                    0  ...   \n",
       "3                    0                  0                    0  ...   \n",
       "4                    0                  0                    0  ...   \n",
       "\n",
       "   BuildSecType_NoSecondType  BuildSecType_Office  BuildSecType_Other  \\\n",
       "0                          1                    0                   0   \n",
       "1                          0                    0                   0   \n",
       "2                          1                    0                   0   \n",
       "3                          1                    0                   0   \n",
       "4                          0                    0                   0   \n",
       "\n",
       "   BuildSecType_Parking  BuildSecType_Public Assemb_entert  \\\n",
       "0                     0                                  0   \n",
       "1                     1                                  0   \n",
       "2                     0                                  0   \n",
       "3                     0                                  0   \n",
       "4                     1                                  0   \n",
       "\n",
       "   BuildSecType_Restaurant  BuildSecType_Social/courthouse  \\\n",
       "0                        0                               0   \n",
       "1                        0                               0   \n",
       "2                        0                               0   \n",
       "3                        0                               0   \n",
       "4                        0                               0   \n",
       "\n",
       "   BuildSecType_Sports  BuildSecType_Storage/Distribution  \\\n",
       "0                    0                                  0   \n",
       "1                    0                                  0   \n",
       "2                    0                                  0   \n",
       "3                    0                                  0   \n",
       "4                    0                                  0   \n",
       "\n",
       "   BuildSecType_Warehouse  \n",
       "0                       0  \n",
       "1                       0  \n",
       "2                       0  \n",
       "3                       0  \n",
       "4                       0  \n",
       "\n",
       "[5 rows x 45 columns]"
      ]
     },
     "execution_count": 15,
     "metadata": {},
     "output_type": "execute_result"
    }
   ],
   "source": [
    "X.head()"
   ]
  },
  {
   "cell_type": "markdown",
   "metadata": {},
   "source": [
    "## Séparation: train test"
   ]
  },
  {
   "cell_type": "code",
   "execution_count": 16,
   "metadata": {},
   "outputs": [
    {
     "data": {
      "text/plain": [
       "(1579, 45)"
      ]
     },
     "execution_count": 16,
     "metadata": {},
     "output_type": "execute_result"
    }
   ],
   "source": [
    "X.shape"
   ]
  },
  {
   "cell_type": "code",
   "execution_count": 17,
   "metadata": {},
   "outputs": [],
   "source": [
    "X_train, X_test, y_train, y_test = train_test_split(X,\n",
    "                                                    y, \n",
    "                                                    test_size=0.2, \n",
    "                                                    random_state=88)"
   ]
  },
  {
   "cell_type": "code",
   "execution_count": 18,
   "metadata": {},
   "outputs": [
    {
     "name": "stdout",
     "output_type": "stream",
     "text": [
      "X_train est de forme (1263, 45), et y_train : (1263,) \n",
      "X_test est de forme (316, 45), et y_test : (316,) \n"
     ]
    }
   ],
   "source": [
    "print(f'X_train est de forme {X_train.shape}, et y_train : {y_train.shape} ')\n",
    "print(f'X_test est de forme {X_test.shape}, et y_test : {y_test.shape} ')"
   ]
  },
  {
   "cell_type": "markdown",
   "metadata": {},
   "source": [
    "## Standardisation des variables"
   ]
  },
  {
   "cell_type": "markdown",
   "metadata": {},
   "source": [
    "Rappel: les variables numériques (avant codage des variables qualitatives), sont:"
   ]
  },
  {
   "cell_type": "code",
   "execution_count": 19,
   "metadata": {
    "scrolled": true
   },
   "outputs": [
    {
     "data": {
      "text/plain": [
       "Index(['Latitude', 'Longitude', 'YearAge', 'NumberofFloors',\n",
       "       'PropertyGFAParking', 'LargestPropertyUseTypeGFA',\n",
       "       'SecondLargestPropertyUseTypeGFA'],\n",
       "      dtype='object')"
      ]
     },
     "execution_count": 19,
     "metadata": {},
     "output_type": "execute_result"
    }
   ],
   "source": [
    "num_feat"
   ]
  },
  {
   "cell_type": "code",
   "execution_count": 20,
   "metadata": {},
   "outputs": [],
   "source": [
    "sc = StandardScaler()\n",
    "\n",
    "X_train[num_feat] = sc.fit_transform(X_train[num_feat])\n",
    "X_test[num_feat] = sc.transform(X_test[num_feat])"
   ]
  },
  {
   "cell_type": "code",
   "execution_count": 21,
   "metadata": {
    "scrolled": true
   },
   "outputs": [
    {
     "data": {
      "text/html": [
       "<div>\n",
       "<style scoped>\n",
       "    .dataframe tbody tr th:only-of-type {\n",
       "        vertical-align: middle;\n",
       "    }\n",
       "\n",
       "    .dataframe tbody tr th {\n",
       "        vertical-align: top;\n",
       "    }\n",
       "\n",
       "    .dataframe thead th {\n",
       "        text-align: right;\n",
       "    }\n",
       "</style>\n",
       "<table border=\"1\" class=\"dataframe\">\n",
       "  <thead>\n",
       "    <tr style=\"text-align: right;\">\n",
       "      <th></th>\n",
       "      <th>Latitude</th>\n",
       "      <th>Longitude</th>\n",
       "      <th>YearAge</th>\n",
       "      <th>NumberofFloors</th>\n",
       "      <th>PropertyGFAParking</th>\n",
       "      <th>LargestPropertyUseTypeGFA</th>\n",
       "      <th>SecondLargestPropertyUseTypeGFA</th>\n",
       "      <th>BuildType_Bank/Data</th>\n",
       "      <th>BuildType_Culture</th>\n",
       "      <th>BuildType_Education</th>\n",
       "      <th>...</th>\n",
       "      <th>BuildSecType_NoSecondType</th>\n",
       "      <th>BuildSecType_Office</th>\n",
       "      <th>BuildSecType_Other</th>\n",
       "      <th>BuildSecType_Parking</th>\n",
       "      <th>BuildSecType_Public Assemb_entert</th>\n",
       "      <th>BuildSecType_Restaurant</th>\n",
       "      <th>BuildSecType_Social/courthouse</th>\n",
       "      <th>BuildSecType_Sports</th>\n",
       "      <th>BuildSecType_Storage/Distribution</th>\n",
       "      <th>BuildSecType_Warehouse</th>\n",
       "    </tr>\n",
       "  </thead>\n",
       "  <tbody>\n",
       "    <tr>\n",
       "      <th>149</th>\n",
       "      <td>-0.893325</td>\n",
       "      <td>0.206850</td>\n",
       "      <td>1.153317</td>\n",
       "      <td>-0.338853</td>\n",
       "      <td>-0.313185</td>\n",
       "      <td>0.221556</td>\n",
       "      <td>0.481426</td>\n",
       "      <td>0</td>\n",
       "      <td>0</td>\n",
       "      <td>0</td>\n",
       "      <td>...</td>\n",
       "      <td>0</td>\n",
       "      <td>1</td>\n",
       "      <td>0</td>\n",
       "      <td>0</td>\n",
       "      <td>0</td>\n",
       "      <td>0</td>\n",
       "      <td>0</td>\n",
       "      <td>0</td>\n",
       "      <td>0</td>\n",
       "      <td>0</td>\n",
       "    </tr>\n",
       "    <tr>\n",
       "      <th>1562</th>\n",
       "      <td>0.936473</td>\n",
       "      <td>0.838114</td>\n",
       "      <td>-0.012805</td>\n",
       "      <td>-0.504412</td>\n",
       "      <td>-0.313185</td>\n",
       "      <td>-0.133398</td>\n",
       "      <td>-0.384516</td>\n",
       "      <td>0</td>\n",
       "      <td>0</td>\n",
       "      <td>1</td>\n",
       "      <td>...</td>\n",
       "      <td>1</td>\n",
       "      <td>0</td>\n",
       "      <td>0</td>\n",
       "      <td>0</td>\n",
       "      <td>0</td>\n",
       "      <td>0</td>\n",
       "      <td>0</td>\n",
       "      <td>0</td>\n",
       "      <td>0</td>\n",
       "      <td>0</td>\n",
       "    </tr>\n",
       "    <tr>\n",
       "      <th>226</th>\n",
       "      <td>0.910240</td>\n",
       "      <td>0.641225</td>\n",
       "      <td>-1.240301</td>\n",
       "      <td>0.157825</td>\n",
       "      <td>1.759236</td>\n",
       "      <td>0.428256</td>\n",
       "      <td>1.703712</td>\n",
       "      <td>0</td>\n",
       "      <td>0</td>\n",
       "      <td>0</td>\n",
       "      <td>...</td>\n",
       "      <td>0</td>\n",
       "      <td>0</td>\n",
       "      <td>0</td>\n",
       "      <td>1</td>\n",
       "      <td>0</td>\n",
       "      <td>0</td>\n",
       "      <td>0</td>\n",
       "      <td>0</td>\n",
       "      <td>0</td>\n",
       "      <td>0</td>\n",
       "    </tr>\n",
       "    <tr>\n",
       "      <th>679</th>\n",
       "      <td>0.983202</td>\n",
       "      <td>1.298064</td>\n",
       "      <td>0.017883</td>\n",
       "      <td>-0.338853</td>\n",
       "      <td>-0.313185</td>\n",
       "      <td>-0.411206</td>\n",
       "      <td>-0.384516</td>\n",
       "      <td>0</td>\n",
       "      <td>0</td>\n",
       "      <td>0</td>\n",
       "      <td>...</td>\n",
       "      <td>1</td>\n",
       "      <td>0</td>\n",
       "      <td>0</td>\n",
       "      <td>0</td>\n",
       "      <td>0</td>\n",
       "      <td>0</td>\n",
       "      <td>0</td>\n",
       "      <td>0</td>\n",
       "      <td>0</td>\n",
       "      <td>0</td>\n",
       "    </tr>\n",
       "    <tr>\n",
       "      <th>52</th>\n",
       "      <td>0.095766</td>\n",
       "      <td>-0.403304</td>\n",
       "      <td>-1.086864</td>\n",
       "      <td>0.323385</td>\n",
       "      <td>0.393323</td>\n",
       "      <td>0.009680</td>\n",
       "      <td>0.272115</td>\n",
       "      <td>0</td>\n",
       "      <td>0</td>\n",
       "      <td>0</td>\n",
       "      <td>...</td>\n",
       "      <td>0</td>\n",
       "      <td>0</td>\n",
       "      <td>0</td>\n",
       "      <td>1</td>\n",
       "      <td>0</td>\n",
       "      <td>0</td>\n",
       "      <td>0</td>\n",
       "      <td>0</td>\n",
       "      <td>0</td>\n",
       "      <td>0</td>\n",
       "    </tr>\n",
       "  </tbody>\n",
       "</table>\n",
       "<p>5 rows × 45 columns</p>\n",
       "</div>"
      ],
      "text/plain": [
       "      Latitude  Longitude   YearAge  NumberofFloors  PropertyGFAParking  \\\n",
       "149  -0.893325   0.206850  1.153317       -0.338853           -0.313185   \n",
       "1562  0.936473   0.838114 -0.012805       -0.504412           -0.313185   \n",
       "226   0.910240   0.641225 -1.240301        0.157825            1.759236   \n",
       "679   0.983202   1.298064  0.017883       -0.338853           -0.313185   \n",
       "52    0.095766  -0.403304 -1.086864        0.323385            0.393323   \n",
       "\n",
       "      LargestPropertyUseTypeGFA  SecondLargestPropertyUseTypeGFA  \\\n",
       "149                    0.221556                         0.481426   \n",
       "1562                  -0.133398                        -0.384516   \n",
       "226                    0.428256                         1.703712   \n",
       "679                   -0.411206                        -0.384516   \n",
       "52                     0.009680                         0.272115   \n",
       "\n",
       "      BuildType_Bank/Data  BuildType_Culture  BuildType_Education  ...  \\\n",
       "149                     0                  0                    0  ...   \n",
       "1562                    0                  0                    1  ...   \n",
       "226                     0                  0                    0  ...   \n",
       "679                     0                  0                    0  ...   \n",
       "52                      0                  0                    0  ...   \n",
       "\n",
       "      BuildSecType_NoSecondType  BuildSecType_Office  BuildSecType_Other  \\\n",
       "149                           0                    1                   0   \n",
       "1562                          1                    0                   0   \n",
       "226                           0                    0                   0   \n",
       "679                           1                    0                   0   \n",
       "52                            0                    0                   0   \n",
       "\n",
       "      BuildSecType_Parking  BuildSecType_Public Assemb_entert  \\\n",
       "149                      0                                  0   \n",
       "1562                     0                                  0   \n",
       "226                      1                                  0   \n",
       "679                      0                                  0   \n",
       "52                       1                                  0   \n",
       "\n",
       "      BuildSecType_Restaurant  BuildSecType_Social/courthouse  \\\n",
       "149                         0                               0   \n",
       "1562                        0                               0   \n",
       "226                         0                               0   \n",
       "679                         0                               0   \n",
       "52                          0                               0   \n",
       "\n",
       "      BuildSecType_Sports  BuildSecType_Storage/Distribution  \\\n",
       "149                     0                                  0   \n",
       "1562                    0                                  0   \n",
       "226                     0                                  0   \n",
       "679                     0                                  0   \n",
       "52                      0                                  0   \n",
       "\n",
       "      BuildSecType_Warehouse  \n",
       "149                        0  \n",
       "1562                       0  \n",
       "226                        0  \n",
       "679                        0  \n",
       "52                         0  \n",
       "\n",
       "[5 rows x 45 columns]"
      ]
     },
     "execution_count": 21,
     "metadata": {},
     "output_type": "execute_result"
    }
   ],
   "source": [
    "X_train.head()"
   ]
  },
  {
   "cell_type": "markdown",
   "metadata": {},
   "source": [
    "# Modélisation<a class=\"anchor\" id=\"mod\"></a>\n",
    "\n",
    "Dans le dictionnaire `errors_df` nous allons enregistrer les information de chaque modèle:\n",
    "\n",
    "* Nom\n",
    "* Score R2 de l'ensemble d'entraînement (train set)\n",
    "* Score R2 de l'ensemble d'évaluation (test set)\n",
    "* Racine de l'erreur quadratique moyenne (RMSE : Rooted mean square error)\n",
    "* Temps de fit\n",
    "* Temps de prediction"
   ]
  },
  {
   "cell_type": "code",
   "execution_count": 22,
   "metadata": {},
   "outputs": [],
   "source": [
    "errors_df = {'Name': [],\n",
    "             'Train_R2_score':[],\n",
    "             'Test_R2_score':[],\n",
    "             'RMSE' : [],\n",
    "             'Fit_time' : [],\n",
    "             'Predict_time': []}"
   ]
  },
  {
   "cell_type": "markdown",
   "metadata": {},
   "source": [
    "## Dummy regressor"
   ]
  },
  {
   "cell_type": "code",
   "execution_count": 23,
   "metadata": {},
   "outputs": [],
   "source": [
    "estimator = DummyRegressor(strategy='mean')\n",
    "\n",
    "start = time.time()\n",
    "estimator.fit(X_train, y_train)\n",
    "end = time.time()\n",
    "fit_time = end-start"
   ]
  },
  {
   "cell_type": "code",
   "execution_count": 24,
   "metadata": {
    "scrolled": true
   },
   "outputs": [
    {
     "data": {
      "text/plain": [
       "array([6543922.38806476, 6543922.38806476, 6543922.38806476,\n",
       "       6543922.38806476, 6543922.38806476])"
      ]
     },
     "execution_count": 24,
     "metadata": {},
     "output_type": "execute_result"
    }
   ],
   "source": [
    "start = time.time()\n",
    "y_pred = estimator.predict(X_test)\n",
    "end = time.time()\n",
    "predict_time = end-start\n",
    "\n",
    "y_pred[:5]"
   ]
  },
  {
   "cell_type": "code",
   "execution_count": 25,
   "metadata": {
    "scrolled": true
   },
   "outputs": [
    {
     "name": "stdout",
     "output_type": "stream",
     "text": [
      "score train : 0.0, score test : -0.0001\n"
     ]
    },
    {
     "data": {
      "text/plain": [
       "[0.0, -0.0001]"
      ]
     },
     "execution_count": 25,
     "metadata": {},
     "output_type": "execute_result"
    }
   ],
   "source": [
    "score(estimator,X_train,X_test,y_train,y_test)"
   ]
  },
  {
   "cell_type": "code",
   "execution_count": 26,
   "metadata": {},
   "outputs": [
    {
     "name": "stdout",
     "output_type": "stream",
     "text": [
      "The RMSE is: 11185645.28\n"
     ]
    },
    {
     "data": {
      "text/plain": [
       "11185645.28"
      ]
     },
     "execution_count": 26,
     "metadata": {},
     "output_type": "execute_result"
    }
   ],
   "source": [
    "rmse(y_test,y_pred)"
   ]
  },
  {
   "cell_type": "code",
   "execution_count": 27,
   "metadata": {
    "scrolled": true
   },
   "outputs": [
    {
     "name": "stdout",
     "output_type": "stream",
     "text": [
      "The RMSE is: 11185645.28\n",
      "score train : 0.0, score test : -0.0001\n"
     ]
    }
   ],
   "source": [
    "append_dic('DummyRegressor',estimator,errors_df,X_train,X_test,y_train,y_test)"
   ]
  },
  {
   "cell_type": "markdown",
   "metadata": {},
   "source": [
    "## Regression linéaire simple<a class=\"anchor\" id=\"lin\"></a>"
   ]
  },
  {
   "cell_type": "code",
   "execution_count": 28,
   "metadata": {},
   "outputs": [],
   "source": [
    "estimator = LinearRegression()\n",
    "\n",
    "start = time.time()\n",
    "estimator.fit(X_train, y_train)\n",
    "end = time.time()\n",
    "fit_time = end-start"
   ]
  },
  {
   "cell_type": "code",
   "execution_count": 29,
   "metadata": {
    "scrolled": true
   },
   "outputs": [
    {
     "data": {
      "text/plain": [
       "array([ -188223.59564465,  3189376.93118981,  8266269.71987239,\n",
       "        2018187.01149154, 11272545.76478176])"
      ]
     },
     "execution_count": 29,
     "metadata": {},
     "output_type": "execute_result"
    }
   ],
   "source": [
    "start = time.time()\n",
    "y_pred = estimator.predict(X_test)\n",
    "end = time.time()\n",
    "predict_time = end-start\n",
    "\n",
    "y_pred[:5]"
   ]
  },
  {
   "cell_type": "code",
   "execution_count": 30,
   "metadata": {
    "scrolled": true
   },
   "outputs": [
    {
     "name": "stdout",
     "output_type": "stream",
     "text": [
      "score train : 0.6719, score test : 0.6947\n"
     ]
    },
    {
     "data": {
      "text/plain": [
       "[0.6719, 0.6947]"
      ]
     },
     "execution_count": 30,
     "metadata": {},
     "output_type": "execute_result"
    }
   ],
   "source": [
    "score(estimator,X_train,X_test,y_train,y_test)"
   ]
  },
  {
   "cell_type": "code",
   "execution_count": 31,
   "metadata": {
    "scrolled": true
   },
   "outputs": [
    {
     "name": "stdout",
     "output_type": "stream",
     "text": [
      "The RMSE is: 6180425.63\n"
     ]
    },
    {
     "data": {
      "text/plain": [
       "6180425.63"
      ]
     },
     "execution_count": 31,
     "metadata": {},
     "output_type": "execute_result"
    }
   ],
   "source": [
    "rmse(y_test,y_pred)"
   ]
  },
  {
   "cell_type": "code",
   "execution_count": 32,
   "metadata": {
    "scrolled": true
   },
   "outputs": [
    {
     "name": "stdout",
     "output_type": "stream",
     "text": [
      "The RMSE is: 6180425.63\n",
      "score train : 0.6719, score test : 0.6947\n"
     ]
    }
   ],
   "source": [
    "append_dic('LinearRegression', estimator,errors_df,X_train,X_test,y_train,y_test)"
   ]
  },
  {
   "cell_type": "markdown",
   "metadata": {},
   "source": [
    "### Regression linéaire simple, cible transformé: log\n",
    "\n",
    "Voir \n",
    "* [documentation.](https://scikit-learn.org/stable/auto_examples/compose/plot_transformed_target.html)\n",
    "\n",
    "* [Transforming target in regression, scikit learns](https://scikit-learn.org/stable/modules/compose.html#transformed-target-regressor)"
   ]
  },
  {
   "cell_type": "code",
   "execution_count": 33,
   "metadata": {},
   "outputs": [],
   "source": [
    "estimator_trans = TransformedTargetRegressor(\n",
    "    regressor = LinearRegression(),\n",
    "    func = np.log1p,\n",
    "    inverse_func = np.expm1\n",
    ")\n",
    "\n",
    "start = time.time()\n",
    "estimator_trans.fit(X_train, y_train)\n",
    "end = time.time()\n",
    "fit_time = end-start"
   ]
  },
  {
   "cell_type": "code",
   "execution_count": 34,
   "metadata": {
    "scrolled": true
   },
   "outputs": [
    {
     "data": {
      "text/plain": [
       "array([  890055.78920177,   629518.69599845,  8947120.87426876,\n",
       "         499713.00566169, 12819449.0917551 ])"
      ]
     },
     "execution_count": 34,
     "metadata": {},
     "output_type": "execute_result"
    }
   ],
   "source": [
    "start = time.time()\n",
    "y_pred = estimator_trans.predict(X_test)\n",
    "end = time.time()\n",
    "predict_time = end-start\n",
    "\n",
    "y_pred[:5]"
   ]
  },
  {
   "cell_type": "code",
   "execution_count": 35,
   "metadata": {
    "scrolled": true
   },
   "outputs": [
    {
     "name": "stdout",
     "output_type": "stream",
     "text": [
      "score train : -61.0221, score test : -1052.4623\n"
     ]
    },
    {
     "data": {
      "text/plain": [
       "[-61.0221, -1052.4623]"
      ]
     },
     "execution_count": 35,
     "metadata": {},
     "output_type": "execute_result"
    }
   ],
   "source": [
    "score(estimator_trans,X_train,X_test,y_train,y_test)"
   ]
  },
  {
   "cell_type": "code",
   "execution_count": 36,
   "metadata": {
    "scrolled": true
   },
   "outputs": [
    {
     "name": "stdout",
     "output_type": "stream",
     "text": [
      "The RMSE is: 363040858.14\n"
     ]
    },
    {
     "data": {
      "text/plain": [
       "363040858.14"
      ]
     },
     "execution_count": 36,
     "metadata": {},
     "output_type": "execute_result"
    }
   ],
   "source": [
    "rmse(y_test,y_pred)"
   ]
  },
  {
   "cell_type": "code",
   "execution_count": 37,
   "metadata": {
    "scrolled": true
   },
   "outputs": [
    {
     "name": "stdout",
     "output_type": "stream",
     "text": [
      "The RMSE is: 363040858.14\n",
      "score train : -61.0221, score test : -1052.4623\n"
     ]
    }
   ],
   "source": [
    "append_dic('LinearRegression_log_target', estimator_trans,errors_df,X_train,X_test,y_train,y_test)"
   ]
  },
  {
   "cell_type": "markdown",
   "metadata": {},
   "source": [
    "## Regression ridge<a class=\"anchor\" id=\"rid\"></a>\n",
    "\n",
    "### Choix d'hyperparamètres: Validation croisée<a class=\"anchor\" id=\"ridcv\"></a>"
   ]
  },
  {
   "cell_type": "code",
   "execution_count": 38,
   "metadata": {},
   "outputs": [
    {
     "data": {
      "text/html": [
       "<style>#sk-container-id-1 {color: black;background-color: white;}#sk-container-id-1 pre{padding: 0;}#sk-container-id-1 div.sk-toggleable {background-color: white;}#sk-container-id-1 label.sk-toggleable__label {cursor: pointer;display: block;width: 100%;margin-bottom: 0;padding: 0.3em;box-sizing: border-box;text-align: center;}#sk-container-id-1 label.sk-toggleable__label-arrow:before {content: \"▸\";float: left;margin-right: 0.25em;color: #696969;}#sk-container-id-1 label.sk-toggleable__label-arrow:hover:before {color: black;}#sk-container-id-1 div.sk-estimator:hover label.sk-toggleable__label-arrow:before {color: black;}#sk-container-id-1 div.sk-toggleable__content {max-height: 0;max-width: 0;overflow: hidden;text-align: left;background-color: #f0f8ff;}#sk-container-id-1 div.sk-toggleable__content pre {margin: 0.2em;color: black;border-radius: 0.25em;background-color: #f0f8ff;}#sk-container-id-1 input.sk-toggleable__control:checked~div.sk-toggleable__content {max-height: 200px;max-width: 100%;overflow: auto;}#sk-container-id-1 input.sk-toggleable__control:checked~label.sk-toggleable__label-arrow:before {content: \"▾\";}#sk-container-id-1 div.sk-estimator input.sk-toggleable__control:checked~label.sk-toggleable__label {background-color: #d4ebff;}#sk-container-id-1 div.sk-label input.sk-toggleable__control:checked~label.sk-toggleable__label {background-color: #d4ebff;}#sk-container-id-1 input.sk-hidden--visually {border: 0;clip: rect(1px 1px 1px 1px);clip: rect(1px, 1px, 1px, 1px);height: 1px;margin: -1px;overflow: hidden;padding: 0;position: absolute;width: 1px;}#sk-container-id-1 div.sk-estimator {font-family: monospace;background-color: #f0f8ff;border: 1px dotted black;border-radius: 0.25em;box-sizing: border-box;margin-bottom: 0.5em;}#sk-container-id-1 div.sk-estimator:hover {background-color: #d4ebff;}#sk-container-id-1 div.sk-parallel-item::after {content: \"\";width: 100%;border-bottom: 1px solid gray;flex-grow: 1;}#sk-container-id-1 div.sk-label:hover label.sk-toggleable__label {background-color: #d4ebff;}#sk-container-id-1 div.sk-serial::before {content: \"\";position: absolute;border-left: 1px solid gray;box-sizing: border-box;top: 0;bottom: 0;left: 50%;z-index: 0;}#sk-container-id-1 div.sk-serial {display: flex;flex-direction: column;align-items: center;background-color: white;padding-right: 0.2em;padding-left: 0.2em;position: relative;}#sk-container-id-1 div.sk-item {position: relative;z-index: 1;}#sk-container-id-1 div.sk-parallel {display: flex;align-items: stretch;justify-content: center;background-color: white;position: relative;}#sk-container-id-1 div.sk-item::before, #sk-container-id-1 div.sk-parallel-item::before {content: \"\";position: absolute;border-left: 1px solid gray;box-sizing: border-box;top: 0;bottom: 0;left: 50%;z-index: -1;}#sk-container-id-1 div.sk-parallel-item {display: flex;flex-direction: column;z-index: 1;position: relative;background-color: white;}#sk-container-id-1 div.sk-parallel-item:first-child::after {align-self: flex-end;width: 50%;}#sk-container-id-1 div.sk-parallel-item:last-child::after {align-self: flex-start;width: 50%;}#sk-container-id-1 div.sk-parallel-item:only-child::after {width: 0;}#sk-container-id-1 div.sk-dashed-wrapped {border: 1px dashed gray;margin: 0 0.4em 0.5em 0.4em;box-sizing: border-box;padding-bottom: 0.4em;background-color: white;}#sk-container-id-1 div.sk-label label {font-family: monospace;font-weight: bold;display: inline-block;line-height: 1.2em;}#sk-container-id-1 div.sk-label-container {text-align: center;}#sk-container-id-1 div.sk-container {/* jupyter's `normalize.less` sets `[hidden] { display: none; }` but bootstrap.min.css set `[hidden] { display: none !important; }` so we also need the `!important` here to be able to override the default hidden behavior on the sphinx rendered scikit-learn.org. See: https://github.com/scikit-learn/scikit-learn/issues/21755 */display: inline-block !important;position: relative;}#sk-container-id-1 div.sk-text-repr-fallback {display: none;}</style><div id=\"sk-container-id-1\" class=\"sk-top-container\"><div class=\"sk-text-repr-fallback\"><pre>RidgeCV(alphas=array([1.00000000e-05, 1.59985872e-05, 2.55954792e-05, 4.09491506e-05,\n",
       "       6.55128557e-05, 1.04811313e-04, 1.67683294e-04, 2.68269580e-04,\n",
       "       4.29193426e-04, 6.86648845e-04, 1.09854114e-03, 1.75751062e-03,\n",
       "       2.81176870e-03, 4.49843267e-03, 7.19685673e-03, 1.15139540e-02,\n",
       "       1.84206997e-02, 2.94705170e-02, 4.71486636e-02, 7.54312006e-02,\n",
       "       1.20679264e-01, 1.93069773e-0...\n",
       "       5.17947468e+00, 8.28642773e+00, 1.32571137e+01, 2.12095089e+01,\n",
       "       3.39322177e+01, 5.42867544e+01, 8.68511374e+01, 1.38949549e+02,\n",
       "       2.22299648e+02, 3.55648031e+02, 5.68986603e+02, 9.10298178e+02,\n",
       "       1.45634848e+03, 2.32995181e+03, 3.72759372e+03, 5.96362332e+03,\n",
       "       9.54095476e+03, 1.52641797e+04, 2.44205309e+04, 3.90693994e+04,\n",
       "       6.25055193e+04, 1.00000000e+05]),\n",
       "        cv=5, scoring=&#x27;r2&#x27;)</pre><b>In a Jupyter environment, please rerun this cell to show the HTML representation or trust the notebook. <br />On GitHub, the HTML representation is unable to render, please try loading this page with nbviewer.org.</b></div><div class=\"sk-container\" hidden><div class=\"sk-item\"><div class=\"sk-estimator sk-toggleable\"><input class=\"sk-toggleable__control sk-hidden--visually\" id=\"sk-estimator-id-1\" type=\"checkbox\" checked><label for=\"sk-estimator-id-1\" class=\"sk-toggleable__label sk-toggleable__label-arrow\">RidgeCV</label><div class=\"sk-toggleable__content\"><pre>RidgeCV(alphas=array([1.00000000e-05, 1.59985872e-05, 2.55954792e-05, 4.09491506e-05,\n",
       "       6.55128557e-05, 1.04811313e-04, 1.67683294e-04, 2.68269580e-04,\n",
       "       4.29193426e-04, 6.86648845e-04, 1.09854114e-03, 1.75751062e-03,\n",
       "       2.81176870e-03, 4.49843267e-03, 7.19685673e-03, 1.15139540e-02,\n",
       "       1.84206997e-02, 2.94705170e-02, 4.71486636e-02, 7.54312006e-02,\n",
       "       1.20679264e-01, 1.93069773e-0...\n",
       "       5.17947468e+00, 8.28642773e+00, 1.32571137e+01, 2.12095089e+01,\n",
       "       3.39322177e+01, 5.42867544e+01, 8.68511374e+01, 1.38949549e+02,\n",
       "       2.22299648e+02, 3.55648031e+02, 5.68986603e+02, 9.10298178e+02,\n",
       "       1.45634848e+03, 2.32995181e+03, 3.72759372e+03, 5.96362332e+03,\n",
       "       9.54095476e+03, 1.52641797e+04, 2.44205309e+04, 3.90693994e+04,\n",
       "       6.25055193e+04, 1.00000000e+05]),\n",
       "        cv=5, scoring=&#x27;r2&#x27;)</pre></div></div></div></div></div>"
      ],
      "text/plain": [
       "RidgeCV(alphas=array([1.00000000e-05, 1.59985872e-05, 2.55954792e-05, 4.09491506e-05,\n",
       "       6.55128557e-05, 1.04811313e-04, 1.67683294e-04, 2.68269580e-04,\n",
       "       4.29193426e-04, 6.86648845e-04, 1.09854114e-03, 1.75751062e-03,\n",
       "       2.81176870e-03, 4.49843267e-03, 7.19685673e-03, 1.15139540e-02,\n",
       "       1.84206997e-02, 2.94705170e-02, 4.71486636e-02, 7.54312006e-02,\n",
       "       1.20679264e-01, 1.93069773e-0...\n",
       "       5.17947468e+00, 8.28642773e+00, 1.32571137e+01, 2.12095089e+01,\n",
       "       3.39322177e+01, 5.42867544e+01, 8.68511374e+01, 1.38949549e+02,\n",
       "       2.22299648e+02, 3.55648031e+02, 5.68986603e+02, 9.10298178e+02,\n",
       "       1.45634848e+03, 2.32995181e+03, 3.72759372e+03, 5.96362332e+03,\n",
       "       9.54095476e+03, 1.52641797e+04, 2.44205309e+04, 3.90693994e+04,\n",
       "       6.25055193e+04, 1.00000000e+05]),\n",
       "        cv=5, scoring='r2')"
      ]
     },
     "execution_count": 38,
     "metadata": {},
     "output_type": "execute_result"
    }
   ],
   "source": [
    "# parameters for cross validation\n",
    "n_alphas = 50\n",
    "alphas = np.logspace(-5,5,50)\n",
    "\n",
    "# cross validation \n",
    "estimator = RidgeCV(alphas=alphas,\n",
    "                    scoring='r2',\n",
    "                    cv=5)\n",
    "\n",
    "estimator.fit(X_train, y_train)"
   ]
  },
  {
   "cell_type": "code",
   "execution_count": 39,
   "metadata": {
    "scrolled": true
   },
   "outputs": [
    {
     "data": {
      "text/plain": [
       "0.6234422180970624"
      ]
     },
     "execution_count": 39,
     "metadata": {},
     "output_type": "execute_result"
    }
   ],
   "source": [
    "estimator.best_score_"
   ]
  },
  {
   "cell_type": "code",
   "execution_count": 40,
   "metadata": {},
   "outputs": [
    {
     "data": {
      "text/plain": [
       "3.2374575428176464"
      ]
     },
     "execution_count": 40,
     "metadata": {},
     "output_type": "execute_result"
    }
   ],
   "source": [
    "alpha = estimator.alpha_\n",
    "alpha"
   ]
  },
  {
   "cell_type": "markdown",
   "metadata": {},
   "source": [
    "### Entraînement meilleurs paramètres<a class=\"anchor\" id=\"ridbest\"></a>"
   ]
  },
  {
   "cell_type": "code",
   "execution_count": 41,
   "metadata": {},
   "outputs": [],
   "source": [
    "estimator = Ridge(alpha=alpha) # alpha trouvé avec CV si dessus\n",
    "\n",
    "start = time.time()\n",
    "estimator.fit(X_train, y_train)\n",
    "end = time.time()\n",
    "fit_time = end-start"
   ]
  },
  {
   "cell_type": "code",
   "execution_count": 42,
   "metadata": {
    "scrolled": true
   },
   "outputs": [
    {
     "data": {
      "text/plain": [
       "array([ -233378.31548811,  3405282.5187922 ,  7905755.0803857 ,\n",
       "        2241043.73914196, 11216682.17346724])"
      ]
     },
     "execution_count": 42,
     "metadata": {},
     "output_type": "execute_result"
    }
   ],
   "source": [
    "start = time.time()\n",
    "y_pred = estimator.predict(X_test)\n",
    "end = time.time()\n",
    "predict_time = end-start\n",
    "\n",
    "y_pred[:5]"
   ]
  },
  {
   "cell_type": "code",
   "execution_count": 43,
   "metadata": {
    "scrolled": false
   },
   "outputs": [
    {
     "name": "stdout",
     "output_type": "stream",
     "text": [
      "score train : 0.6663, score test : 0.6895\n"
     ]
    },
    {
     "data": {
      "text/plain": [
       "[0.6663, 0.6895]"
      ]
     },
     "execution_count": 43,
     "metadata": {},
     "output_type": "execute_result"
    }
   ],
   "source": [
    "score(estimator,X_train,X_test,y_train,y_test)"
   ]
  },
  {
   "cell_type": "code",
   "execution_count": 44,
   "metadata": {
    "scrolled": true
   },
   "outputs": [
    {
     "name": "stdout",
     "output_type": "stream",
     "text": [
      "The RMSE is: 6232314.02\n"
     ]
    },
    {
     "data": {
      "text/plain": [
       "6232314.02"
      ]
     },
     "execution_count": 44,
     "metadata": {},
     "output_type": "execute_result"
    }
   ],
   "source": [
    "rmse(y_test,y_pred)"
   ]
  },
  {
   "cell_type": "code",
   "execution_count": 45,
   "metadata": {
    "scrolled": true
   },
   "outputs": [
    {
     "name": "stdout",
     "output_type": "stream",
     "text": [
      "The RMSE is: 6232314.02\n",
      "score train : 0.6663, score test : 0.6895\n"
     ]
    }
   ],
   "source": [
    "append_dic('Ridge_afterCV', estimator,errors_df,X_train,X_test,y_train,y_test)"
   ]
  },
  {
   "cell_type": "markdown",
   "metadata": {},
   "source": [
    "### Regression ridge avec transformation de cible: log<a class=\"anchor\" id=\"ridlog\"></a>"
   ]
  },
  {
   "cell_type": "code",
   "execution_count": 46,
   "metadata": {},
   "outputs": [],
   "source": [
    "estimator_trans = TransformedTargetRegressor(\n",
    "    regressor = Ridge(alpha=alpha),\n",
    "    func = np.log1p,\n",
    "    inverse_func = np.expm1\n",
    ")\n",
    "\n",
    "start = time.time()\n",
    "estimator_trans.fit(X_train, y_train)\n",
    "end = time.time()\n",
    "fit_time = end-start"
   ]
  },
  {
   "cell_type": "code",
   "execution_count": 47,
   "metadata": {
    "scrolled": true
   },
   "outputs": [
    {
     "data": {
      "text/plain": [
       "array([  892112.94097524,   659030.31910492,  8152922.64808736,\n",
       "         524376.12551582, 12103665.05281299])"
      ]
     },
     "execution_count": 47,
     "metadata": {},
     "output_type": "execute_result"
    }
   ],
   "source": [
    "start = time.time()\n",
    "y_pred = estimator_trans.predict(X_test)\n",
    "end = time.time()\n",
    "predict_time = end-start\n",
    "\n",
    "y_pred[:5]"
   ]
  },
  {
   "cell_type": "code",
   "execution_count": 48,
   "metadata": {},
   "outputs": [
    {
     "name": "stdout",
     "output_type": "stream",
     "text": [
      "score train : -60.1682, score test : -1203.0557\n"
     ]
    },
    {
     "data": {
      "text/plain": [
       "[-60.1682, -1203.0557]"
      ]
     },
     "execution_count": 48,
     "metadata": {},
     "output_type": "execute_result"
    }
   ],
   "source": [
    "score(estimator_trans,X_train,X_test,y_train,y_test)"
   ]
  },
  {
   "cell_type": "code",
   "execution_count": 49,
   "metadata": {},
   "outputs": [
    {
     "name": "stdout",
     "output_type": "stream",
     "text": [
      "The RMSE is: 388122934.07\n"
     ]
    },
    {
     "data": {
      "text/plain": [
       "388122934.07"
      ]
     },
     "execution_count": 49,
     "metadata": {},
     "output_type": "execute_result"
    }
   ],
   "source": [
    "rmse(y_test,y_pred)"
   ]
  },
  {
   "cell_type": "code",
   "execution_count": 50,
   "metadata": {},
   "outputs": [
    {
     "name": "stdout",
     "output_type": "stream",
     "text": [
      "The RMSE is: 388122934.07\n",
      "score train : -60.1682, score test : -1203.0557\n"
     ]
    }
   ],
   "source": [
    "append_dic('Ridge_log_target',estimator_trans,errors_df,X_train,X_test,y_train,y_test)"
   ]
  },
  {
   "cell_type": "markdown",
   "metadata": {},
   "source": [
    "## Regression LASSO<a class=\"anchor\" id=\"lass\"></a>\n",
    "\n",
    "### Choix d'hyperparamètres: validation croisée<a class=\"anchor\" id=\"lasscv\"></a>"
   ]
  },
  {
   "cell_type": "code",
   "execution_count": 51,
   "metadata": {
    "scrolled": true
   },
   "outputs": [
    {
     "data": {
      "text/html": [
       "<style>#sk-container-id-2 {color: black;background-color: white;}#sk-container-id-2 pre{padding: 0;}#sk-container-id-2 div.sk-toggleable {background-color: white;}#sk-container-id-2 label.sk-toggleable__label {cursor: pointer;display: block;width: 100%;margin-bottom: 0;padding: 0.3em;box-sizing: border-box;text-align: center;}#sk-container-id-2 label.sk-toggleable__label-arrow:before {content: \"▸\";float: left;margin-right: 0.25em;color: #696969;}#sk-container-id-2 label.sk-toggleable__label-arrow:hover:before {color: black;}#sk-container-id-2 div.sk-estimator:hover label.sk-toggleable__label-arrow:before {color: black;}#sk-container-id-2 div.sk-toggleable__content {max-height: 0;max-width: 0;overflow: hidden;text-align: left;background-color: #f0f8ff;}#sk-container-id-2 div.sk-toggleable__content pre {margin: 0.2em;color: black;border-radius: 0.25em;background-color: #f0f8ff;}#sk-container-id-2 input.sk-toggleable__control:checked~div.sk-toggleable__content {max-height: 200px;max-width: 100%;overflow: auto;}#sk-container-id-2 input.sk-toggleable__control:checked~label.sk-toggleable__label-arrow:before {content: \"▾\";}#sk-container-id-2 div.sk-estimator input.sk-toggleable__control:checked~label.sk-toggleable__label {background-color: #d4ebff;}#sk-container-id-2 div.sk-label input.sk-toggleable__control:checked~label.sk-toggleable__label {background-color: #d4ebff;}#sk-container-id-2 input.sk-hidden--visually {border: 0;clip: rect(1px 1px 1px 1px);clip: rect(1px, 1px, 1px, 1px);height: 1px;margin: -1px;overflow: hidden;padding: 0;position: absolute;width: 1px;}#sk-container-id-2 div.sk-estimator {font-family: monospace;background-color: #f0f8ff;border: 1px dotted black;border-radius: 0.25em;box-sizing: border-box;margin-bottom: 0.5em;}#sk-container-id-2 div.sk-estimator:hover {background-color: #d4ebff;}#sk-container-id-2 div.sk-parallel-item::after {content: \"\";width: 100%;border-bottom: 1px solid gray;flex-grow: 1;}#sk-container-id-2 div.sk-label:hover label.sk-toggleable__label {background-color: #d4ebff;}#sk-container-id-2 div.sk-serial::before {content: \"\";position: absolute;border-left: 1px solid gray;box-sizing: border-box;top: 0;bottom: 0;left: 50%;z-index: 0;}#sk-container-id-2 div.sk-serial {display: flex;flex-direction: column;align-items: center;background-color: white;padding-right: 0.2em;padding-left: 0.2em;position: relative;}#sk-container-id-2 div.sk-item {position: relative;z-index: 1;}#sk-container-id-2 div.sk-parallel {display: flex;align-items: stretch;justify-content: center;background-color: white;position: relative;}#sk-container-id-2 div.sk-item::before, #sk-container-id-2 div.sk-parallel-item::before {content: \"\";position: absolute;border-left: 1px solid gray;box-sizing: border-box;top: 0;bottom: 0;left: 50%;z-index: -1;}#sk-container-id-2 div.sk-parallel-item {display: flex;flex-direction: column;z-index: 1;position: relative;background-color: white;}#sk-container-id-2 div.sk-parallel-item:first-child::after {align-self: flex-end;width: 50%;}#sk-container-id-2 div.sk-parallel-item:last-child::after {align-self: flex-start;width: 50%;}#sk-container-id-2 div.sk-parallel-item:only-child::after {width: 0;}#sk-container-id-2 div.sk-dashed-wrapped {border: 1px dashed gray;margin: 0 0.4em 0.5em 0.4em;box-sizing: border-box;padding-bottom: 0.4em;background-color: white;}#sk-container-id-2 div.sk-label label {font-family: monospace;font-weight: bold;display: inline-block;line-height: 1.2em;}#sk-container-id-2 div.sk-label-container {text-align: center;}#sk-container-id-2 div.sk-container {/* jupyter's `normalize.less` sets `[hidden] { display: none; }` but bootstrap.min.css set `[hidden] { display: none !important; }` so we also need the `!important` here to be able to override the default hidden behavior on the sphinx rendered scikit-learn.org. See: https://github.com/scikit-learn/scikit-learn/issues/21755 */display: inline-block !important;position: relative;}#sk-container-id-2 div.sk-text-repr-fallback {display: none;}</style><div id=\"sk-container-id-2\" class=\"sk-top-container\"><div class=\"sk-text-repr-fallback\"><pre>LassoCV(alphas=array([1.00000000e-06, 1.75751062e-06, 3.08884360e-06, 5.42867544e-06,\n",
       "       9.54095476e-06, 1.67683294e-05, 2.94705170e-05, 5.17947468e-05,\n",
       "       9.10298178e-05, 1.59985872e-04, 2.81176870e-04, 4.94171336e-04,\n",
       "       8.68511374e-04, 1.52641797e-03, 2.68269580e-03, 4.71486636e-03,\n",
       "       8.28642773e-03, 1.45634848e-02, 2.55954792e-02, 4.49843267e-02,\n",
       "       7.90604321e-02, 1.38949549e-0...\n",
       "       7.54312006e-01, 1.32571137e+00, 2.32995181e+00, 4.09491506e+00,\n",
       "       7.19685673e+00, 1.26485522e+01, 2.22299648e+01, 3.90693994e+01,\n",
       "       6.86648845e+01, 1.20679264e+02, 2.12095089e+02, 3.72759372e+02,\n",
       "       6.55128557e+02, 1.15139540e+03, 2.02358965e+03, 3.55648031e+03,\n",
       "       6.25055193e+03, 1.09854114e+04, 1.93069773e+04, 3.39322177e+04,\n",
       "       5.96362332e+04, 1.04811313e+05, 1.84206997e+05, 3.23745754e+05,\n",
       "       5.68986603e+05, 1.00000000e+06]),\n",
       "        cv=5, n_alphas=50)</pre><b>In a Jupyter environment, please rerun this cell to show the HTML representation or trust the notebook. <br />On GitHub, the HTML representation is unable to render, please try loading this page with nbviewer.org.</b></div><div class=\"sk-container\" hidden><div class=\"sk-item\"><div class=\"sk-estimator sk-toggleable\"><input class=\"sk-toggleable__control sk-hidden--visually\" id=\"sk-estimator-id-2\" type=\"checkbox\" checked><label for=\"sk-estimator-id-2\" class=\"sk-toggleable__label sk-toggleable__label-arrow\">LassoCV</label><div class=\"sk-toggleable__content\"><pre>LassoCV(alphas=array([1.00000000e-06, 1.75751062e-06, 3.08884360e-06, 5.42867544e-06,\n",
       "       9.54095476e-06, 1.67683294e-05, 2.94705170e-05, 5.17947468e-05,\n",
       "       9.10298178e-05, 1.59985872e-04, 2.81176870e-04, 4.94171336e-04,\n",
       "       8.68511374e-04, 1.52641797e-03, 2.68269580e-03, 4.71486636e-03,\n",
       "       8.28642773e-03, 1.45634848e-02, 2.55954792e-02, 4.49843267e-02,\n",
       "       7.90604321e-02, 1.38949549e-0...\n",
       "       7.54312006e-01, 1.32571137e+00, 2.32995181e+00, 4.09491506e+00,\n",
       "       7.19685673e+00, 1.26485522e+01, 2.22299648e+01, 3.90693994e+01,\n",
       "       6.86648845e+01, 1.20679264e+02, 2.12095089e+02, 3.72759372e+02,\n",
       "       6.55128557e+02, 1.15139540e+03, 2.02358965e+03, 3.55648031e+03,\n",
       "       6.25055193e+03, 1.09854114e+04, 1.93069773e+04, 3.39322177e+04,\n",
       "       5.96362332e+04, 1.04811313e+05, 1.84206997e+05, 3.23745754e+05,\n",
       "       5.68986603e+05, 1.00000000e+06]),\n",
       "        cv=5, n_alphas=50)</pre></div></div></div></div></div>"
      ],
      "text/plain": [
       "LassoCV(alphas=array([1.00000000e-06, 1.75751062e-06, 3.08884360e-06, 5.42867544e-06,\n",
       "       9.54095476e-06, 1.67683294e-05, 2.94705170e-05, 5.17947468e-05,\n",
       "       9.10298178e-05, 1.59985872e-04, 2.81176870e-04, 4.94171336e-04,\n",
       "       8.68511374e-04, 1.52641797e-03, 2.68269580e-03, 4.71486636e-03,\n",
       "       8.28642773e-03, 1.45634848e-02, 2.55954792e-02, 4.49843267e-02,\n",
       "       7.90604321e-02, 1.38949549e-0...\n",
       "       7.54312006e-01, 1.32571137e+00, 2.32995181e+00, 4.09491506e+00,\n",
       "       7.19685673e+00, 1.26485522e+01, 2.22299648e+01, 3.90693994e+01,\n",
       "       6.86648845e+01, 1.20679264e+02, 2.12095089e+02, 3.72759372e+02,\n",
       "       6.55128557e+02, 1.15139540e+03, 2.02358965e+03, 3.55648031e+03,\n",
       "       6.25055193e+03, 1.09854114e+04, 1.93069773e+04, 3.39322177e+04,\n",
       "       5.96362332e+04, 1.04811313e+05, 1.84206997e+05, 3.23745754e+05,\n",
       "       5.68986603e+05, 1.00000000e+06]),\n",
       "        cv=5, n_alphas=50)"
      ]
     },
     "execution_count": 51,
     "metadata": {},
     "output_type": "execute_result"
    }
   ],
   "source": [
    "# parameters for cross validation\n",
    "n_alphas = 50\n",
    "alphas = np.logspace(-6,6,50)\n",
    "\n",
    "# cross validation \n",
    "estimator = LassoCV(n_alphas=50,\n",
    "                    alphas=alphas,\n",
    "                    cv=5)\n",
    "\n",
    "estimator.fit(X_train, y_train)"
   ]
  },
  {
   "cell_type": "code",
   "execution_count": 52,
   "metadata": {
    "scrolled": false
   },
   "outputs": [
    {
     "data": {
      "text/plain": [
       "33932.217718953296"
      ]
     },
     "execution_count": 52,
     "metadata": {},
     "output_type": "execute_result"
    }
   ],
   "source": [
    "alpha = estimator.alpha_\n",
    "alpha"
   ]
  },
  {
   "cell_type": "markdown",
   "metadata": {},
   "source": [
    "### Entraînement LASSO avec meilleurs paramètres<a class=\"anchor\" id=\"lassbest\"></a> "
   ]
  },
  {
   "cell_type": "code",
   "execution_count": 53,
   "metadata": {},
   "outputs": [],
   "source": [
    "estimator = Lasso(alpha=alpha) # alpha trouvé avec CV si dessus\n",
    "\n",
    "start = time.time()\n",
    "estimator.fit(X_train, y_train)\n",
    "end = time.time()\n",
    "fit_time = end-start"
   ]
  },
  {
   "cell_type": "code",
   "execution_count": 54,
   "metadata": {
    "scrolled": true
   },
   "outputs": [
    {
     "data": {
      "text/plain": [
       "array([  -16809.22862321,  3618106.73261048,  7302729.96068726,\n",
       "        2521087.35850455, 11122725.93268528])"
      ]
     },
     "execution_count": 54,
     "metadata": {},
     "output_type": "execute_result"
    }
   ],
   "source": [
    "start = time.time()\n",
    "y_pred = estimator.predict(X_test)\n",
    "end = time.time()\n",
    "predict_time = end-start\n",
    "\n",
    "y_pred[:5]"
   ]
  },
  {
   "cell_type": "code",
   "execution_count": 55,
   "metadata": {},
   "outputs": [
    {
     "name": "stdout",
     "output_type": "stream",
     "text": [
      "score train : 0.6571, score test : 0.6764\n"
     ]
    },
    {
     "data": {
      "text/plain": [
       "[0.6571, 0.6764]"
      ]
     },
     "execution_count": 55,
     "metadata": {},
     "output_type": "execute_result"
    }
   ],
   "source": [
    "score(estimator,X_train,X_test,y_train,y_test)"
   ]
  },
  {
   "cell_type": "code",
   "execution_count": 56,
   "metadata": {
    "scrolled": true
   },
   "outputs": [
    {
     "name": "stdout",
     "output_type": "stream",
     "text": [
      "The RMSE is: 6362830.08\n"
     ]
    },
    {
     "data": {
      "text/plain": [
       "6362830.08"
      ]
     },
     "execution_count": 56,
     "metadata": {},
     "output_type": "execute_result"
    }
   ],
   "source": [
    "rmse(y_test,y_pred)"
   ]
  },
  {
   "cell_type": "code",
   "execution_count": 57,
   "metadata": {
    "scrolled": true
   },
   "outputs": [
    {
     "name": "stdout",
     "output_type": "stream",
     "text": [
      "The RMSE is: 6362830.08\n",
      "score train : 0.6571, score test : 0.6764\n"
     ]
    }
   ],
   "source": [
    "append_dic('Lasso_afterCV', estimator,errors_df,X_train,X_test,y_train,y_test)"
   ]
  },
  {
   "cell_type": "markdown",
   "metadata": {},
   "source": [
    "### LASSO avec transformation de cible: log<a class=\"anchor\" id=\"lasslog\"></a>"
   ]
  },
  {
   "cell_type": "code",
   "execution_count": 58,
   "metadata": {},
   "outputs": [],
   "source": [
    "estimator_trans = TransformedTargetRegressor(\n",
    "    regressor = Lasso(alpha=alpha),\n",
    "    func = np.log1p,\n",
    "    inverse_func = np.expm1\n",
    ")\n",
    "\n",
    "start = time.time()\n",
    "estimator_trans.fit(X_train, y_train)\n",
    "end = time.time()\n",
    "fit_time = end-start"
   ]
  },
  {
   "cell_type": "code",
   "execution_count": 59,
   "metadata": {
    "scrolled": true
   },
   "outputs": [
    {
     "data": {
      "text/plain": [
       "array([2620522.74823855, 2620522.74823855, 2620522.74823855,\n",
       "       2620522.74823855, 2620522.74823855])"
      ]
     },
     "execution_count": 59,
     "metadata": {},
     "output_type": "execute_result"
    }
   ],
   "source": [
    "start = time.time()\n",
    "y_pred = estimator_trans.predict(X_test)\n",
    "end = time.time()\n",
    "predict_time = end-start\n",
    "\n",
    "y_pred[:5]"
   ]
  },
  {
   "cell_type": "code",
   "execution_count": 60,
   "metadata": {
    "scrolled": true
   },
   "outputs": [
    {
     "name": "stdout",
     "output_type": "stream",
     "text": [
      "score train : -0.1388, score test : -0.1173\n"
     ]
    },
    {
     "data": {
      "text/plain": [
       "[-0.1388, -0.1173]"
      ]
     },
     "execution_count": 60,
     "metadata": {},
     "output_type": "execute_result"
    }
   ],
   "source": [
    "score(estimator_trans,X_train,X_test,y_train,y_test)"
   ]
  },
  {
   "cell_type": "code",
   "execution_count": 61,
   "metadata": {},
   "outputs": [
    {
     "name": "stdout",
     "output_type": "stream",
     "text": [
      "The RMSE is: 11822922.01\n"
     ]
    },
    {
     "data": {
      "text/plain": [
       "11822922.01"
      ]
     },
     "execution_count": 61,
     "metadata": {},
     "output_type": "execute_result"
    }
   ],
   "source": [
    "rmse(y_test,y_pred)"
   ]
  },
  {
   "cell_type": "code",
   "execution_count": 62,
   "metadata": {
    "scrolled": false
   },
   "outputs": [
    {
     "name": "stdout",
     "output_type": "stream",
     "text": [
      "The RMSE is: 11822922.01\n",
      "score train : -0.1388, score test : -0.1173\n"
     ]
    }
   ],
   "source": [
    "append_dic('Lasso_log_target',estimator_trans,errors_df,X_train,X_test,y_train,y_test)"
   ]
  },
  {
   "cell_type": "markdown",
   "metadata": {},
   "source": [
    "## Support Vector Regression<a class=\"anchor\" id=\"SVR\"></a>\n",
    "\n",
    "Nous utilisons maintenat un modèle de prediction non-linéaire.\n",
    "\n",
    "### Standardisation de cible\n",
    "\n",
    "Après avoir eu des résultats invraisemblables sans avoir standardisé la cible, pour ce modèle on décide de standardiser la cible.\n",
    "\n",
    "---\n",
    "Résultats sans cible standardisé :\n",
    "\n",
    "* Meilleurs paramètres : {'C': 10, 'degree': 3, 'epsilon': 0.1, 'gamma': 'scale',  'kernel': 'poly',  'tol': 0.001}\n",
    "* Score R2 du train set : -5990730213234.429\n",
    "* Score R2 de test set : -6792221294505.512\n",
    ")\n"
   ]
  },
  {
   "cell_type": "code",
   "execution_count": 63,
   "metadata": {},
   "outputs": [],
   "source": [
    "sc_trgt = StandardScaler()\n",
    "\n",
    "y_train_scaled = sc_trgt.fit_transform(y_train.values.reshape(len(y_train),1))\n",
    "y_test_scaled = sc_trgt.transform(y_test.values.reshape(len(y_test),1))"
   ]
  },
  {
   "cell_type": "markdown",
   "metadata": {},
   "source": [
    "### Choix d'hyperparamètre : validation croisée"
   ]
  },
  {
   "cell_type": "code",
   "execution_count": 64,
   "metadata": {},
   "outputs": [
    {
     "data": {
      "text/html": [
       "<style>#sk-container-id-3 {color: black;background-color: white;}#sk-container-id-3 pre{padding: 0;}#sk-container-id-3 div.sk-toggleable {background-color: white;}#sk-container-id-3 label.sk-toggleable__label {cursor: pointer;display: block;width: 100%;margin-bottom: 0;padding: 0.3em;box-sizing: border-box;text-align: center;}#sk-container-id-3 label.sk-toggleable__label-arrow:before {content: \"▸\";float: left;margin-right: 0.25em;color: #696969;}#sk-container-id-3 label.sk-toggleable__label-arrow:hover:before {color: black;}#sk-container-id-3 div.sk-estimator:hover label.sk-toggleable__label-arrow:before {color: black;}#sk-container-id-3 div.sk-toggleable__content {max-height: 0;max-width: 0;overflow: hidden;text-align: left;background-color: #f0f8ff;}#sk-container-id-3 div.sk-toggleable__content pre {margin: 0.2em;color: black;border-radius: 0.25em;background-color: #f0f8ff;}#sk-container-id-3 input.sk-toggleable__control:checked~div.sk-toggleable__content {max-height: 200px;max-width: 100%;overflow: auto;}#sk-container-id-3 input.sk-toggleable__control:checked~label.sk-toggleable__label-arrow:before {content: \"▾\";}#sk-container-id-3 div.sk-estimator input.sk-toggleable__control:checked~label.sk-toggleable__label {background-color: #d4ebff;}#sk-container-id-3 div.sk-label input.sk-toggleable__control:checked~label.sk-toggleable__label {background-color: #d4ebff;}#sk-container-id-3 input.sk-hidden--visually {border: 0;clip: rect(1px 1px 1px 1px);clip: rect(1px, 1px, 1px, 1px);height: 1px;margin: -1px;overflow: hidden;padding: 0;position: absolute;width: 1px;}#sk-container-id-3 div.sk-estimator {font-family: monospace;background-color: #f0f8ff;border: 1px dotted black;border-radius: 0.25em;box-sizing: border-box;margin-bottom: 0.5em;}#sk-container-id-3 div.sk-estimator:hover {background-color: #d4ebff;}#sk-container-id-3 div.sk-parallel-item::after {content: \"\";width: 100%;border-bottom: 1px solid gray;flex-grow: 1;}#sk-container-id-3 div.sk-label:hover label.sk-toggleable__label {background-color: #d4ebff;}#sk-container-id-3 div.sk-serial::before {content: \"\";position: absolute;border-left: 1px solid gray;box-sizing: border-box;top: 0;bottom: 0;left: 50%;z-index: 0;}#sk-container-id-3 div.sk-serial {display: flex;flex-direction: column;align-items: center;background-color: white;padding-right: 0.2em;padding-left: 0.2em;position: relative;}#sk-container-id-3 div.sk-item {position: relative;z-index: 1;}#sk-container-id-3 div.sk-parallel {display: flex;align-items: stretch;justify-content: center;background-color: white;position: relative;}#sk-container-id-3 div.sk-item::before, #sk-container-id-3 div.sk-parallel-item::before {content: \"\";position: absolute;border-left: 1px solid gray;box-sizing: border-box;top: 0;bottom: 0;left: 50%;z-index: -1;}#sk-container-id-3 div.sk-parallel-item {display: flex;flex-direction: column;z-index: 1;position: relative;background-color: white;}#sk-container-id-3 div.sk-parallel-item:first-child::after {align-self: flex-end;width: 50%;}#sk-container-id-3 div.sk-parallel-item:last-child::after {align-self: flex-start;width: 50%;}#sk-container-id-3 div.sk-parallel-item:only-child::after {width: 0;}#sk-container-id-3 div.sk-dashed-wrapped {border: 1px dashed gray;margin: 0 0.4em 0.5em 0.4em;box-sizing: border-box;padding-bottom: 0.4em;background-color: white;}#sk-container-id-3 div.sk-label label {font-family: monospace;font-weight: bold;display: inline-block;line-height: 1.2em;}#sk-container-id-3 div.sk-label-container {text-align: center;}#sk-container-id-3 div.sk-container {/* jupyter's `normalize.less` sets `[hidden] { display: none; }` but bootstrap.min.css set `[hidden] { display: none !important; }` so we also need the `!important` here to be able to override the default hidden behavior on the sphinx rendered scikit-learn.org. See: https://github.com/scikit-learn/scikit-learn/issues/21755 */display: inline-block !important;position: relative;}#sk-container-id-3 div.sk-text-repr-fallback {display: none;}</style><div id=\"sk-container-id-3\" class=\"sk-top-container\"><div class=\"sk-text-repr-fallback\"><pre>GridSearchCV(cv=5, estimator=SVR(), n_jobs=-1,\n",
       "             param_grid={&#x27;C&#x27;: [3, 5, 10], &#x27;degree&#x27;: [1, 2, 3], &#x27;epsilon&#x27;: [0.1],\n",
       "                         &#x27;gamma&#x27;: [&#x27;scale&#x27;, &#x27;auto&#x27;],\n",
       "                         &#x27;kernel&#x27;: [&#x27;rbf&#x27;, &#x27;poly&#x27;, &#x27;linear&#x27;, &#x27;sigmoid&#x27;],\n",
       "                         &#x27;tol&#x27;: [0.001]},\n",
       "             return_train_score=True, scoring=&#x27;r2&#x27;)</pre><b>In a Jupyter environment, please rerun this cell to show the HTML representation or trust the notebook. <br />On GitHub, the HTML representation is unable to render, please try loading this page with nbviewer.org.</b></div><div class=\"sk-container\" hidden><div class=\"sk-item sk-dashed-wrapped\"><div class=\"sk-label-container\"><div class=\"sk-label sk-toggleable\"><input class=\"sk-toggleable__control sk-hidden--visually\" id=\"sk-estimator-id-3\" type=\"checkbox\" ><label for=\"sk-estimator-id-3\" class=\"sk-toggleable__label sk-toggleable__label-arrow\">GridSearchCV</label><div class=\"sk-toggleable__content\"><pre>GridSearchCV(cv=5, estimator=SVR(), n_jobs=-1,\n",
       "             param_grid={&#x27;C&#x27;: [3, 5, 10], &#x27;degree&#x27;: [1, 2, 3], &#x27;epsilon&#x27;: [0.1],\n",
       "                         &#x27;gamma&#x27;: [&#x27;scale&#x27;, &#x27;auto&#x27;],\n",
       "                         &#x27;kernel&#x27;: [&#x27;rbf&#x27;, &#x27;poly&#x27;, &#x27;linear&#x27;, &#x27;sigmoid&#x27;],\n",
       "                         &#x27;tol&#x27;: [0.001]},\n",
       "             return_train_score=True, scoring=&#x27;r2&#x27;)</pre></div></div></div><div class=\"sk-parallel\"><div class=\"sk-parallel-item\"><div class=\"sk-item\"><div class=\"sk-label-container\"><div class=\"sk-label sk-toggleable\"><input class=\"sk-toggleable__control sk-hidden--visually\" id=\"sk-estimator-id-4\" type=\"checkbox\" ><label for=\"sk-estimator-id-4\" class=\"sk-toggleable__label sk-toggleable__label-arrow\">estimator: SVR</label><div class=\"sk-toggleable__content\"><pre>SVR()</pre></div></div></div><div class=\"sk-serial\"><div class=\"sk-item\"><div class=\"sk-estimator sk-toggleable\"><input class=\"sk-toggleable__control sk-hidden--visually\" id=\"sk-estimator-id-5\" type=\"checkbox\" ><label for=\"sk-estimator-id-5\" class=\"sk-toggleable__label sk-toggleable__label-arrow\">SVR</label><div class=\"sk-toggleable__content\"><pre>SVR()</pre></div></div></div></div></div></div></div></div></div></div>"
      ],
      "text/plain": [
       "GridSearchCV(cv=5, estimator=SVR(), n_jobs=-1,\n",
       "             param_grid={'C': [3, 5, 10], 'degree': [1, 2, 3], 'epsilon': [0.1],\n",
       "                         'gamma': ['scale', 'auto'],\n",
       "                         'kernel': ['rbf', 'poly', 'linear', 'sigmoid'],\n",
       "                         'tol': [0.001]},\n",
       "             return_train_score=True, scoring='r2')"
      ]
     },
     "execution_count": 64,
     "metadata": {},
     "output_type": "execute_result"
    }
   ],
   "source": [
    "estimator = SVR()\n",
    "\n",
    "# parameters for cross validation\n",
    "params = { 'kernel' : ['rbf','poly','linear', 'sigmoid'],\n",
    "           'degree' : [1,2,3],\n",
    "           'gamma' : ['scale', 'auto'],\n",
    "           'tol' : [1e-3],\n",
    "          'C' : [3,5,10],\n",
    "          'epsilon' : [0.1]  \n",
    "}\n",
    "\n",
    "# cross validation \n",
    "grid = GridSearchCV(estimator,\n",
    "                    params,\n",
    "                    cv=5,\n",
    "                    n_jobs=-1,\n",
    "                    return_train_score=True,\n",
    "                    scoring='r2')\n",
    "\n",
    "grid.fit(X_train,y_train_scaled.ravel())"
   ]
  },
  {
   "cell_type": "code",
   "execution_count": 65,
   "metadata": {
    "scrolled": true
   },
   "outputs": [
    {
     "data": {
      "text/plain": [
       "{'C': 10,\n",
       " 'degree': 1,\n",
       " 'epsilon': 0.1,\n",
       " 'gamma': 'auto',\n",
       " 'kernel': 'rbf',\n",
       " 'tol': 0.001}"
      ]
     },
     "execution_count": 65,
     "metadata": {},
     "output_type": "execute_result"
    }
   ],
   "source": [
    "best_params = grid.best_params_\n",
    "best_params"
   ]
  },
  {
   "cell_type": "markdown",
   "metadata": {},
   "source": [
    "### Entraînement SVR avec meilleurs paramètres"
   ]
  },
  {
   "cell_type": "code",
   "execution_count": 66,
   "metadata": {},
   "outputs": [],
   "source": [
    "estimator = SVR(**best_params)\n",
    "\n",
    "start = time.time()\n",
    "estimator.fit(X_train, y_train_scaled.ravel())\n",
    "end = time.time()\n",
    "fit_time = end-start"
   ]
  },
  {
   "cell_type": "code",
   "execution_count": 67,
   "metadata": {},
   "outputs": [
    {
     "data": {
      "text/plain": [
       "array([-0.55610236, -0.49905576,  0.19077076, -0.53122705,  1.128752  ])"
      ]
     },
     "execution_count": 67,
     "metadata": {},
     "output_type": "execute_result"
    }
   ],
   "source": [
    "start = time.time()\n",
    "y_pred = estimator.predict(X_test)\n",
    "end = time.time()\n",
    "predict_time = end-start\n",
    "\n",
    "y_pred[:5]"
   ]
  },
  {
   "cell_type": "code",
   "execution_count": 68,
   "metadata": {
    "scrolled": true
   },
   "outputs": [
    {
     "name": "stdout",
     "output_type": "stream",
     "text": [
      "Score échantillon train: 0.7330264389936678\n"
     ]
    },
    {
     "data": {
      "text/plain": [
       "0.7330264389936678"
      ]
     },
     "execution_count": 68,
     "metadata": {},
     "output_type": "execute_result"
    }
   ],
   "source": [
    "print(f\"Score échantillon train: {estimator.score(X_train,y_train_scaled)}\")\n",
    "estimator.score(X_train,y_train_scaled)"
   ]
  },
  {
   "cell_type": "code",
   "execution_count": 69,
   "metadata": {},
   "outputs": [
    {
     "name": "stdout",
     "output_type": "stream",
     "text": [
      "Score échantillon test: 0.6146506792870674\n"
     ]
    }
   ],
   "source": [
    "print(f\"Score échantillon test: {estimator.score(X_test,y_test_scaled)}\")\n"
   ]
  },
  {
   "cell_type": "code",
   "execution_count": 70,
   "metadata": {},
   "outputs": [
    {
     "name": "stdout",
     "output_type": "stream",
     "text": [
      "The RMSE is: 9350736.79\n",
      "score train : 0.733, score test : 0.6147\n"
     ]
    }
   ],
   "source": [
    "y_pred = sc_trgt.inverse_transform(y_pred.reshape(-1,1))\n",
    "append_dic('SVR',estimator,errors_df,X_train,X_test,y_train_scaled,y_test_scaled)"
   ]
  },
  {
   "cell_type": "markdown",
   "metadata": {},
   "source": [
    "## Fôrets aléatoires<a class=\"anchor\" id=\"for\"></a>\n",
    "\n",
    "On cherche des paramètres de régularisation\n",
    "\n",
    "### Recherche hyper-paramètres: validation croisée<a class=\"anchor\" id=\"forcv\"></a>"
   ]
  },
  {
   "cell_type": "code",
   "execution_count": 71,
   "metadata": {},
   "outputs": [],
   "source": [
    "estimator = RandomForestRegressor()\n",
    "\n",
    "# parameters for cross validation\n",
    "params = {'n_estimators': [150,200],\n",
    "          'max_depth' : [3,5,7],\n",
    "          'max_samples': [0.85, 0.9]\n",
    "                 \n",
    "}"
   ]
  },
  {
   "cell_type": "code",
   "execution_count": 72,
   "metadata": {
    "scrolled": true
   },
   "outputs": [
    {
     "data": {
      "text/html": [
       "<style>#sk-container-id-4 {color: black;background-color: white;}#sk-container-id-4 pre{padding: 0;}#sk-container-id-4 div.sk-toggleable {background-color: white;}#sk-container-id-4 label.sk-toggleable__label {cursor: pointer;display: block;width: 100%;margin-bottom: 0;padding: 0.3em;box-sizing: border-box;text-align: center;}#sk-container-id-4 label.sk-toggleable__label-arrow:before {content: \"▸\";float: left;margin-right: 0.25em;color: #696969;}#sk-container-id-4 label.sk-toggleable__label-arrow:hover:before {color: black;}#sk-container-id-4 div.sk-estimator:hover label.sk-toggleable__label-arrow:before {color: black;}#sk-container-id-4 div.sk-toggleable__content {max-height: 0;max-width: 0;overflow: hidden;text-align: left;background-color: #f0f8ff;}#sk-container-id-4 div.sk-toggleable__content pre {margin: 0.2em;color: black;border-radius: 0.25em;background-color: #f0f8ff;}#sk-container-id-4 input.sk-toggleable__control:checked~div.sk-toggleable__content {max-height: 200px;max-width: 100%;overflow: auto;}#sk-container-id-4 input.sk-toggleable__control:checked~label.sk-toggleable__label-arrow:before {content: \"▾\";}#sk-container-id-4 div.sk-estimator input.sk-toggleable__control:checked~label.sk-toggleable__label {background-color: #d4ebff;}#sk-container-id-4 div.sk-label input.sk-toggleable__control:checked~label.sk-toggleable__label {background-color: #d4ebff;}#sk-container-id-4 input.sk-hidden--visually {border: 0;clip: rect(1px 1px 1px 1px);clip: rect(1px, 1px, 1px, 1px);height: 1px;margin: -1px;overflow: hidden;padding: 0;position: absolute;width: 1px;}#sk-container-id-4 div.sk-estimator {font-family: monospace;background-color: #f0f8ff;border: 1px dotted black;border-radius: 0.25em;box-sizing: border-box;margin-bottom: 0.5em;}#sk-container-id-4 div.sk-estimator:hover {background-color: #d4ebff;}#sk-container-id-4 div.sk-parallel-item::after {content: \"\";width: 100%;border-bottom: 1px solid gray;flex-grow: 1;}#sk-container-id-4 div.sk-label:hover label.sk-toggleable__label {background-color: #d4ebff;}#sk-container-id-4 div.sk-serial::before {content: \"\";position: absolute;border-left: 1px solid gray;box-sizing: border-box;top: 0;bottom: 0;left: 50%;z-index: 0;}#sk-container-id-4 div.sk-serial {display: flex;flex-direction: column;align-items: center;background-color: white;padding-right: 0.2em;padding-left: 0.2em;position: relative;}#sk-container-id-4 div.sk-item {position: relative;z-index: 1;}#sk-container-id-4 div.sk-parallel {display: flex;align-items: stretch;justify-content: center;background-color: white;position: relative;}#sk-container-id-4 div.sk-item::before, #sk-container-id-4 div.sk-parallel-item::before {content: \"\";position: absolute;border-left: 1px solid gray;box-sizing: border-box;top: 0;bottom: 0;left: 50%;z-index: -1;}#sk-container-id-4 div.sk-parallel-item {display: flex;flex-direction: column;z-index: 1;position: relative;background-color: white;}#sk-container-id-4 div.sk-parallel-item:first-child::after {align-self: flex-end;width: 50%;}#sk-container-id-4 div.sk-parallel-item:last-child::after {align-self: flex-start;width: 50%;}#sk-container-id-4 div.sk-parallel-item:only-child::after {width: 0;}#sk-container-id-4 div.sk-dashed-wrapped {border: 1px dashed gray;margin: 0 0.4em 0.5em 0.4em;box-sizing: border-box;padding-bottom: 0.4em;background-color: white;}#sk-container-id-4 div.sk-label label {font-family: monospace;font-weight: bold;display: inline-block;line-height: 1.2em;}#sk-container-id-4 div.sk-label-container {text-align: center;}#sk-container-id-4 div.sk-container {/* jupyter's `normalize.less` sets `[hidden] { display: none; }` but bootstrap.min.css set `[hidden] { display: none !important; }` so we also need the `!important` here to be able to override the default hidden behavior on the sphinx rendered scikit-learn.org. See: https://github.com/scikit-learn/scikit-learn/issues/21755 */display: inline-block !important;position: relative;}#sk-container-id-4 div.sk-text-repr-fallback {display: none;}</style><div id=\"sk-container-id-4\" class=\"sk-top-container\"><div class=\"sk-text-repr-fallback\"><pre>GridSearchCV(cv=5, estimator=RandomForestRegressor(), n_jobs=-1,\n",
       "             param_grid={&#x27;max_depth&#x27;: [3, 5, 7], &#x27;max_samples&#x27;: [0.85, 0.9],\n",
       "                         &#x27;n_estimators&#x27;: [150, 200]},\n",
       "             return_train_score=True)</pre><b>In a Jupyter environment, please rerun this cell to show the HTML representation or trust the notebook. <br />On GitHub, the HTML representation is unable to render, please try loading this page with nbviewer.org.</b></div><div class=\"sk-container\" hidden><div class=\"sk-item sk-dashed-wrapped\"><div class=\"sk-label-container\"><div class=\"sk-label sk-toggleable\"><input class=\"sk-toggleable__control sk-hidden--visually\" id=\"sk-estimator-id-6\" type=\"checkbox\" ><label for=\"sk-estimator-id-6\" class=\"sk-toggleable__label sk-toggleable__label-arrow\">GridSearchCV</label><div class=\"sk-toggleable__content\"><pre>GridSearchCV(cv=5, estimator=RandomForestRegressor(), n_jobs=-1,\n",
       "             param_grid={&#x27;max_depth&#x27;: [3, 5, 7], &#x27;max_samples&#x27;: [0.85, 0.9],\n",
       "                         &#x27;n_estimators&#x27;: [150, 200]},\n",
       "             return_train_score=True)</pre></div></div></div><div class=\"sk-parallel\"><div class=\"sk-parallel-item\"><div class=\"sk-item\"><div class=\"sk-label-container\"><div class=\"sk-label sk-toggleable\"><input class=\"sk-toggleable__control sk-hidden--visually\" id=\"sk-estimator-id-7\" type=\"checkbox\" ><label for=\"sk-estimator-id-7\" class=\"sk-toggleable__label sk-toggleable__label-arrow\">estimator: RandomForestRegressor</label><div class=\"sk-toggleable__content\"><pre>RandomForestRegressor()</pre></div></div></div><div class=\"sk-serial\"><div class=\"sk-item\"><div class=\"sk-estimator sk-toggleable\"><input class=\"sk-toggleable__control sk-hidden--visually\" id=\"sk-estimator-id-8\" type=\"checkbox\" ><label for=\"sk-estimator-id-8\" class=\"sk-toggleable__label sk-toggleable__label-arrow\">RandomForestRegressor</label><div class=\"sk-toggleable__content\"><pre>RandomForestRegressor()</pre></div></div></div></div></div></div></div></div></div></div>"
      ],
      "text/plain": [
       "GridSearchCV(cv=5, estimator=RandomForestRegressor(), n_jobs=-1,\n",
       "             param_grid={'max_depth': [3, 5, 7], 'max_samples': [0.85, 0.9],\n",
       "                         'n_estimators': [150, 200]},\n",
       "             return_train_score=True)"
      ]
     },
     "execution_count": 72,
     "metadata": {},
     "output_type": "execute_result"
    }
   ],
   "source": [
    "grid = GridSearchCV(estimator,\n",
    "                    params,\n",
    "                    cv=5,\n",
    "                    n_jobs=-1,\n",
    "                    return_train_score=True)\n",
    "\n",
    "grid.fit(X_train,y_train)"
   ]
  },
  {
   "cell_type": "code",
   "execution_count": 73,
   "metadata": {
    "scrolled": true
   },
   "outputs": [
    {
     "data": {
      "text/plain": [
       "{'max_depth': 7, 'max_samples': 0.85, 'n_estimators': 150}"
      ]
     },
     "execution_count": 73,
     "metadata": {},
     "output_type": "execute_result"
    }
   ],
   "source": [
    "best_params = grid.best_params_\n",
    "best_params"
   ]
  },
  {
   "cell_type": "code",
   "execution_count": 74,
   "metadata": {
    "scrolled": true
   },
   "outputs": [
    {
     "data": {
      "text/html": [
       "<div>\n",
       "<style scoped>\n",
       "    .dataframe tbody tr th:only-of-type {\n",
       "        vertical-align: middle;\n",
       "    }\n",
       "\n",
       "    .dataframe tbody tr th {\n",
       "        vertical-align: top;\n",
       "    }\n",
       "\n",
       "    .dataframe thead th {\n",
       "        text-align: right;\n",
       "    }\n",
       "</style>\n",
       "<table border=\"1\" class=\"dataframe\">\n",
       "  <thead>\n",
       "    <tr style=\"text-align: right;\">\n",
       "      <th></th>\n",
       "      <th>mean_fit_time</th>\n",
       "      <th>std_fit_time</th>\n",
       "      <th>mean_score_time</th>\n",
       "      <th>std_score_time</th>\n",
       "      <th>param_max_depth</th>\n",
       "      <th>param_max_samples</th>\n",
       "      <th>param_n_estimators</th>\n",
       "      <th>params</th>\n",
       "      <th>mean_test_score</th>\n",
       "      <th>std_test_score</th>\n",
       "      <th>rank_test_score</th>\n",
       "      <th>mean_train_score</th>\n",
       "      <th>std_train_score</th>\n",
       "    </tr>\n",
       "  </thead>\n",
       "  <tbody>\n",
       "    <tr>\n",
       "      <th>8</th>\n",
       "      <td>0.791810</td>\n",
       "      <td>0.024762</td>\n",
       "      <td>0.023326</td>\n",
       "      <td>0.001659</td>\n",
       "      <td>7</td>\n",
       "      <td>0.85</td>\n",
       "      <td>150</td>\n",
       "      <td>{'max_depth': 7, 'max_samples': 0.85, 'n_estim...</td>\n",
       "      <td>0.660838</td>\n",
       "      <td>0.049251</td>\n",
       "      <td>1</td>\n",
       "      <td>0.879752</td>\n",
       "      <td>0.006879</td>\n",
       "    </tr>\n",
       "    <tr>\n",
       "      <th>10</th>\n",
       "      <td>0.790696</td>\n",
       "      <td>0.022334</td>\n",
       "      <td>0.021093</td>\n",
       "      <td>0.000532</td>\n",
       "      <td>7</td>\n",
       "      <td>0.9</td>\n",
       "      <td>150</td>\n",
       "      <td>{'max_depth': 7, 'max_samples': 0.9, 'n_estima...</td>\n",
       "      <td>0.656347</td>\n",
       "      <td>0.056369</td>\n",
       "      <td>2</td>\n",
       "      <td>0.881533</td>\n",
       "      <td>0.007159</td>\n",
       "    </tr>\n",
       "    <tr>\n",
       "      <th>9</th>\n",
       "      <td>1.078722</td>\n",
       "      <td>0.037477</td>\n",
       "      <td>0.028642</td>\n",
       "      <td>0.001268</td>\n",
       "      <td>7</td>\n",
       "      <td>0.85</td>\n",
       "      <td>200</td>\n",
       "      <td>{'max_depth': 7, 'max_samples': 0.85, 'n_estim...</td>\n",
       "      <td>0.654129</td>\n",
       "      <td>0.051409</td>\n",
       "      <td>3</td>\n",
       "      <td>0.878214</td>\n",
       "      <td>0.006788</td>\n",
       "    </tr>\n",
       "  </tbody>\n",
       "</table>\n",
       "</div>"
      ],
      "text/plain": [
       "    mean_fit_time  std_fit_time  mean_score_time  std_score_time  \\\n",
       "8        0.791810      0.024762         0.023326        0.001659   \n",
       "10       0.790696      0.022334         0.021093        0.000532   \n",
       "9        1.078722      0.037477         0.028642        0.001268   \n",
       "\n",
       "   param_max_depth param_max_samples param_n_estimators  \\\n",
       "8                7              0.85                150   \n",
       "10               7               0.9                150   \n",
       "9                7              0.85                200   \n",
       "\n",
       "                                               params  mean_test_score  \\\n",
       "8   {'max_depth': 7, 'max_samples': 0.85, 'n_estim...         0.660838   \n",
       "10  {'max_depth': 7, 'max_samples': 0.9, 'n_estima...         0.656347   \n",
       "9   {'max_depth': 7, 'max_samples': 0.85, 'n_estim...         0.654129   \n",
       "\n",
       "    std_test_score  rank_test_score  mean_train_score  std_train_score  \n",
       "8         0.049251                1          0.879752         0.006879  \n",
       "10        0.056369                2          0.881533         0.007159  \n",
       "9         0.051409                3          0.878214         0.006788  "
      ]
     },
     "execution_count": 74,
     "metadata": {},
     "output_type": "execute_result"
    }
   ],
   "source": [
    "resultize(grid).head(3)"
   ]
  },
  {
   "cell_type": "markdown",
   "metadata": {},
   "source": [
    "### Graphique résultats validation croisée"
   ]
  },
  {
   "cell_type": "code",
   "execution_count": 75,
   "metadata": {
    "scrolled": false
   },
   "outputs": [
    {
     "data": {
      "image/png": "[encoded data removed]",
      "text/plain": [
       "<Figure size 1008x1008 with 4 Axes>"
      ]
     },
     "metadata": {},
     "output_type": "display_data"
    }
   ],
   "source": [
    "data = resultize(grid)[['mean_fit_time','param_max_depth', \n",
    "                         'param_max_samples', 'param_n_estimators','mean_test_score']]\n",
    "\n",
    "fig = plt.figure(figsize=(14,14))\n",
    "for idx,feat in enumerate(data.columns[:-1]):\n",
    "    ax = fig.add_subplot(3,3, (idx+ 1))\n",
    "    sns.scatterplot(data=data, \n",
    "                    x = data[feat],\n",
    "                    y = data['mean_test_score'],\n",
    "                    color='tab:purple',\n",
    "                    hue = 'param_max_depth',\n",
    "                    ax = ax,\n",
    "                    legend = False,\n",
    "                   palette = 'crest')\n",
    "    ax.set_xlabel(feat)\n",
    "    ax.set_ylabel('Score R2')\n",
    "# last ax is separate from loop\n",
    "# for getting legend info\n",
    "ax = fig.add_subplot(3,3, 9)\n",
    "sns.scatterplot(data=data, \n",
    "                x = data[feat],\n",
    "                y = data['mean_test_score'],\n",
    "                color='tab:purple',\n",
    "                hue = 'param_max_depth',\n",
    "                ax = ax,\n",
    "               palette='mako')\n",
    "ax.set_xlabel(feat)\n",
    "ax.set_ylabel('Score R2')\n",
    "handles, labels = ax.get_legend_handles_labels()    \n",
    "ax.remove()\n",
    "fig.legend(handles, labels, bbox_to_anchor=(0.01, 0.91), title = 'param_max_depth')\n",
    "fig.suptitle('Prédiction Energie \\n Fôrets aléatoires : validation croisée \\n Divers paramètres vs. Score R2', fontsize=17,y=1, color=sns.color_palette('mako')[2])\n",
    "plt.tight_layout()\n",
    "fig.savefig('./img/energy_cv-forest.png',bbox_inches='tight')\n",
    "plt.show()"
   ]
  },
  {
   "cell_type": "markdown",
   "metadata": {},
   "source": [
    "### Entraînement fôret avec meilleurs paramètres<a class=\"anchor\" id=\"forbest\"></a>"
   ]
  },
  {
   "cell_type": "code",
   "execution_count": 76,
   "metadata": {
    "scrolled": true
   },
   "outputs": [
    {
     "data": {
      "text/plain": [
       "array([1872687.4003582 , 4327980.80858542, 8274684.72333963,\n",
       "       2818233.37755967, 9918607.4548259 ])"
      ]
     },
     "execution_count": 76,
     "metadata": {},
     "output_type": "execute_result"
    }
   ],
   "source": [
    "estimator = RandomForestRegressor(**best_params)\n",
    "\n",
    "start = time.time()\n",
    "estimator.fit(X_train, y_train)\n",
    "end = time.time()\n",
    "fit_time = end-start\n",
    "\n",
    "start = time.time()\n",
    "y_pred = estimator.predict(X_test)\n",
    "end = time.time()\n",
    "exec_time = end-start\n",
    "\n",
    "y_pred[:5]"
   ]
  },
  {
   "cell_type": "code",
   "execution_count": 77,
   "metadata": {
    "scrolled": false
   },
   "outputs": [
    {
     "name": "stdout",
     "output_type": "stream",
     "text": [
      "score train : 0.8688, score test : 0.6128\n"
     ]
    },
    {
     "data": {
      "text/plain": [
       "[0.8688, 0.6128]"
      ]
     },
     "execution_count": 77,
     "metadata": {},
     "output_type": "execute_result"
    }
   ],
   "source": [
    "score(estimator,X_train,X_test,y_train,y_test)"
   ]
  },
  {
   "cell_type": "code",
   "execution_count": 78,
   "metadata": {
    "scrolled": true
   },
   "outputs": [
    {
     "name": "stdout",
     "output_type": "stream",
     "text": [
      "The RMSE is: 6960028.93\n"
     ]
    },
    {
     "data": {
      "text/plain": [
       "6960028.93"
      ]
     },
     "execution_count": 78,
     "metadata": {},
     "output_type": "execute_result"
    }
   ],
   "source": [
    "rmse(y_test,y_pred)"
   ]
  },
  {
   "cell_type": "code",
   "execution_count": 79,
   "metadata": {
    "scrolled": false
   },
   "outputs": [
    {
     "name": "stdout",
     "output_type": "stream",
     "text": [
      "The RMSE is: 6960028.93\n",
      "score train : 0.8688, score test : 0.6128\n"
     ]
    }
   ],
   "source": [
    "append_dic('RandomForest_afterCV', estimator,errors_df,X_train,X_test,y_train,y_test)"
   ]
  },
  {
   "cell_type": "markdown",
   "metadata": {},
   "source": [
    "### Feature importance<a class=\"anchor\" id=\"fimp\"></a>\n",
    "\n",
    "Nous allons étudier l'importance des variables interpretée par ce modèle (RandomForest) et par XGBoostRegressor."
   ]
  },
  {
   "cell_type": "code",
   "execution_count": 80,
   "metadata": {},
   "outputs": [],
   "source": [
    "feat_imp = pd.DataFrame({'feature':X.columns, 'feat_importance':estimator.feature_importances_})"
   ]
  },
  {
   "cell_type": "code",
   "execution_count": 81,
   "metadata": {
    "scrolled": false
   },
   "outputs": [
    {
     "data": {
      "text/html": [
       "<div>\n",
       "<style scoped>\n",
       "    .dataframe tbody tr th:only-of-type {\n",
       "        vertical-align: middle;\n",
       "    }\n",
       "\n",
       "    .dataframe tbody tr th {\n",
       "        vertical-align: top;\n",
       "    }\n",
       "\n",
       "    .dataframe thead th {\n",
       "        text-align: right;\n",
       "    }\n",
       "</style>\n",
       "<table border=\"1\" class=\"dataframe\">\n",
       "  <thead>\n",
       "    <tr style=\"text-align: right;\">\n",
       "      <th></th>\n",
       "      <th>feature</th>\n",
       "      <th>feat_importance</th>\n",
       "    </tr>\n",
       "  </thead>\n",
       "  <tbody>\n",
       "    <tr>\n",
       "      <th>5</th>\n",
       "      <td>LargestPropertyUseTypeGFA</td>\n",
       "      <td>0.688843</td>\n",
       "    </tr>\n",
       "    <tr>\n",
       "      <th>6</th>\n",
       "      <td>SecondLargestPropertyUseTypeGFA</td>\n",
       "      <td>0.056088</td>\n",
       "    </tr>\n",
       "    <tr>\n",
       "      <th>0</th>\n",
       "      <td>Latitude</td>\n",
       "      <td>0.037003</td>\n",
       "    </tr>\n",
       "    <tr>\n",
       "      <th>12</th>\n",
       "      <td>BuildType_Hospital/Health/Care</td>\n",
       "      <td>0.031940</td>\n",
       "    </tr>\n",
       "    <tr>\n",
       "      <th>3</th>\n",
       "      <td>NumberofFloors</td>\n",
       "      <td>0.030156</td>\n",
       "    </tr>\n",
       "    <tr>\n",
       "      <th>1</th>\n",
       "      <td>Longitude</td>\n",
       "      <td>0.020291</td>\n",
       "    </tr>\n",
       "    <tr>\n",
       "      <th>14</th>\n",
       "      <td>BuildType_Laboratory</td>\n",
       "      <td>0.017830</td>\n",
       "    </tr>\n",
       "    <tr>\n",
       "      <th>18</th>\n",
       "      <td>BuildType_Other</td>\n",
       "      <td>0.017715</td>\n",
       "    </tr>\n",
       "    <tr>\n",
       "      <th>2</th>\n",
       "      <td>YearAge</td>\n",
       "      <td>0.017373</td>\n",
       "    </tr>\n",
       "    <tr>\n",
       "      <th>4</th>\n",
       "      <td>PropertyGFAParking</td>\n",
       "      <td>0.012403</td>\n",
       "    </tr>\n",
       "    <tr>\n",
       "      <th>10</th>\n",
       "      <td>BuildType_Grocery Store</td>\n",
       "      <td>0.012086</td>\n",
       "    </tr>\n",
       "    <tr>\n",
       "      <th>7</th>\n",
       "      <td>BuildType_Bank/Data</td>\n",
       "      <td>0.007265</td>\n",
       "    </tr>\n",
       "    <tr>\n",
       "      <th>13</th>\n",
       "      <td>BuildType_Hotel</td>\n",
       "      <td>0.005547</td>\n",
       "    </tr>\n",
       "    <tr>\n",
       "      <th>32</th>\n",
       "      <td>BuildSecType_Laboratory</td>\n",
       "      <td>0.005461</td>\n",
       "    </tr>\n",
       "    <tr>\n",
       "      <th>39</th>\n",
       "      <td>BuildSecType_Public Assemb_entert</td>\n",
       "      <td>0.005347</td>\n",
       "    </tr>\n",
       "  </tbody>\n",
       "</table>\n",
       "</div>"
      ],
      "text/plain": [
       "                              feature  feat_importance\n",
       "5           LargestPropertyUseTypeGFA         0.688843\n",
       "6     SecondLargestPropertyUseTypeGFA         0.056088\n",
       "0                            Latitude         0.037003\n",
       "12     BuildType_Hospital/Health/Care         0.031940\n",
       "3                      NumberofFloors         0.030156\n",
       "1                           Longitude         0.020291\n",
       "14               BuildType_Laboratory         0.017830\n",
       "18                    BuildType_Other         0.017715\n",
       "2                             YearAge         0.017373\n",
       "4                  PropertyGFAParking         0.012403\n",
       "10            BuildType_Grocery Store         0.012086\n",
       "7                 BuildType_Bank/Data         0.007265\n",
       "13                    BuildType_Hotel         0.005547\n",
       "32            BuildSecType_Laboratory         0.005461\n",
       "39  BuildSecType_Public Assemb_entert         0.005347"
      ]
     },
     "execution_count": 81,
     "metadata": {},
     "output_type": "execute_result"
    }
   ],
   "source": [
    "feat_imp.sort_values(by='feat_importance', ascending=False).head(15)"
   ]
  },
  {
   "cell_type": "code",
   "execution_count": 82,
   "metadata": {
    "scrolled": false
   },
   "outputs": [
    {
     "data": {
      "image/png": "[encoded data removed]",
      "text/plain": [
       "<Figure size 504x360 with 1 Axes>"
      ]
     },
     "metadata": {},
     "output_type": "display_data"
    }
   ],
   "source": [
    "sorted_data = feat_imp.sort_values(by='feat_importance', \n",
    "                                   ascending=False, \n",
    "                                   ignore_index=True).iloc[:15,:]\n",
    "fig = plt.figure(figsize=(7,5))\n",
    "sns.scatterplot(y = sorted_data.index[::-1], x = sorted_data['feat_importance'])\n",
    "plt.yticks(sorted_data.index[::-1], sorted_data['feature'])\n",
    "plt.title('Feature Importance, Énergie (Gini impurity) \\n calculé par RandomForestRegressor', \n",
    "          fontsize=13, \n",
    "          color = sns.color_palette('mako')[2])\n",
    "fig.savefig('./img/energy_feat_import.png',bbox_inches='tight')\n",
    "plt.show()"
   ]
  },
  {
   "cell_type": "code",
   "execution_count": 179,
   "metadata": {
    "scrolled": false
   },
   "outputs": [
    {
     "data": {
      "image/png": "[encoded data removed]",
      "text/plain": [
       "<Figure size 576x396 with 2 Axes>"
      ]
     },
     "metadata": {},
     "output_type": "display_data"
    }
   ],
   "source": [
    "estimator = XGBRegressor().fit(X, y)\n",
    "\n",
    "explainer = shap.Explainer(estimator)\n",
    "shap_values = explainer(X)\n",
    "\n",
    "shap.plots.beeswarm(shap_values)"
   ]
  },
  {
   "cell_type": "markdown",
   "metadata": {},
   "source": [
    "### RandomForest avec transformation target: log<a class=\"anchor\" id=\"forlog\"></a>"
   ]
  },
  {
   "cell_type": "code",
   "execution_count": 84,
   "metadata": {},
   "outputs": [],
   "source": [
    "estimator_trans = TransformedTargetRegressor(\n",
    "    regressor = RandomForestRegressor(**best_params),\n",
    "    func = np.log1p,\n",
    "    inverse_func = np.expm1\n",
    ")\n",
    "\n",
    "start = time.time()\n",
    "estimator_trans.fit(X_train, y_train)\n",
    "end = time.time()\n",
    "fit_time = end-start"
   ]
  },
  {
   "cell_type": "code",
   "execution_count": 85,
   "metadata": {
    "scrolled": true
   },
   "outputs": [
    {
     "data": {
      "text/plain": [
       "array([ 785599.61751373,  122278.83456233, 4169536.27135035,\n",
       "        190991.087817  , 4922771.01125253])"
      ]
     },
     "execution_count": 85,
     "metadata": {},
     "output_type": "execute_result"
    }
   ],
   "source": [
    "start = time.time()\n",
    "y_pred = estimator_trans.predict(X_test)\n",
    "end = time.time()\n",
    "predict_time = end-start\n",
    "\n",
    "y_pred[:5]"
   ]
  },
  {
   "cell_type": "code",
   "execution_count": 86,
   "metadata": {},
   "outputs": [
    {
     "name": "stdout",
     "output_type": "stream",
     "text": [
      "score train : 0.7353, score test : 0.5577\n"
     ]
    },
    {
     "data": {
      "text/plain": [
       "[0.7353, 0.5577]"
      ]
     },
     "execution_count": 86,
     "metadata": {},
     "output_type": "execute_result"
    }
   ],
   "source": [
    "score(estimator_trans,X_train,X_test,y_train,y_test)"
   ]
  },
  {
   "cell_type": "code",
   "execution_count": 87,
   "metadata": {},
   "outputs": [
    {
     "name": "stdout",
     "output_type": "stream",
     "text": [
      "The RMSE is: 7438506.25\n"
     ]
    },
    {
     "data": {
      "text/plain": [
       "7438506.25"
      ]
     },
     "execution_count": 87,
     "metadata": {},
     "output_type": "execute_result"
    }
   ],
   "source": [
    "rmse(y_test,y_pred)"
   ]
  },
  {
   "cell_type": "code",
   "execution_count": 88,
   "metadata": {
    "scrolled": true
   },
   "outputs": [
    {
     "name": "stdout",
     "output_type": "stream",
     "text": [
      "The RMSE is: 7438506.25\n",
      "score train : 0.7353, score test : 0.5577\n"
     ]
    }
   ],
   "source": [
    "append_dic('RandomForest_log_target',estimator_trans,errors_df,X_train,X_test,y_train,y_test)"
   ]
  },
  {
   "cell_type": "markdown",
   "metadata": {},
   "source": [
    "## XGBoost<a class=\"anchor\" id=\"xgb\"></a>\n",
    "\n",
    "Sans modifications des paramètres par défaut dans un premier temps, pour avoir une idée des performances"
   ]
  },
  {
   "cell_type": "code",
   "execution_count": 89,
   "metadata": {},
   "outputs": [],
   "source": [
    "estimator = XGBRegressor()\n",
    "\n",
    "start = time.time()\n",
    "estimator.fit(X_train, y_train)\n",
    "end = time.time()\n",
    "fit_time = end-start"
   ]
  },
  {
   "cell_type": "code",
   "execution_count": 90,
   "metadata": {},
   "outputs": [
    {
     "data": {
      "text/plain": [
       "array([  451654.44,  2965348.2 ,  8465304.  ,  2087341.2 , 10306042.  ],\n",
       "      dtype=float32)"
      ]
     },
     "execution_count": 90,
     "metadata": {},
     "output_type": "execute_result"
    }
   ],
   "source": [
    "start = time.time()\n",
    "y_pred = estimator.predict(X_test)\n",
    "end = time.time()\n",
    "predict_time = end-start\n",
    "\n",
    "y_pred[:5]"
   ]
  },
  {
   "cell_type": "code",
   "execution_count": 91,
   "metadata": {
    "scrolled": true
   },
   "outputs": [
    {
     "name": "stdout",
     "output_type": "stream",
     "text": [
      "score train : 0.9978, score test : 0.5982\n"
     ]
    },
    {
     "data": {
      "text/plain": [
       "[0.9978, 0.5982]"
      ]
     },
     "execution_count": 91,
     "metadata": {},
     "output_type": "execute_result"
    }
   ],
   "source": [
    "score(estimator,X_train,X_test,y_train,y_test)"
   ]
  },
  {
   "cell_type": "code",
   "execution_count": 92,
   "metadata": {},
   "outputs": [
    {
     "name": "stdout",
     "output_type": "stream",
     "text": [
      "The RMSE is: 7090259.55\n"
     ]
    },
    {
     "data": {
      "text/plain": [
       "7090259.55"
      ]
     },
     "execution_count": 92,
     "metadata": {},
     "output_type": "execute_result"
    }
   ],
   "source": [
    "rmse(y_test,y_pred)"
   ]
  },
  {
   "cell_type": "code",
   "execution_count": 93,
   "metadata": {
    "scrolled": false
   },
   "outputs": [
    {
     "name": "stdout",
     "output_type": "stream",
     "text": [
      "The RMSE is: 7090259.55\n",
      "score train : 0.9978, score test : 0.5982\n"
     ]
    }
   ],
   "source": [
    "append_dic('XGBoost',estimator,errors_df,X_train,X_test,y_train,y_test)"
   ]
  },
  {
   "cell_type": "markdown",
   "metadata": {},
   "source": [
    "## XGBoost régularisé<a class=\"anchor\" id=\"xgbr\"></a>\n",
    "### Recherche de paramètres de régularisation : validation croisée"
   ]
  },
  {
   "cell_type": "code",
   "execution_count": 94,
   "metadata": {},
   "outputs": [],
   "source": [
    "estimator = XGBRegressor()\n",
    "\n",
    "lambdas = np.logspace(-5,5,15)\n",
    "\n",
    "# parameters for cross validation (for regularisation)\n",
    "params = {\n",
    "          'max_depth' : [3,4,5],\n",
    "          'lambda' : lambdas,\n",
    "          'gamma' : [0.01,0.05],\n",
    "          'subsample' : [0.85]\n",
    "}"
   ]
  },
  {
   "cell_type": "code",
   "execution_count": 95,
   "metadata": {
    "scrolled": true
   },
   "outputs": [
    {
     "data": {
      "text/html": [
       "<style>#sk-container-id-5 {color: black;background-color: white;}#sk-container-id-5 pre{padding: 0;}#sk-container-id-5 div.sk-toggleable {background-color: white;}#sk-container-id-5 label.sk-toggleable__label {cursor: pointer;display: block;width: 100%;margin-bottom: 0;padding: 0.3em;box-sizing: border-box;text-align: center;}#sk-container-id-5 label.sk-toggleable__label-arrow:before {content: \"▸\";float: left;margin-right: 0.25em;color: #696969;}#sk-container-id-5 label.sk-toggleable__label-arrow:hover:before {color: black;}#sk-container-id-5 div.sk-estimator:hover label.sk-toggleable__label-arrow:before {color: black;}#sk-container-id-5 div.sk-toggleable__content {max-height: 0;max-width: 0;overflow: hidden;text-align: left;background-color: #f0f8ff;}#sk-container-id-5 div.sk-toggleable__content pre {margin: 0.2em;color: black;border-radius: 0.25em;background-color: #f0f8ff;}#sk-container-id-5 input.sk-toggleable__control:checked~div.sk-toggleable__content {max-height: 200px;max-width: 100%;overflow: auto;}#sk-container-id-5 input.sk-toggleable__control:checked~label.sk-toggleable__label-arrow:before {content: \"▾\";}#sk-container-id-5 div.sk-estimator input.sk-toggleable__control:checked~label.sk-toggleable__label {background-color: #d4ebff;}#sk-container-id-5 div.sk-label input.sk-toggleable__control:checked~label.sk-toggleable__label {background-color: #d4ebff;}#sk-container-id-5 input.sk-hidden--visually {border: 0;clip: rect(1px 1px 1px 1px);clip: rect(1px, 1px, 1px, 1px);height: 1px;margin: -1px;overflow: hidden;padding: 0;position: absolute;width: 1px;}#sk-container-id-5 div.sk-estimator {font-family: monospace;background-color: #f0f8ff;border: 1px dotted black;border-radius: 0.25em;box-sizing: border-box;margin-bottom: 0.5em;}#sk-container-id-5 div.sk-estimator:hover {background-color: #d4ebff;}#sk-container-id-5 div.sk-parallel-item::after {content: \"\";width: 100%;border-bottom: 1px solid gray;flex-grow: 1;}#sk-container-id-5 div.sk-label:hover label.sk-toggleable__label {background-color: #d4ebff;}#sk-container-id-5 div.sk-serial::before {content: \"\";position: absolute;border-left: 1px solid gray;box-sizing: border-box;top: 0;bottom: 0;left: 50%;z-index: 0;}#sk-container-id-5 div.sk-serial {display: flex;flex-direction: column;align-items: center;background-color: white;padding-right: 0.2em;padding-left: 0.2em;position: relative;}#sk-container-id-5 div.sk-item {position: relative;z-index: 1;}#sk-container-id-5 div.sk-parallel {display: flex;align-items: stretch;justify-content: center;background-color: white;position: relative;}#sk-container-id-5 div.sk-item::before, #sk-container-id-5 div.sk-parallel-item::before {content: \"\";position: absolute;border-left: 1px solid gray;box-sizing: border-box;top: 0;bottom: 0;left: 50%;z-index: -1;}#sk-container-id-5 div.sk-parallel-item {display: flex;flex-direction: column;z-index: 1;position: relative;background-color: white;}#sk-container-id-5 div.sk-parallel-item:first-child::after {align-self: flex-end;width: 50%;}#sk-container-id-5 div.sk-parallel-item:last-child::after {align-self: flex-start;width: 50%;}#sk-container-id-5 div.sk-parallel-item:only-child::after {width: 0;}#sk-container-id-5 div.sk-dashed-wrapped {border: 1px dashed gray;margin: 0 0.4em 0.5em 0.4em;box-sizing: border-box;padding-bottom: 0.4em;background-color: white;}#sk-container-id-5 div.sk-label label {font-family: monospace;font-weight: bold;display: inline-block;line-height: 1.2em;}#sk-container-id-5 div.sk-label-container {text-align: center;}#sk-container-id-5 div.sk-container {/* jupyter's `normalize.less` sets `[hidden] { display: none; }` but bootstrap.min.css set `[hidden] { display: none !important; }` so we also need the `!important` here to be able to override the default hidden behavior on the sphinx rendered scikit-learn.org. See: https://github.com/scikit-learn/scikit-learn/issues/21755 */display: inline-block !important;position: relative;}#sk-container-id-5 div.sk-text-repr-fallback {display: none;}</style><div id=\"sk-container-id-5\" class=\"sk-top-container\"><div class=\"sk-text-repr-fallback\"><pre>GridSearchCV(cv=5,\n",
       "             estimator=XGBRegressor(base_score=None, booster=None,\n",
       "                                    callbacks=None, colsample_bylevel=None,\n",
       "                                    colsample_bynode=None,\n",
       "                                    colsample_bytree=None,\n",
       "                                    early_stopping_rounds=None,\n",
       "                                    enable_categorical=False, eval_metric=None,\n",
       "                                    feature_types=None, gamma=None, gpu_id=None,\n",
       "                                    grow_policy=None, importance_type=None,\n",
       "                                    interaction_constraints=None,\n",
       "                                    learning_rate=None, m...\n",
       "                                    predictor=None, random_state=None, ...),\n",
       "             n_jobs=-1,\n",
       "             param_grid={&#x27;gamma&#x27;: [0.01, 0.05],\n",
       "                         &#x27;lambda&#x27;: array([1.00000000e-05, 5.17947468e-05, 2.68269580e-04, 1.38949549e-03,\n",
       "       7.19685673e-03, 3.72759372e-02, 1.93069773e-01, 1.00000000e+00,\n",
       "       5.17947468e+00, 2.68269580e+01, 1.38949549e+02, 7.19685673e+02,\n",
       "       3.72759372e+03, 1.93069773e+04, 1.00000000e+05]),\n",
       "                         &#x27;max_depth&#x27;: [3, 4, 5], &#x27;subsample&#x27;: [0.85]},\n",
       "             return_train_score=True)</pre><b>In a Jupyter environment, please rerun this cell to show the HTML representation or trust the notebook. <br />On GitHub, the HTML representation is unable to render, please try loading this page with nbviewer.org.</b></div><div class=\"sk-container\" hidden><div class=\"sk-item sk-dashed-wrapped\"><div class=\"sk-label-container\"><div class=\"sk-label sk-toggleable\"><input class=\"sk-toggleable__control sk-hidden--visually\" id=\"sk-estimator-id-9\" type=\"checkbox\" ><label for=\"sk-estimator-id-9\" class=\"sk-toggleable__label sk-toggleable__label-arrow\">GridSearchCV</label><div class=\"sk-toggleable__content\"><pre>GridSearchCV(cv=5,\n",
       "             estimator=XGBRegressor(base_score=None, booster=None,\n",
       "                                    callbacks=None, colsample_bylevel=None,\n",
       "                                    colsample_bynode=None,\n",
       "                                    colsample_bytree=None,\n",
       "                                    early_stopping_rounds=None,\n",
       "                                    enable_categorical=False, eval_metric=None,\n",
       "                                    feature_types=None, gamma=None, gpu_id=None,\n",
       "                                    grow_policy=None, importance_type=None,\n",
       "                                    interaction_constraints=None,\n",
       "                                    learning_rate=None, m...\n",
       "                                    predictor=None, random_state=None, ...),\n",
       "             n_jobs=-1,\n",
       "             param_grid={&#x27;gamma&#x27;: [0.01, 0.05],\n",
       "                         &#x27;lambda&#x27;: array([1.00000000e-05, 5.17947468e-05, 2.68269580e-04, 1.38949549e-03,\n",
       "       7.19685673e-03, 3.72759372e-02, 1.93069773e-01, 1.00000000e+00,\n",
       "       5.17947468e+00, 2.68269580e+01, 1.38949549e+02, 7.19685673e+02,\n",
       "       3.72759372e+03, 1.93069773e+04, 1.00000000e+05]),\n",
       "                         &#x27;max_depth&#x27;: [3, 4, 5], &#x27;subsample&#x27;: [0.85]},\n",
       "             return_train_score=True)</pre></div></div></div><div class=\"sk-parallel\"><div class=\"sk-parallel-item\"><div class=\"sk-item\"><div class=\"sk-label-container\"><div class=\"sk-label sk-toggleable\"><input class=\"sk-toggleable__control sk-hidden--visually\" id=\"sk-estimator-id-10\" type=\"checkbox\" ><label for=\"sk-estimator-id-10\" class=\"sk-toggleable__label sk-toggleable__label-arrow\">estimator: XGBRegressor</label><div class=\"sk-toggleable__content\"><pre>XGBRegressor(base_score=None, booster=None, callbacks=None,\n",
       "             colsample_bylevel=None, colsample_bynode=None,\n",
       "             colsample_bytree=None, early_stopping_rounds=None,\n",
       "             enable_categorical=False, eval_metric=None, feature_types=None,\n",
       "             gamma=None, gpu_id=None, grow_policy=None, importance_type=None,\n",
       "             interaction_constraints=None, learning_rate=None, max_bin=None,\n",
       "             max_cat_threshold=None, max_cat_to_onehot=None,\n",
       "             max_delta_step=None, max_depth=None, max_leaves=None,\n",
       "             min_child_weight=None, missing=nan, monotone_constraints=None,\n",
       "             n_estimators=100, n_jobs=None, num_parallel_tree=None,\n",
       "             predictor=None, random_state=None, ...)</pre></div></div></div><div class=\"sk-serial\"><div class=\"sk-item\"><div class=\"sk-estimator sk-toggleable\"><input class=\"sk-toggleable__control sk-hidden--visually\" id=\"sk-estimator-id-11\" type=\"checkbox\" ><label for=\"sk-estimator-id-11\" class=\"sk-toggleable__label sk-toggleable__label-arrow\">XGBRegressor</label><div class=\"sk-toggleable__content\"><pre>XGBRegressor(base_score=None, booster=None, callbacks=None,\n",
       "             colsample_bylevel=None, colsample_bynode=None,\n",
       "             colsample_bytree=None, early_stopping_rounds=None,\n",
       "             enable_categorical=False, eval_metric=None, feature_types=None,\n",
       "             gamma=None, gpu_id=None, grow_policy=None, importance_type=None,\n",
       "             interaction_constraints=None, learning_rate=None, max_bin=None,\n",
       "             max_cat_threshold=None, max_cat_to_onehot=None,\n",
       "             max_delta_step=None, max_depth=None, max_leaves=None,\n",
       "             min_child_weight=None, missing=nan, monotone_constraints=None,\n",
       "             n_estimators=100, n_jobs=None, num_parallel_tree=None,\n",
       "             predictor=None, random_state=None, ...)</pre></div></div></div></div></div></div></div></div></div></div>"
      ],
      "text/plain": [
       "GridSearchCV(cv=5,\n",
       "             estimator=XGBRegressor(base_score=None, booster=None,\n",
       "                                    callbacks=None, colsample_bylevel=None,\n",
       "                                    colsample_bynode=None,\n",
       "                                    colsample_bytree=None,\n",
       "                                    early_stopping_rounds=None,\n",
       "                                    enable_categorical=False, eval_metric=None,\n",
       "                                    feature_types=None, gamma=None, gpu_id=None,\n",
       "                                    grow_policy=None, importance_type=None,\n",
       "                                    interaction_constraints=None,\n",
       "                                    learning_rate=None, m...\n",
       "                                    predictor=None, random_state=None, ...),\n",
       "             n_jobs=-1,\n",
       "             param_grid={'gamma': [0.01, 0.05],\n",
       "                         'lambda': array([1.00000000e-05, 5.17947468e-05, 2.68269580e-04, 1.38949549e-03,\n",
       "       7.19685673e-03, 3.72759372e-02, 1.93069773e-01, 1.00000000e+00,\n",
       "       5.17947468e+00, 2.68269580e+01, 1.38949549e+02, 7.19685673e+02,\n",
       "       3.72759372e+03, 1.93069773e+04, 1.00000000e+05]),\n",
       "                         'max_depth': [3, 4, 5], 'subsample': [0.85]},\n",
       "             return_train_score=True)"
      ]
     },
     "execution_count": 95,
     "metadata": {},
     "output_type": "execute_result"
    }
   ],
   "source": [
    "grid = GridSearchCV(estimator,\n",
    "                    params,\n",
    "                    cv=5,\n",
    "                    n_jobs=-1,\n",
    "                    return_train_score=True)\n",
    "\n",
    "grid.fit(X_train,y_train)"
   ]
  },
  {
   "cell_type": "code",
   "execution_count": 96,
   "metadata": {
    "scrolled": true
   },
   "outputs": [
    {
     "data": {
      "text/plain": [
       "{'gamma': 0.01,\n",
       " 'lambda': 0.037275937203149416,\n",
       " 'max_depth': 3,\n",
       " 'subsample': 0.85}"
      ]
     },
     "execution_count": 96,
     "metadata": {},
     "output_type": "execute_result"
    }
   ],
   "source": [
    "best_params = grid.best_params_\n",
    "best_params"
   ]
  },
  {
   "cell_type": "code",
   "execution_count": 97,
   "metadata": {
    "scrolled": true
   },
   "outputs": [
    {
     "data": {
      "text/html": [
       "<div>\n",
       "<style scoped>\n",
       "    .dataframe tbody tr th:only-of-type {\n",
       "        vertical-align: middle;\n",
       "    }\n",
       "\n",
       "    .dataframe tbody tr th {\n",
       "        vertical-align: top;\n",
       "    }\n",
       "\n",
       "    .dataframe thead th {\n",
       "        text-align: right;\n",
       "    }\n",
       "</style>\n",
       "<table border=\"1\" class=\"dataframe\">\n",
       "  <thead>\n",
       "    <tr style=\"text-align: right;\">\n",
       "      <th></th>\n",
       "      <th>mean_fit_time</th>\n",
       "      <th>std_fit_time</th>\n",
       "      <th>mean_score_time</th>\n",
       "      <th>std_score_time</th>\n",
       "      <th>param_gamma</th>\n",
       "      <th>param_lambda</th>\n",
       "      <th>param_max_depth</th>\n",
       "      <th>param_subsample</th>\n",
       "      <th>params</th>\n",
       "      <th>mean_test_score</th>\n",
       "      <th>std_test_score</th>\n",
       "      <th>rank_test_score</th>\n",
       "      <th>mean_train_score</th>\n",
       "      <th>std_train_score</th>\n",
       "    </tr>\n",
       "  </thead>\n",
       "  <tbody>\n",
       "    <tr>\n",
       "      <th>15</th>\n",
       "      <td>0.287043</td>\n",
       "      <td>0.002720</td>\n",
       "      <td>0.006101</td>\n",
       "      <td>0.000242</td>\n",
       "      <td>0.01</td>\n",
       "      <td>0.037276</td>\n",
       "      <td>3</td>\n",
       "      <td>0.85</td>\n",
       "      <td>{'gamma': 0.01, 'lambda': 0.037275937203149416...</td>\n",
       "      <td>0.623863</td>\n",
       "      <td>0.066107</td>\n",
       "      <td>1</td>\n",
       "      <td>0.970509</td>\n",
       "      <td>0.001592</td>\n",
       "    </tr>\n",
       "    <tr>\n",
       "      <th>60</th>\n",
       "      <td>0.299530</td>\n",
       "      <td>0.005080</td>\n",
       "      <td>0.006187</td>\n",
       "      <td>0.000265</td>\n",
       "      <td>0.05</td>\n",
       "      <td>0.037276</td>\n",
       "      <td>3</td>\n",
       "      <td>0.85</td>\n",
       "      <td>{'gamma': 0.05, 'lambda': 0.037275937203149416...</td>\n",
       "      <td>0.623863</td>\n",
       "      <td>0.066107</td>\n",
       "      <td>1</td>\n",
       "      <td>0.970509</td>\n",
       "      <td>0.001592</td>\n",
       "    </tr>\n",
       "    <tr>\n",
       "      <th>64</th>\n",
       "      <td>0.405763</td>\n",
       "      <td>0.044965</td>\n",
       "      <td>0.006448</td>\n",
       "      <td>0.000577</td>\n",
       "      <td>0.05</td>\n",
       "      <td>0.19307</td>\n",
       "      <td>4</td>\n",
       "      <td>0.85</td>\n",
       "      <td>{'gamma': 0.05, 'lambda': 0.19306977288832497,...</td>\n",
       "      <td>0.614325</td>\n",
       "      <td>0.053497</td>\n",
       "      <td>3</td>\n",
       "      <td>0.989701</td>\n",
       "      <td>0.000861</td>\n",
       "    </tr>\n",
       "  </tbody>\n",
       "</table>\n",
       "</div>"
      ],
      "text/plain": [
       "    mean_fit_time  std_fit_time  mean_score_time  std_score_time param_gamma  \\\n",
       "15       0.287043      0.002720         0.006101        0.000242        0.01   \n",
       "60       0.299530      0.005080         0.006187        0.000265        0.05   \n",
       "64       0.405763      0.044965         0.006448        0.000577        0.05   \n",
       "\n",
       "   param_lambda param_max_depth param_subsample  \\\n",
       "15     0.037276               3            0.85   \n",
       "60     0.037276               3            0.85   \n",
       "64      0.19307               4            0.85   \n",
       "\n",
       "                                               params  mean_test_score  \\\n",
       "15  {'gamma': 0.01, 'lambda': 0.037275937203149416...         0.623863   \n",
       "60  {'gamma': 0.05, 'lambda': 0.037275937203149416...         0.623863   \n",
       "64  {'gamma': 0.05, 'lambda': 0.19306977288832497,...         0.614325   \n",
       "\n",
       "    std_test_score  rank_test_score  mean_train_score  std_train_score  \n",
       "15        0.066107                1          0.970509         0.001592  \n",
       "60        0.066107                1          0.970509         0.001592  \n",
       "64        0.053497                3          0.989701         0.000861  "
      ]
     },
     "execution_count": 97,
     "metadata": {},
     "output_type": "execute_result"
    }
   ],
   "source": [
    "resultize(grid).head(3)"
   ]
  },
  {
   "cell_type": "code",
   "execution_count": 98,
   "metadata": {
    "scrolled": true
   },
   "outputs": [
    {
     "data": {
      "text/html": [
       "<div>\n",
       "<style scoped>\n",
       "    .dataframe tbody tr th:only-of-type {\n",
       "        vertical-align: middle;\n",
       "    }\n",
       "\n",
       "    .dataframe tbody tr th {\n",
       "        vertical-align: top;\n",
       "    }\n",
       "\n",
       "    .dataframe thead th {\n",
       "        text-align: right;\n",
       "    }\n",
       "</style>\n",
       "<table border=\"1\" class=\"dataframe\">\n",
       "  <thead>\n",
       "    <tr style=\"text-align: right;\">\n",
       "      <th></th>\n",
       "      <th>mean_fit_time</th>\n",
       "      <th>std_fit_time</th>\n",
       "      <th>mean_score_time</th>\n",
       "      <th>std_score_time</th>\n",
       "      <th>param_gamma</th>\n",
       "      <th>param_lambda</th>\n",
       "      <th>param_max_depth</th>\n",
       "      <th>param_subsample</th>\n",
       "      <th>params</th>\n",
       "      <th>mean_test_score</th>\n",
       "      <th>std_test_score</th>\n",
       "      <th>rank_test_score</th>\n",
       "      <th>mean_train_score</th>\n",
       "      <th>std_train_score</th>\n",
       "    </tr>\n",
       "  </thead>\n",
       "  <tbody>\n",
       "    <tr>\n",
       "      <th>30</th>\n",
       "      <td>0.321255</td>\n",
       "      <td>0.026186</td>\n",
       "      <td>0.006804</td>\n",
       "      <td>0.000351</td>\n",
       "      <td>0.01</td>\n",
       "      <td>138.949549</td>\n",
       "      <td>3</td>\n",
       "      <td>0.85</td>\n",
       "      <td>{'gamma': 0.01, 'lambda': 138.9495494373139, '...</td>\n",
       "      <td>0.609424</td>\n",
       "      <td>0.060346</td>\n",
       "      <td>11</td>\n",
       "      <td>0.812142</td>\n",
       "      <td>0.007567</td>\n",
       "    </tr>\n",
       "    <tr>\n",
       "      <th>75</th>\n",
       "      <td>0.288893</td>\n",
       "      <td>0.001626</td>\n",
       "      <td>0.006148</td>\n",
       "      <td>0.000170</td>\n",
       "      <td>0.05</td>\n",
       "      <td>138.949549</td>\n",
       "      <td>3</td>\n",
       "      <td>0.85</td>\n",
       "      <td>{'gamma': 0.05, 'lambda': 138.9495494373139, '...</td>\n",
       "      <td>0.609424</td>\n",
       "      <td>0.060346</td>\n",
       "      <td>11</td>\n",
       "      <td>0.812142</td>\n",
       "      <td>0.007567</td>\n",
       "    </tr>\n",
       "    <tr>\n",
       "      <th>76</th>\n",
       "      <td>0.371184</td>\n",
       "      <td>0.003194</td>\n",
       "      <td>0.006176</td>\n",
       "      <td>0.000175</td>\n",
       "      <td>0.05</td>\n",
       "      <td>138.949549</td>\n",
       "      <td>4</td>\n",
       "      <td>0.85</td>\n",
       "      <td>{'gamma': 0.05, 'lambda': 138.9495494373139, '...</td>\n",
       "      <td>0.605733</td>\n",
       "      <td>0.065030</td>\n",
       "      <td>21</td>\n",
       "      <td>0.858940</td>\n",
       "      <td>0.004507</td>\n",
       "    </tr>\n",
       "  </tbody>\n",
       "</table>\n",
       "</div>"
      ],
      "text/plain": [
       "    mean_fit_time  std_fit_time  mean_score_time  std_score_time param_gamma  \\\n",
       "30       0.321255      0.026186         0.006804        0.000351        0.01   \n",
       "75       0.288893      0.001626         0.006148        0.000170        0.05   \n",
       "76       0.371184      0.003194         0.006176        0.000175        0.05   \n",
       "\n",
       "   param_lambda param_max_depth param_subsample  \\\n",
       "30   138.949549               3            0.85   \n",
       "75   138.949549               3            0.85   \n",
       "76   138.949549               4            0.85   \n",
       "\n",
       "                                               params  mean_test_score  \\\n",
       "30  {'gamma': 0.01, 'lambda': 138.9495494373139, '...         0.609424   \n",
       "75  {'gamma': 0.05, 'lambda': 138.9495494373139, '...         0.609424   \n",
       "76  {'gamma': 0.05, 'lambda': 138.9495494373139, '...         0.605733   \n",
       "\n",
       "    std_test_score  rank_test_score  mean_train_score  std_train_score  \n",
       "30        0.060346               11          0.812142         0.007567  \n",
       "75        0.060346               11          0.812142         0.007567  \n",
       "76        0.065030               21          0.858940         0.004507  "
      ]
     },
     "execution_count": 98,
     "metadata": {},
     "output_type": "execute_result"
    }
   ],
   "source": [
    "results = resultize(grid)\n",
    "my_sorted_results = results.loc[(results['mean_train_score']<0.87)].sort_values(by='mean_test_score', ascending=False )\n",
    "my_sorted_results.head(3)"
   ]
  },
  {
   "cell_type": "code",
   "execution_count": 99,
   "metadata": {},
   "outputs": [
    {
     "data": {
      "text/plain": [
       "{'gamma': 0.01, 'lambda': 138.9495494373139, 'max_depth': 3, 'subsample': 0.85}"
      ]
     },
     "execution_count": 99,
     "metadata": {},
     "output_type": "execute_result"
    }
   ],
   "source": [
    "my_best_params = my_sorted_results.iloc[0,:]['params']\n",
    "my_best_params"
   ]
  },
  {
   "cell_type": "markdown",
   "metadata": {},
   "source": [
    "### Entraînement XGBoost avec meilleurs paramètres<a class=\"anchor\" id=\"xgbrbest\"></a>\n"
   ]
  },
  {
   "cell_type": "code",
   "execution_count": 100,
   "metadata": {},
   "outputs": [],
   "source": [
    "estimator = XGBRegressor(**my_best_params)\n",
    "\n",
    "start = time.time()\n",
    "estimator.fit(X_train, y_train)\n",
    "end = time.time()\n",
    "fit_time = end-start"
   ]
  },
  {
   "cell_type": "code",
   "execution_count": 101,
   "metadata": {},
   "outputs": [
    {
     "data": {
      "text/plain": [
       "array([  750273.75,  3511668.8 ,  6763879.5 ,  2338831.8 , 13195286.  ],\n",
       "      dtype=float32)"
      ]
     },
     "execution_count": 101,
     "metadata": {},
     "output_type": "execute_result"
    }
   ],
   "source": [
    "start = time.time()\n",
    "y_pred = estimator.predict(X_test)\n",
    "end = time.time()\n",
    "predict_time = end-start\n",
    "\n",
    "y_pred[:5]"
   ]
  },
  {
   "cell_type": "code",
   "execution_count": 102,
   "metadata": {
    "scrolled": true
   },
   "outputs": [
    {
     "name": "stdout",
     "output_type": "stream",
     "text": [
      "score train : 0.8078, score test : 0.5905\n"
     ]
    },
    {
     "data": {
      "text/plain": [
       "[0.8078, 0.5905]"
      ]
     },
     "execution_count": 102,
     "metadata": {},
     "output_type": "execute_result"
    }
   ],
   "source": [
    "score(estimator,X_train,X_test,y_train,y_test)"
   ]
  },
  {
   "cell_type": "code",
   "execution_count": 103,
   "metadata": {},
   "outputs": [
    {
     "name": "stdout",
     "output_type": "stream",
     "text": [
      "The RMSE is: 7157458.0\n"
     ]
    },
    {
     "data": {
      "text/plain": [
       "7157458.0"
      ]
     },
     "execution_count": 103,
     "metadata": {},
     "output_type": "execute_result"
    }
   ],
   "source": [
    "rmse(y_test,y_pred)"
   ]
  },
  {
   "cell_type": "code",
   "execution_count": 104,
   "metadata": {
    "scrolled": false
   },
   "outputs": [
    {
     "name": "stdout",
     "output_type": "stream",
     "text": [
      "The RMSE is: 7157458.0\n",
      "score train : 0.8078, score test : 0.5905\n"
     ]
    }
   ],
   "source": [
    "append_dic('XGBoost_reg',estimator,errors_df,X_train,X_test,y_train,y_test)"
   ]
  },
  {
   "cell_type": "markdown",
   "metadata": {},
   "source": [
    "## Gradient Boosting<a class=\"anchor\" id=\"gbo\"></a>"
   ]
  },
  {
   "cell_type": "code",
   "execution_count": 105,
   "metadata": {},
   "outputs": [],
   "source": [
    "estimator = GradientBoostingRegressor(random_state=0, learning_rate=0.055)\n",
    "\n",
    "start = time.time()\n",
    "estimator.fit(X_train, y_train)\n",
    "end = time.time()\n",
    "fit_time = end-start"
   ]
  },
  {
   "cell_type": "code",
   "execution_count": 106,
   "metadata": {},
   "outputs": [
    {
     "data": {
      "text/plain": [
       "array([ 1543450.04791731,  3435973.71171007,  6765512.48805564,\n",
       "        2409100.15337697, 12922675.53883196])"
      ]
     },
     "execution_count": 106,
     "metadata": {},
     "output_type": "execute_result"
    }
   ],
   "source": [
    "start = time.time()\n",
    "y_pred = estimator.predict(X_test)\n",
    "end = time.time()\n",
    "predict_time = end-start\n",
    "\n",
    "y_pred[:5]"
   ]
  },
  {
   "cell_type": "code",
   "execution_count": 107,
   "metadata": {},
   "outputs": [
    {
     "name": "stdout",
     "output_type": "stream",
     "text": [
      "score train : 0.8448, score test : 0.6689\n"
     ]
    },
    {
     "data": {
      "text/plain": [
       "[0.8448, 0.6689]"
      ]
     },
     "execution_count": 107,
     "metadata": {},
     "output_type": "execute_result"
    }
   ],
   "source": [
    "score(estimator,X_train,X_test,y_train,y_test)"
   ]
  },
  {
   "cell_type": "code",
   "execution_count": 108,
   "metadata": {
    "scrolled": true
   },
   "outputs": [
    {
     "name": "stdout",
     "output_type": "stream",
     "text": [
      "The RMSE is: 6436379.86\n"
     ]
    },
    {
     "data": {
      "text/plain": [
       "6436379.86"
      ]
     },
     "execution_count": 108,
     "metadata": {},
     "output_type": "execute_result"
    }
   ],
   "source": [
    "rmse(y_test,y_pred)"
   ]
  },
  {
   "cell_type": "code",
   "execution_count": 109,
   "metadata": {},
   "outputs": [
    {
     "name": "stdout",
     "output_type": "stream",
     "text": [
      "The RMSE is: 6436379.86\n",
      "score train : 0.8448, score test : 0.6689\n"
     ]
    }
   ],
   "source": [
    "append_dic('GradientBoosting', estimator,errors_df,X_train,X_test,y_train,y_test)"
   ]
  },
  {
   "cell_type": "markdown",
   "metadata": {},
   "source": [
    "# Comparatif résultats<a class=\"anchor\" id=\"res\"></a>\n",
    "\n",
    "L'information des résultats modélisations organisée par ordre décroissant par rapport au score R2:"
   ]
  },
  {
   "cell_type": "code",
   "execution_count": 110,
   "metadata": {
    "scrolled": false
   },
   "outputs": [
    {
     "data": {
      "text/html": [
       "<div>\n",
       "<style scoped>\n",
       "    .dataframe tbody tr th:only-of-type {\n",
       "        vertical-align: middle;\n",
       "    }\n",
       "\n",
       "    .dataframe tbody tr th {\n",
       "        vertical-align: top;\n",
       "    }\n",
       "\n",
       "    .dataframe thead th {\n",
       "        text-align: right;\n",
       "    }\n",
       "</style>\n",
       "<table border=\"1\" class=\"dataframe\">\n",
       "  <thead>\n",
       "    <tr style=\"text-align: right;\">\n",
       "      <th></th>\n",
       "      <th>Name</th>\n",
       "      <th>Train_R2_score</th>\n",
       "      <th>Test_R2_score</th>\n",
       "      <th>RMSE</th>\n",
       "      <th>Fit_time</th>\n",
       "      <th>Predict_time</th>\n",
       "    </tr>\n",
       "  </thead>\n",
       "  <tbody>\n",
       "    <tr>\n",
       "      <th>1</th>\n",
       "      <td>LinearRegression</td>\n",
       "      <td>0.6719</td>\n",
       "      <td>0.6947</td>\n",
       "      <td>6.180426e+06</td>\n",
       "      <td>0.014066</td>\n",
       "      <td>0.006403</td>\n",
       "    </tr>\n",
       "    <tr>\n",
       "      <th>3</th>\n",
       "      <td>Ridge_afterCV</td>\n",
       "      <td>0.6663</td>\n",
       "      <td>0.6895</td>\n",
       "      <td>6.232314e+06</td>\n",
       "      <td>0.012444</td>\n",
       "      <td>0.004678</td>\n",
       "    </tr>\n",
       "    <tr>\n",
       "      <th>5</th>\n",
       "      <td>Lasso_afterCV</td>\n",
       "      <td>0.6571</td>\n",
       "      <td>0.6764</td>\n",
       "      <td>6.362830e+06</td>\n",
       "      <td>0.009073</td>\n",
       "      <td>0.007636</td>\n",
       "    </tr>\n",
       "    <tr>\n",
       "      <th>12</th>\n",
       "      <td>GradientBoosting</td>\n",
       "      <td>0.8448</td>\n",
       "      <td>0.6689</td>\n",
       "      <td>6.436380e+06</td>\n",
       "      <td>0.190664</td>\n",
       "      <td>0.001850</td>\n",
       "    </tr>\n",
       "    <tr>\n",
       "      <th>7</th>\n",
       "      <td>SVR</td>\n",
       "      <td>0.7330</td>\n",
       "      <td>0.6147</td>\n",
       "      <td>9.350737e+06</td>\n",
       "      <td>0.085466</td>\n",
       "      <td>0.013980</td>\n",
       "    </tr>\n",
       "    <tr>\n",
       "      <th>8</th>\n",
       "      <td>RandomForest_afterCV</td>\n",
       "      <td>0.8688</td>\n",
       "      <td>0.6128</td>\n",
       "      <td>6.960029e+06</td>\n",
       "      <td>0.423573</td>\n",
       "      <td>0.013980</td>\n",
       "    </tr>\n",
       "    <tr>\n",
       "      <th>10</th>\n",
       "      <td>XGBoost</td>\n",
       "      <td>0.9978</td>\n",
       "      <td>0.5982</td>\n",
       "      <td>7.090260e+06</td>\n",
       "      <td>0.152951</td>\n",
       "      <td>0.005583</td>\n",
       "    </tr>\n",
       "    <tr>\n",
       "      <th>11</th>\n",
       "      <td>XGBoost_reg</td>\n",
       "      <td>0.8078</td>\n",
       "      <td>0.5905</td>\n",
       "      <td>7.157458e+06</td>\n",
       "      <td>0.108847</td>\n",
       "      <td>0.003967</td>\n",
       "    </tr>\n",
       "    <tr>\n",
       "      <th>9</th>\n",
       "      <td>RandomForest_log_target</td>\n",
       "      <td>0.7353</td>\n",
       "      <td>0.5577</td>\n",
       "      <td>7.438506e+06</td>\n",
       "      <td>0.417582</td>\n",
       "      <td>0.014509</td>\n",
       "    </tr>\n",
       "    <tr>\n",
       "      <th>0</th>\n",
       "      <td>DummyRegressor</td>\n",
       "      <td>0.0000</td>\n",
       "      <td>-0.0001</td>\n",
       "      <td>1.118565e+07</td>\n",
       "      <td>0.000715</td>\n",
       "      <td>0.000222</td>\n",
       "    </tr>\n",
       "    <tr>\n",
       "      <th>6</th>\n",
       "      <td>Lasso_log_target</td>\n",
       "      <td>-0.1388</td>\n",
       "      <td>-0.1173</td>\n",
       "      <td>1.182292e+07</td>\n",
       "      <td>0.011611</td>\n",
       "      <td>0.009728</td>\n",
       "    </tr>\n",
       "    <tr>\n",
       "      <th>2</th>\n",
       "      <td>LinearRegression_log_target</td>\n",
       "      <td>-61.0221</td>\n",
       "      <td>-1052.4623</td>\n",
       "      <td>3.630409e+08</td>\n",
       "      <td>0.037272</td>\n",
       "      <td>0.004355</td>\n",
       "    </tr>\n",
       "    <tr>\n",
       "      <th>4</th>\n",
       "      <td>Ridge_log_target</td>\n",
       "      <td>-60.1682</td>\n",
       "      <td>-1203.0557</td>\n",
       "      <td>3.881229e+08</td>\n",
       "      <td>0.010859</td>\n",
       "      <td>0.008861</td>\n",
       "    </tr>\n",
       "  </tbody>\n",
       "</table>\n",
       "</div>"
      ],
      "text/plain": [
       "                           Name  Train_R2_score  Test_R2_score          RMSE  \\\n",
       "1              LinearRegression          0.6719         0.6947  6.180426e+06   \n",
       "3                 Ridge_afterCV          0.6663         0.6895  6.232314e+06   \n",
       "5                 Lasso_afterCV          0.6571         0.6764  6.362830e+06   \n",
       "12             GradientBoosting          0.8448         0.6689  6.436380e+06   \n",
       "7                           SVR          0.7330         0.6147  9.350737e+06   \n",
       "8          RandomForest_afterCV          0.8688         0.6128  6.960029e+06   \n",
       "10                      XGBoost          0.9978         0.5982  7.090260e+06   \n",
       "11                  XGBoost_reg          0.8078         0.5905  7.157458e+06   \n",
       "9       RandomForest_log_target          0.7353         0.5577  7.438506e+06   \n",
       "0                DummyRegressor          0.0000        -0.0001  1.118565e+07   \n",
       "6              Lasso_log_target         -0.1388        -0.1173  1.182292e+07   \n",
       "2   LinearRegression_log_target        -61.0221     -1052.4623  3.630409e+08   \n",
       "4              Ridge_log_target        -60.1682     -1203.0557  3.881229e+08   \n",
       "\n",
       "    Fit_time  Predict_time  \n",
       "1   0.014066      0.006403  \n",
       "3   0.012444      0.004678  \n",
       "5   0.009073      0.007636  \n",
       "12  0.190664      0.001850  \n",
       "7   0.085466      0.013980  \n",
       "8   0.423573      0.013980  \n",
       "10  0.152951      0.005583  \n",
       "11  0.108847      0.003967  \n",
       "9   0.417582      0.014509  \n",
       "0   0.000715      0.000222  \n",
       "6   0.011611      0.009728  \n",
       "2   0.037272      0.004355  \n",
       "4   0.010859      0.008861  "
      ]
     },
     "execution_count": 110,
     "metadata": {},
     "output_type": "execute_result"
    }
   ],
   "source": [
    "errors_real_df= pd.DataFrame(errors_df)\n",
    "errors_real_df.sort_values(by='Test_R2_score', ascending=False)"
   ]
  },
  {
   "cell_type": "markdown",
   "metadata": {},
   "source": [
    "## Comparatif du score R2<a class=\"anchor\" id=\"r2\"></a>\n",
    "\n",
    "Dans le graphe suivant nous comparons le score R2 pour les données d'entraînement et d'évaluation (test).\n",
    "\n",
    "Le premier graphe n'est pas très parlant car il contient des scores de grande valeur absolue:"
   ]
  },
  {
   "cell_type": "code",
   "execution_count": 111,
   "metadata": {
    "scrolled": false
   },
   "outputs": [
    {
     "data": {
      "image/png": "[encoded data removed]",
      "text/plain": [
       "<Figure size 432x288 with 1 Axes>"
      ]
     },
     "metadata": {},
     "output_type": "display_data"
    }
   ],
   "source": [
    "data = errors_real_df.sort_values(by='Test_R2_score').reset_index().copy()\n",
    "\n",
    "legend_handles = [mlines.Line2D([], [], color=sns.color_palette()[0], \n",
    "                                marker='o',linestyle='None', \n",
    "                                markersize=8, label='Train'),\n",
    "                  mlines.Line2D([], [], color=sns.color_palette()[1], \n",
    "                                marker='o',linestyle='None', \n",
    "                                markersize=8, label='Test')]\n",
    "                 \n",
    "\n",
    "sns.scatterplot(data=data,\n",
    "                y = data.index,\n",
    "                x = 'Train_R2_score',\n",
    "                s=70)\n",
    "\n",
    "sns.scatterplot(data=data,\n",
    "                y = data.index,\n",
    "                x = 'Test_R2_score',\n",
    "                s=70)\n",
    "\n",
    "sns.set(rc={'figure.figsize':(7,7)})\n",
    "plt.yticks(data.index, data['Name'])\n",
    "plt.ylabel('Modèle')\n",
    "plt.xlabel('R2-Score')\n",
    "plt.suptitle('Prédiction Énergie \\n Résultats : score R2 par modèle \\n (incluant les mauvais résultats)', fontsize=14,y=1, color=sns.color_palette('mako')[2])\n",
    "plt.legend(handles=legend_handles, bbox_to_anchor=(1.02, 1), title='Échantillon')\n",
    "plt.savefig('./img/energy_r2_all.png',bbox_inches='tight')\n",
    "plt.show()"
   ]
  },
  {
   "cell_type": "code",
   "execution_count": 112,
   "metadata": {
    "scrolled": false
   },
   "outputs": [
    {
     "data": {
      "image/png": "[encoded data removed]",
      "text/plain": [
       "<Figure size 504x504 with 1 Axes>"
      ]
     },
     "metadata": {},
     "output_type": "display_data"
    }
   ],
   "source": [
    "data = errors_real_df.sort_values(by='Test_R2_score').reset_index().copy()\n",
    "data = data.loc[data['Name'].isin(['Ridge_log_target',\n",
    "                                  'LinearRegression_log_target',\n",
    "                                  'Lasso_log_target']) == False]\n",
    "data.reset_index(inplace=True)\n",
    "\n",
    "legend_handles = [mlines.Line2D([], [], color=sns.color_palette()[0], \n",
    "                                marker='o',linestyle='None', \n",
    "                                markersize=8, label='Train'),\n",
    "                  mlines.Line2D([], [], color=sns.color_palette()[1], \n",
    "                                marker='o',linestyle='None', \n",
    "                                markersize=8, label='Test')]\n",
    "                 \n",
    "\n",
    "sns.scatterplot(data= data,\n",
    "                y = data.index,\n",
    "                x = 'Train_R2_score',\n",
    "                s=70)\n",
    "\n",
    "sns.scatterplot(data= data,\n",
    "                y = data.index,\n",
    "                x = 'Test_R2_score',\n",
    "                s=70)\n",
    "sns.set(rc={'figure.figsize':(7,5)})\n",
    "plt.yticks(data.index, data['Name'])\n",
    "plt.xticks(np.linspace(0,1,11))\n",
    "plt.ylabel('Modèle')\n",
    "plt.xlabel('R2-Score')\n",
    "plt.suptitle('Prédiction Énergie \\n Résultats : score R2 par modèle', fontsize=14, y=0.98, color=sns.color_palette('mako')[2])\n",
    "plt.legend(handles=legend_handles, bbox_to_anchor=(1.25, 1), title='Échantillon')\n",
    "plt.savefig('./img/energy_r2.png',bbox_inches='tight')\n",
    "plt.show()"
   ]
  },
  {
   "cell_type": "markdown",
   "metadata": {},
   "source": [
    "## Comparaison du RMSE<a class=\"anchor\" id=\"rmse\"></a>\n",
    "(Racine de l'erreur quadratique moyenne)\n"
   ]
  },
  {
   "cell_type": "code",
   "execution_count": 113,
   "metadata": {
    "scrolled": false
   },
   "outputs": [
    {
     "data": {
      "image/png": "[encoded data removed]",
      "text/plain": [
       "<Figure size 432x432 with 1 Axes>"
      ]
     },
     "metadata": {},
     "output_type": "display_data"
    }
   ],
   "source": [
    "data = errors_real_df.sort_values(by='RMSE',ascending=False).reset_index().copy()\n",
    "\n",
    "fig, ax = plt.subplots(figsize=(6,6))\n",
    "sns.scatterplot(data=data, \n",
    "            y=data.index, \n",
    "            x = 'RMSE',\n",
    "            ax=ax,\n",
    "            s=75)\n",
    "ax.set_yticks(data.index) # <--- set the ticks first\n",
    "ax.set_yticklabels(data['Name'])\n",
    "plt.xlabel('RMSE')\n",
    "plt.ylabel('Modèle')\n",
    "ax.set_title(\"Prédiction Énergie \\n Racine de l'erreur quadratique moyenne (RMSE)\",fontdict={'fontsize': 14}, color = sns.color_palette('mako')[2])\n",
    "fig.savefig('./img/energy_rmse.png',bbox_inches='tight')\n",
    "plt.show()"
   ]
  },
  {
   "cell_type": "code",
   "execution_count": 114,
   "metadata": {},
   "outputs": [
    {
     "data": {
      "image/png": "[encoded data removed]",
      "text/plain": [
       "<Figure size 432x432 with 1 Axes>"
      ]
     },
     "metadata": {},
     "output_type": "display_data"
    }
   ],
   "source": [
    "data = errors_real_df.sort_values(by='RMSE',ascending=False).reset_index().copy()\n",
    "\n",
    "fig, ax = plt.subplots(figsize=(6,6))\n",
    "sns.scatterplot(data=data, \n",
    "            y=data.index, \n",
    "            x = np.log(data['RMSE']),\n",
    "            ax=ax,\n",
    "            s=75)\n",
    "ax.set_yticks(data.index) # <--- set the ticks first\n",
    "ax.set_yticklabels(data['Name'])\n",
    "plt.xlabel('log de RMSE')\n",
    "plt.ylabel('Modèle')\n",
    "ax.set_title(\"Prédiction Énergie \\n Log de la racine de l'erreur quadratique moyenne (RMSE)\",fontdict={'fontsize': 14}, color=sns.color_palette('mako')[2])\n",
    "fig.savefig('./img/energy_log_rmse.png',bbox_inches='tight')\n",
    "plt.show()"
   ]
  },
  {
   "cell_type": "markdown",
   "metadata": {},
   "source": [
    "Nous avons un meilleur aperçu en enlevent ces mauvais résultats :"
   ]
  },
  {
   "cell_type": "markdown",
   "metadata": {},
   "source": [
    "# Ajout de variable EnergyScore<a class=\"anchor\" id=\"ene\"></a>\n",
    "\n",
    "Les predictions précédantes ne contenaient pas la variable `ENERGYSTARScore`. Selon [les informations](https://data.seattle.gov/dataset/2016-Building-Energy-Benchmarking/2bpz-gwpy) officielles :\n",
    "\n",
    "> *C'est une note de 1 à 100 calculée par l'EPA qui évalue la performance énergétique globale d'un bien immobilier, sur la base de données nationales permettant de contrôler les différences entre le climat, les utilisations et les opérations du bâtiment. Un score de 50 représente la médiane nationale.*\n",
    "\n",
    "Nous allons maintenant rajouter cette variable pour évaluer son intérêt."
   ]
  },
  {
   "cell_type": "markdown",
   "metadata": {},
   "source": [
    "## Lecture données"
   ]
  },
  {
   "cell_type": "code",
   "execution_count": 115,
   "metadata": {},
   "outputs": [],
   "source": [
    "path     = './data/cleaned/'\n",
    "filename = 'building_data_clean.csv'\n",
    "df = pd.read_csv(path + filename)"
   ]
  },
  {
   "cell_type": "markdown",
   "metadata": {},
   "source": [
    "##  Choix features (avec EnergyScore)\n",
    "\n",
    "Choix de données structurels pour prédiction de consommation totale d'énergie:\n",
    "\n",
    "| Feature                         | Choisi  | à prédire |\n",
    "|---------------------------------|---------|-----------|\n",
    "| Latitude                        |  x |  |\n",
    "| Longitude                       |  x |  |\n",
    "| YearBuilt                       |  x |  |\n",
    "| NumberofFloors                  |  x |  |\n",
    "| PropertyGFAParking              |  x |  |\n",
    "| BuildType          |  x |  |\n",
    "| BuildSecType          |  x |  |\n",
    "| LargestPropertyUseTypeGFA       |  x |  |\n",
    "| **ENERGYSTARScore**                |   **x** |  |\n",
    "| SiteEnergyUse(kBtu)             |    | x |\n",
    "| TotalGHGEmissions               |    |  |\n"
   ]
  },
  {
   "cell_type": "code",
   "execution_count": 116,
   "metadata": {},
   "outputs": [
    {
     "name": "stdout",
     "output_type": "stream",
     "text": [
      "X_train est de forme (834, 37), et y_train : (834,) \n",
      "X_test est de forme (209, 37), et y_test : (209,) \n"
     ]
    }
   ],
   "source": [
    "# Renommer le target\n",
    "df = df.rename(columns={'SiteEnergyUse(kBtu)' : 'target'})\n",
    "\n",
    "# Traslation d'une variable\n",
    "df['YearAge'] = df['YearBuilt'].max() - df['YearBuilt']\n",
    "df.drop(columns='YearBuilt', inplace=True)\n",
    "\n",
    "# Sélection des features\n",
    "features = ['Latitude', 'Longitude','YearAge', 'NumberofFloors', \n",
    "            'PropertyGFAParking','BuildType', 'LargestPropertyUseTypeGFA',\n",
    "           'BuildSecType','SecondLargestPropertyUseTypeGFA','ENERGYSTARScore']\n",
    "\n",
    "# Suppression des individus à valeurs EnergyStarScore manquantes\n",
    "df.dropna(inplace=True)\n",
    "\n",
    "# Matrice de features X et target y\n",
    "X = df[features]\n",
    "y = df.target.copy()\n",
    "\n",
    "# Codage des variables qualitatives\n",
    "num_feat = X.select_dtypes(include=np.number).columns # Enregistrer les labes des var. num.\n",
    "X = pd.get_dummies(X)\n",
    "\n",
    "# Séparation: train test\n",
    "X_train, X_test, y_train, y_test = train_test_split(X,\n",
    "                                                    y, \n",
    "                                                    test_size=0.2, \n",
    "                                                    random_state=88)\n",
    "\n",
    "print(f'X_train est de forme {X_train.shape}, et y_train : {y_train.shape} ')\n",
    "print(f'X_test est de forme {X_test.shape}, et y_test : {y_test.shape} ')\n",
    "\n",
    "# Standardisation des variables\n",
    "sc = StandardScaler()\n",
    "X_train[num_feat] = sc.fit_transform(X_train[num_feat])\n",
    "X_test[num_feat] = sc.transform(X_test[num_feat])"
   ]
  },
  {
   "cell_type": "markdown",
   "metadata": {},
   "source": [
    "## Modelisation avec EnergyStarScore"
   ]
  },
  {
   "cell_type": "code",
   "execution_count": 117,
   "metadata": {},
   "outputs": [],
   "source": [
    "new_errors_df = {'Name': [],\n",
    "             'Train_R2_score':[],\n",
    "             'Test_R2_score':[],\n",
    "             'RMSE' : [],\n",
    "             'Fit_time' : [],\n",
    "             'Predict_time': []}"
   ]
  },
  {
   "cell_type": "markdown",
   "metadata": {},
   "source": [
    "## Dummy regressor (avec EnergyScore)"
   ]
  },
  {
   "cell_type": "code",
   "execution_count": 118,
   "metadata": {},
   "outputs": [],
   "source": [
    "estimator = DummyRegressor(strategy='mean')\n",
    "\n",
    "start = time.time()\n",
    "estimator.fit(X_train, y_train)\n",
    "end = time.time()\n",
    "fit_time = end-start"
   ]
  },
  {
   "cell_type": "code",
   "execution_count": 119,
   "metadata": {
    "scrolled": true
   },
   "outputs": [
    {
     "data": {
      "text/plain": [
       "array([6655418.51356652, 6655418.51356652, 6655418.51356652,\n",
       "       6655418.51356652, 6655418.51356652])"
      ]
     },
     "execution_count": 119,
     "metadata": {},
     "output_type": "execute_result"
    }
   ],
   "source": [
    "start = time.time()\n",
    "y_pred = estimator.predict(X_test)\n",
    "end = time.time()\n",
    "predict_time = end-start\n",
    "\n",
    "y_pred[:5]"
   ]
  },
  {
   "cell_type": "code",
   "execution_count": 120,
   "metadata": {
    "scrolled": true
   },
   "outputs": [
    {
     "name": "stdout",
     "output_type": "stream",
     "text": [
      "score train : 0.0, score test : -0.0062\n"
     ]
    },
    {
     "data": {
      "text/plain": [
       "[0.0, -0.0062]"
      ]
     },
     "execution_count": 120,
     "metadata": {},
     "output_type": "execute_result"
    }
   ],
   "source": [
    "score(estimator,X_train,X_test,y_train,y_test)"
   ]
  },
  {
   "cell_type": "code",
   "execution_count": 121,
   "metadata": {
    "scrolled": false
   },
   "outputs": [
    {
     "name": "stdout",
     "output_type": "stream",
     "text": [
      "The RMSE is: 9990923.04\n",
      "score train : 0.0, score test : -0.0062\n"
     ]
    }
   ],
   "source": [
    "append_dic('DummyRegressor', estimator,new_errors_df,X_train,X_test,y_train,y_test)"
   ]
  },
  {
   "cell_type": "markdown",
   "metadata": {},
   "source": [
    "## Regression linéaire simple (avec EnergyScore)"
   ]
  },
  {
   "cell_type": "code",
   "execution_count": 122,
   "metadata": {},
   "outputs": [],
   "source": [
    "estimator = LinearRegression()\n",
    "\n",
    "start = time.time()\n",
    "estimator.fit(X_train, y_train)\n",
    "end = time.time()\n",
    "fit_time = end-start"
   ]
  },
  {
   "cell_type": "code",
   "execution_count": 123,
   "metadata": {
    "scrolled": true
   },
   "outputs": [
    {
     "data": {
      "text/plain": [
       "array([ -182391.41589518,  4117701.56904536,  3192242.87069351,\n",
       "       -4201038.94292465,  1397403.12367783])"
      ]
     },
     "execution_count": 123,
     "metadata": {},
     "output_type": "execute_result"
    }
   ],
   "source": [
    "start = time.time()\n",
    "y_pred = estimator.predict(X_test)\n",
    "end = time.time()\n",
    "predict_time = end-start\n",
    "\n",
    "y_pred[:5]"
   ]
  },
  {
   "cell_type": "code",
   "execution_count": 124,
   "metadata": {
    "scrolled": true
   },
   "outputs": [
    {
     "name": "stdout",
     "output_type": "stream",
     "text": [
      "score train : 0.8011, score test : 0.7332\n"
     ]
    },
    {
     "data": {
      "text/plain": [
       "[0.8011, 0.7332]"
      ]
     },
     "execution_count": 124,
     "metadata": {},
     "output_type": "execute_result"
    }
   ],
   "source": [
    "score(estimator,X_train,X_test,y_train,y_test)"
   ]
  },
  {
   "cell_type": "code",
   "execution_count": 125,
   "metadata": {
    "scrolled": true
   },
   "outputs": [
    {
     "name": "stdout",
     "output_type": "stream",
     "text": [
      "The RMSE is: 5144866.79\n",
      "score train : 0.8011, score test : 0.7332\n"
     ]
    }
   ],
   "source": [
    "append_dic('LinearRegression', estimator, new_errors_df,X_train,X_test,y_train,y_test)"
   ]
  },
  {
   "cell_type": "markdown",
   "metadata": {},
   "source": [
    "## Regression ridge (avec EnergyScore)\n",
    "\n",
    "### Choix d'hyperparamètres: Validation croisée"
   ]
  },
  {
   "cell_type": "code",
   "execution_count": 126,
   "metadata": {},
   "outputs": [
    {
     "data": {
      "text/html": [
       "<style>#sk-container-id-6 {color: black;background-color: white;}#sk-container-id-6 pre{padding: 0;}#sk-container-id-6 div.sk-toggleable {background-color: white;}#sk-container-id-6 label.sk-toggleable__label {cursor: pointer;display: block;width: 100%;margin-bottom: 0;padding: 0.3em;box-sizing: border-box;text-align: center;}#sk-container-id-6 label.sk-toggleable__label-arrow:before {content: \"▸\";float: left;margin-right: 0.25em;color: #696969;}#sk-container-id-6 label.sk-toggleable__label-arrow:hover:before {color: black;}#sk-container-id-6 div.sk-estimator:hover label.sk-toggleable__label-arrow:before {color: black;}#sk-container-id-6 div.sk-toggleable__content {max-height: 0;max-width: 0;overflow: hidden;text-align: left;background-color: #f0f8ff;}#sk-container-id-6 div.sk-toggleable__content pre {margin: 0.2em;color: black;border-radius: 0.25em;background-color: #f0f8ff;}#sk-container-id-6 input.sk-toggleable__control:checked~div.sk-toggleable__content {max-height: 200px;max-width: 100%;overflow: auto;}#sk-container-id-6 input.sk-toggleable__control:checked~label.sk-toggleable__label-arrow:before {content: \"▾\";}#sk-container-id-6 div.sk-estimator input.sk-toggleable__control:checked~label.sk-toggleable__label {background-color: #d4ebff;}#sk-container-id-6 div.sk-label input.sk-toggleable__control:checked~label.sk-toggleable__label {background-color: #d4ebff;}#sk-container-id-6 input.sk-hidden--visually {border: 0;clip: rect(1px 1px 1px 1px);clip: rect(1px, 1px, 1px, 1px);height: 1px;margin: -1px;overflow: hidden;padding: 0;position: absolute;width: 1px;}#sk-container-id-6 div.sk-estimator {font-family: monospace;background-color: #f0f8ff;border: 1px dotted black;border-radius: 0.25em;box-sizing: border-box;margin-bottom: 0.5em;}#sk-container-id-6 div.sk-estimator:hover {background-color: #d4ebff;}#sk-container-id-6 div.sk-parallel-item::after {content: \"\";width: 100%;border-bottom: 1px solid gray;flex-grow: 1;}#sk-container-id-6 div.sk-label:hover label.sk-toggleable__label {background-color: #d4ebff;}#sk-container-id-6 div.sk-serial::before {content: \"\";position: absolute;border-left: 1px solid gray;box-sizing: border-box;top: 0;bottom: 0;left: 50%;z-index: 0;}#sk-container-id-6 div.sk-serial {display: flex;flex-direction: column;align-items: center;background-color: white;padding-right: 0.2em;padding-left: 0.2em;position: relative;}#sk-container-id-6 div.sk-item {position: relative;z-index: 1;}#sk-container-id-6 div.sk-parallel {display: flex;align-items: stretch;justify-content: center;background-color: white;position: relative;}#sk-container-id-6 div.sk-item::before, #sk-container-id-6 div.sk-parallel-item::before {content: \"\";position: absolute;border-left: 1px solid gray;box-sizing: border-box;top: 0;bottom: 0;left: 50%;z-index: -1;}#sk-container-id-6 div.sk-parallel-item {display: flex;flex-direction: column;z-index: 1;position: relative;background-color: white;}#sk-container-id-6 div.sk-parallel-item:first-child::after {align-self: flex-end;width: 50%;}#sk-container-id-6 div.sk-parallel-item:last-child::after {align-self: flex-start;width: 50%;}#sk-container-id-6 div.sk-parallel-item:only-child::after {width: 0;}#sk-container-id-6 div.sk-dashed-wrapped {border: 1px dashed gray;margin: 0 0.4em 0.5em 0.4em;box-sizing: border-box;padding-bottom: 0.4em;background-color: white;}#sk-container-id-6 div.sk-label label {font-family: monospace;font-weight: bold;display: inline-block;line-height: 1.2em;}#sk-container-id-6 div.sk-label-container {text-align: center;}#sk-container-id-6 div.sk-container {/* jupyter's `normalize.less` sets `[hidden] { display: none; }` but bootstrap.min.css set `[hidden] { display: none !important; }` so we also need the `!important` here to be able to override the default hidden behavior on the sphinx rendered scikit-learn.org. See: https://github.com/scikit-learn/scikit-learn/issues/21755 */display: inline-block !important;position: relative;}#sk-container-id-6 div.sk-text-repr-fallback {display: none;}</style><div id=\"sk-container-id-6\" class=\"sk-top-container\"><div class=\"sk-text-repr-fallback\"><pre>RidgeCV(alphas=array([1.00000000e-05, 1.59985872e-05, 2.55954792e-05, 4.09491506e-05,\n",
       "       6.55128557e-05, 1.04811313e-04, 1.67683294e-04, 2.68269580e-04,\n",
       "       4.29193426e-04, 6.86648845e-04, 1.09854114e-03, 1.75751062e-03,\n",
       "       2.81176870e-03, 4.49843267e-03, 7.19685673e-03, 1.15139540e-02,\n",
       "       1.84206997e-02, 2.94705170e-02, 4.71486636e-02, 7.54312006e-02,\n",
       "       1.20679264e-01, 1.93069773e-0...\n",
       "       5.17947468e+00, 8.28642773e+00, 1.32571137e+01, 2.12095089e+01,\n",
       "       3.39322177e+01, 5.42867544e+01, 8.68511374e+01, 1.38949549e+02,\n",
       "       2.22299648e+02, 3.55648031e+02, 5.68986603e+02, 9.10298178e+02,\n",
       "       1.45634848e+03, 2.32995181e+03, 3.72759372e+03, 5.96362332e+03,\n",
       "       9.54095476e+03, 1.52641797e+04, 2.44205309e+04, 3.90693994e+04,\n",
       "       6.25055193e+04, 1.00000000e+05]),\n",
       "        cv=5, scoring=&#x27;r2&#x27;)</pre><b>In a Jupyter environment, please rerun this cell to show the HTML representation or trust the notebook. <br />On GitHub, the HTML representation is unable to render, please try loading this page with nbviewer.org.</b></div><div class=\"sk-container\" hidden><div class=\"sk-item\"><div class=\"sk-estimator sk-toggleable\"><input class=\"sk-toggleable__control sk-hidden--visually\" id=\"sk-estimator-id-12\" type=\"checkbox\" checked><label for=\"sk-estimator-id-12\" class=\"sk-toggleable__label sk-toggleable__label-arrow\">RidgeCV</label><div class=\"sk-toggleable__content\"><pre>RidgeCV(alphas=array([1.00000000e-05, 1.59985872e-05, 2.55954792e-05, 4.09491506e-05,\n",
       "       6.55128557e-05, 1.04811313e-04, 1.67683294e-04, 2.68269580e-04,\n",
       "       4.29193426e-04, 6.86648845e-04, 1.09854114e-03, 1.75751062e-03,\n",
       "       2.81176870e-03, 4.49843267e-03, 7.19685673e-03, 1.15139540e-02,\n",
       "       1.84206997e-02, 2.94705170e-02, 4.71486636e-02, 7.54312006e-02,\n",
       "       1.20679264e-01, 1.93069773e-0...\n",
       "       5.17947468e+00, 8.28642773e+00, 1.32571137e+01, 2.12095089e+01,\n",
       "       3.39322177e+01, 5.42867544e+01, 8.68511374e+01, 1.38949549e+02,\n",
       "       2.22299648e+02, 3.55648031e+02, 5.68986603e+02, 9.10298178e+02,\n",
       "       1.45634848e+03, 2.32995181e+03, 3.72759372e+03, 5.96362332e+03,\n",
       "       9.54095476e+03, 1.52641797e+04, 2.44205309e+04, 3.90693994e+04,\n",
       "       6.25055193e+04, 1.00000000e+05]),\n",
       "        cv=5, scoring=&#x27;r2&#x27;)</pre></div></div></div></div></div>"
      ],
      "text/plain": [
       "RidgeCV(alphas=array([1.00000000e-05, 1.59985872e-05, 2.55954792e-05, 4.09491506e-05,\n",
       "       6.55128557e-05, 1.04811313e-04, 1.67683294e-04, 2.68269580e-04,\n",
       "       4.29193426e-04, 6.86648845e-04, 1.09854114e-03, 1.75751062e-03,\n",
       "       2.81176870e-03, 4.49843267e-03, 7.19685673e-03, 1.15139540e-02,\n",
       "       1.84206997e-02, 2.94705170e-02, 4.71486636e-02, 7.54312006e-02,\n",
       "       1.20679264e-01, 1.93069773e-0...\n",
       "       5.17947468e+00, 8.28642773e+00, 1.32571137e+01, 2.12095089e+01,\n",
       "       3.39322177e+01, 5.42867544e+01, 8.68511374e+01, 1.38949549e+02,\n",
       "       2.22299648e+02, 3.55648031e+02, 5.68986603e+02, 9.10298178e+02,\n",
       "       1.45634848e+03, 2.32995181e+03, 3.72759372e+03, 5.96362332e+03,\n",
       "       9.54095476e+03, 1.52641797e+04, 2.44205309e+04, 3.90693994e+04,\n",
       "       6.25055193e+04, 1.00000000e+05]),\n",
       "        cv=5, scoring='r2')"
      ]
     },
     "execution_count": 126,
     "metadata": {},
     "output_type": "execute_result"
    }
   ],
   "source": [
    "# parameters for cross validation\n",
    "n_alphas = 50\n",
    "alphas = np.logspace(-5,5,50)\n",
    "\n",
    "# model \n",
    "estimator = RidgeCV(alphas=alphas,\n",
    "                    scoring='r2',\n",
    "                    cv=5)\n",
    "\n",
    "estimator.fit(X_train, y_train)"
   ]
  },
  {
   "cell_type": "code",
   "execution_count": 127,
   "metadata": {
    "scrolled": true
   },
   "outputs": [
    {
     "data": {
      "text/plain": [
       "0.7373814127370217"
      ]
     },
     "execution_count": 127,
     "metadata": {},
     "output_type": "execute_result"
    }
   ],
   "source": [
    "estimator.best_score_"
   ]
  },
  {
   "cell_type": "code",
   "execution_count": 128,
   "metadata": {},
   "outputs": [
    {
     "data": {
      "text/plain": [
       "5.1794746792312125"
      ]
     },
     "execution_count": 128,
     "metadata": {},
     "output_type": "execute_result"
    }
   ],
   "source": [
    "alpha = estimator.alpha_\n",
    "alpha"
   ]
  },
  {
   "cell_type": "markdown",
   "metadata": {},
   "source": [
    "### Entraînement meilleurs paramètres (avec EnergyScore)"
   ]
  },
  {
   "cell_type": "code",
   "execution_count": 129,
   "metadata": {},
   "outputs": [],
   "source": [
    "estimator = Ridge(alpha=alpha) # alpha trouvé avec CV si dessus\n",
    "\n",
    "start = time.time()\n",
    "estimator.fit(X_train, y_train)\n",
    "end = time.time()\n",
    "fit_time = end-start"
   ]
  },
  {
   "cell_type": "code",
   "execution_count": 130,
   "metadata": {
    "scrolled": true
   },
   "outputs": [
    {
     "data": {
      "text/plain": [
       "array([   57755.41835068,  4032936.18533664,  3487258.57452939,\n",
       "       -3735849.21028315,  1162863.6260771 ])"
      ]
     },
     "execution_count": 130,
     "metadata": {},
     "output_type": "execute_result"
    }
   ],
   "source": [
    "start = time.time()\n",
    "y_pred = estimator.predict(X_test)\n",
    "end = time.time()\n",
    "predict_time = end-start\n",
    "\n",
    "y_pred[:5]"
   ]
  },
  {
   "cell_type": "code",
   "execution_count": 131,
   "metadata": {
    "scrolled": false
   },
   "outputs": [
    {
     "name": "stdout",
     "output_type": "stream",
     "text": [
      "score train : 0.793, score test : 0.7473\n"
     ]
    },
    {
     "data": {
      "text/plain": [
       "[0.793, 0.7473]"
      ]
     },
     "execution_count": 131,
     "metadata": {},
     "output_type": "execute_result"
    }
   ],
   "source": [
    "score(estimator,X_train,X_test,y_train,y_test)"
   ]
  },
  {
   "cell_type": "code",
   "execution_count": 132,
   "metadata": {
    "scrolled": true
   },
   "outputs": [
    {
     "name": "stdout",
     "output_type": "stream",
     "text": [
      "The RMSE is: 5006566.91\n",
      "score train : 0.793, score test : 0.7473\n"
     ]
    }
   ],
   "source": [
    "append_dic('Ridge_afterCV', estimator, new_errors_df,X_train,X_test,y_train,y_test)"
   ]
  },
  {
   "cell_type": "markdown",
   "metadata": {},
   "source": [
    "## Regression LASSO (avec EnergyScore)\n",
    "\n",
    "### Choix d'hyperparamètres: validation croisée (avec EnergyScore)"
   ]
  },
  {
   "cell_type": "code",
   "execution_count": 133,
   "metadata": {
    "scrolled": true
   },
   "outputs": [
    {
     "data": {
      "text/html": [
       "<style>#sk-container-id-7 {color: black;background-color: white;}#sk-container-id-7 pre{padding: 0;}#sk-container-id-7 div.sk-toggleable {background-color: white;}#sk-container-id-7 label.sk-toggleable__label {cursor: pointer;display: block;width: 100%;margin-bottom: 0;padding: 0.3em;box-sizing: border-box;text-align: center;}#sk-container-id-7 label.sk-toggleable__label-arrow:before {content: \"▸\";float: left;margin-right: 0.25em;color: #696969;}#sk-container-id-7 label.sk-toggleable__label-arrow:hover:before {color: black;}#sk-container-id-7 div.sk-estimator:hover label.sk-toggleable__label-arrow:before {color: black;}#sk-container-id-7 div.sk-toggleable__content {max-height: 0;max-width: 0;overflow: hidden;text-align: left;background-color: #f0f8ff;}#sk-container-id-7 div.sk-toggleable__content pre {margin: 0.2em;color: black;border-radius: 0.25em;background-color: #f0f8ff;}#sk-container-id-7 input.sk-toggleable__control:checked~div.sk-toggleable__content {max-height: 200px;max-width: 100%;overflow: auto;}#sk-container-id-7 input.sk-toggleable__control:checked~label.sk-toggleable__label-arrow:before {content: \"▾\";}#sk-container-id-7 div.sk-estimator input.sk-toggleable__control:checked~label.sk-toggleable__label {background-color: #d4ebff;}#sk-container-id-7 div.sk-label input.sk-toggleable__control:checked~label.sk-toggleable__label {background-color: #d4ebff;}#sk-container-id-7 input.sk-hidden--visually {border: 0;clip: rect(1px 1px 1px 1px);clip: rect(1px, 1px, 1px, 1px);height: 1px;margin: -1px;overflow: hidden;padding: 0;position: absolute;width: 1px;}#sk-container-id-7 div.sk-estimator {font-family: monospace;background-color: #f0f8ff;border: 1px dotted black;border-radius: 0.25em;box-sizing: border-box;margin-bottom: 0.5em;}#sk-container-id-7 div.sk-estimator:hover {background-color: #d4ebff;}#sk-container-id-7 div.sk-parallel-item::after {content: \"\";width: 100%;border-bottom: 1px solid gray;flex-grow: 1;}#sk-container-id-7 div.sk-label:hover label.sk-toggleable__label {background-color: #d4ebff;}#sk-container-id-7 div.sk-serial::before {content: \"\";position: absolute;border-left: 1px solid gray;box-sizing: border-box;top: 0;bottom: 0;left: 50%;z-index: 0;}#sk-container-id-7 div.sk-serial {display: flex;flex-direction: column;align-items: center;background-color: white;padding-right: 0.2em;padding-left: 0.2em;position: relative;}#sk-container-id-7 div.sk-item {position: relative;z-index: 1;}#sk-container-id-7 div.sk-parallel {display: flex;align-items: stretch;justify-content: center;background-color: white;position: relative;}#sk-container-id-7 div.sk-item::before, #sk-container-id-7 div.sk-parallel-item::before {content: \"\";position: absolute;border-left: 1px solid gray;box-sizing: border-box;top: 0;bottom: 0;left: 50%;z-index: -1;}#sk-container-id-7 div.sk-parallel-item {display: flex;flex-direction: column;z-index: 1;position: relative;background-color: white;}#sk-container-id-7 div.sk-parallel-item:first-child::after {align-self: flex-end;width: 50%;}#sk-container-id-7 div.sk-parallel-item:last-child::after {align-self: flex-start;width: 50%;}#sk-container-id-7 div.sk-parallel-item:only-child::after {width: 0;}#sk-container-id-7 div.sk-dashed-wrapped {border: 1px dashed gray;margin: 0 0.4em 0.5em 0.4em;box-sizing: border-box;padding-bottom: 0.4em;background-color: white;}#sk-container-id-7 div.sk-label label {font-family: monospace;font-weight: bold;display: inline-block;line-height: 1.2em;}#sk-container-id-7 div.sk-label-container {text-align: center;}#sk-container-id-7 div.sk-container {/* jupyter's `normalize.less` sets `[hidden] { display: none; }` but bootstrap.min.css set `[hidden] { display: none !important; }` so we also need the `!important` here to be able to override the default hidden behavior on the sphinx rendered scikit-learn.org. See: https://github.com/scikit-learn/scikit-learn/issues/21755 */display: inline-block !important;position: relative;}#sk-container-id-7 div.sk-text-repr-fallback {display: none;}</style><div id=\"sk-container-id-7\" class=\"sk-top-container\"><div class=\"sk-text-repr-fallback\"><pre>LassoCV(alphas=array([1.00000000e-06, 1.93069773e-06, 3.72759372e-06, 7.19685673e-06,\n",
       "       1.38949549e-05, 2.68269580e-05, 5.17947468e-05, 1.00000000e-04,\n",
       "       1.93069773e-04, 3.72759372e-04, 7.19685673e-04, 1.38949549e-03,\n",
       "       2.68269580e-03, 5.17947468e-03, 1.00000000e-02, 1.93069773e-02,\n",
       "       3.72759372e-02, 7.19685673e-02, 1.38949549e-01, 2.68269580e-01,\n",
       "       5.17947468e-01, 1.00000000e+0...\n",
       "       7.19685673e+00, 1.38949549e+01, 2.68269580e+01, 5.17947468e+01,\n",
       "       1.00000000e+02, 1.93069773e+02, 3.72759372e+02, 7.19685673e+02,\n",
       "       1.38949549e+03, 2.68269580e+03, 5.17947468e+03, 1.00000000e+04,\n",
       "       1.93069773e+04, 3.72759372e+04, 7.19685673e+04, 1.38949549e+05,\n",
       "       2.68269580e+05, 5.17947468e+05, 1.00000000e+06, 1.93069773e+06,\n",
       "       3.72759372e+06, 7.19685673e+06, 1.38949549e+07, 2.68269580e+07,\n",
       "       5.17947468e+07, 1.00000000e+08]),\n",
       "        cv=5, n_alphas=50)</pre><b>In a Jupyter environment, please rerun this cell to show the HTML representation or trust the notebook. <br />On GitHub, the HTML representation is unable to render, please try loading this page with nbviewer.org.</b></div><div class=\"sk-container\" hidden><div class=\"sk-item\"><div class=\"sk-estimator sk-toggleable\"><input class=\"sk-toggleable__control sk-hidden--visually\" id=\"sk-estimator-id-13\" type=\"checkbox\" checked><label for=\"sk-estimator-id-13\" class=\"sk-toggleable__label sk-toggleable__label-arrow\">LassoCV</label><div class=\"sk-toggleable__content\"><pre>LassoCV(alphas=array([1.00000000e-06, 1.93069773e-06, 3.72759372e-06, 7.19685673e-06,\n",
       "       1.38949549e-05, 2.68269580e-05, 5.17947468e-05, 1.00000000e-04,\n",
       "       1.93069773e-04, 3.72759372e-04, 7.19685673e-04, 1.38949549e-03,\n",
       "       2.68269580e-03, 5.17947468e-03, 1.00000000e-02, 1.93069773e-02,\n",
       "       3.72759372e-02, 7.19685673e-02, 1.38949549e-01, 2.68269580e-01,\n",
       "       5.17947468e-01, 1.00000000e+0...\n",
       "       7.19685673e+00, 1.38949549e+01, 2.68269580e+01, 5.17947468e+01,\n",
       "       1.00000000e+02, 1.93069773e+02, 3.72759372e+02, 7.19685673e+02,\n",
       "       1.38949549e+03, 2.68269580e+03, 5.17947468e+03, 1.00000000e+04,\n",
       "       1.93069773e+04, 3.72759372e+04, 7.19685673e+04, 1.38949549e+05,\n",
       "       2.68269580e+05, 5.17947468e+05, 1.00000000e+06, 1.93069773e+06,\n",
       "       3.72759372e+06, 7.19685673e+06, 1.38949549e+07, 2.68269580e+07,\n",
       "       5.17947468e+07, 1.00000000e+08]),\n",
       "        cv=5, n_alphas=50)</pre></div></div></div></div></div>"
      ],
      "text/plain": [
       "LassoCV(alphas=array([1.00000000e-06, 1.93069773e-06, 3.72759372e-06, 7.19685673e-06,\n",
       "       1.38949549e-05, 2.68269580e-05, 5.17947468e-05, 1.00000000e-04,\n",
       "       1.93069773e-04, 3.72759372e-04, 7.19685673e-04, 1.38949549e-03,\n",
       "       2.68269580e-03, 5.17947468e-03, 1.00000000e-02, 1.93069773e-02,\n",
       "       3.72759372e-02, 7.19685673e-02, 1.38949549e-01, 2.68269580e-01,\n",
       "       5.17947468e-01, 1.00000000e+0...\n",
       "       7.19685673e+00, 1.38949549e+01, 2.68269580e+01, 5.17947468e+01,\n",
       "       1.00000000e+02, 1.93069773e+02, 3.72759372e+02, 7.19685673e+02,\n",
       "       1.38949549e+03, 2.68269580e+03, 5.17947468e+03, 1.00000000e+04,\n",
       "       1.93069773e+04, 3.72759372e+04, 7.19685673e+04, 1.38949549e+05,\n",
       "       2.68269580e+05, 5.17947468e+05, 1.00000000e+06, 1.93069773e+06,\n",
       "       3.72759372e+06, 7.19685673e+06, 1.38949549e+07, 2.68269580e+07,\n",
       "       5.17947468e+07, 1.00000000e+08]),\n",
       "        cv=5, n_alphas=50)"
      ]
     },
     "execution_count": 133,
     "metadata": {},
     "output_type": "execute_result"
    }
   ],
   "source": [
    "# parameters for cross validation\n",
    "n_alphas = 50\n",
    "alphas = np.logspace(-6,8,50)\n",
    "\n",
    "# model \n",
    "estimator = LassoCV(n_alphas=50,\n",
    "                    alphas=alphas,\n",
    "                    cv=5)\n",
    "\n",
    "estimator.fit(X_train, y_train)"
   ]
  },
  {
   "cell_type": "code",
   "execution_count": 134,
   "metadata": {
    "scrolled": false
   },
   "outputs": [
    {
     "data": {
      "text/plain": [
       "71968.567300115"
      ]
     },
     "execution_count": 134,
     "metadata": {},
     "output_type": "execute_result"
    }
   ],
   "source": [
    "alpha = estimator.alpha_\n",
    "alpha"
   ]
  },
  {
   "cell_type": "markdown",
   "metadata": {},
   "source": [
    "### Entraînement LASSO avec meilleurs paramètres (avec EnergyScore)"
   ]
  },
  {
   "cell_type": "code",
   "execution_count": 135,
   "metadata": {},
   "outputs": [],
   "source": [
    "estimator = Lasso(alpha=alpha) # alpha trouvé avec CV si dessus\n",
    "\n",
    "start = time.time()\n",
    "estimator.fit(X_train, y_train)\n",
    "end = time.time()\n",
    "fit_time = end-start"
   ]
  },
  {
   "cell_type": "code",
   "execution_count": 136,
   "metadata": {
    "scrolled": true
   },
   "outputs": [
    {
     "data": {
      "text/plain": [
       "array([  182105.43688873,  4216003.28049293,  4083178.14852622,\n",
       "       -3458577.94896347,  1131539.45636633])"
      ]
     },
     "execution_count": 136,
     "metadata": {},
     "output_type": "execute_result"
    }
   ],
   "source": [
    "start = time.time()\n",
    "y_pred = estimator.predict(X_test)\n",
    "end = time.time()\n",
    "predict_time = end-start\n",
    "\n",
    "y_pred[:5]"
   ]
  },
  {
   "cell_type": "code",
   "execution_count": 137,
   "metadata": {},
   "outputs": [
    {
     "name": "stdout",
     "output_type": "stream",
     "text": [
      "score train : 0.7704, score test : 0.7431\n"
     ]
    },
    {
     "data": {
      "text/plain": [
       "[0.7704, 0.7431]"
      ]
     },
     "execution_count": 137,
     "metadata": {},
     "output_type": "execute_result"
    }
   ],
   "source": [
    "score(estimator,X_train,X_test,y_train,y_test)"
   ]
  },
  {
   "cell_type": "code",
   "execution_count": 138,
   "metadata": {
    "scrolled": false
   },
   "outputs": [
    {
     "name": "stdout",
     "output_type": "stream",
     "text": [
      "The RMSE is: 5047915.09\n",
      "score train : 0.7704, score test : 0.7431\n"
     ]
    }
   ],
   "source": [
    "append_dic('Lasso_afterCV', estimator, new_errors_df,X_train,X_test,y_train,y_test)"
   ]
  },
  {
   "cell_type": "markdown",
   "metadata": {},
   "source": [
    "## Support Vector Regression (avec EnergyStar)\n"
   ]
  },
  {
   "cell_type": "code",
   "execution_count": 139,
   "metadata": {},
   "outputs": [],
   "source": [
    "sc_trgt = StandardScaler()\n",
    "\n",
    "y_train_scaled = sc_trgt.fit_transform(y_train.values.reshape(len(y_train),1))\n",
    "y_test_scaled = sc_trgt.transform(y_test.values.reshape(len(y_test),1))"
   ]
  },
  {
   "cell_type": "markdown",
   "metadata": {},
   "source": [
    "### Choix d'hyperparamètre : validation croisée"
   ]
  },
  {
   "cell_type": "code",
   "execution_count": 140,
   "metadata": {},
   "outputs": [
    {
     "data": {
      "text/html": [
       "<style>#sk-container-id-8 {color: black;background-color: white;}#sk-container-id-8 pre{padding: 0;}#sk-container-id-8 div.sk-toggleable {background-color: white;}#sk-container-id-8 label.sk-toggleable__label {cursor: pointer;display: block;width: 100%;margin-bottom: 0;padding: 0.3em;box-sizing: border-box;text-align: center;}#sk-container-id-8 label.sk-toggleable__label-arrow:before {content: \"▸\";float: left;margin-right: 0.25em;color: #696969;}#sk-container-id-8 label.sk-toggleable__label-arrow:hover:before {color: black;}#sk-container-id-8 div.sk-estimator:hover label.sk-toggleable__label-arrow:before {color: black;}#sk-container-id-8 div.sk-toggleable__content {max-height: 0;max-width: 0;overflow: hidden;text-align: left;background-color: #f0f8ff;}#sk-container-id-8 div.sk-toggleable__content pre {margin: 0.2em;color: black;border-radius: 0.25em;background-color: #f0f8ff;}#sk-container-id-8 input.sk-toggleable__control:checked~div.sk-toggleable__content {max-height: 200px;max-width: 100%;overflow: auto;}#sk-container-id-8 input.sk-toggleable__control:checked~label.sk-toggleable__label-arrow:before {content: \"▾\";}#sk-container-id-8 div.sk-estimator input.sk-toggleable__control:checked~label.sk-toggleable__label {background-color: #d4ebff;}#sk-container-id-8 div.sk-label input.sk-toggleable__control:checked~label.sk-toggleable__label {background-color: #d4ebff;}#sk-container-id-8 input.sk-hidden--visually {border: 0;clip: rect(1px 1px 1px 1px);clip: rect(1px, 1px, 1px, 1px);height: 1px;margin: -1px;overflow: hidden;padding: 0;position: absolute;width: 1px;}#sk-container-id-8 div.sk-estimator {font-family: monospace;background-color: #f0f8ff;border: 1px dotted black;border-radius: 0.25em;box-sizing: border-box;margin-bottom: 0.5em;}#sk-container-id-8 div.sk-estimator:hover {background-color: #d4ebff;}#sk-container-id-8 div.sk-parallel-item::after {content: \"\";width: 100%;border-bottom: 1px solid gray;flex-grow: 1;}#sk-container-id-8 div.sk-label:hover label.sk-toggleable__label {background-color: #d4ebff;}#sk-container-id-8 div.sk-serial::before {content: \"\";position: absolute;border-left: 1px solid gray;box-sizing: border-box;top: 0;bottom: 0;left: 50%;z-index: 0;}#sk-container-id-8 div.sk-serial {display: flex;flex-direction: column;align-items: center;background-color: white;padding-right: 0.2em;padding-left: 0.2em;position: relative;}#sk-container-id-8 div.sk-item {position: relative;z-index: 1;}#sk-container-id-8 div.sk-parallel {display: flex;align-items: stretch;justify-content: center;background-color: white;position: relative;}#sk-container-id-8 div.sk-item::before, #sk-container-id-8 div.sk-parallel-item::before {content: \"\";position: absolute;border-left: 1px solid gray;box-sizing: border-box;top: 0;bottom: 0;left: 50%;z-index: -1;}#sk-container-id-8 div.sk-parallel-item {display: flex;flex-direction: column;z-index: 1;position: relative;background-color: white;}#sk-container-id-8 div.sk-parallel-item:first-child::after {align-self: flex-end;width: 50%;}#sk-container-id-8 div.sk-parallel-item:last-child::after {align-self: flex-start;width: 50%;}#sk-container-id-8 div.sk-parallel-item:only-child::after {width: 0;}#sk-container-id-8 div.sk-dashed-wrapped {border: 1px dashed gray;margin: 0 0.4em 0.5em 0.4em;box-sizing: border-box;padding-bottom: 0.4em;background-color: white;}#sk-container-id-8 div.sk-label label {font-family: monospace;font-weight: bold;display: inline-block;line-height: 1.2em;}#sk-container-id-8 div.sk-label-container {text-align: center;}#sk-container-id-8 div.sk-container {/* jupyter's `normalize.less` sets `[hidden] { display: none; }` but bootstrap.min.css set `[hidden] { display: none !important; }` so we also need the `!important` here to be able to override the default hidden behavior on the sphinx rendered scikit-learn.org. See: https://github.com/scikit-learn/scikit-learn/issues/21755 */display: inline-block !important;position: relative;}#sk-container-id-8 div.sk-text-repr-fallback {display: none;}</style><div id=\"sk-container-id-8\" class=\"sk-top-container\"><div class=\"sk-text-repr-fallback\"><pre>GridSearchCV(cv=5, estimator=SVR(), n_jobs=-1,\n",
       "             param_grid={&#x27;C&#x27;: [1, 10], &#x27;degree&#x27;: [2, 3], &#x27;epsilon&#x27;: [0.1],\n",
       "                         &#x27;gamma&#x27;: [&#x27;scale&#x27;, &#x27;auto&#x27;],\n",
       "                         &#x27;kernel&#x27;: [&#x27;linear&#x27;, &#x27;poly&#x27;, &#x27;rbf&#x27;], &#x27;tol&#x27;: [0.001]},\n",
       "             return_train_score=True)</pre><b>In a Jupyter environment, please rerun this cell to show the HTML representation or trust the notebook. <br />On GitHub, the HTML representation is unable to render, please try loading this page with nbviewer.org.</b></div><div class=\"sk-container\" hidden><div class=\"sk-item sk-dashed-wrapped\"><div class=\"sk-label-container\"><div class=\"sk-label sk-toggleable\"><input class=\"sk-toggleable__control sk-hidden--visually\" id=\"sk-estimator-id-14\" type=\"checkbox\" ><label for=\"sk-estimator-id-14\" class=\"sk-toggleable__label sk-toggleable__label-arrow\">GridSearchCV</label><div class=\"sk-toggleable__content\"><pre>GridSearchCV(cv=5, estimator=SVR(), n_jobs=-1,\n",
       "             param_grid={&#x27;C&#x27;: [1, 10], &#x27;degree&#x27;: [2, 3], &#x27;epsilon&#x27;: [0.1],\n",
       "                         &#x27;gamma&#x27;: [&#x27;scale&#x27;, &#x27;auto&#x27;],\n",
       "                         &#x27;kernel&#x27;: [&#x27;linear&#x27;, &#x27;poly&#x27;, &#x27;rbf&#x27;], &#x27;tol&#x27;: [0.001]},\n",
       "             return_train_score=True)</pre></div></div></div><div class=\"sk-parallel\"><div class=\"sk-parallel-item\"><div class=\"sk-item\"><div class=\"sk-label-container\"><div class=\"sk-label sk-toggleable\"><input class=\"sk-toggleable__control sk-hidden--visually\" id=\"sk-estimator-id-15\" type=\"checkbox\" ><label for=\"sk-estimator-id-15\" class=\"sk-toggleable__label sk-toggleable__label-arrow\">estimator: SVR</label><div class=\"sk-toggleable__content\"><pre>SVR()</pre></div></div></div><div class=\"sk-serial\"><div class=\"sk-item\"><div class=\"sk-estimator sk-toggleable\"><input class=\"sk-toggleable__control sk-hidden--visually\" id=\"sk-estimator-id-16\" type=\"checkbox\" ><label for=\"sk-estimator-id-16\" class=\"sk-toggleable__label sk-toggleable__label-arrow\">SVR</label><div class=\"sk-toggleable__content\"><pre>SVR()</pre></div></div></div></div></div></div></div></div></div></div>"
      ],
      "text/plain": [
       "GridSearchCV(cv=5, estimator=SVR(), n_jobs=-1,\n",
       "             param_grid={'C': [1, 10], 'degree': [2, 3], 'epsilon': [0.1],\n",
       "                         'gamma': ['scale', 'auto'],\n",
       "                         'kernel': ['linear', 'poly', 'rbf'], 'tol': [0.001]},\n",
       "             return_train_score=True)"
      ]
     },
     "execution_count": 140,
     "metadata": {},
     "output_type": "execute_result"
    }
   ],
   "source": [
    "estimator = SVR()\n",
    "\n",
    "#parameters for cross validation\n",
    "params = { 'kernel' : ['linear', 'poly', 'rbf'],\n",
    "           'degree' : [2,3],\n",
    "           'gamma' : ['scale', 'auto'],\n",
    "           'tol' : [1e-3],\n",
    "          'C' : [1,10],\n",
    "          'epsilon' : [0.1]  \n",
    "}\n",
    "\n",
    "# cross validation \n",
    "grid = GridSearchCV(estimator,\n",
    "                    params,\n",
    "                    cv=5,\n",
    "                    n_jobs=-1,\n",
    "                    return_train_score=True)\n",
    "\n",
    "grid.fit(X_train,y_train_scaled.ravel())"
   ]
  },
  {
   "cell_type": "code",
   "execution_count": 141,
   "metadata": {
    "scrolled": false
   },
   "outputs": [
    {
     "data": {
      "text/plain": [
       "{'C': 10,\n",
       " 'degree': 2,\n",
       " 'epsilon': 0.1,\n",
       " 'gamma': 'auto',\n",
       " 'kernel': 'rbf',\n",
       " 'tol': 0.001}"
      ]
     },
     "execution_count": 141,
     "metadata": {},
     "output_type": "execute_result"
    }
   ],
   "source": [
    "best_params = grid.best_params_\n",
    "best_params"
   ]
  },
  {
   "cell_type": "code",
   "execution_count": 142,
   "metadata": {},
   "outputs": [
    {
     "data": {
      "text/html": [
       "<div>\n",
       "<style scoped>\n",
       "    .dataframe tbody tr th:only-of-type {\n",
       "        vertical-align: middle;\n",
       "    }\n",
       "\n",
       "    .dataframe tbody tr th {\n",
       "        vertical-align: top;\n",
       "    }\n",
       "\n",
       "    .dataframe thead th {\n",
       "        text-align: right;\n",
       "    }\n",
       "</style>\n",
       "<table border=\"1\" class=\"dataframe\">\n",
       "  <thead>\n",
       "    <tr style=\"text-align: right;\">\n",
       "      <th></th>\n",
       "      <th>mean_fit_time</th>\n",
       "      <th>std_fit_time</th>\n",
       "      <th>mean_score_time</th>\n",
       "      <th>std_score_time</th>\n",
       "      <th>param_C</th>\n",
       "      <th>param_degree</th>\n",
       "      <th>param_epsilon</th>\n",
       "      <th>param_gamma</th>\n",
       "      <th>param_kernel</th>\n",
       "      <th>param_tol</th>\n",
       "      <th>params</th>\n",
       "      <th>mean_test_score</th>\n",
       "      <th>std_test_score</th>\n",
       "      <th>rank_test_score</th>\n",
       "      <th>mean_train_score</th>\n",
       "      <th>std_train_score</th>\n",
       "    </tr>\n",
       "  </thead>\n",
       "  <tbody>\n",
       "    <tr>\n",
       "      <th>23</th>\n",
       "      <td>0.056738</td>\n",
       "      <td>0.002252</td>\n",
       "      <td>0.010062</td>\n",
       "      <td>0.001395</td>\n",
       "      <td>10</td>\n",
       "      <td>3</td>\n",
       "      <td>0.1</td>\n",
       "      <td>auto</td>\n",
       "      <td>rbf</td>\n",
       "      <td>0.001</td>\n",
       "      <td>{'C': 10, 'degree': 3, 'epsilon': 0.1, 'gamma'...</td>\n",
       "      <td>0.775542</td>\n",
       "      <td>0.076474</td>\n",
       "      <td>1</td>\n",
       "      <td>0.892945</td>\n",
       "      <td>0.012457</td>\n",
       "    </tr>\n",
       "    <tr>\n",
       "      <th>17</th>\n",
       "      <td>0.057970</td>\n",
       "      <td>0.001522</td>\n",
       "      <td>0.008445</td>\n",
       "      <td>0.000317</td>\n",
       "      <td>10</td>\n",
       "      <td>2</td>\n",
       "      <td>0.1</td>\n",
       "      <td>auto</td>\n",
       "      <td>rbf</td>\n",
       "      <td>0.001</td>\n",
       "      <td>{'C': 10, 'degree': 2, 'epsilon': 0.1, 'gamma'...</td>\n",
       "      <td>0.775542</td>\n",
       "      <td>0.076474</td>\n",
       "      <td>1</td>\n",
       "      <td>0.892945</td>\n",
       "      <td>0.012457</td>\n",
       "    </tr>\n",
       "    <tr>\n",
       "      <th>20</th>\n",
       "      <td>0.086096</td>\n",
       "      <td>0.008522</td>\n",
       "      <td>0.013255</td>\n",
       "      <td>0.000712</td>\n",
       "      <td>10</td>\n",
       "      <td>3</td>\n",
       "      <td>0.1</td>\n",
       "      <td>scale</td>\n",
       "      <td>rbf</td>\n",
       "      <td>0.001</td>\n",
       "      <td>{'C': 10, 'degree': 3, 'epsilon': 0.1, 'gamma'...</td>\n",
       "      <td>0.726166</td>\n",
       "      <td>0.071986</td>\n",
       "      <td>3</td>\n",
       "      <td>0.981372</td>\n",
       "      <td>0.004236</td>\n",
       "    </tr>\n",
       "  </tbody>\n",
       "</table>\n",
       "</div>"
      ],
      "text/plain": [
       "    mean_fit_time  std_fit_time  mean_score_time  std_score_time param_C  \\\n",
       "23       0.056738      0.002252         0.010062        0.001395      10   \n",
       "17       0.057970      0.001522         0.008445        0.000317      10   \n",
       "20       0.086096      0.008522         0.013255        0.000712      10   \n",
       "\n",
       "   param_degree param_epsilon param_gamma param_kernel param_tol  \\\n",
       "23            3           0.1        auto          rbf     0.001   \n",
       "17            2           0.1        auto          rbf     0.001   \n",
       "20            3           0.1       scale          rbf     0.001   \n",
       "\n",
       "                                               params  mean_test_score  \\\n",
       "23  {'C': 10, 'degree': 3, 'epsilon': 0.1, 'gamma'...         0.775542   \n",
       "17  {'C': 10, 'degree': 2, 'epsilon': 0.1, 'gamma'...         0.775542   \n",
       "20  {'C': 10, 'degree': 3, 'epsilon': 0.1, 'gamma'...         0.726166   \n",
       "\n",
       "    std_test_score  rank_test_score  mean_train_score  std_train_score  \n",
       "23        0.076474                1          0.892945         0.012457  \n",
       "17        0.076474                1          0.892945         0.012457  \n",
       "20        0.071986                3          0.981372         0.004236  "
      ]
     },
     "execution_count": 142,
     "metadata": {},
     "output_type": "execute_result"
    }
   ],
   "source": [
    "resultize(grid).head(3)"
   ]
  },
  {
   "cell_type": "code",
   "execution_count": 143,
   "metadata": {
    "scrolled": true
   },
   "outputs": [
    {
     "data": {
      "text/html": [
       "<div>\n",
       "<style scoped>\n",
       "    .dataframe tbody tr th:only-of-type {\n",
       "        vertical-align: middle;\n",
       "    }\n",
       "\n",
       "    .dataframe tbody tr th {\n",
       "        vertical-align: top;\n",
       "    }\n",
       "\n",
       "    .dataframe thead th {\n",
       "        text-align: right;\n",
       "    }\n",
       "</style>\n",
       "<table border=\"1\" class=\"dataframe\">\n",
       "  <thead>\n",
       "    <tr style=\"text-align: right;\">\n",
       "      <th></th>\n",
       "      <th>mean_fit_time</th>\n",
       "      <th>std_fit_time</th>\n",
       "      <th>mean_score_time</th>\n",
       "      <th>std_score_time</th>\n",
       "      <th>param_C</th>\n",
       "      <th>param_degree</th>\n",
       "      <th>param_epsilon</th>\n",
       "      <th>param_gamma</th>\n",
       "      <th>param_kernel</th>\n",
       "      <th>param_tol</th>\n",
       "      <th>params</th>\n",
       "      <th>mean_test_score</th>\n",
       "      <th>std_test_score</th>\n",
       "      <th>rank_test_score</th>\n",
       "      <th>mean_train_score</th>\n",
       "      <th>std_train_score</th>\n",
       "    </tr>\n",
       "  </thead>\n",
       "  <tbody>\n",
       "    <tr>\n",
       "      <th>16</th>\n",
       "      <td>0.060929</td>\n",
       "      <td>0.007689</td>\n",
       "      <td>0.005631</td>\n",
       "      <td>0.000119</td>\n",
       "      <td>10</td>\n",
       "      <td>2</td>\n",
       "      <td>0.1</td>\n",
       "      <td>auto</td>\n",
       "      <td>poly</td>\n",
       "      <td>0.001</td>\n",
       "      <td>{'C': 10, 'degree': 2, 'epsilon': 0.1, 'gamma'...</td>\n",
       "      <td>0.717278</td>\n",
       "      <td>0.122198</td>\n",
       "      <td>6</td>\n",
       "      <td>0.809208</td>\n",
       "      <td>0.019289</td>\n",
       "    </tr>\n",
       "    <tr>\n",
       "      <th>5</th>\n",
       "      <td>0.029716</td>\n",
       "      <td>0.000789</td>\n",
       "      <td>0.008668</td>\n",
       "      <td>0.001391</td>\n",
       "      <td>1</td>\n",
       "      <td>2</td>\n",
       "      <td>0.1</td>\n",
       "      <td>auto</td>\n",
       "      <td>rbf</td>\n",
       "      <td>0.001</td>\n",
       "      <td>{'C': 1, 'degree': 2, 'epsilon': 0.1, 'gamma':...</td>\n",
       "      <td>0.711184</td>\n",
       "      <td>0.085218</td>\n",
       "      <td>7</td>\n",
       "      <td>0.762997</td>\n",
       "      <td>0.026480</td>\n",
       "    </tr>\n",
       "    <tr>\n",
       "      <th>11</th>\n",
       "      <td>0.034347</td>\n",
       "      <td>0.001972</td>\n",
       "      <td>0.008582</td>\n",
       "      <td>0.000120</td>\n",
       "      <td>1</td>\n",
       "      <td>3</td>\n",
       "      <td>0.1</td>\n",
       "      <td>auto</td>\n",
       "      <td>rbf</td>\n",
       "      <td>0.001</td>\n",
       "      <td>{'C': 1, 'degree': 3, 'epsilon': 0.1, 'gamma':...</td>\n",
       "      <td>0.711184</td>\n",
       "      <td>0.085218</td>\n",
       "      <td>7</td>\n",
       "      <td>0.762997</td>\n",
       "      <td>0.026480</td>\n",
       "    </tr>\n",
       "  </tbody>\n",
       "</table>\n",
       "</div>"
      ],
      "text/plain": [
       "    mean_fit_time  std_fit_time  mean_score_time  std_score_time param_C  \\\n",
       "16       0.060929      0.007689         0.005631        0.000119      10   \n",
       "5        0.029716      0.000789         0.008668        0.001391       1   \n",
       "11       0.034347      0.001972         0.008582        0.000120       1   \n",
       "\n",
       "   param_degree param_epsilon param_gamma param_kernel param_tol  \\\n",
       "16            2           0.1        auto         poly     0.001   \n",
       "5             2           0.1        auto          rbf     0.001   \n",
       "11            3           0.1        auto          rbf     0.001   \n",
       "\n",
       "                                               params  mean_test_score  \\\n",
       "16  {'C': 10, 'degree': 2, 'epsilon': 0.1, 'gamma'...         0.717278   \n",
       "5   {'C': 1, 'degree': 2, 'epsilon': 0.1, 'gamma':...         0.711184   \n",
       "11  {'C': 1, 'degree': 3, 'epsilon': 0.1, 'gamma':...         0.711184   \n",
       "\n",
       "    std_test_score  rank_test_score  mean_train_score  std_train_score  \n",
       "16        0.122198                6          0.809208         0.019289  \n",
       "5         0.085218                7          0.762997         0.026480  \n",
       "11        0.085218                7          0.762997         0.026480  "
      ]
     },
     "execution_count": 143,
     "metadata": {},
     "output_type": "execute_result"
    }
   ],
   "source": [
    "results = resultize(grid)\n",
    "my_sorted_results = results.loc[(results['mean_train_score']<0.87)].sort_values(by='mean_test_score', ascending=False )\n",
    "my_sorted_results.head(3)"
   ]
  },
  {
   "cell_type": "code",
   "execution_count": 144,
   "metadata": {},
   "outputs": [
    {
     "data": {
      "text/plain": [
       "{'C': 10,\n",
       " 'degree': 2,\n",
       " 'epsilon': 0.1,\n",
       " 'gamma': 'auto',\n",
       " 'kernel': 'poly',\n",
       " 'tol': 0.001}"
      ]
     },
     "execution_count": 144,
     "metadata": {},
     "output_type": "execute_result"
    }
   ],
   "source": [
    "my_best_params = my_sorted_results.iloc[0,:]['params']\n",
    "my_best_params"
   ]
  },
  {
   "cell_type": "markdown",
   "metadata": {},
   "source": [
    "### Entraînement avec meilleurs paramètres"
   ]
  },
  {
   "cell_type": "code",
   "execution_count": 145,
   "metadata": {},
   "outputs": [],
   "source": [
    "estimator = SVR(**my_best_params)\n",
    "\n",
    "start = time.time()\n",
    "estimator.fit(X_train, y_train_scaled.ravel())\n",
    "end = time.time()\n",
    "fit_time = end-start"
   ]
  },
  {
   "cell_type": "code",
   "execution_count": 146,
   "metadata": {},
   "outputs": [
    {
     "data": {
      "text/plain": [
       "array([-0.55299872, -0.32453675, -0.28691009, -0.58229528, -0.55998604])"
      ]
     },
     "execution_count": 146,
     "metadata": {},
     "output_type": "execute_result"
    }
   ],
   "source": [
    "start = time.time()\n",
    "y_pred = estimator.predict(X_test)\n",
    "end = time.time()\n",
    "predict_time = end-start\n",
    "\n",
    "y_pred[:5]"
   ]
  },
  {
   "cell_type": "code",
   "execution_count": 147,
   "metadata": {
    "scrolled": true
   },
   "outputs": [
    {
     "data": {
      "text/plain": [
       "0.8136168724443582"
      ]
     },
     "execution_count": 147,
     "metadata": {},
     "output_type": "execute_result"
    }
   ],
   "source": [
    "estimator.score(X_train,y_train_scaled)"
   ]
  },
  {
   "cell_type": "code",
   "execution_count": 148,
   "metadata": {},
   "outputs": [
    {
     "data": {
      "text/plain": [
       "0.7541520512981732"
      ]
     },
     "execution_count": 148,
     "metadata": {},
     "output_type": "execute_result"
    }
   ],
   "source": [
    "estimator.score(X_test,y_test_scaled)"
   ]
  },
  {
   "cell_type": "code",
   "execution_count": 149,
   "metadata": {},
   "outputs": [
    {
     "name": "stdout",
     "output_type": "stream",
     "text": [
      "The RMSE is: 9094546.92\n",
      "score train : 0.8136, score test : 0.7542\n"
     ]
    }
   ],
   "source": [
    "y_pred = sc_trgt.inverse_transform(y_pred.reshape(-1,1)) # pour que la fonction suivante fasse le bon calcul du RMSE\n",
    "append_dic('SVR',estimator,new_errors_df,X_train,X_test,y_train_scaled,y_test_scaled)"
   ]
  },
  {
   "cell_type": "code",
   "execution_count": 150,
   "metadata": {},
   "outputs": [
    {
     "data": {
      "text/plain": [
       "0.7541520512981732"
      ]
     },
     "execution_count": 150,
     "metadata": {},
     "output_type": "execute_result"
    }
   ],
   "source": [
    "# Pour vérifier que le score est bien calculé ci dessus : \n",
    "y_pred = estimator.predict(X_test)\n",
    "y_pred_transf = sc_trgt.inverse_transform(y_pred.reshape(-1,1))\n",
    "r2_score(y_test,y_pred_transf)"
   ]
  },
  {
   "cell_type": "markdown",
   "metadata": {},
   "source": [
    "## Fôrets aléatoires (avec EnergyScore)\n",
    "\n",
    "### Recherche hyper-paramètres: validation croisée (avec EnergyScore)"
   ]
  },
  {
   "cell_type": "code",
   "execution_count": 151,
   "metadata": {},
   "outputs": [],
   "source": [
    "estimator = RandomForestRegressor()\n",
    "\n",
    "# parameters for cross validation\n",
    "params = {'n_estimators': [100,150,200],\n",
    "          'max_features' : ['sqrt',int(np.sqrt(X.shape[1]))+1,int(np.sqrt(X.shape[1]))+2],\n",
    "          'max_depth' : [3,5],\n",
    "          'max_samples': [0.7, 0.85]\n",
    "                 \n",
    "}"
   ]
  },
  {
   "cell_type": "code",
   "execution_count": 152,
   "metadata": {
    "scrolled": true
   },
   "outputs": [
    {
     "data": {
      "text/html": [
       "<style>#sk-container-id-9 {color: black;background-color: white;}#sk-container-id-9 pre{padding: 0;}#sk-container-id-9 div.sk-toggleable {background-color: white;}#sk-container-id-9 label.sk-toggleable__label {cursor: pointer;display: block;width: 100%;margin-bottom: 0;padding: 0.3em;box-sizing: border-box;text-align: center;}#sk-container-id-9 label.sk-toggleable__label-arrow:before {content: \"▸\";float: left;margin-right: 0.25em;color: #696969;}#sk-container-id-9 label.sk-toggleable__label-arrow:hover:before {color: black;}#sk-container-id-9 div.sk-estimator:hover label.sk-toggleable__label-arrow:before {color: black;}#sk-container-id-9 div.sk-toggleable__content {max-height: 0;max-width: 0;overflow: hidden;text-align: left;background-color: #f0f8ff;}#sk-container-id-9 div.sk-toggleable__content pre {margin: 0.2em;color: black;border-radius: 0.25em;background-color: #f0f8ff;}#sk-container-id-9 input.sk-toggleable__control:checked~div.sk-toggleable__content {max-height: 200px;max-width: 100%;overflow: auto;}#sk-container-id-9 input.sk-toggleable__control:checked~label.sk-toggleable__label-arrow:before {content: \"▾\";}#sk-container-id-9 div.sk-estimator input.sk-toggleable__control:checked~label.sk-toggleable__label {background-color: #d4ebff;}#sk-container-id-9 div.sk-label input.sk-toggleable__control:checked~label.sk-toggleable__label {background-color: #d4ebff;}#sk-container-id-9 input.sk-hidden--visually {border: 0;clip: rect(1px 1px 1px 1px);clip: rect(1px, 1px, 1px, 1px);height: 1px;margin: -1px;overflow: hidden;padding: 0;position: absolute;width: 1px;}#sk-container-id-9 div.sk-estimator {font-family: monospace;background-color: #f0f8ff;border: 1px dotted black;border-radius: 0.25em;box-sizing: border-box;margin-bottom: 0.5em;}#sk-container-id-9 div.sk-estimator:hover {background-color: #d4ebff;}#sk-container-id-9 div.sk-parallel-item::after {content: \"\";width: 100%;border-bottom: 1px solid gray;flex-grow: 1;}#sk-container-id-9 div.sk-label:hover label.sk-toggleable__label {background-color: #d4ebff;}#sk-container-id-9 div.sk-serial::before {content: \"\";position: absolute;border-left: 1px solid gray;box-sizing: border-box;top: 0;bottom: 0;left: 50%;z-index: 0;}#sk-container-id-9 div.sk-serial {display: flex;flex-direction: column;align-items: center;background-color: white;padding-right: 0.2em;padding-left: 0.2em;position: relative;}#sk-container-id-9 div.sk-item {position: relative;z-index: 1;}#sk-container-id-9 div.sk-parallel {display: flex;align-items: stretch;justify-content: center;background-color: white;position: relative;}#sk-container-id-9 div.sk-item::before, #sk-container-id-9 div.sk-parallel-item::before {content: \"\";position: absolute;border-left: 1px solid gray;box-sizing: border-box;top: 0;bottom: 0;left: 50%;z-index: -1;}#sk-container-id-9 div.sk-parallel-item {display: flex;flex-direction: column;z-index: 1;position: relative;background-color: white;}#sk-container-id-9 div.sk-parallel-item:first-child::after {align-self: flex-end;width: 50%;}#sk-container-id-9 div.sk-parallel-item:last-child::after {align-self: flex-start;width: 50%;}#sk-container-id-9 div.sk-parallel-item:only-child::after {width: 0;}#sk-container-id-9 div.sk-dashed-wrapped {border: 1px dashed gray;margin: 0 0.4em 0.5em 0.4em;box-sizing: border-box;padding-bottom: 0.4em;background-color: white;}#sk-container-id-9 div.sk-label label {font-family: monospace;font-weight: bold;display: inline-block;line-height: 1.2em;}#sk-container-id-9 div.sk-label-container {text-align: center;}#sk-container-id-9 div.sk-container {/* jupyter's `normalize.less` sets `[hidden] { display: none; }` but bootstrap.min.css set `[hidden] { display: none !important; }` so we also need the `!important` here to be able to override the default hidden behavior on the sphinx rendered scikit-learn.org. See: https://github.com/scikit-learn/scikit-learn/issues/21755 */display: inline-block !important;position: relative;}#sk-container-id-9 div.sk-text-repr-fallback {display: none;}</style><div id=\"sk-container-id-9\" class=\"sk-top-container\"><div class=\"sk-text-repr-fallback\"><pre>GridSearchCV(cv=5, estimator=RandomForestRegressor(), n_jobs=-1,\n",
       "             param_grid={&#x27;max_depth&#x27;: [3, 5], &#x27;max_features&#x27;: [&#x27;sqrt&#x27;, 7, 8],\n",
       "                         &#x27;max_samples&#x27;: [0.7, 0.85],\n",
       "                         &#x27;n_estimators&#x27;: [100, 150, 200]},\n",
       "             return_train_score=True)</pre><b>In a Jupyter environment, please rerun this cell to show the HTML representation or trust the notebook. <br />On GitHub, the HTML representation is unable to render, please try loading this page with nbviewer.org.</b></div><div class=\"sk-container\" hidden><div class=\"sk-item sk-dashed-wrapped\"><div class=\"sk-label-container\"><div class=\"sk-label sk-toggleable\"><input class=\"sk-toggleable__control sk-hidden--visually\" id=\"sk-estimator-id-17\" type=\"checkbox\" ><label for=\"sk-estimator-id-17\" class=\"sk-toggleable__label sk-toggleable__label-arrow\">GridSearchCV</label><div class=\"sk-toggleable__content\"><pre>GridSearchCV(cv=5, estimator=RandomForestRegressor(), n_jobs=-1,\n",
       "             param_grid={&#x27;max_depth&#x27;: [3, 5], &#x27;max_features&#x27;: [&#x27;sqrt&#x27;, 7, 8],\n",
       "                         &#x27;max_samples&#x27;: [0.7, 0.85],\n",
       "                         &#x27;n_estimators&#x27;: [100, 150, 200]},\n",
       "             return_train_score=True)</pre></div></div></div><div class=\"sk-parallel\"><div class=\"sk-parallel-item\"><div class=\"sk-item\"><div class=\"sk-label-container\"><div class=\"sk-label sk-toggleable\"><input class=\"sk-toggleable__control sk-hidden--visually\" id=\"sk-estimator-id-18\" type=\"checkbox\" ><label for=\"sk-estimator-id-18\" class=\"sk-toggleable__label sk-toggleable__label-arrow\">estimator: RandomForestRegressor</label><div class=\"sk-toggleable__content\"><pre>RandomForestRegressor()</pre></div></div></div><div class=\"sk-serial\"><div class=\"sk-item\"><div class=\"sk-estimator sk-toggleable\"><input class=\"sk-toggleable__control sk-hidden--visually\" id=\"sk-estimator-id-19\" type=\"checkbox\" ><label for=\"sk-estimator-id-19\" class=\"sk-toggleable__label sk-toggleable__label-arrow\">RandomForestRegressor</label><div class=\"sk-toggleable__content\"><pre>RandomForestRegressor()</pre></div></div></div></div></div></div></div></div></div></div>"
      ],
      "text/plain": [
       "GridSearchCV(cv=5, estimator=RandomForestRegressor(), n_jobs=-1,\n",
       "             param_grid={'max_depth': [3, 5], 'max_features': ['sqrt', 7, 8],\n",
       "                         'max_samples': [0.7, 0.85],\n",
       "                         'n_estimators': [100, 150, 200]},\n",
       "             return_train_score=True)"
      ]
     },
     "execution_count": 152,
     "metadata": {},
     "output_type": "execute_result"
    }
   ],
   "source": [
    "grid = GridSearchCV(estimator,\n",
    "                    params,\n",
    "                    cv=5,\n",
    "                    n_jobs=-1,\n",
    "                    return_train_score=True)\n",
    "\n",
    "grid.fit(X_train,y_train)"
   ]
  },
  {
   "cell_type": "code",
   "execution_count": 153,
   "metadata": {
    "scrolled": true
   },
   "outputs": [
    {
     "data": {
      "text/plain": [
       "{'max_depth': 5, 'max_features': 8, 'max_samples': 0.7, 'n_estimators': 200}"
      ]
     },
     "execution_count": 153,
     "metadata": {},
     "output_type": "execute_result"
    }
   ],
   "source": [
    "best_params = grid.best_params_\n",
    "best_params"
   ]
  },
  {
   "cell_type": "code",
   "execution_count": 154,
   "metadata": {
    "scrolled": true
   },
   "outputs": [
    {
     "data": {
      "text/html": [
       "<div>\n",
       "<style scoped>\n",
       "    .dataframe tbody tr th:only-of-type {\n",
       "        vertical-align: middle;\n",
       "    }\n",
       "\n",
       "    .dataframe tbody tr th {\n",
       "        vertical-align: top;\n",
       "    }\n",
       "\n",
       "    .dataframe thead th {\n",
       "        text-align: right;\n",
       "    }\n",
       "</style>\n",
       "<table border=\"1\" class=\"dataframe\">\n",
       "  <thead>\n",
       "    <tr style=\"text-align: right;\">\n",
       "      <th></th>\n",
       "      <th>mean_fit_time</th>\n",
       "      <th>std_fit_time</th>\n",
       "      <th>mean_score_time</th>\n",
       "      <th>std_score_time</th>\n",
       "      <th>param_max_depth</th>\n",
       "      <th>param_max_features</th>\n",
       "      <th>param_max_samples</th>\n",
       "      <th>param_n_estimators</th>\n",
       "      <th>params</th>\n",
       "      <th>mean_test_score</th>\n",
       "      <th>std_test_score</th>\n",
       "      <th>rank_test_score</th>\n",
       "      <th>mean_train_score</th>\n",
       "      <th>std_train_score</th>\n",
       "    </tr>\n",
       "  </thead>\n",
       "  <tbody>\n",
       "    <tr>\n",
       "      <th>32</th>\n",
       "      <td>0.470753</td>\n",
       "      <td>0.059574</td>\n",
       "      <td>0.030065</td>\n",
       "      <td>0.004318</td>\n",
       "      <td>5</td>\n",
       "      <td>8</td>\n",
       "      <td>0.7</td>\n",
       "      <td>200</td>\n",
       "      <td>{'max_depth': 5, 'max_features': 8, 'max_sampl...</td>\n",
       "      <td>0.681498</td>\n",
       "      <td>0.071012</td>\n",
       "      <td>1</td>\n",
       "      <td>0.838736</td>\n",
       "      <td>0.008548</td>\n",
       "    </tr>\n",
       "    <tr>\n",
       "      <th>34</th>\n",
       "      <td>0.315261</td>\n",
       "      <td>0.002615</td>\n",
       "      <td>0.021461</td>\n",
       "      <td>0.000997</td>\n",
       "      <td>5</td>\n",
       "      <td>8</td>\n",
       "      <td>0.85</td>\n",
       "      <td>150</td>\n",
       "      <td>{'max_depth': 5, 'max_features': 8, 'max_sampl...</td>\n",
       "      <td>0.675262</td>\n",
       "      <td>0.070931</td>\n",
       "      <td>2</td>\n",
       "      <td>0.844976</td>\n",
       "      <td>0.010698</td>\n",
       "    </tr>\n",
       "    <tr>\n",
       "      <th>30</th>\n",
       "      <td>0.219806</td>\n",
       "      <td>0.020001</td>\n",
       "      <td>0.017227</td>\n",
       "      <td>0.002115</td>\n",
       "      <td>5</td>\n",
       "      <td>8</td>\n",
       "      <td>0.7</td>\n",
       "      <td>100</td>\n",
       "      <td>{'max_depth': 5, 'max_features': 8, 'max_sampl...</td>\n",
       "      <td>0.674321</td>\n",
       "      <td>0.066746</td>\n",
       "      <td>3</td>\n",
       "      <td>0.833250</td>\n",
       "      <td>0.012548</td>\n",
       "    </tr>\n",
       "  </tbody>\n",
       "</table>\n",
       "</div>"
      ],
      "text/plain": [
       "    mean_fit_time  std_fit_time  mean_score_time  std_score_time  \\\n",
       "32       0.470753      0.059574         0.030065        0.004318   \n",
       "34       0.315261      0.002615         0.021461        0.000997   \n",
       "30       0.219806      0.020001         0.017227        0.002115   \n",
       "\n",
       "   param_max_depth param_max_features param_max_samples param_n_estimators  \\\n",
       "32               5                  8               0.7                200   \n",
       "34               5                  8              0.85                150   \n",
       "30               5                  8               0.7                100   \n",
       "\n",
       "                                               params  mean_test_score  \\\n",
       "32  {'max_depth': 5, 'max_features': 8, 'max_sampl...         0.681498   \n",
       "34  {'max_depth': 5, 'max_features': 8, 'max_sampl...         0.675262   \n",
       "30  {'max_depth': 5, 'max_features': 8, 'max_sampl...         0.674321   \n",
       "\n",
       "    std_test_score  rank_test_score  mean_train_score  std_train_score  \n",
       "32        0.071012                1          0.838736         0.008548  \n",
       "34        0.070931                2          0.844976         0.010698  \n",
       "30        0.066746                3          0.833250         0.012548  "
      ]
     },
     "execution_count": 154,
     "metadata": {},
     "output_type": "execute_result"
    }
   ],
   "source": [
    "resultize(grid).head(3)"
   ]
  },
  {
   "cell_type": "code",
   "execution_count": 155,
   "metadata": {
    "scrolled": false
   },
   "outputs": [
    {
     "data": {
      "image/png": "[encoded data removed]",
      "text/plain": [
       "<Figure size 1008x1008 with 5 Axes>"
      ]
     },
     "metadata": {},
     "output_type": "display_data"
    }
   ],
   "source": [
    "data = resultize(grid)[['mean_fit_time','param_max_depth', 'param_max_features', \n",
    "                         'param_max_samples', 'param_n_estimators','mean_test_score']]\n",
    "data = data.loc[data['param_max_features'] != 'sqrt']\n",
    "\n",
    "fig = plt.figure(figsize=(14,14))\n",
    "for idx,feat in enumerate(data.columns[:-1]):\n",
    "    ax = fig.add_subplot(3,3, (idx+ 1))\n",
    "    sns.scatterplot(data=data, \n",
    "                    x = data[feat],\n",
    "                    y = data['mean_test_score'],\n",
    "                    color='tab:purple',\n",
    "                    hue = 'param_max_depth',\n",
    "                    ax = ax,\n",
    "                    legend = False,\n",
    "                   palette = 'crest')\n",
    "    ax.set_xlabel(feat)\n",
    "    ax.set_ylabel('Score R2')\n",
    "# last ax is separate from loop\n",
    "# for getting legend info\n",
    "ax = fig.add_subplot(3,3, 9)\n",
    "sns.scatterplot(data=data, \n",
    "                x = data[feat],\n",
    "                y = data['mean_test_score'],\n",
    "                color='tab:purple',\n",
    "                hue = 'param_max_depth',\n",
    "                ax = ax,\n",
    "               palette='mako')\n",
    "ax.set_xlabel(feat)\n",
    "ax.set_ylabel('Score R2')\n",
    "handles, labels = ax.get_legend_handles_labels()    \n",
    "ax.remove()\n",
    "fig.legend(handles, labels, bbox_to_anchor=(0.01, 0.91), title = 'param_max_depth')\n",
    "fig.suptitle('Prédiction Énergie \\n Fôrets aléatoires (avec EnergyScore) : validation croisée \\n Divers paramètres vs. Score R2', fontsize=17,y=1, color=sns.color_palette('mako')[2])\n",
    "plt.tight_layout()\n",
    "fig.savefig('./img/energy_score_cv-forest.png',bbox_inches='tight')\n",
    "plt.show()"
   ]
  },
  {
   "cell_type": "code",
   "execution_count": 156,
   "metadata": {
    "scrolled": false
   },
   "outputs": [
    {
     "data": {
      "text/html": [
       "<div>\n",
       "<style scoped>\n",
       "    .dataframe tbody tr th:only-of-type {\n",
       "        vertical-align: middle;\n",
       "    }\n",
       "\n",
       "    .dataframe tbody tr th {\n",
       "        vertical-align: top;\n",
       "    }\n",
       "\n",
       "    .dataframe thead th {\n",
       "        text-align: right;\n",
       "    }\n",
       "</style>\n",
       "<table border=\"1\" class=\"dataframe\">\n",
       "  <thead>\n",
       "    <tr style=\"text-align: right;\">\n",
       "      <th></th>\n",
       "      <th>mean_fit_time</th>\n",
       "      <th>std_fit_time</th>\n",
       "      <th>mean_score_time</th>\n",
       "      <th>std_score_time</th>\n",
       "      <th>param_max_depth</th>\n",
       "      <th>param_max_features</th>\n",
       "      <th>param_max_samples</th>\n",
       "      <th>param_n_estimators</th>\n",
       "      <th>params</th>\n",
       "      <th>mean_test_score</th>\n",
       "      <th>std_test_score</th>\n",
       "      <th>rank_test_score</th>\n",
       "      <th>mean_train_score</th>\n",
       "      <th>std_train_score</th>\n",
       "    </tr>\n",
       "  </thead>\n",
       "  <tbody>\n",
       "    <tr>\n",
       "      <th>32</th>\n",
       "      <td>0.470753</td>\n",
       "      <td>0.059574</td>\n",
       "      <td>0.030065</td>\n",
       "      <td>0.004318</td>\n",
       "      <td>5</td>\n",
       "      <td>8</td>\n",
       "      <td>0.7</td>\n",
       "      <td>200</td>\n",
       "      <td>{'max_depth': 5, 'max_features': 8, 'max_sampl...</td>\n",
       "      <td>0.681498</td>\n",
       "      <td>0.071012</td>\n",
       "      <td>1</td>\n",
       "      <td>0.838736</td>\n",
       "      <td>0.008548</td>\n",
       "    </tr>\n",
       "    <tr>\n",
       "      <th>34</th>\n",
       "      <td>0.315261</td>\n",
       "      <td>0.002615</td>\n",
       "      <td>0.021461</td>\n",
       "      <td>0.000997</td>\n",
       "      <td>5</td>\n",
       "      <td>8</td>\n",
       "      <td>0.85</td>\n",
       "      <td>150</td>\n",
       "      <td>{'max_depth': 5, 'max_features': 8, 'max_sampl...</td>\n",
       "      <td>0.675262</td>\n",
       "      <td>0.070931</td>\n",
       "      <td>2</td>\n",
       "      <td>0.844976</td>\n",
       "      <td>0.010698</td>\n",
       "    </tr>\n",
       "    <tr>\n",
       "      <th>30</th>\n",
       "      <td>0.219806</td>\n",
       "      <td>0.020001</td>\n",
       "      <td>0.017227</td>\n",
       "      <td>0.002115</td>\n",
       "      <td>5</td>\n",
       "      <td>8</td>\n",
       "      <td>0.7</td>\n",
       "      <td>100</td>\n",
       "      <td>{'max_depth': 5, 'max_features': 8, 'max_sampl...</td>\n",
       "      <td>0.674321</td>\n",
       "      <td>0.066746</td>\n",
       "      <td>3</td>\n",
       "      <td>0.833250</td>\n",
       "      <td>0.012548</td>\n",
       "    </tr>\n",
       "  </tbody>\n",
       "</table>\n",
       "</div>"
      ],
      "text/plain": [
       "    mean_fit_time  std_fit_time  mean_score_time  std_score_time  \\\n",
       "32       0.470753      0.059574         0.030065        0.004318   \n",
       "34       0.315261      0.002615         0.021461        0.000997   \n",
       "30       0.219806      0.020001         0.017227        0.002115   \n",
       "\n",
       "   param_max_depth param_max_features param_max_samples param_n_estimators  \\\n",
       "32               5                  8               0.7                200   \n",
       "34               5                  8              0.85                150   \n",
       "30               5                  8               0.7                100   \n",
       "\n",
       "                                               params  mean_test_score  \\\n",
       "32  {'max_depth': 5, 'max_features': 8, 'max_sampl...         0.681498   \n",
       "34  {'max_depth': 5, 'max_features': 8, 'max_sampl...         0.675262   \n",
       "30  {'max_depth': 5, 'max_features': 8, 'max_sampl...         0.674321   \n",
       "\n",
       "    std_test_score  rank_test_score  mean_train_score  std_train_score  \n",
       "32        0.071012                1          0.838736         0.008548  \n",
       "34        0.070931                2          0.844976         0.010698  \n",
       "30        0.066746                3          0.833250         0.012548  "
      ]
     },
     "execution_count": 156,
     "metadata": {},
     "output_type": "execute_result"
    }
   ],
   "source": [
    "results = resultize(grid)\n",
    "\n",
    "my_results = results.loc[results['mean_train_score']<0.88].sort_values(by='mean_test_score', ascending=False)\n",
    "my_results.head(3)"
   ]
  },
  {
   "cell_type": "code",
   "execution_count": 157,
   "metadata": {},
   "outputs": [
    {
     "data": {
      "text/plain": [
       "{'max_depth': 5, 'max_features': 8, 'max_samples': 0.7, 'n_estimators': 200}"
      ]
     },
     "execution_count": 157,
     "metadata": {},
     "output_type": "execute_result"
    }
   ],
   "source": [
    "my_best_params = my_results.iloc[0,:]['params']\n",
    "my_best_params"
   ]
  },
  {
   "cell_type": "markdown",
   "metadata": {},
   "source": [
    "### Entraînement fôret avec meilleurs paramètres (avec EnergyScore)"
   ]
  },
  {
   "cell_type": "code",
   "execution_count": 158,
   "metadata": {
    "scrolled": true
   },
   "outputs": [
    {
     "data": {
      "text/plain": [
       "array([2651089.05807498, 2992794.2171212 , 3757608.51363704,\n",
       "       2475723.92284644, 2825017.97788758])"
      ]
     },
     "execution_count": 158,
     "metadata": {},
     "output_type": "execute_result"
    }
   ],
   "source": [
    "estimator = RandomForestRegressor(**my_best_params)\n",
    "\n",
    "start = time.time()\n",
    "estimator.fit(X_train, y_train)\n",
    "end = time.time()\n",
    "fit_time = end-start\n",
    "\n",
    "start = time.time()\n",
    "y_pred = estimator.predict(X_test)\n",
    "end = time.time()\n",
    "exec_time = end-start\n",
    "\n",
    "y_pred[:5]"
   ]
  },
  {
   "cell_type": "code",
   "execution_count": 159,
   "metadata": {
    "scrolled": false
   },
   "outputs": [
    {
     "name": "stdout",
     "output_type": "stream",
     "text": [
      "score train : 0.8297, score test : 0.6458\n"
     ]
    },
    {
     "data": {
      "text/plain": [
       "[0.8297, 0.6458]"
      ]
     },
     "execution_count": 159,
     "metadata": {},
     "output_type": "execute_result"
    }
   ],
   "source": [
    "score(estimator,X_train,X_test,y_train,y_test)"
   ]
  },
  {
   "cell_type": "code",
   "execution_count": 160,
   "metadata": {
    "scrolled": false
   },
   "outputs": [
    {
     "name": "stdout",
     "output_type": "stream",
     "text": [
      "The RMSE is: 5927190.86\n",
      "score train : 0.8297, score test : 0.6458\n"
     ]
    }
   ],
   "source": [
    "append_dic('RandomForest_afterCV', estimator, new_errors_df,X_train,X_test,y_train,y_test)"
   ]
  },
  {
   "cell_type": "markdown",
   "metadata": {},
   "source": [
    "## XGBoost régularisé (avec EnergyScore)\n",
    "### Recherche de paramètres de régularisation : validation croisée"
   ]
  },
  {
   "cell_type": "code",
   "execution_count": 161,
   "metadata": {},
   "outputs": [],
   "source": [
    "estimator = XGBRegressor()\n",
    "\n",
    "alphas = np.logspace(-6,6,10)\n",
    "lambdas = np.logspace(-6,6,10)\n",
    "\n",
    "params = {\n",
    "    'max_depth' : [2,3,4],\n",
    "   'lambda' : lambdas,\n",
    "    'alpha' : alphas,\n",
    "    'gamma' : [0.1,0.05],\n",
    "    'subsample' : [0.85]\n",
    "}"
   ]
  },
  {
   "cell_type": "code",
   "execution_count": 162,
   "metadata": {
    "scrolled": true
   },
   "outputs": [
    {
     "data": {
      "text/html": [
       "<style>#sk-container-id-10 {color: black;background-color: white;}#sk-container-id-10 pre{padding: 0;}#sk-container-id-10 div.sk-toggleable {background-color: white;}#sk-container-id-10 label.sk-toggleable__label {cursor: pointer;display: block;width: 100%;margin-bottom: 0;padding: 0.3em;box-sizing: border-box;text-align: center;}#sk-container-id-10 label.sk-toggleable__label-arrow:before {content: \"▸\";float: left;margin-right: 0.25em;color: #696969;}#sk-container-id-10 label.sk-toggleable__label-arrow:hover:before {color: black;}#sk-container-id-10 div.sk-estimator:hover label.sk-toggleable__label-arrow:before {color: black;}#sk-container-id-10 div.sk-toggleable__content {max-height: 0;max-width: 0;overflow: hidden;text-align: left;background-color: #f0f8ff;}#sk-container-id-10 div.sk-toggleable__content pre {margin: 0.2em;color: black;border-radius: 0.25em;background-color: #f0f8ff;}#sk-container-id-10 input.sk-toggleable__control:checked~div.sk-toggleable__content {max-height: 200px;max-width: 100%;overflow: auto;}#sk-container-id-10 input.sk-toggleable__control:checked~label.sk-toggleable__label-arrow:before {content: \"▾\";}#sk-container-id-10 div.sk-estimator input.sk-toggleable__control:checked~label.sk-toggleable__label {background-color: #d4ebff;}#sk-container-id-10 div.sk-label input.sk-toggleable__control:checked~label.sk-toggleable__label {background-color: #d4ebff;}#sk-container-id-10 input.sk-hidden--visually {border: 0;clip: rect(1px 1px 1px 1px);clip: rect(1px, 1px, 1px, 1px);height: 1px;margin: -1px;overflow: hidden;padding: 0;position: absolute;width: 1px;}#sk-container-id-10 div.sk-estimator {font-family: monospace;background-color: #f0f8ff;border: 1px dotted black;border-radius: 0.25em;box-sizing: border-box;margin-bottom: 0.5em;}#sk-container-id-10 div.sk-estimator:hover {background-color: #d4ebff;}#sk-container-id-10 div.sk-parallel-item::after {content: \"\";width: 100%;border-bottom: 1px solid gray;flex-grow: 1;}#sk-container-id-10 div.sk-label:hover label.sk-toggleable__label {background-color: #d4ebff;}#sk-container-id-10 div.sk-serial::before {content: \"\";position: absolute;border-left: 1px solid gray;box-sizing: border-box;top: 0;bottom: 0;left: 50%;z-index: 0;}#sk-container-id-10 div.sk-serial {display: flex;flex-direction: column;align-items: center;background-color: white;padding-right: 0.2em;padding-left: 0.2em;position: relative;}#sk-container-id-10 div.sk-item {position: relative;z-index: 1;}#sk-container-id-10 div.sk-parallel {display: flex;align-items: stretch;justify-content: center;background-color: white;position: relative;}#sk-container-id-10 div.sk-item::before, #sk-container-id-10 div.sk-parallel-item::before {content: \"\";position: absolute;border-left: 1px solid gray;box-sizing: border-box;top: 0;bottom: 0;left: 50%;z-index: -1;}#sk-container-id-10 div.sk-parallel-item {display: flex;flex-direction: column;z-index: 1;position: relative;background-color: white;}#sk-container-id-10 div.sk-parallel-item:first-child::after {align-self: flex-end;width: 50%;}#sk-container-id-10 div.sk-parallel-item:last-child::after {align-self: flex-start;width: 50%;}#sk-container-id-10 div.sk-parallel-item:only-child::after {width: 0;}#sk-container-id-10 div.sk-dashed-wrapped {border: 1px dashed gray;margin: 0 0.4em 0.5em 0.4em;box-sizing: border-box;padding-bottom: 0.4em;background-color: white;}#sk-container-id-10 div.sk-label label {font-family: monospace;font-weight: bold;display: inline-block;line-height: 1.2em;}#sk-container-id-10 div.sk-label-container {text-align: center;}#sk-container-id-10 div.sk-container {/* jupyter's `normalize.less` sets `[hidden] { display: none; }` but bootstrap.min.css set `[hidden] { display: none !important; }` so we also need the `!important` here to be able to override the default hidden behavior on the sphinx rendered scikit-learn.org. See: https://github.com/scikit-learn/scikit-learn/issues/21755 */display: inline-block !important;position: relative;}#sk-container-id-10 div.sk-text-repr-fallback {display: none;}</style><div id=\"sk-container-id-10\" class=\"sk-top-container\"><div class=\"sk-text-repr-fallback\"><pre>GridSearchCV(cv=5,\n",
       "             estimator=XGBRegressor(base_score=None, booster=None,\n",
       "                                    callbacks=None, colsample_bylevel=None,\n",
       "                                    colsample_bynode=None,\n",
       "                                    colsample_bytree=None,\n",
       "                                    early_stopping_rounds=None,\n",
       "                                    enable_categorical=False, eval_metric=None,\n",
       "                                    feature_types=None, gamma=None, gpu_id=None,\n",
       "                                    grow_policy=None, importance_type=None,\n",
       "                                    interaction_constraints=None,\n",
       "                                    learning_rate=None, m...\n",
       "             param_grid={&#x27;alpha&#x27;: array([1.00000000e-06, 2.15443469e-05, 4.64158883e-04, 1.00000000e-02,\n",
       "       2.15443469e-01, 4.64158883e+00, 1.00000000e+02, 2.15443469e+03,\n",
       "       4.64158883e+04, 1.00000000e+06]),\n",
       "                         &#x27;gamma&#x27;: [0.1, 0.05],\n",
       "                         &#x27;lambda&#x27;: array([1.00000000e-06, 2.15443469e-05, 4.64158883e-04, 1.00000000e-02,\n",
       "       2.15443469e-01, 4.64158883e+00, 1.00000000e+02, 2.15443469e+03,\n",
       "       4.64158883e+04, 1.00000000e+06]),\n",
       "                         &#x27;max_depth&#x27;: [2, 3, 4], &#x27;subsample&#x27;: [0.85]},\n",
       "             return_train_score=True)</pre><b>In a Jupyter environment, please rerun this cell to show the HTML representation or trust the notebook. <br />On GitHub, the HTML representation is unable to render, please try loading this page with nbviewer.org.</b></div><div class=\"sk-container\" hidden><div class=\"sk-item sk-dashed-wrapped\"><div class=\"sk-label-container\"><div class=\"sk-label sk-toggleable\"><input class=\"sk-toggleable__control sk-hidden--visually\" id=\"sk-estimator-id-20\" type=\"checkbox\" ><label for=\"sk-estimator-id-20\" class=\"sk-toggleable__label sk-toggleable__label-arrow\">GridSearchCV</label><div class=\"sk-toggleable__content\"><pre>GridSearchCV(cv=5,\n",
       "             estimator=XGBRegressor(base_score=None, booster=None,\n",
       "                                    callbacks=None, colsample_bylevel=None,\n",
       "                                    colsample_bynode=None,\n",
       "                                    colsample_bytree=None,\n",
       "                                    early_stopping_rounds=None,\n",
       "                                    enable_categorical=False, eval_metric=None,\n",
       "                                    feature_types=None, gamma=None, gpu_id=None,\n",
       "                                    grow_policy=None, importance_type=None,\n",
       "                                    interaction_constraints=None,\n",
       "                                    learning_rate=None, m...\n",
       "             param_grid={&#x27;alpha&#x27;: array([1.00000000e-06, 2.15443469e-05, 4.64158883e-04, 1.00000000e-02,\n",
       "       2.15443469e-01, 4.64158883e+00, 1.00000000e+02, 2.15443469e+03,\n",
       "       4.64158883e+04, 1.00000000e+06]),\n",
       "                         &#x27;gamma&#x27;: [0.1, 0.05],\n",
       "                         &#x27;lambda&#x27;: array([1.00000000e-06, 2.15443469e-05, 4.64158883e-04, 1.00000000e-02,\n",
       "       2.15443469e-01, 4.64158883e+00, 1.00000000e+02, 2.15443469e+03,\n",
       "       4.64158883e+04, 1.00000000e+06]),\n",
       "                         &#x27;max_depth&#x27;: [2, 3, 4], &#x27;subsample&#x27;: [0.85]},\n",
       "             return_train_score=True)</pre></div></div></div><div class=\"sk-parallel\"><div class=\"sk-parallel-item\"><div class=\"sk-item\"><div class=\"sk-label-container\"><div class=\"sk-label sk-toggleable\"><input class=\"sk-toggleable__control sk-hidden--visually\" id=\"sk-estimator-id-21\" type=\"checkbox\" ><label for=\"sk-estimator-id-21\" class=\"sk-toggleable__label sk-toggleable__label-arrow\">estimator: XGBRegressor</label><div class=\"sk-toggleable__content\"><pre>XGBRegressor(base_score=None, booster=None, callbacks=None,\n",
       "             colsample_bylevel=None, colsample_bynode=None,\n",
       "             colsample_bytree=None, early_stopping_rounds=None,\n",
       "             enable_categorical=False, eval_metric=None, feature_types=None,\n",
       "             gamma=None, gpu_id=None, grow_policy=None, importance_type=None,\n",
       "             interaction_constraints=None, learning_rate=None, max_bin=None,\n",
       "             max_cat_threshold=None, max_cat_to_onehot=None,\n",
       "             max_delta_step=None, max_depth=None, max_leaves=None,\n",
       "             min_child_weight=None, missing=nan, monotone_constraints=None,\n",
       "             n_estimators=100, n_jobs=None, num_parallel_tree=None,\n",
       "             predictor=None, random_state=None, ...)</pre></div></div></div><div class=\"sk-serial\"><div class=\"sk-item\"><div class=\"sk-estimator sk-toggleable\"><input class=\"sk-toggleable__control sk-hidden--visually\" id=\"sk-estimator-id-22\" type=\"checkbox\" ><label for=\"sk-estimator-id-22\" class=\"sk-toggleable__label sk-toggleable__label-arrow\">XGBRegressor</label><div class=\"sk-toggleable__content\"><pre>XGBRegressor(base_score=None, booster=None, callbacks=None,\n",
       "             colsample_bylevel=None, colsample_bynode=None,\n",
       "             colsample_bytree=None, early_stopping_rounds=None,\n",
       "             enable_categorical=False, eval_metric=None, feature_types=None,\n",
       "             gamma=None, gpu_id=None, grow_policy=None, importance_type=None,\n",
       "             interaction_constraints=None, learning_rate=None, max_bin=None,\n",
       "             max_cat_threshold=None, max_cat_to_onehot=None,\n",
       "             max_delta_step=None, max_depth=None, max_leaves=None,\n",
       "             min_child_weight=None, missing=nan, monotone_constraints=None,\n",
       "             n_estimators=100, n_jobs=None, num_parallel_tree=None,\n",
       "             predictor=None, random_state=None, ...)</pre></div></div></div></div></div></div></div></div></div></div>"
      ],
      "text/plain": [
       "GridSearchCV(cv=5,\n",
       "             estimator=XGBRegressor(base_score=None, booster=None,\n",
       "                                    callbacks=None, colsample_bylevel=None,\n",
       "                                    colsample_bynode=None,\n",
       "                                    colsample_bytree=None,\n",
       "                                    early_stopping_rounds=None,\n",
       "                                    enable_categorical=False, eval_metric=None,\n",
       "                                    feature_types=None, gamma=None, gpu_id=None,\n",
       "                                    grow_policy=None, importance_type=None,\n",
       "                                    interaction_constraints=None,\n",
       "                                    learning_rate=None, m...\n",
       "             param_grid={'alpha': array([1.00000000e-06, 2.15443469e-05, 4.64158883e-04, 1.00000000e-02,\n",
       "       2.15443469e-01, 4.64158883e+00, 1.00000000e+02, 2.15443469e+03,\n",
       "       4.64158883e+04, 1.00000000e+06]),\n",
       "                         'gamma': [0.1, 0.05],\n",
       "                         'lambda': array([1.00000000e-06, 2.15443469e-05, 4.64158883e-04, 1.00000000e-02,\n",
       "       2.15443469e-01, 4.64158883e+00, 1.00000000e+02, 2.15443469e+03,\n",
       "       4.64158883e+04, 1.00000000e+06]),\n",
       "                         'max_depth': [2, 3, 4], 'subsample': [0.85]},\n",
       "             return_train_score=True)"
      ]
     },
     "execution_count": 162,
     "metadata": {},
     "output_type": "execute_result"
    }
   ],
   "source": [
    "grid = GridSearchCV(estimator,\n",
    "                    params,\n",
    "                    cv=5,\n",
    "                    n_jobs=-1,\n",
    "                    return_train_score=True)\n",
    "\n",
    "grid.fit(X_train,y_train)"
   ]
  },
  {
   "cell_type": "code",
   "execution_count": 163,
   "metadata": {
    "scrolled": true
   },
   "outputs": [
    {
     "data": {
      "text/plain": [
       "{'alpha': 46415.888336127726,\n",
       " 'gamma': 0.1,\n",
       " 'lambda': 0.01,\n",
       " 'max_depth': 3,\n",
       " 'subsample': 0.85}"
      ]
     },
     "execution_count": 163,
     "metadata": {},
     "output_type": "execute_result"
    }
   ],
   "source": [
    "best_params = grid.best_params_\n",
    "best_params"
   ]
  },
  {
   "cell_type": "code",
   "execution_count": 164,
   "metadata": {
    "scrolled": true
   },
   "outputs": [
    {
     "data": {
      "text/html": [
       "<div>\n",
       "<style scoped>\n",
       "    .dataframe tbody tr th:only-of-type {\n",
       "        vertical-align: middle;\n",
       "    }\n",
       "\n",
       "    .dataframe tbody tr th {\n",
       "        vertical-align: top;\n",
       "    }\n",
       "\n",
       "    .dataframe thead th {\n",
       "        text-align: right;\n",
       "    }\n",
       "</style>\n",
       "<table border=\"1\" class=\"dataframe\">\n",
       "  <thead>\n",
       "    <tr style=\"text-align: right;\">\n",
       "      <th></th>\n",
       "      <th>mean_fit_time</th>\n",
       "      <th>std_fit_time</th>\n",
       "      <th>mean_score_time</th>\n",
       "      <th>std_score_time</th>\n",
       "      <th>param_alpha</th>\n",
       "      <th>param_gamma</th>\n",
       "      <th>param_lambda</th>\n",
       "      <th>param_max_depth</th>\n",
       "      <th>param_subsample</th>\n",
       "      <th>params</th>\n",
       "      <th>mean_test_score</th>\n",
       "      <th>std_test_score</th>\n",
       "      <th>rank_test_score</th>\n",
       "      <th>mean_train_score</th>\n",
       "      <th>std_train_score</th>\n",
       "    </tr>\n",
       "  </thead>\n",
       "  <tbody>\n",
       "    <tr>\n",
       "      <th>528</th>\n",
       "      <td>0.141028</td>\n",
       "      <td>0.001536</td>\n",
       "      <td>0.005498</td>\n",
       "      <td>0.000159</td>\n",
       "      <td>46415.888336</td>\n",
       "      <td>0.05</td>\n",
       "      <td>100.0</td>\n",
       "      <td>2</td>\n",
       "      <td>0.85</td>\n",
       "      <td>{'alpha': 46415.888336127726, 'gamma': 0.05, '...</td>\n",
       "      <td>0.723345</td>\n",
       "      <td>0.088551</td>\n",
       "      <td>401</td>\n",
       "      <td>0.847205</td>\n",
       "      <td>0.011492</td>\n",
       "    </tr>\n",
       "    <tr>\n",
       "      <th>498</th>\n",
       "      <td>0.143455</td>\n",
       "      <td>0.003151</td>\n",
       "      <td>0.005537</td>\n",
       "      <td>0.000115</td>\n",
       "      <td>46415.888336</td>\n",
       "      <td>0.1</td>\n",
       "      <td>100.0</td>\n",
       "      <td>2</td>\n",
       "      <td>0.85</td>\n",
       "      <td>{'alpha': 46415.888336127726, 'gamma': 0.1, 'l...</td>\n",
       "      <td>0.723345</td>\n",
       "      <td>0.088551</td>\n",
       "      <td>401</td>\n",
       "      <td>0.847205</td>\n",
       "      <td>0.011492</td>\n",
       "    </tr>\n",
       "    <tr>\n",
       "      <th>348</th>\n",
       "      <td>0.160531</td>\n",
       "      <td>0.021603</td>\n",
       "      <td>0.006564</td>\n",
       "      <td>0.001371</td>\n",
       "      <td>4.641589</td>\n",
       "      <td>0.05</td>\n",
       "      <td>100.0</td>\n",
       "      <td>2</td>\n",
       "      <td>0.85</td>\n",
       "      <td>{'alpha': 4.641588833612772, 'gamma': 0.05, 'l...</td>\n",
       "      <td>0.723335</td>\n",
       "      <td>0.088552</td>\n",
       "      <td>403</td>\n",
       "      <td>0.847238</td>\n",
       "      <td>0.011492</td>\n",
       "    </tr>\n",
       "    <tr>\n",
       "      <th>318</th>\n",
       "      <td>0.140900</td>\n",
       "      <td>0.001899</td>\n",
       "      <td>0.005422</td>\n",
       "      <td>0.000130</td>\n",
       "      <td>4.641589</td>\n",
       "      <td>0.1</td>\n",
       "      <td>100.0</td>\n",
       "      <td>2</td>\n",
       "      <td>0.85</td>\n",
       "      <td>{'alpha': 4.641588833612772, 'gamma': 0.1, 'la...</td>\n",
       "      <td>0.723335</td>\n",
       "      <td>0.088552</td>\n",
       "      <td>403</td>\n",
       "      <td>0.847238</td>\n",
       "      <td>0.011492</td>\n",
       "    </tr>\n",
       "    <tr>\n",
       "      <th>288</th>\n",
       "      <td>0.160741</td>\n",
       "      <td>0.023915</td>\n",
       "      <td>0.005934</td>\n",
       "      <td>0.000329</td>\n",
       "      <td>0.215443</td>\n",
       "      <td>0.05</td>\n",
       "      <td>100.0</td>\n",
       "      <td>2</td>\n",
       "      <td>0.85</td>\n",
       "      <td>{'alpha': 0.21544346900318823, 'gamma': 0.05, ...</td>\n",
       "      <td>0.723335</td>\n",
       "      <td>0.088552</td>\n",
       "      <td>405</td>\n",
       "      <td>0.847238</td>\n",
       "      <td>0.011492</td>\n",
       "    </tr>\n",
       "  </tbody>\n",
       "</table>\n",
       "</div>"
      ],
      "text/plain": [
       "     mean_fit_time  std_fit_time  mean_score_time  std_score_time  \\\n",
       "528       0.141028      0.001536         0.005498        0.000159   \n",
       "498       0.143455      0.003151         0.005537        0.000115   \n",
       "348       0.160531      0.021603         0.006564        0.001371   \n",
       "318       0.140900      0.001899         0.005422        0.000130   \n",
       "288       0.160741      0.023915         0.005934        0.000329   \n",
       "\n",
       "      param_alpha param_gamma param_lambda param_max_depth param_subsample  \\\n",
       "528  46415.888336        0.05        100.0               2            0.85   \n",
       "498  46415.888336         0.1        100.0               2            0.85   \n",
       "348      4.641589        0.05        100.0               2            0.85   \n",
       "318      4.641589         0.1        100.0               2            0.85   \n",
       "288      0.215443        0.05        100.0               2            0.85   \n",
       "\n",
       "                                                params  mean_test_score  \\\n",
       "528  {'alpha': 46415.888336127726, 'gamma': 0.05, '...         0.723345   \n",
       "498  {'alpha': 46415.888336127726, 'gamma': 0.1, 'l...         0.723345   \n",
       "348  {'alpha': 4.641588833612772, 'gamma': 0.05, 'l...         0.723335   \n",
       "318  {'alpha': 4.641588833612772, 'gamma': 0.1, 'la...         0.723335   \n",
       "288  {'alpha': 0.21544346900318823, 'gamma': 0.05, ...         0.723335   \n",
       "\n",
       "     std_test_score  rank_test_score  mean_train_score  std_train_score  \n",
       "528        0.088551              401          0.847205         0.011492  \n",
       "498        0.088551              401          0.847205         0.011492  \n",
       "348        0.088552              403          0.847238         0.011492  \n",
       "318        0.088552              403          0.847238         0.011492  \n",
       "288        0.088552              405          0.847238         0.011492  "
      ]
     },
     "execution_count": 164,
     "metadata": {},
     "output_type": "execute_result"
    }
   ],
   "source": [
    "results = resultize(grid)\n",
    "my_sorted_results = results.loc[(results['mean_train_score']<0.87)].sort_values(by='mean_test_score', ascending=False )\n",
    "my_sorted_results.head()"
   ]
  },
  {
   "cell_type": "code",
   "execution_count": 165,
   "metadata": {},
   "outputs": [
    {
     "data": {
      "text/plain": [
       "{'alpha': 46415.888336127726,\n",
       " 'gamma': 0.05,\n",
       " 'lambda': 100.0,\n",
       " 'max_depth': 2,\n",
       " 'subsample': 0.85}"
      ]
     },
     "execution_count": 165,
     "metadata": {},
     "output_type": "execute_result"
    }
   ],
   "source": [
    "my_best_params = my_sorted_results.iloc[0,:]['params']\n",
    "my_best_params"
   ]
  },
  {
   "cell_type": "markdown",
   "metadata": {},
   "source": [
    "### Entraînement XGBoost regularisé avec meilleurs paramètres"
   ]
  },
  {
   "cell_type": "code",
   "execution_count": 166,
   "metadata": {},
   "outputs": [],
   "source": [
    "estimator = XGBRegressor(**my_best_params)\n",
    "\n",
    "start = time.time()\n",
    "estimator.fit(X_train, y_train)\n",
    "end = time.time()\n",
    "fit_time = end-start"
   ]
  },
  {
   "cell_type": "code",
   "execution_count": 167,
   "metadata": {},
   "outputs": [
    {
     "data": {
      "text/plain": [
       "array([ -78244.016, 3765618.8  , 2124881.2  , -155791.   ,  430910.84 ],\n",
       "      dtype=float32)"
      ]
     },
     "execution_count": 167,
     "metadata": {},
     "output_type": "execute_result"
    }
   ],
   "source": [
    "start = time.time()\n",
    "y_pred = estimator.predict(X_test)\n",
    "end = time.time()\n",
    "predict_time = end-start\n",
    "\n",
    "y_pred[:5]"
   ]
  },
  {
   "cell_type": "code",
   "execution_count": 168,
   "metadata": {
    "scrolled": true
   },
   "outputs": [
    {
     "name": "stdout",
     "output_type": "stream",
     "text": [
      "score train : 0.8464, score test : 0.7148\n"
     ]
    },
    {
     "data": {
      "text/plain": [
       "[0.8464, 0.7148]"
      ]
     },
     "execution_count": 168,
     "metadata": {},
     "output_type": "execute_result"
    }
   ],
   "source": [
    "score(estimator,X_train,X_test,y_train,y_test)"
   ]
  },
  {
   "cell_type": "code",
   "execution_count": 169,
   "metadata": {},
   "outputs": [
    {
     "name": "stdout",
     "output_type": "stream",
     "text": [
      "The RMSE is: 5318697.34\n"
     ]
    },
    {
     "data": {
      "text/plain": [
       "5318697.34"
      ]
     },
     "execution_count": 169,
     "metadata": {},
     "output_type": "execute_result"
    }
   ],
   "source": [
    "rmse(y_test,y_pred)"
   ]
  },
  {
   "cell_type": "code",
   "execution_count": 170,
   "metadata": {
    "scrolled": false
   },
   "outputs": [
    {
     "name": "stdout",
     "output_type": "stream",
     "text": [
      "The RMSE is: 5318697.34\n",
      "score train : 0.8464, score test : 0.7148\n"
     ]
    }
   ],
   "source": [
    "append_dic('XGBoost_reg',estimator,new_errors_df,X_train,X_test,y_train,y_test)"
   ]
  },
  {
   "cell_type": "markdown",
   "metadata": {},
   "source": [
    "## Gradient Boosting (avec EnergyScore)"
   ]
  },
  {
   "cell_type": "code",
   "execution_count": 171,
   "metadata": {},
   "outputs": [],
   "source": [
    "estimator = GradientBoostingRegressor(random_state=0,\n",
    "                                      learning_rate=0.017) # paramètre pour régularisation\n",
    "\n",
    "start = time.time()\n",
    "estimator.fit(X_train, y_train)\n",
    "end = time.time()\n",
    "fit_time = end-start"
   ]
  },
  {
   "cell_type": "code",
   "execution_count": 172,
   "metadata": {},
   "outputs": [
    {
     "data": {
      "text/plain": [
       "array([3170477.10560311, 3369579.33839216, 4557071.47790455,\n",
       "       2858316.88119057, 2990193.30580344])"
      ]
     },
     "execution_count": 172,
     "metadata": {},
     "output_type": "execute_result"
    }
   ],
   "source": [
    "start = time.time()\n",
    "y_pred = estimator.predict(X_test)\n",
    "end = time.time()\n",
    "predict_time = end-start\n",
    "\n",
    "y_pred[:5]"
   ]
  },
  {
   "cell_type": "code",
   "execution_count": 173,
   "metadata": {},
   "outputs": [
    {
     "name": "stdout",
     "output_type": "stream",
     "text": [
      "score train : 0.843, score test : 0.7193\n"
     ]
    },
    {
     "data": {
      "text/plain": [
       "[0.843, 0.7193]"
      ]
     },
     "execution_count": 173,
     "metadata": {},
     "output_type": "execute_result"
    }
   ],
   "source": [
    "score(estimator,X_train,X_test,y_train,y_test)"
   ]
  },
  {
   "cell_type": "code",
   "execution_count": 174,
   "metadata": {},
   "outputs": [
    {
     "name": "stdout",
     "output_type": "stream",
     "text": [
      "The RMSE is: 5276750.41\n",
      "score train : 0.843, score test : 0.7193\n"
     ]
    }
   ],
   "source": [
    "append_dic('GradientBoosting', estimator, new_errors_df,X_train,X_test,y_train,y_test)"
   ]
  },
  {
   "cell_type": "markdown",
   "metadata": {},
   "source": [
    "# Comparatif erreurs (avec EnergyScore)<a class=\"anchor\" id=\"erre\"></a>"
   ]
  },
  {
   "cell_type": "code",
   "execution_count": 175,
   "metadata": {
    "scrolled": true
   },
   "outputs": [
    {
     "data": {
      "text/html": [
       "<div>\n",
       "<style scoped>\n",
       "    .dataframe tbody tr th:only-of-type {\n",
       "        vertical-align: middle;\n",
       "    }\n",
       "\n",
       "    .dataframe tbody tr th {\n",
       "        vertical-align: top;\n",
       "    }\n",
       "\n",
       "    .dataframe thead th {\n",
       "        text-align: right;\n",
       "    }\n",
       "</style>\n",
       "<table border=\"1\" class=\"dataframe\">\n",
       "  <thead>\n",
       "    <tr style=\"text-align: right;\">\n",
       "      <th></th>\n",
       "      <th>Name</th>\n",
       "      <th>Train_R2_score</th>\n",
       "      <th>Test_R2_score</th>\n",
       "      <th>RMSE</th>\n",
       "      <th>Fit_time</th>\n",
       "      <th>Predict_time</th>\n",
       "    </tr>\n",
       "  </thead>\n",
       "  <tbody>\n",
       "    <tr>\n",
       "      <th>4</th>\n",
       "      <td>SVR</td>\n",
       "      <td>0.8136</td>\n",
       "      <td>0.7542</td>\n",
       "      <td>9094546.92</td>\n",
       "      <td>0.034987</td>\n",
       "      <td>0.005062</td>\n",
       "    </tr>\n",
       "    <tr>\n",
       "      <th>2</th>\n",
       "      <td>Ridge_afterCV</td>\n",
       "      <td>0.7930</td>\n",
       "      <td>0.7473</td>\n",
       "      <td>5006566.91</td>\n",
       "      <td>0.011326</td>\n",
       "      <td>0.008436</td>\n",
       "    </tr>\n",
       "    <tr>\n",
       "      <th>3</th>\n",
       "      <td>Lasso_afterCV</td>\n",
       "      <td>0.7704</td>\n",
       "      <td>0.7431</td>\n",
       "      <td>5047915.09</td>\n",
       "      <td>0.018875</td>\n",
       "      <td>0.003358</td>\n",
       "    </tr>\n",
       "    <tr>\n",
       "      <th>1</th>\n",
       "      <td>LinearRegression</td>\n",
       "      <td>0.8011</td>\n",
       "      <td>0.7332</td>\n",
       "      <td>5144866.79</td>\n",
       "      <td>0.004758</td>\n",
       "      <td>0.003900</td>\n",
       "    </tr>\n",
       "    <tr>\n",
       "      <th>7</th>\n",
       "      <td>GradientBoosting</td>\n",
       "      <td>0.8430</td>\n",
       "      <td>0.7193</td>\n",
       "      <td>5276750.41</td>\n",
       "      <td>0.141908</td>\n",
       "      <td>0.002079</td>\n",
       "    </tr>\n",
       "    <tr>\n",
       "      <th>6</th>\n",
       "      <td>XGBoost_reg</td>\n",
       "      <td>0.8464</td>\n",
       "      <td>0.7148</td>\n",
       "      <td>5318697.34</td>\n",
       "      <td>0.074257</td>\n",
       "      <td>0.004309</td>\n",
       "    </tr>\n",
       "    <tr>\n",
       "      <th>5</th>\n",
       "      <td>RandomForest_afterCV</td>\n",
       "      <td>0.8297</td>\n",
       "      <td>0.6458</td>\n",
       "      <td>5927190.86</td>\n",
       "      <td>0.185569</td>\n",
       "      <td>0.005062</td>\n",
       "    </tr>\n",
       "    <tr>\n",
       "      <th>0</th>\n",
       "      <td>DummyRegressor</td>\n",
       "      <td>0.0000</td>\n",
       "      <td>-0.0062</td>\n",
       "      <td>9990923.04</td>\n",
       "      <td>0.000391</td>\n",
       "      <td>0.000196</td>\n",
       "    </tr>\n",
       "  </tbody>\n",
       "</table>\n",
       "</div>"
      ],
      "text/plain": [
       "                   Name  Train_R2_score  Test_R2_score        RMSE  Fit_time  \\\n",
       "4                   SVR          0.8136         0.7542  9094546.92  0.034987   \n",
       "2         Ridge_afterCV          0.7930         0.7473  5006566.91  0.011326   \n",
       "3         Lasso_afterCV          0.7704         0.7431  5047915.09  0.018875   \n",
       "1      LinearRegression          0.8011         0.7332  5144866.79  0.004758   \n",
       "7      GradientBoosting          0.8430         0.7193  5276750.41  0.141908   \n",
       "6           XGBoost_reg          0.8464         0.7148  5318697.34  0.074257   \n",
       "5  RandomForest_afterCV          0.8297         0.6458  5927190.86  0.185569   \n",
       "0        DummyRegressor          0.0000        -0.0062  9990923.04  0.000391   \n",
       "\n",
       "   Predict_time  \n",
       "4      0.005062  \n",
       "2      0.008436  \n",
       "3      0.003358  \n",
       "1      0.003900  \n",
       "7      0.002079  \n",
       "6      0.004309  \n",
       "5      0.005062  \n",
       "0      0.000196  "
      ]
     },
     "execution_count": 175,
     "metadata": {},
     "output_type": "execute_result"
    }
   ],
   "source": [
    "new_errors_real_df = pd.DataFrame(new_errors_df)\n",
    "new_errors_real_df.sort_values(by='Test_R2_score', ascending=False)"
   ]
  },
  {
   "cell_type": "code",
   "execution_count": 176,
   "metadata": {
    "scrolled": false
   },
   "outputs": [
    {
     "data": {
      "image/png": "[encoded data removed]",
      "text/plain": [
       "<Figure size 504x360 with 1 Axes>"
      ]
     },
     "metadata": {},
     "output_type": "display_data"
    }
   ],
   "source": [
    "data = new_errors_real_df.sort_values(by='Test_R2_score').reset_index().copy()\n",
    "\n",
    "legend_handles = [mlines.Line2D([], [], color=sns.color_palette()[0], \n",
    "                                marker='o',linestyle='None', \n",
    "                                markersize=8, label='Train'),\n",
    "                  mlines.Line2D([], [], color=sns.color_palette()[1], \n",
    "                                marker='o',linestyle='None', \n",
    "                                markersize=8, label='Test')]\n",
    "                 \n",
    "\n",
    "sns.scatterplot(data= data,\n",
    "                y = data.index,\n",
    "                x = 'Train_R2_score',\n",
    "                s=70)\n",
    "\n",
    "sns.scatterplot(data= data,\n",
    "                y = data.index,\n",
    "                x = 'Test_R2_score',\n",
    "                s=70)\n",
    "sns.set(rc={'figure.figsize':(7,5)})\n",
    "plt.yticks(data.index, data['Name'])\n",
    "plt.xticks(np.linspace(0,1,11))\n",
    "plt.ylabel('Modèle')\n",
    "plt.xlabel('R2-Score')\n",
    "plt.suptitle('Prédiction Énergie \\n Résultats : score R2 par modèle \\n (avec EnergyScore)', fontsize=14, y=1.05, color=sns.color_palette('mako')[2])\n",
    "plt.legend(handles=legend_handles, bbox_to_anchor=(1.23, 1), title='Échantillon')\n",
    "plt.savefig('./img/energy_score_r2.png',bbox_inches='tight')\n",
    "plt.show()"
   ]
  },
  {
   "cell_type": "code",
   "execution_count": 177,
   "metadata": {
    "scrolled": false
   },
   "outputs": [
    {
     "data": {
      "image/png": "[encoded data removed]",
      "text/plain": [
       "<Figure size 432x360 with 1 Axes>"
      ]
     },
     "metadata": {},
     "output_type": "display_data"
    }
   ],
   "source": [
    "data = new_errors_real_df.sort_values(by='RMSE',ascending=False).reset_index().copy()\n",
    "\n",
    "fig, ax = plt.subplots(figsize=(6,5))\n",
    "sns.scatterplot(data=data, \n",
    "            y=data.index, \n",
    "            x = np.log(data['RMSE']),\n",
    "            ax=ax,\n",
    "            s=75)\n",
    "ax.set_yticks(data.index) # <--- set the ticks first\n",
    "ax.set_yticklabels(data['Name'])\n",
    "plt.xlabel('log de RMSE')\n",
    "plt.ylabel('Modèle')\n",
    "ax.set_title(\"Prédiction Énergie \\n Log de la racine de l'erreur quadratique moyenne (RMSE) \\n (avec EnergyScore)\",fontdict={'fontsize': 14}, color=sns.color_palette('mako')[2],y=1.05)\n",
    "plt.savefig('./img/energy_score_log_rmse.png',bbox_inches='tight')\n",
    "plt.show()"
   ]
  },
  {
   "cell_type": "markdown",
   "metadata": {},
   "source": [
    "# Conclusions, commentaires et choix de modèle<a class=\"anchor\" id=\"concl\"></a>\n",
    "\n",
    "## Intérêt de la variable EnergyStarScore\n",
    "\n",
    "Nous avons testé tous les modèles sans et avec la variable EnergyStarScore. Les performences ont augmenté **considérablément**. Voir tableaux des résultats et graphe de comparaisons. La plupart de modèles ont eu des bonnes performances, le score R2 pour l'échantillon de test de tous les modèles est au dessus de **0.74**, sans compter RandomForest (voir [Autres remarques](#autr) ci-dessous.).\n",
    "\n",
    "En conclusion la variable EnergyStarScore a un intérêt et c'est important de la calculer pour avoir des prédictions fiables de consommation d'énergie, nous la gardons pour prendre un décision du choix de modèle.\n",
    "\n",
    "\n",
    "## Choix de modèle\n",
    "\n",
    "\n",
    "Après l'étude des résultats, le modèle choisi pour prédire la consommation totale d'énergie est la regression **Ridge**. Voici toutes les raisons qui ont conduit à ce choix : \n",
    "\n",
    "* Clairement les trois modèles : **SVR, Ridge** et **LASSO** ont des résultats assez proches. Ce sont ceux avec le score R2 le plus élevé : tous au dessus de **0.74**.\n",
    "\n",
    "* Le modèle choisi est celui avec la valeur la plus basse du RMSE. Le modèle avec le meilleur score R2 (SVR) a la plus grande RMSE.\n",
    "\n",
    "* Nous avons choisi la regrssion ridge car il a un niveau raisonnable de surapprentissage. (0.79 de score R2 pour l'échantillon de train)\n",
    "\n",
    "* Le temps d'entraînement et prediction est très raisonnable ; son temps d'entraînement est parmi le plus bas de tous les modèles entraînés.\n",
    "\n",
    "\n",
    "## Autres remarques\n",
    "\n",
    "* Tous le modèles en général ont été extrêment sensibles aux outliers (Sans la variable EnergyStarScore). Des petits changements dans le nettoyage des donnés ont donné des gros changements du niveau des performances des modèles. Cela reste un mystère pour moi.\n",
    "\n",
    "* Dans un premier temps nous n'avions pas considéré la variables BuildSecType, qui dit l'utilisation de la deuxième aire la plus grande de la propriété. Avoir ajouté cette variable a changé considérablement les performances des modèles.\n",
    "\n",
    "* Le modèle **RandomForest** a été un peu décevant ici. Nous attendions des meilleurs résultats. Après plusieurs essaies et différents paramètres de régularisation, ça reste un mystère pour moi."
   ]
  }
 ],
 "metadata": {
  "kernelspec": {
   "display_name": "Python 3 (ipykernel)",
   "language": "python",
   "name": "python3"
  },
  "language_info": {
   "codemirror_mode": {
    "name": "ipython",
    "version": 3
   },
   "file_extension": ".py",
   "mimetype": "text/x-python",
   "name": "python",
   "nbconvert_exporter": "python",
   "pygments_lexer": "ipython3",
   "version": "3.10.6"
  },
  "vscode": {
   "interpreter": {
    "hash": "767d51c1340bd893661ea55ea3124f6de3c7a262a8b4abca0554b478b1e2ff90"
   }
  }
 },
 "nbformat": 4,
 "nbformat_minor": 2
}
